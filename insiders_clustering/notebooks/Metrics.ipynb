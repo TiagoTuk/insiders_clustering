{
 "cells": [
  {
   "cell_type": "markdown",
   "id": "906e9b0f-ea94-4b81-8315-622a529f778b",
   "metadata": {
    "jp-MarkdownHeadingCollapsed": true
   },
   "source": [
    "# High Value Customer Identification (Insiders)"
   ]
  },
  {
   "cell_type": "markdown",
   "id": "e214dc0b-7333-4d1c-abe1-5ccbc39ec9d4",
   "metadata": {
    "jp-MarkdownHeadingCollapsed": true
   },
   "source": [
    "## 0.0. Planejamento da Solução"
   ]
  },
  {
   "cell_type": "markdown",
   "id": "e4695d37-385f-41cf-9260-2be300a1f726",
   "metadata": {
    "jp-MarkdownHeadingCollapsed": true
   },
   "source": [
    "### Input - Entrada"
   ]
  },
  {
   "cell_type": "markdown",
   "id": "ecf694ae-0274-46a8-a997-c49c9be97f95",
   "metadata": {},
   "source": [
    "1. Problema de Negócio\n",
    "   - Selecionar os clientes mais valiosos para integrar um programa de Fidelização\n",
    "\n",
    "--------------------------------------------------------------     \n",
    "2. Conjunto de dados\n",
    "   - Vendas de um e-commerce online, durante o periodo de um ano."
   ]
  },
  {
   "cell_type": "markdown",
   "id": "610789e3-d5e5-4c86-817b-17307a3d565b",
   "metadata": {
    "jp-MarkdownHeadingCollapsed": true
   },
   "source": [
    "### Output - Saída"
   ]
  },
  {
   "cell_type": "markdown",
   "id": "fa8b93f9-2c40-40a3-8a60-0bf2fe65cb1b",
   "metadata": {},
   "source": [
    "1. A indicação das pessoas que farão parte do programa de Insiders\n",
    "    - Lista: client_id | is_insider |\n",
    "    -          10323    | yes / 1\n",
    "    -          32413    | no / 2\n",
    "\n",
    "---------------------------------------------------------------\n",
    "2. Relatório com as respostas das perguntas de negócio\n",
    "    - Quem são as pessoas elegíveis para participar do programa de Insiders?\n",
    "    - Quantos clientes farão parte do grupo?\n",
    "    - Quais as principais características desses clientes?\n",
    "    - Qual a porcentagem de contribuição do faturamento, vinda do Insiders?\n",
    "    - Qual a expectativa de faturamento desse grupo para os próximos meses?\n",
    "    - Quais as condições para uma pessoa ser elegível ao Insiders?\n",
    "    - Quais as condições para uma pessoa ser removida do Insiders?\n",
    "    - Qual a garantia que o programa Insiders é melhor que o restante da base?\n",
    "    - Quais ações o time de marketing pode realizar para aumentar o faturamento?"
   ]
  },
  {
   "cell_type": "markdown",
   "id": "44f8a1ac-1073-43ad-b546-4657e127f24f",
   "metadata": {},
   "source": [
    "### Task - Tarefas"
   ]
  },
  {
   "cell_type": "markdown",
   "id": "6a441f55-0289-439b-a9b6-adea3cb9e0a5",
   "metadata": {},
   "source": [
    "1. Quem são as pessoas elegíveis para participar do programa de Insiders?\n",
    "    - O que é ser elegível? O que são clientes de maior 'valor'?\n",
    "        - Faturamento:\n",
    "          - Alto Ticket médio.\n",
    "          - Alto LTV.\n",
    "          - Baixo Recência. (Sempre esta comprando ou utilizando o produto)\n",
    "          - Alto Basket Size.\n",
    "          - Baixo probabilidade de Churn.\n",
    "          - Alta previsão de LTV.\n",
    "          - Alta propensão de compra.\n",
    "\n",
    "        - Custo:\n",
    "          - Baixa taxa de devolução.\n",
    "\n",
    "        - Experiência de compra:\n",
    "          - Média alta das avaliação.\n",
    "\n",
    "------------------------------------------------------\n",
    "2. Quantos clientes farão parte do grupo?\n",
    "    - Número total de clientes.\n",
    "    - % do grupo Insiders.\n",
    "\n",
    "------------------------------------------------------\n",
    "3. Quais as principais características desses clientes?\n",
    "    - Escrever características do cliente:\n",
    "        - Idade.\n",
    "        - Localização.\n",
    "        - Sexo.\n",
    "        - Estado Cívil.\n",
    "\n",
    "    - Escrever características do consumo:\n",
    "        - Atributos da clusterização.\n",
    "\n",
    "------------------------------------------------------\n",
    "4. Qual a porcentagem de contribuição do faturamento, vinda do Insiders?\n",
    "    - Faturamento total do ano.\n",
    "    - Faturamento do grupo Insiders.\n",
    "\n",
    "------------------------------------------------------\n",
    "5. Qual a expectativa de faturamento desse grupo para os próximos meses?\n",
    "    - LTV do grupo Insiders.\n",
    "    - Análise de Cohort\n",
    "\n",
    "------------------------------------------------------\n",
    "6. Quais as condições para uma pessoa ser elegível ao Insiders?\n",
    "    - Definir a periodicidade. \n",
    "    - A pessoa precisa ser similar ou parecido com uma pessoa do grupo.\n",
    "\n",
    "------------------------------------------------------\n",
    "7. Quais as condições para uma pessoa ser removida do Insiders?\n",
    "    - Definir a periodicidade.\n",
    "    - A pessoa precisa ser desimilar ou não-parecido com uma pessoa do grupo\n",
    "\n",
    "------------------------------------------------------\n",
    "8. Qual a garantia que o programa Insiders é melhor que o restante da base?\n",
    "    - Teste A/B.\n",
    "    - Teste A/B Bayesiano\n",
    "    - Teste de hipóteses.\n",
    "\n",
    "------------------------------------------------------\n",
    "9. Quais ações o time de marketing pode realizar para aumentar o faturamento?\n",
    "    - Desconto.\n",
    "    - Preferência de compra.\n",
    "    - Produtos exclusivos.\n",
    "    - Visita a empresa."
   ]
  },
  {
   "cell_type": "markdown",
   "id": "20a830b5-fb85-463d-927e-dd56591cea73",
   "metadata": {},
   "source": [
    "# <font color='blue'>0.0. Imports</font>"
   ]
  },
  {
   "cell_type": "code",
   "execution_count": 101,
   "id": "7e52605b-5b36-4b7a-ad74-60e5cc431bbc",
   "metadata": {
    "execution": {
     "iopub.execute_input": "2025-03-28T18:22:37.329969Z",
     "iopub.status.busy": "2025-03-28T18:22:37.329504Z",
     "iopub.status.idle": "2025-03-28T18:22:37.339055Z",
     "shell.execute_reply": "2025-03-28T18:22:37.335869Z",
     "shell.execute_reply.started": "2025-03-28T18:22:37.329915Z"
    }
   },
   "outputs": [],
   "source": [
    "import numpy    as np\n",
    "import pandas   as pd\n",
    "import seaborn  as sns\n",
    "import inflection\n",
    "import warnings\n",
    "\n",
    "from matplotlib import pyplot as plt\n",
    "from IPython.display import HTML\n",
    "\n",
    "from sklearn import cluster as c\n",
    "\n",
    "\n",
    "warnings.filterwarnings( 'ignore' )"
   ]
  },
  {
   "cell_type": "markdown",
   "id": "76ec9107-ae13-4d70-bfbd-82aea1b416bd",
   "metadata": {
    "jp-MarkdownHeadingCollapsed": true
   },
   "source": [
    "## <font color='blue'>0.1. Helper Functions</font>"
   ]
  },
  {
   "cell_type": "code",
   "execution_count": 6,
   "id": "00b44f96-2ce4-44e2-90f0-345fd1f4095d",
   "metadata": {
    "execution": {
     "iopub.execute_input": "2025-03-28T13:51:52.446090Z",
     "iopub.status.busy": "2025-03-28T13:51:52.445225Z",
     "iopub.status.idle": "2025-03-28T13:51:52.481921Z",
     "shell.execute_reply": "2025-03-28T13:51:52.479308Z",
     "shell.execute_reply.started": "2025-03-28T13:51:52.446001Z"
    }
   },
   "outputs": [
    {
     "name": "stdout",
     "output_type": "stream",
     "text": [
      "%pylab is deprecated, use %matplotlib inline and import the required libraries.\n",
      "Populating the interactive namespace from numpy and matplotlib\n"
     ]
    },
    {
     "data": {
      "text/html": [
       "<style>.container { width:100% !important; }</style>"
      ],
      "text/plain": [
       "<IPython.core.display.HTML object>"
      ]
     },
     "metadata": {},
     "output_type": "display_data"
    }
   ],
   "source": [
    "def jupyter_settings():\n",
    "    %matplotlib inline\n",
    "    %pylab inline\n",
    "    \n",
    "    plt.style.use( 'ggplot')\n",
    "    plt.rcParams['figure.figsize'] = [24, 9]\n",
    "    plt.rcParams['font.size'] = 24\n",
    "    \n",
    "    display( HTML( '<style>.container { width:100% !important; }</style>') )\n",
    "    pd.options.display.max_columns = None\n",
    "    pd.options.display.max_rows = None\n",
    "    pd.set_option( 'display.expand_frame_repr', False )\n",
    "    \n",
    "    sns.set()\n",
    "    \n",
    "jupyter_settings()"
   ]
  },
  {
   "cell_type": "markdown",
   "id": "df43c46b-04dd-4cf6-a540-3b385edc7757",
   "metadata": {
    "jp-MarkdownHeadingCollapsed": true
   },
   "source": [
    "## <font color='blue'>0.2. Load DataSet</font>"
   ]
  },
  {
   "cell_type": "code",
   "execution_count": 7,
   "id": "686c9b37-f045-494a-bad6-090745ee62be",
   "metadata": {
    "execution": {
     "iopub.execute_input": "2025-03-28T13:51:54.147895Z",
     "iopub.status.busy": "2025-03-28T13:51:54.146843Z",
     "iopub.status.idle": "2025-03-28T13:51:54.902133Z",
     "shell.execute_reply": "2025-03-28T13:51:54.900875Z",
     "shell.execute_reply.started": "2025-03-28T13:51:54.147777Z"
    }
   },
   "outputs": [],
   "source": [
    "# load data\n",
    "df_raw = pd.read_csv('../data/raw/Ecommerce.csv', encoding='unicode_escape')\n",
    "\n",
    "# drop extra column\n",
    "df_raw = df_raw.drop( columns=['Unnamed: 8'], axis=1)"
   ]
  },
  {
   "cell_type": "code",
   "execution_count": 8,
   "id": "55558456-d28c-4ae8-b02f-99ad2a1a300f",
   "metadata": {
    "execution": {
     "iopub.execute_input": "2025-03-28T13:51:54.903904Z",
     "iopub.status.busy": "2025-03-28T13:51:54.903570Z",
     "iopub.status.idle": "2025-03-28T13:51:54.927154Z",
     "shell.execute_reply": "2025-03-28T13:51:54.924799Z",
     "shell.execute_reply.started": "2025-03-28T13:51:54.903865Z"
    }
   },
   "outputs": [
    {
     "data": {
      "text/html": [
       "<div>\n",
       "<style scoped>\n",
       "    .dataframe tbody tr th:only-of-type {\n",
       "        vertical-align: middle;\n",
       "    }\n",
       "\n",
       "    .dataframe tbody tr th {\n",
       "        vertical-align: top;\n",
       "    }\n",
       "\n",
       "    .dataframe thead th {\n",
       "        text-align: right;\n",
       "    }\n",
       "</style>\n",
       "<table border=\"1\" class=\"dataframe\">\n",
       "  <thead>\n",
       "    <tr style=\"text-align: right;\">\n",
       "      <th></th>\n",
       "      <th>InvoiceNo</th>\n",
       "      <th>StockCode</th>\n",
       "      <th>Description</th>\n",
       "      <th>Quantity</th>\n",
       "      <th>InvoiceDate</th>\n",
       "      <th>UnitPrice</th>\n",
       "      <th>CustomerID</th>\n",
       "      <th>Country</th>\n",
       "    </tr>\n",
       "  </thead>\n",
       "  <tbody>\n",
       "    <tr>\n",
       "      <th>0</th>\n",
       "      <td>536365</td>\n",
       "      <td>85123A</td>\n",
       "      <td>WHITE HANGING HEART T-LIGHT HOLDER</td>\n",
       "      <td>6</td>\n",
       "      <td>29-Nov-16</td>\n",
       "      <td>2.55</td>\n",
       "      <td>17850.0</td>\n",
       "      <td>United Kingdom</td>\n",
       "    </tr>\n",
       "    <tr>\n",
       "      <th>1</th>\n",
       "      <td>536365</td>\n",
       "      <td>71053</td>\n",
       "      <td>WHITE METAL LANTERN</td>\n",
       "      <td>6</td>\n",
       "      <td>29-Nov-16</td>\n",
       "      <td>3.39</td>\n",
       "      <td>17850.0</td>\n",
       "      <td>United Kingdom</td>\n",
       "    </tr>\n",
       "    <tr>\n",
       "      <th>2</th>\n",
       "      <td>536365</td>\n",
       "      <td>84406B</td>\n",
       "      <td>CREAM CUPID HEARTS COAT HANGER</td>\n",
       "      <td>8</td>\n",
       "      <td>29-Nov-16</td>\n",
       "      <td>2.75</td>\n",
       "      <td>17850.0</td>\n",
       "      <td>United Kingdom</td>\n",
       "    </tr>\n",
       "    <tr>\n",
       "      <th>3</th>\n",
       "      <td>536365</td>\n",
       "      <td>84029G</td>\n",
       "      <td>KNITTED UNION FLAG HOT WATER BOTTLE</td>\n",
       "      <td>6</td>\n",
       "      <td>29-Nov-16</td>\n",
       "      <td>3.39</td>\n",
       "      <td>17850.0</td>\n",
       "      <td>United Kingdom</td>\n",
       "    </tr>\n",
       "    <tr>\n",
       "      <th>4</th>\n",
       "      <td>536365</td>\n",
       "      <td>84029E</td>\n",
       "      <td>RED WOOLLY HOTTIE WHITE HEART.</td>\n",
       "      <td>6</td>\n",
       "      <td>29-Nov-16</td>\n",
       "      <td>3.39</td>\n",
       "      <td>17850.0</td>\n",
       "      <td>United Kingdom</td>\n",
       "    </tr>\n",
       "  </tbody>\n",
       "</table>\n",
       "</div>"
      ],
      "text/plain": [
       "  InvoiceNo StockCode                          Description  Quantity InvoiceDate  UnitPrice  CustomerID         Country\n",
       "0    536365    85123A   WHITE HANGING HEART T-LIGHT HOLDER         6   29-Nov-16       2.55     17850.0  United Kingdom\n",
       "1    536365     71053                  WHITE METAL LANTERN         6   29-Nov-16       3.39     17850.0  United Kingdom\n",
       "2    536365    84406B       CREAM CUPID HEARTS COAT HANGER         8   29-Nov-16       2.75     17850.0  United Kingdom\n",
       "3    536365    84029G  KNITTED UNION FLAG HOT WATER BOTTLE         6   29-Nov-16       3.39     17850.0  United Kingdom\n",
       "4    536365    84029E       RED WOOLLY HOTTIE WHITE HEART.         6   29-Nov-16       3.39     17850.0  United Kingdom"
      ]
     },
     "execution_count": 8,
     "metadata": {},
     "output_type": "execute_result"
    }
   ],
   "source": [
    "df_raw.head()"
   ]
  },
  {
   "cell_type": "markdown",
   "id": "674e86fc-0f1a-44bd-9255-bfa8b6a2637e",
   "metadata": {
    "jp-MarkdownHeadingCollapsed": true
   },
   "source": [
    "# <font color='red'>1.0. Descrição dos dados</font>"
   ]
  },
  {
   "cell_type": "code",
   "execution_count": 9,
   "id": "4db449b3-5389-432b-9442-e765780e7507",
   "metadata": {
    "execution": {
     "iopub.execute_input": "2025-03-28T13:52:31.188347Z",
     "iopub.status.busy": "2025-03-28T13:52:31.187928Z",
     "iopub.status.idle": "2025-03-28T13:52:31.209435Z",
     "shell.execute_reply": "2025-03-28T13:52:31.208393Z",
     "shell.execute_reply.started": "2025-03-28T13:52:31.188306Z"
    }
   },
   "outputs": [],
   "source": [
    "df1 = df_raw.copy()"
   ]
  },
  {
   "cell_type": "markdown",
   "id": "f34e98dc-1dec-4653-a0a1-a49079623328",
   "metadata": {
    "jp-MarkdownHeadingCollapsed": true
   },
   "source": [
    "## 1.1. Rename Columns"
   ]
  },
  {
   "cell_type": "code",
   "execution_count": 10,
   "id": "b421c643-4169-40d1-8134-902a8254f5e8",
   "metadata": {
    "execution": {
     "iopub.execute_input": "2025-03-28T13:52:44.412357Z",
     "iopub.status.busy": "2025-03-28T13:52:44.410811Z",
     "iopub.status.idle": "2025-03-28T13:52:44.427418Z",
     "shell.execute_reply": "2025-03-28T13:52:44.424765Z",
     "shell.execute_reply.started": "2025-03-28T13:52:44.412256Z"
    }
   },
   "outputs": [
    {
     "data": {
      "text/plain": [
       "Index(['InvoiceNo', 'StockCode', 'Description', 'Quantity', 'InvoiceDate',\n",
       "       'UnitPrice', 'CustomerID', 'Country'],\n",
       "      dtype='object')"
      ]
     },
     "execution_count": 10,
     "metadata": {},
     "output_type": "execute_result"
    }
   ],
   "source": [
    "df1.columns"
   ]
  },
  {
   "cell_type": "code",
   "execution_count": 13,
   "id": "bbe10a59-7a99-4507-9544-8d3bb76e1612",
   "metadata": {
    "execution": {
     "iopub.execute_input": "2025-03-28T13:55:45.275604Z",
     "iopub.status.busy": "2025-03-28T13:55:45.273368Z",
     "iopub.status.idle": "2025-03-28T13:55:45.290343Z",
     "shell.execute_reply": "2025-03-28T13:55:45.288347Z",
     "shell.execute_reply.started": "2025-03-28T13:55:45.275490Z"
    }
   },
   "outputs": [],
   "source": [
    "cols_old = ['InvoiceNo', 'StockCode', 'Description', 'Quantity', 'InvoiceDate',\n",
    "       'UnitPrice', 'CustomerID', 'Country']\n",
    "\n",
    "snakecase = lambda x: inflection.underscore( x )\n",
    "\n",
    "cols_new = list( map (snakecase, cols_old) )\n",
    "\n",
    "#Rename\n",
    "df1.columns = cols_new"
   ]
  },
  {
   "cell_type": "code",
   "execution_count": 14,
   "id": "aa08c698-30e0-4010-9a57-964756a9f550",
   "metadata": {
    "execution": {
     "iopub.execute_input": "2025-03-28T13:55:58.671187Z",
     "iopub.status.busy": "2025-03-28T13:55:58.670412Z",
     "iopub.status.idle": "2025-03-28T13:55:58.686379Z",
     "shell.execute_reply": "2025-03-28T13:55:58.683997Z",
     "shell.execute_reply.started": "2025-03-28T13:55:58.671111Z"
    }
   },
   "outputs": [
    {
     "data": {
      "text/plain": [
       "Index(['invoice_no', 'stock_code', 'description', 'quantity', 'invoice_date',\n",
       "       'unit_price', 'customer_id', 'country'],\n",
       "      dtype='object')"
      ]
     },
     "execution_count": 14,
     "metadata": {},
     "output_type": "execute_result"
    }
   ],
   "source": [
    "df1.columns"
   ]
  },
  {
   "cell_type": "markdown",
   "id": "974c4ed1-1b68-451b-b096-df68013accc5",
   "metadata": {
    "jp-MarkdownHeadingCollapsed": true
   },
   "source": [
    "## 1.2. Data Dimensions"
   ]
  },
  {
   "cell_type": "code",
   "execution_count": 15,
   "id": "d54e9994-a1be-4609-8cbb-8f60caa18548",
   "metadata": {
    "execution": {
     "iopub.execute_input": "2025-03-28T13:56:44.922074Z",
     "iopub.status.busy": "2025-03-28T13:56:44.919852Z",
     "iopub.status.idle": "2025-03-28T13:56:44.932333Z",
     "shell.execute_reply": "2025-03-28T13:56:44.929767Z",
     "shell.execute_reply.started": "2025-03-28T13:56:44.921944Z"
    }
   },
   "outputs": [
    {
     "name": "stdout",
     "output_type": "stream",
     "text": [
      "Numero de Linhas: 541909\n",
      "Numero de Colunas: 8\n"
     ]
    }
   ],
   "source": [
    "print(f'Numero de Linhas: {df1.shape[0]}')\n",
    "print(f'Numero de Colunas: {df1.shape[1]}')"
   ]
  },
  {
   "cell_type": "markdown",
   "id": "34c6ee4a-8386-4c32-a267-3f818796a4d8",
   "metadata": {
    "jp-MarkdownHeadingCollapsed": true
   },
   "source": [
    "## 1.3. Data Types"
   ]
  },
  {
   "cell_type": "code",
   "execution_count": 17,
   "id": "4f085796-4383-4038-a974-09c93ea9c9c6",
   "metadata": {
    "execution": {
     "iopub.execute_input": "2025-03-28T13:57:48.542309Z",
     "iopub.status.busy": "2025-03-28T13:57:48.540876Z",
     "iopub.status.idle": "2025-03-28T13:57:48.573476Z",
     "shell.execute_reply": "2025-03-28T13:57:48.571154Z",
     "shell.execute_reply.started": "2025-03-28T13:57:48.542219Z"
    }
   },
   "outputs": [
    {
     "data": {
      "text/html": [
       "<div>\n",
       "<style scoped>\n",
       "    .dataframe tbody tr th:only-of-type {\n",
       "        vertical-align: middle;\n",
       "    }\n",
       "\n",
       "    .dataframe tbody tr th {\n",
       "        vertical-align: top;\n",
       "    }\n",
       "\n",
       "    .dataframe thead th {\n",
       "        text-align: right;\n",
       "    }\n",
       "</style>\n",
       "<table border=\"1\" class=\"dataframe\">\n",
       "  <thead>\n",
       "    <tr style=\"text-align: right;\">\n",
       "      <th></th>\n",
       "      <th>invoice_no</th>\n",
       "      <th>stock_code</th>\n",
       "      <th>description</th>\n",
       "      <th>quantity</th>\n",
       "      <th>invoice_date</th>\n",
       "      <th>unit_price</th>\n",
       "      <th>customer_id</th>\n",
       "      <th>country</th>\n",
       "    </tr>\n",
       "  </thead>\n",
       "  <tbody>\n",
       "    <tr>\n",
       "      <th>0</th>\n",
       "      <td>536365</td>\n",
       "      <td>85123A</td>\n",
       "      <td>WHITE HANGING HEART T-LIGHT HOLDER</td>\n",
       "      <td>6</td>\n",
       "      <td>29-Nov-16</td>\n",
       "      <td>2.55</td>\n",
       "      <td>17850.0</td>\n",
       "      <td>United Kingdom</td>\n",
       "    </tr>\n",
       "    <tr>\n",
       "      <th>1</th>\n",
       "      <td>536365</td>\n",
       "      <td>71053</td>\n",
       "      <td>WHITE METAL LANTERN</td>\n",
       "      <td>6</td>\n",
       "      <td>29-Nov-16</td>\n",
       "      <td>3.39</td>\n",
       "      <td>17850.0</td>\n",
       "      <td>United Kingdom</td>\n",
       "    </tr>\n",
       "    <tr>\n",
       "      <th>2</th>\n",
       "      <td>536365</td>\n",
       "      <td>84406B</td>\n",
       "      <td>CREAM CUPID HEARTS COAT HANGER</td>\n",
       "      <td>8</td>\n",
       "      <td>29-Nov-16</td>\n",
       "      <td>2.75</td>\n",
       "      <td>17850.0</td>\n",
       "      <td>United Kingdom</td>\n",
       "    </tr>\n",
       "    <tr>\n",
       "      <th>3</th>\n",
       "      <td>536365</td>\n",
       "      <td>84029G</td>\n",
       "      <td>KNITTED UNION FLAG HOT WATER BOTTLE</td>\n",
       "      <td>6</td>\n",
       "      <td>29-Nov-16</td>\n",
       "      <td>3.39</td>\n",
       "      <td>17850.0</td>\n",
       "      <td>United Kingdom</td>\n",
       "    </tr>\n",
       "    <tr>\n",
       "      <th>4</th>\n",
       "      <td>536365</td>\n",
       "      <td>84029E</td>\n",
       "      <td>RED WOOLLY HOTTIE WHITE HEART.</td>\n",
       "      <td>6</td>\n",
       "      <td>29-Nov-16</td>\n",
       "      <td>3.39</td>\n",
       "      <td>17850.0</td>\n",
       "      <td>United Kingdom</td>\n",
       "    </tr>\n",
       "  </tbody>\n",
       "</table>\n",
       "</div>"
      ],
      "text/plain": [
       "  invoice_no stock_code                          description  quantity invoice_date  unit_price  customer_id         country\n",
       "0     536365     85123A   WHITE HANGING HEART T-LIGHT HOLDER         6    29-Nov-16        2.55      17850.0  United Kingdom\n",
       "1     536365      71053                  WHITE METAL LANTERN         6    29-Nov-16        3.39      17850.0  United Kingdom\n",
       "2     536365     84406B       CREAM CUPID HEARTS COAT HANGER         8    29-Nov-16        2.75      17850.0  United Kingdom\n",
       "3     536365     84029G  KNITTED UNION FLAG HOT WATER BOTTLE         6    29-Nov-16        3.39      17850.0  United Kingdom\n",
       "4     536365     84029E       RED WOOLLY HOTTIE WHITE HEART.         6    29-Nov-16        3.39      17850.0  United Kingdom"
      ]
     },
     "execution_count": 17,
     "metadata": {},
     "output_type": "execute_result"
    }
   ],
   "source": [
    "df1.head()"
   ]
  },
  {
   "cell_type": "code",
   "execution_count": 16,
   "id": "ff6a2cbd-f661-455d-828e-c2876483992e",
   "metadata": {
    "execution": {
     "iopub.execute_input": "2025-03-28T13:57:27.935284Z",
     "iopub.status.busy": "2025-03-28T13:57:27.934508Z",
     "iopub.status.idle": "2025-03-28T13:57:27.955286Z",
     "shell.execute_reply": "2025-03-28T13:57:27.952612Z",
     "shell.execute_reply.started": "2025-03-28T13:57:27.935207Z"
    }
   },
   "outputs": [
    {
     "data": {
      "text/plain": [
       "invoice_no       object\n",
       "stock_code       object\n",
       "description      object\n",
       "quantity          int64\n",
       "invoice_date     object\n",
       "unit_price      float64\n",
       "customer_id     float64\n",
       "country          object\n",
       "dtype: object"
      ]
     },
     "execution_count": 16,
     "metadata": {},
     "output_type": "execute_result"
    }
   ],
   "source": [
    "df1.dtypes"
   ]
  },
  {
   "cell_type": "markdown",
   "id": "e98ab6cf-ee5a-44e1-aa21-9af2989986b7",
   "metadata": {
    "jp-MarkdownHeadingCollapsed": true
   },
   "source": [
    "## 1.4. Check NA"
   ]
  },
  {
   "cell_type": "code",
   "execution_count": 20,
   "id": "d60a3d86-d214-457b-b458-d918d33955ee",
   "metadata": {
    "execution": {
     "iopub.execute_input": "2025-03-28T14:03:31.376279Z",
     "iopub.status.busy": "2025-03-28T14:03:31.375753Z",
     "iopub.status.idle": "2025-03-28T14:03:31.491657Z",
     "shell.execute_reply": "2025-03-28T14:03:31.489452Z",
     "shell.execute_reply.started": "2025-03-28T14:03:31.376227Z"
    }
   },
   "outputs": [
    {
     "data": {
      "text/plain": [
       "invoice_no           0\n",
       "stock_code           0\n",
       "description       1454\n",
       "quantity             0\n",
       "invoice_date         0\n",
       "unit_price           0\n",
       "customer_id     135080\n",
       "country              0\n",
       "dtype: int64"
      ]
     },
     "execution_count": 20,
     "metadata": {},
     "output_type": "execute_result"
    }
   ],
   "source": [
    "df1.isna().sum()"
   ]
  },
  {
   "cell_type": "markdown",
   "id": "1fc21d69-e0b9-48fd-b9ab-81a9aaefeb9a",
   "metadata": {
    "jp-MarkdownHeadingCollapsed": true
   },
   "source": [
    "## 1.5. Replace NA"
   ]
  },
  {
   "cell_type": "code",
   "execution_count": 24,
   "id": "e2224929-6bd6-456b-a7ca-b63b00455119",
   "metadata": {
    "execution": {
     "iopub.execute_input": "2025-03-28T14:09:55.228891Z",
     "iopub.status.busy": "2025-03-28T14:09:55.227958Z",
     "iopub.status.idle": "2025-03-28T14:09:55.294204Z",
     "shell.execute_reply": "2025-03-28T14:09:55.292715Z",
     "shell.execute_reply.started": "2025-03-28T14:09:55.228800Z"
    }
   },
   "outputs": [
    {
     "name": "stdout",
     "output_type": "stream",
     "text": [
      "Removed data: 0.25\n"
     ]
    }
   ],
   "source": [
    "# remove NA\n",
    "df1 = df1.dropna( subset=['description', 'customer_id'] )\n",
    "print( f'Removed data: { 1 - (df1.shape[0] / df_raw.shape[0]):.2f}' )"
   ]
  },
  {
   "cell_type": "code",
   "execution_count": 26,
   "id": "35bd600e-ff60-4ecf-8dac-786a17d0a4b9",
   "metadata": {
    "execution": {
     "iopub.execute_input": "2025-03-28T14:12:09.829888Z",
     "iopub.status.busy": "2025-03-28T14:12:09.829358Z",
     "iopub.status.idle": "2025-03-28T14:12:09.915452Z",
     "shell.execute_reply": "2025-03-28T14:12:09.914254Z",
     "shell.execute_reply.started": "2025-03-28T14:12:09.829834Z"
    }
   },
   "outputs": [
    {
     "data": {
      "text/plain": [
       "invoice_no      0\n",
       "stock_code      0\n",
       "description     0\n",
       "quantity        0\n",
       "invoice_date    0\n",
       "unit_price      0\n",
       "customer_id     0\n",
       "country         0\n",
       "dtype: int64"
      ]
     },
     "execution_count": 26,
     "metadata": {},
     "output_type": "execute_result"
    }
   ],
   "source": [
    "df1.isna().sum()"
   ]
  },
  {
   "cell_type": "markdown",
   "id": "908d412e-525c-42f8-8ad5-659a0dae70b6",
   "metadata": {
    "jp-MarkdownHeadingCollapsed": true
   },
   "source": [
    "## 1.6. Change Dtypes"
   ]
  },
  {
   "cell_type": "code",
   "execution_count": 28,
   "id": "87027e86-4788-4ece-a4aa-96a4ace1ebef",
   "metadata": {
    "execution": {
     "iopub.execute_input": "2025-03-28T14:12:25.874811Z",
     "iopub.status.busy": "2025-03-28T14:12:25.873948Z",
     "iopub.status.idle": "2025-03-28T14:12:25.894738Z",
     "shell.execute_reply": "2025-03-28T14:12:25.892159Z",
     "shell.execute_reply.started": "2025-03-28T14:12:25.874727Z"
    }
   },
   "outputs": [
    {
     "data": {
      "text/plain": [
       "invoice_no       object\n",
       "stock_code       object\n",
       "description      object\n",
       "quantity          int64\n",
       "invoice_date     object\n",
       "unit_price      float64\n",
       "customer_id     float64\n",
       "country          object\n",
       "dtype: object"
      ]
     },
     "execution_count": 28,
     "metadata": {},
     "output_type": "execute_result"
    }
   ],
   "source": [
    "df1.dtypes"
   ]
  },
  {
   "cell_type": "code",
   "execution_count": 32,
   "id": "61362800-f7dc-4bd7-9209-429796da48d9",
   "metadata": {
    "execution": {
     "iopub.execute_input": "2025-03-28T14:25:48.479145Z",
     "iopub.status.busy": "2025-03-28T14:25:48.478367Z",
     "iopub.status.idle": "2025-03-28T14:25:48.661695Z",
     "shell.execute_reply": "2025-03-28T14:25:48.659460Z",
     "shell.execute_reply.started": "2025-03-28T14:25:48.479066Z"
    }
   },
   "outputs": [
    {
     "data": {
      "text/html": [
       "<div>\n",
       "<style scoped>\n",
       "    .dataframe tbody tr th:only-of-type {\n",
       "        vertical-align: middle;\n",
       "    }\n",
       "\n",
       "    .dataframe tbody tr th {\n",
       "        vertical-align: top;\n",
       "    }\n",
       "\n",
       "    .dataframe thead th {\n",
       "        text-align: right;\n",
       "    }\n",
       "</style>\n",
       "<table border=\"1\" class=\"dataframe\">\n",
       "  <thead>\n",
       "    <tr style=\"text-align: right;\">\n",
       "      <th></th>\n",
       "      <th>invoice_no</th>\n",
       "      <th>stock_code</th>\n",
       "      <th>description</th>\n",
       "      <th>quantity</th>\n",
       "      <th>invoice_date</th>\n",
       "      <th>unit_price</th>\n",
       "      <th>customer_id</th>\n",
       "      <th>country</th>\n",
       "    </tr>\n",
       "  </thead>\n",
       "  <tbody>\n",
       "    <tr>\n",
       "      <th>0</th>\n",
       "      <td>536365</td>\n",
       "      <td>85123A</td>\n",
       "      <td>WHITE HANGING HEART T-LIGHT HOLDER</td>\n",
       "      <td>6</td>\n",
       "      <td>2016-11-29</td>\n",
       "      <td>2.55</td>\n",
       "      <td>17850</td>\n",
       "      <td>United Kingdom</td>\n",
       "    </tr>\n",
       "    <tr>\n",
       "      <th>1</th>\n",
       "      <td>536365</td>\n",
       "      <td>71053</td>\n",
       "      <td>WHITE METAL LANTERN</td>\n",
       "      <td>6</td>\n",
       "      <td>2016-11-29</td>\n",
       "      <td>3.39</td>\n",
       "      <td>17850</td>\n",
       "      <td>United Kingdom</td>\n",
       "    </tr>\n",
       "    <tr>\n",
       "      <th>2</th>\n",
       "      <td>536365</td>\n",
       "      <td>84406B</td>\n",
       "      <td>CREAM CUPID HEARTS COAT HANGER</td>\n",
       "      <td>8</td>\n",
       "      <td>2016-11-29</td>\n",
       "      <td>2.75</td>\n",
       "      <td>17850</td>\n",
       "      <td>United Kingdom</td>\n",
       "    </tr>\n",
       "    <tr>\n",
       "      <th>3</th>\n",
       "      <td>536365</td>\n",
       "      <td>84029G</td>\n",
       "      <td>KNITTED UNION FLAG HOT WATER BOTTLE</td>\n",
       "      <td>6</td>\n",
       "      <td>2016-11-29</td>\n",
       "      <td>3.39</td>\n",
       "      <td>17850</td>\n",
       "      <td>United Kingdom</td>\n",
       "    </tr>\n",
       "    <tr>\n",
       "      <th>4</th>\n",
       "      <td>536365</td>\n",
       "      <td>84029E</td>\n",
       "      <td>RED WOOLLY HOTTIE WHITE HEART.</td>\n",
       "      <td>6</td>\n",
       "      <td>2016-11-29</td>\n",
       "      <td>3.39</td>\n",
       "      <td>17850</td>\n",
       "      <td>United Kingdom</td>\n",
       "    </tr>\n",
       "  </tbody>\n",
       "</table>\n",
       "</div>"
      ],
      "text/plain": [
       "  invoice_no stock_code                          description  quantity invoice_date  unit_price  customer_id         country\n",
       "0     536365     85123A   WHITE HANGING HEART T-LIGHT HOLDER         6   2016-11-29        2.55        17850  United Kingdom\n",
       "1     536365      71053                  WHITE METAL LANTERN         6   2016-11-29        3.39        17850  United Kingdom\n",
       "2     536365     84406B       CREAM CUPID HEARTS COAT HANGER         8   2016-11-29        2.75        17850  United Kingdom\n",
       "3     536365     84029G  KNITTED UNION FLAG HOT WATER BOTTLE         6   2016-11-29        3.39        17850  United Kingdom\n",
       "4     536365     84029E       RED WOOLLY HOTTIE WHITE HEART.         6   2016-11-29        3.39        17850  United Kingdom"
      ]
     },
     "execution_count": 32,
     "metadata": {},
     "output_type": "execute_result"
    }
   ],
   "source": [
    "# invoice_date\n",
    "df1['invoice_date'] = pd.to_datetime( df1['invoice_date'], format='%d-%b-%y' )\n",
    "\n",
    "# customer_id\n",
    "df1['customer_id'] =df1['customer_id'].astype( int ) \n",
    "\n",
    "df1.head()"
   ]
  },
  {
   "cell_type": "code",
   "execution_count": 33,
   "id": "945d7a46-3ea7-49a9-b45b-63423c7106ba",
   "metadata": {
    "execution": {
     "iopub.execute_input": "2025-03-28T14:26:30.697926Z",
     "iopub.status.busy": "2025-03-28T14:26:30.697165Z",
     "iopub.status.idle": "2025-03-28T14:26:30.714326Z",
     "shell.execute_reply": "2025-03-28T14:26:30.712398Z",
     "shell.execute_reply.started": "2025-03-28T14:26:30.697853Z"
    }
   },
   "outputs": [
    {
     "data": {
      "text/plain": [
       "invoice_no              object\n",
       "stock_code              object\n",
       "description             object\n",
       "quantity                 int64\n",
       "invoice_date    datetime64[ns]\n",
       "unit_price             float64\n",
       "customer_id              int64\n",
       "country                 object\n",
       "dtype: object"
      ]
     },
     "execution_count": 33,
     "metadata": {},
     "output_type": "execute_result"
    }
   ],
   "source": [
    "df1.dtypes"
   ]
  },
  {
   "cell_type": "markdown",
   "id": "76cc0675-17ff-47f6-830e-a297de8ed865",
   "metadata": {},
   "source": [
    "## 1.7. Descriptive Statistics"
   ]
  },
  {
   "cell_type": "code",
   "execution_count": null,
   "id": "bc0b7ec0-24c8-43d3-a38a-98a0061ddecf",
   "metadata": {},
   "outputs": [],
   "source": []
  },
  {
   "cell_type": "markdown",
   "id": "e355f534-1776-4f02-8b02-6363cc014184",
   "metadata": {
    "jp-MarkdownHeadingCollapsed": true
   },
   "source": [
    "# <font color='red'>2.0. Feature Engineering</font>"
   ]
  },
  {
   "cell_type": "code",
   "execution_count": 64,
   "id": "7776d35f-1b19-4a43-a15a-14878c23998c",
   "metadata": {
    "execution": {
     "iopub.execute_input": "2025-03-28T15:11:37.731600Z",
     "iopub.status.busy": "2025-03-28T15:11:37.730925Z",
     "iopub.status.idle": "2025-03-28T15:11:37.806077Z",
     "shell.execute_reply": "2025-03-28T15:11:37.804069Z",
     "shell.execute_reply.started": "2025-03-28T15:11:37.731535Z"
    }
   },
   "outputs": [],
   "source": [
    "df2 = df1.copy()"
   ]
  },
  {
   "cell_type": "markdown",
   "id": "60938911-01ee-4400-83b0-713f8afe8b87",
   "metadata": {
    "jp-MarkdownHeadingCollapsed": true
   },
   "source": [
    "## 2.1. Feature Creation"
   ]
  },
  {
   "cell_type": "code",
   "execution_count": 65,
   "id": "39f1bdf5-d62b-47e0-9007-9cfbd1adfc64",
   "metadata": {
    "execution": {
     "iopub.execute_input": "2025-03-28T15:11:38.537624Z",
     "iopub.status.busy": "2025-03-28T15:11:38.536957Z",
     "iopub.status.idle": "2025-03-28T15:11:38.563811Z",
     "shell.execute_reply": "2025-03-28T15:11:38.561526Z",
     "shell.execute_reply.started": "2025-03-28T15:11:38.537562Z"
    }
   },
   "outputs": [
    {
     "data": {
      "text/html": [
       "<div>\n",
       "<style scoped>\n",
       "    .dataframe tbody tr th:only-of-type {\n",
       "        vertical-align: middle;\n",
       "    }\n",
       "\n",
       "    .dataframe tbody tr th {\n",
       "        vertical-align: top;\n",
       "    }\n",
       "\n",
       "    .dataframe thead th {\n",
       "        text-align: right;\n",
       "    }\n",
       "</style>\n",
       "<table border=\"1\" class=\"dataframe\">\n",
       "  <thead>\n",
       "    <tr style=\"text-align: right;\">\n",
       "      <th></th>\n",
       "      <th>invoice_no</th>\n",
       "      <th>stock_code</th>\n",
       "      <th>description</th>\n",
       "      <th>quantity</th>\n",
       "      <th>invoice_date</th>\n",
       "      <th>unit_price</th>\n",
       "      <th>customer_id</th>\n",
       "      <th>country</th>\n",
       "    </tr>\n",
       "  </thead>\n",
       "  <tbody>\n",
       "    <tr>\n",
       "      <th>0</th>\n",
       "      <td>536365</td>\n",
       "      <td>85123A</td>\n",
       "      <td>WHITE HANGING HEART T-LIGHT HOLDER</td>\n",
       "      <td>6</td>\n",
       "      <td>2016-11-29</td>\n",
       "      <td>2.55</td>\n",
       "      <td>17850</td>\n",
       "      <td>United Kingdom</td>\n",
       "    </tr>\n",
       "    <tr>\n",
       "      <th>1</th>\n",
       "      <td>536365</td>\n",
       "      <td>71053</td>\n",
       "      <td>WHITE METAL LANTERN</td>\n",
       "      <td>6</td>\n",
       "      <td>2016-11-29</td>\n",
       "      <td>3.39</td>\n",
       "      <td>17850</td>\n",
       "      <td>United Kingdom</td>\n",
       "    </tr>\n",
       "    <tr>\n",
       "      <th>2</th>\n",
       "      <td>536365</td>\n",
       "      <td>84406B</td>\n",
       "      <td>CREAM CUPID HEARTS COAT HANGER</td>\n",
       "      <td>8</td>\n",
       "      <td>2016-11-29</td>\n",
       "      <td>2.75</td>\n",
       "      <td>17850</td>\n",
       "      <td>United Kingdom</td>\n",
       "    </tr>\n",
       "    <tr>\n",
       "      <th>3</th>\n",
       "      <td>536365</td>\n",
       "      <td>84029G</td>\n",
       "      <td>KNITTED UNION FLAG HOT WATER BOTTLE</td>\n",
       "      <td>6</td>\n",
       "      <td>2016-11-29</td>\n",
       "      <td>3.39</td>\n",
       "      <td>17850</td>\n",
       "      <td>United Kingdom</td>\n",
       "    </tr>\n",
       "    <tr>\n",
       "      <th>4</th>\n",
       "      <td>536365</td>\n",
       "      <td>84029E</td>\n",
       "      <td>RED WOOLLY HOTTIE WHITE HEART.</td>\n",
       "      <td>6</td>\n",
       "      <td>2016-11-29</td>\n",
       "      <td>3.39</td>\n",
       "      <td>17850</td>\n",
       "      <td>United Kingdom</td>\n",
       "    </tr>\n",
       "  </tbody>\n",
       "</table>\n",
       "</div>"
      ],
      "text/plain": [
       "  invoice_no stock_code                          description  quantity invoice_date  unit_price  customer_id         country\n",
       "0     536365     85123A   WHITE HANGING HEART T-LIGHT HOLDER         6   2016-11-29        2.55        17850  United Kingdom\n",
       "1     536365      71053                  WHITE METAL LANTERN         6   2016-11-29        3.39        17850  United Kingdom\n",
       "2     536365     84406B       CREAM CUPID HEARTS COAT HANGER         8   2016-11-29        2.75        17850  United Kingdom\n",
       "3     536365     84029G  KNITTED UNION FLAG HOT WATER BOTTLE         6   2016-11-29        3.39        17850  United Kingdom\n",
       "4     536365     84029E       RED WOOLLY HOTTIE WHITE HEART.         6   2016-11-29        3.39        17850  United Kingdom"
      ]
     },
     "execution_count": 65,
     "metadata": {},
     "output_type": "execute_result"
    }
   ],
   "source": [
    "df2.head()"
   ]
  },
  {
   "cell_type": "code",
   "execution_count": 66,
   "id": "f9af6fe6-a217-4f69-9f97-93582e159080",
   "metadata": {
    "execution": {
     "iopub.execute_input": "2025-03-28T15:11:39.940848Z",
     "iopub.status.busy": "2025-03-28T15:11:39.940005Z",
     "iopub.status.idle": "2025-03-28T15:11:39.974066Z",
     "shell.execute_reply": "2025-03-28T15:11:39.972036Z",
     "shell.execute_reply.started": "2025-03-28T15:11:39.940755Z"
    }
   },
   "outputs": [
    {
     "data": {
      "text/html": [
       "<div>\n",
       "<style scoped>\n",
       "    .dataframe tbody tr th:only-of-type {\n",
       "        vertical-align: middle;\n",
       "    }\n",
       "\n",
       "    .dataframe tbody tr th {\n",
       "        vertical-align: top;\n",
       "    }\n",
       "\n",
       "    .dataframe thead th {\n",
       "        text-align: right;\n",
       "    }\n",
       "</style>\n",
       "<table border=\"1\" class=\"dataframe\">\n",
       "  <thead>\n",
       "    <tr style=\"text-align: right;\">\n",
       "      <th></th>\n",
       "      <th>customer_id</th>\n",
       "    </tr>\n",
       "  </thead>\n",
       "  <tbody>\n",
       "    <tr>\n",
       "      <th>0</th>\n",
       "      <td>17850</td>\n",
       "    </tr>\n",
       "    <tr>\n",
       "      <th>1</th>\n",
       "      <td>13047</td>\n",
       "    </tr>\n",
       "    <tr>\n",
       "      <th>2</th>\n",
       "      <td>12583</td>\n",
       "    </tr>\n",
       "    <tr>\n",
       "      <th>3</th>\n",
       "      <td>13748</td>\n",
       "    </tr>\n",
       "    <tr>\n",
       "      <th>4</th>\n",
       "      <td>15100</td>\n",
       "    </tr>\n",
       "  </tbody>\n",
       "</table>\n",
       "</div>"
      ],
      "text/plain": [
       "   customer_id\n",
       "0        17850\n",
       "1        13047\n",
       "2        12583\n",
       "3        13748\n",
       "4        15100"
      ]
     },
     "execution_count": 66,
     "metadata": {},
     "output_type": "execute_result"
    }
   ],
   "source": [
    "# data reference\n",
    "df_ref = df2.drop( ['invoice_no', 'stock_code', 'description', \n",
    "                    'quantity', 'invoice_date', 'unit_price', \n",
    "                    'country'], axis=1 ).drop_duplicates( ignore_index=True)\n",
    "\n",
    "df_ref.head()"
   ]
  },
  {
   "cell_type": "code",
   "execution_count": 67,
   "id": "b7c879ec-2b21-4f98-82ac-70812d46be6f",
   "metadata": {
    "execution": {
     "iopub.execute_input": "2025-03-28T15:11:42.872938Z",
     "iopub.status.busy": "2025-03-28T15:11:42.872128Z",
     "iopub.status.idle": "2025-03-28T15:11:42.986354Z",
     "shell.execute_reply": "2025-03-28T15:11:42.985100Z",
     "shell.execute_reply.started": "2025-03-28T15:11:42.872859Z"
    }
   },
   "outputs": [],
   "source": [
    "# Gross Revenue (Faturamento) quantity * price\n",
    "df2['gross_revenue'] = df2['quantity'] * df2['unit_price']\n",
    "\n",
    "# Monetary\n",
    "df_monetary = df2[['customer_id', 'gross_revenue']].groupby('customer_id').sum().reset_index()\n",
    "df_ref = pd.merge( df_ref, df_monetary, on='customer_id', how='left')\n",
    "\n",
    "# Recency \n",
    "df_recency = df2[['customer_id', 'invoice_date']].groupby('customer_id').max().reset_index()\n",
    "df_recency['recency_days'] = ( df2['invoice_date'].max() - df_recency['invoice_date'] ).dt.days\n",
    "df_recency = df_recency[['customer_id', 'recency_days']].copy()\n",
    "df_ref = pd.merge( df_ref, df_recency, on='customer_id', how='left')\n",
    "\n",
    "# Frequency\n",
    "df_freq = df2[['customer_id', 'invoice_no']].drop_duplicates().groupby('customer_id').count().reset_index()\n",
    "df_ref = pd.merge( df_ref, df_freq, on='customer_id', how='left')"
   ]
  },
  {
   "cell_type": "code",
   "execution_count": 68,
   "id": "64785d6e-80dc-475e-8b30-9420f3c568e5",
   "metadata": {
    "execution": {
     "iopub.execute_input": "2025-03-28T15:11:43.407539Z",
     "iopub.status.busy": "2025-03-28T15:11:43.406878Z",
     "iopub.status.idle": "2025-03-28T15:11:43.422682Z",
     "shell.execute_reply": "2025-03-28T15:11:43.419988Z",
     "shell.execute_reply.started": "2025-03-28T15:11:43.407488Z"
    }
   },
   "outputs": [
    {
     "data": {
      "text/plain": [
       "customer_id      0\n",
       "gross_revenue    0\n",
       "recency_days     0\n",
       "invoice_no       0\n",
       "dtype: int64"
      ]
     },
     "execution_count": 68,
     "metadata": {},
     "output_type": "execute_result"
    }
   ],
   "source": [
    "df_ref.isna().sum()"
   ]
  },
  {
   "cell_type": "code",
   "execution_count": 69,
   "id": "922bda81-6513-4c47-b45e-6467cc82bdb4",
   "metadata": {
    "execution": {
     "iopub.execute_input": "2025-03-28T15:11:57.892747Z",
     "iopub.status.busy": "2025-03-28T15:11:57.891681Z",
     "iopub.status.idle": "2025-03-28T15:11:57.915861Z",
     "shell.execute_reply": "2025-03-28T15:11:57.913565Z",
     "shell.execute_reply.started": "2025-03-28T15:11:57.892667Z"
    }
   },
   "outputs": [
    {
     "data": {
      "text/html": [
       "<div>\n",
       "<style scoped>\n",
       "    .dataframe tbody tr th:only-of-type {\n",
       "        vertical-align: middle;\n",
       "    }\n",
       "\n",
       "    .dataframe tbody tr th {\n",
       "        vertical-align: top;\n",
       "    }\n",
       "\n",
       "    .dataframe thead th {\n",
       "        text-align: right;\n",
       "    }\n",
       "</style>\n",
       "<table border=\"1\" class=\"dataframe\">\n",
       "  <thead>\n",
       "    <tr style=\"text-align: right;\">\n",
       "      <th></th>\n",
       "      <th>customer_id</th>\n",
       "      <th>gross_revenue</th>\n",
       "      <th>recency_days</th>\n",
       "      <th>invoice_no</th>\n",
       "    </tr>\n",
       "  </thead>\n",
       "  <tbody>\n",
       "    <tr>\n",
       "      <th>0</th>\n",
       "      <td>17850</td>\n",
       "      <td>5288.63</td>\n",
       "      <td>302</td>\n",
       "      <td>35</td>\n",
       "    </tr>\n",
       "    <tr>\n",
       "      <th>1</th>\n",
       "      <td>13047</td>\n",
       "      <td>3079.10</td>\n",
       "      <td>31</td>\n",
       "      <td>18</td>\n",
       "    </tr>\n",
       "    <tr>\n",
       "      <th>2</th>\n",
       "      <td>12583</td>\n",
       "      <td>7187.34</td>\n",
       "      <td>2</td>\n",
       "      <td>18</td>\n",
       "    </tr>\n",
       "    <tr>\n",
       "      <th>3</th>\n",
       "      <td>13748</td>\n",
       "      <td>948.25</td>\n",
       "      <td>95</td>\n",
       "      <td>5</td>\n",
       "    </tr>\n",
       "    <tr>\n",
       "      <th>4</th>\n",
       "      <td>15100</td>\n",
       "      <td>635.10</td>\n",
       "      <td>330</td>\n",
       "      <td>6</td>\n",
       "    </tr>\n",
       "  </tbody>\n",
       "</table>\n",
       "</div>"
      ],
      "text/plain": [
       "   customer_id  gross_revenue  recency_days  invoice_no\n",
       "0        17850        5288.63           302          35\n",
       "1        13047        3079.10            31          18\n",
       "2        12583        7187.34             2          18\n",
       "3        13748         948.25            95           5\n",
       "4        15100         635.10           330           6"
      ]
     },
     "execution_count": 69,
     "metadata": {},
     "output_type": "execute_result"
    }
   ],
   "source": [
    "df_ref.head()"
   ]
  },
  {
   "cell_type": "code",
   "execution_count": null,
   "id": "fd4ce600-d446-48c3-8189-737de7e18bdb",
   "metadata": {},
   "outputs": [],
   "source": []
  },
  {
   "cell_type": "markdown",
   "id": "3e6ab600-751f-4faf-9a58-a6d5c53cf7c4",
   "metadata": {},
   "source": [
    "# <font color='red'>3.0. Filtragem de Variáveis</font>"
   ]
  },
  {
   "cell_type": "code",
   "execution_count": 77,
   "id": "5b0dca9f-bd20-4a39-ab3d-d3223db1cebd",
   "metadata": {
    "execution": {
     "iopub.execute_input": "2025-03-28T15:15:45.878220Z",
     "iopub.status.busy": "2025-03-28T15:15:45.877110Z",
     "iopub.status.idle": "2025-03-28T15:15:45.889319Z",
     "shell.execute_reply": "2025-03-28T15:15:45.886566Z",
     "shell.execute_reply.started": "2025-03-28T15:15:45.878103Z"
    }
   },
   "outputs": [],
   "source": [
    "df3 = df_ref.copy()"
   ]
  },
  {
   "cell_type": "markdown",
   "id": "1a1ec474-fb0a-49e7-981d-ccb1f508881f",
   "metadata": {},
   "source": [
    "# <font color='red'>4.0. EDA (Exploratory Data Analysis)</font>"
   ]
  },
  {
   "cell_type": "code",
   "execution_count": 78,
   "id": "41ab5b9d-4583-446f-a58e-ed2f469f4d06",
   "metadata": {
    "execution": {
     "iopub.execute_input": "2025-03-28T15:15:46.800579Z",
     "iopub.status.busy": "2025-03-28T15:15:46.799738Z",
     "iopub.status.idle": "2025-03-28T15:15:46.817204Z",
     "shell.execute_reply": "2025-03-28T15:15:46.815088Z",
     "shell.execute_reply.started": "2025-03-28T15:15:46.800476Z"
    }
   },
   "outputs": [],
   "source": [
    "df4 = df3.copy()"
   ]
  },
  {
   "cell_type": "markdown",
   "id": "1cff104d-36ad-40f2-98d6-c9bd6b59cd86",
   "metadata": {},
   "source": [
    "# <font color='red'>5.0. Data Preparation</font>"
   ]
  },
  {
   "cell_type": "code",
   "execution_count": 79,
   "id": "450a8cdb-6e3c-43f4-a867-40b754c29e0c",
   "metadata": {
    "execution": {
     "iopub.execute_input": "2025-03-28T15:15:49.918937Z",
     "iopub.status.busy": "2025-03-28T15:15:49.918155Z",
     "iopub.status.idle": "2025-03-28T15:15:49.936751Z",
     "shell.execute_reply": "2025-03-28T15:15:49.934067Z",
     "shell.execute_reply.started": "2025-03-28T15:15:49.918850Z"
    }
   },
   "outputs": [],
   "source": [
    "df5 = df4.copy()"
   ]
  },
  {
   "cell_type": "markdown",
   "id": "420e1a6f-4b1f-41f8-9a7d-5295bc89f4c9",
   "metadata": {},
   "source": [
    "# <font color='red'>6.0. Feature Selection</font>"
   ]
  },
  {
   "cell_type": "code",
   "execution_count": 80,
   "id": "ee554a16-3d4f-4ebf-a64c-95028ca330cd",
   "metadata": {
    "execution": {
     "iopub.execute_input": "2025-03-28T15:15:52.729759Z",
     "iopub.status.busy": "2025-03-28T15:15:52.728921Z",
     "iopub.status.idle": "2025-03-28T15:15:52.757891Z",
     "shell.execute_reply": "2025-03-28T15:15:52.755915Z",
     "shell.execute_reply.started": "2025-03-28T15:15:52.729641Z"
    }
   },
   "outputs": [],
   "source": [
    "df6 = df5.copy()"
   ]
  },
  {
   "cell_type": "markdown",
   "id": "711471e6-d307-4ec2-a602-b9397fa75f04",
   "metadata": {},
   "source": [
    "# <font color='red'>7.0. Hyperparameter Fine-Tunning</font>"
   ]
  },
  {
   "cell_type": "code",
   "execution_count": 84,
   "id": "9e331d6b-a251-448c-9651-94238df08c86",
   "metadata": {
    "execution": {
     "iopub.execute_input": "2025-03-28T15:18:56.549073Z",
     "iopub.status.busy": "2025-03-28T15:18:56.548587Z",
     "iopub.status.idle": "2025-03-28T15:18:56.558338Z",
     "shell.execute_reply": "2025-03-28T15:18:56.555364Z",
     "shell.execute_reply.started": "2025-03-28T15:18:56.549033Z"
    }
   },
   "outputs": [],
   "source": [
    "X = df6.drop( columns=['customer_id'])"
   ]
  },
  {
   "cell_type": "code",
   "execution_count": 89,
   "id": "20a0a5fd-8332-40b1-8879-d6b475e1a85a",
   "metadata": {
    "execution": {
     "iopub.execute_input": "2025-03-28T17:21:17.325634Z",
     "iopub.status.busy": "2025-03-28T17:21:17.323805Z",
     "iopub.status.idle": "2025-03-28T17:21:17.334223Z",
     "shell.execute_reply": "2025-03-28T17:21:17.332038Z",
     "shell.execute_reply.started": "2025-03-28T17:21:17.325517Z"
    }
   },
   "outputs": [],
   "source": [
    "clusters = [2, 3, 4, 5, 6]"
   ]
  },
  {
   "cell_type": "markdown",
   "id": "b6df3086-0fe4-4e64-b307-0aee73b0214c",
   "metadata": {},
   "source": [
    "## 7.1. Within-Cluster Sum of Square (WSS)"
   ]
  },
  {
   "cell_type": "code",
   "execution_count": 94,
   "id": "c89f28c4-b77d-47f4-8ef1-65acd5c839d7",
   "metadata": {
    "execution": {
     "iopub.execute_input": "2025-03-28T17:29:21.994863Z",
     "iopub.status.busy": "2025-03-28T17:29:21.994378Z",
     "iopub.status.idle": "2025-03-28T17:29:22.916910Z",
     "shell.execute_reply": "2025-03-28T17:29:22.915401Z",
     "shell.execute_reply.started": "2025-03-28T17:29:21.994807Z"
    }
   },
   "outputs": [
    {
     "data": {
      "image/png": "[encoded data removed]",
      "text/plain": [
       "<Figure size 2400x900 with 1 Axes>"
      ]
     },
     "metadata": {},
     "output_type": "display_data"
    }
   ],
   "source": [
    "wss = []\n",
    "for k in clusters:\n",
    "    # model definition\n",
    "    kmeans = c.KMeans( init='random', n_clusters=k, n_init=10, max_iter=300, random_state=42 )\n",
    "    \n",
    "    # model training\n",
    "    kmeans.fit( X )\n",
    "    \n",
    "    # validation\n",
    "    wss.append( kmeans.inertia_ )\n",
    "\n",
    "# plot wss - Elbow Method\n",
    "plt.plot( clusters, wss, linestyle='--', marker='o', color='b' )\n",
    "plt.xlabel( 'K' );\n",
    "plt.ylabel( 'Within-Cluster Sum of Square' );\n",
    "plt.title( 'WSS vs K' );"
   ]
  },
  {
   "cell_type": "code",
   "execution_count": 102,
   "id": "18aa39a7-7902-457f-adc0-53b945253c4c",
   "metadata": {
    "execution": {
     "iopub.execute_input": "2025-03-28T18:22:44.489158Z",
     "iopub.status.busy": "2025-03-28T18:22:44.488512Z",
     "iopub.status.idle": "2025-03-28T18:22:47.108946Z",
     "shell.execute_reply": "2025-03-28T18:22:47.107563Z",
     "shell.execute_reply.started": "2025-03-28T18:22:44.489092Z"
    }
   },
   "outputs": [
    {
     "data": {
      "image/png": "[encoded data removed]",
      "text/plain": [
       "<Figure size 800x550 with 1 Axes>"
      ]
     },
     "metadata": {},
     "output_type": "display_data"
    },
    {
     "data": {
      "text/plain": [
       "<Axes: title={'center': 'Distortion Score Elbow for KMeans Clustering'}, xlabel='k', ylabel='distortion score'>"
      ]
     },
     "execution_count": 102,
     "metadata": {},
     "output_type": "execute_result"
    }
   ],
   "source": [
    "from yellowbrick.cluster import KElbowVisualizer\n",
    "\n",
    "kmeans = KElbowVisualizer( c.KMeans(), k=clusters, timings=False)\n",
    "kmeans.fit( X )\n",
    "kmeans.show()"
   ]
  },
  {
   "cell_type": "markdown",
   "id": "2d672147-9cd0-4d71-994d-30322246bc26",
   "metadata": {},
   "source": [
    "## 7.2. Sillhouette Score"
   ]
  },
  {
   "cell_type": "code",
   "execution_count": 103,
   "id": "6ad8533a-33b7-474b-a9a9-7462dde02d44",
   "metadata": {
    "execution": {
     "iopub.execute_input": "2025-03-28T18:22:47.111795Z",
     "iopub.status.busy": "2025-03-28T18:22:47.110922Z",
     "iopub.status.idle": "2025-03-28T18:22:51.557952Z",
     "shell.execute_reply": "2025-03-28T18:22:51.555581Z",
     "shell.execute_reply.started": "2025-03-28T18:22:47.111729Z"
    }
   },
   "outputs": [
    {
     "data": {
      "image/png": "[encoded data removed]",
      "text/plain": [
       "<Figure size 800x550 with 1 Axes>"
      ]
     },
     "metadata": {},
     "output_type": "display_data"
    },
    {
     "data": {
      "text/plain": [
       "<Axes: title={'center': 'Silhouette Score Elbow for KMeans Clustering'}, xlabel='k', ylabel='silhouette score'>"
      ]
     },
     "execution_count": 103,
     "metadata": {},
     "output_type": "execute_result"
    }
   ],
   "source": [
    "kmeans = KElbowVisualizer( c.KMeans(), k=clusters, metric='silhouette', timings=False)\n",
    "kmeans.fit( X )\n",
    "kmeans.show()"
   ]
  },
  {
   "cell_type": "markdown",
   "id": "0b2eb22c-ce13-46d1-aba2-05c70f6ea7ea",
   "metadata": {},
   "source": [
    "# <font color='red'>8.0. Model Training</font>"
   ]
  },
  {
   "cell_type": "code",
   "execution_count": null,
   "id": "8bf20648-ee3f-45a6-8434-ff3d466769da",
   "metadata": {},
   "outputs": [],
   "source": []
  },
  {
   "cell_type": "markdown",
   "id": "edd39975-77df-4f14-8b8c-d7f05c3766fe",
   "metadata": {},
   "source": [
    "# <font color='red'>9.0. Cluster Analysis</font>"
   ]
  },
  {
   "cell_type": "code",
   "execution_count": null,
   "id": "9e378ffa-7ebf-4fc7-936d-fe56c0afb8c4",
   "metadata": {},
   "outputs": [],
   "source": []
  },
  {
   "cell_type": "markdown",
   "id": "89b75b84-c351-4f06-9647-5f78a6b2ebcf",
   "metadata": {},
   "source": [
    "# <font color='red'>10.0. Deploy To Production</font>"
   ]
  },
  {
   "cell_type": "code",
   "execution_count": null,
   "id": "7118754a-1a30-4d66-be6b-a1f8b8dc291b",
   "metadata": {},
   "outputs": [],
   "source": []
  },
  {
   "cell_type": "code",
   "execution_count": null,
   "id": "0622eeef-78a9-4a91-9360-a59474ed7efe",
   "metadata": {},
   "outputs": [],
   "source": []
  },
  {
   "cell_type": "code",
   "execution_count": null,
   "id": "df02c32f-f7ad-48df-95c6-02a989a8dd2e",
   "metadata": {},
   "outputs": [],
   "source": []
  },
  {
   "cell_type": "code",
   "execution_count": null,
   "id": "0e4ffecb-5923-418a-b980-99a8581fd857",
   "metadata": {},
   "outputs": [],
   "source": []
  },
  {
   "cell_type": "code",
   "execution_count": null,
   "id": "c960beca-57a4-446b-bc7e-c9b0a9d3c8f9",
   "metadata": {},
   "outputs": [],
   "source": []
  },
  {
   "cell_type": "code",
   "execution_count": null,
   "id": "9d76e48f-17f9-411c-af19-14110546e13c",
   "metadata": {},
   "outputs": [],
   "source": []
  },
  {
   "cell_type": "code",
   "execution_count": null,
   "id": "40897467-1604-4736-90ea-37a6a7197705",
   "metadata": {},
   "outputs": [],
   "source": []
  },
  {
   "cell_type": "code",
   "execution_count": null,
   "id": "842d3c11-f1f6-40d1-9cf9-76193d11cd6d",
   "metadata": {},
   "outputs": [],
   "source": []
  },
  {
   "cell_type": "code",
   "execution_count": null,
   "id": "80c4c001-4710-413c-8ab7-67e404ca89e5",
   "metadata": {},
   "outputs": [],
   "source": []
  },
  {
   "cell_type": "code",
   "execution_count": null,
   "id": "9dbc803c-e94f-4768-9a7b-5ff64cb81fc1",
   "metadata": {},
   "outputs": [],
   "source": []
  },
  {
   "cell_type": "code",
   "execution_count": null,
   "id": "01c0ee49-d40b-464b-a6db-a25942a0eb5e",
   "metadata": {},
   "outputs": [],
   "source": []
  },
  {
   "cell_type": "code",
   "execution_count": null,
   "id": "f8d5f0bf-c114-4a91-a786-95255d3ac6d0",
   "metadata": {},
   "outputs": [],
   "source": []
  }
 ],
 "metadata": {
  "kernelspec": {
   "display_name": "Python 3 (ipykernel)",
   "language": "python",
   "name": "python3"
  },
  "language_info": {
   "codemirror_mode": {
    "name": "ipython",
    "version": 3
   },
   "file_extension": ".py",
   "mimetype": "text/x-python",
   "name": "python",
   "nbconvert_exporter": "python",
   "pygments_lexer": "ipython3",
   "version": "3.8.0"
  }
 },
 "nbformat": 4,
 "nbformat_minor": 5
}
