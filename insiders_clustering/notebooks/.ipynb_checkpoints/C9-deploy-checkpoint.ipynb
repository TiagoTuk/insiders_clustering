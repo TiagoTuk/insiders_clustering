{
 "cells": [
  {
   "cell_type": "markdown",
   "id": "906e9b0f-ea94-4b81-8315-622a529f778b",
   "metadata": {},
   "source": [
    "# High Value Customer Identification (Insiders)"
   ]
  },
  {
   "cell_type": "markdown",
   "id": "20a830b5-fb85-463d-927e-dd56591cea73",
   "metadata": {},
   "source": [
    "# <font color='blue'>0.0. Imports</font>"
   ]
  },
  {
   "cell_type": "code",
   "execution_count": 41,
   "id": "7e52605b-5b36-4b7a-ad74-60e5cc431bbc",
   "metadata": {
    "execution": {
     "iopub.execute_input": "2025-05-06T12:56:53.738260Z",
     "iopub.status.busy": "2025-05-06T12:56:53.735969Z",
     "iopub.status.idle": "2025-05-06T12:56:53.757030Z",
     "shell.execute_reply": "2025-05-06T12:56:53.754348Z",
     "shell.execute_reply.started": "2025-05-06T12:56:53.738141Z"
    }
   },
   "outputs": [],
   "source": [
    "import re\n",
    "import numpy    as np\n",
    "import pandas   as pd\n",
    "import seaborn  as sns\n",
    "import inflection\n",
    "import warnings\n",
    "import pickle\n",
    "import s3fs\n",
    "import os\n",
    "\n",
    "import umap.umap_ as umap\n",
    "\n",
    "from matplotlib import pyplot as plt\n",
    "from plotly import express as px\n",
    "\n",
    "from sklearn import cluster as c\n",
    "from sklearn import metrics as m\n",
    "from sklearn import preprocessing as pp\n",
    "from sklearn import decomposition as dd\n",
    "from sklearn import ensemble as en\n",
    "from sklearn import mixture as mx\n",
    "from sklearn.manifold import TSNE\n",
    "from sklearn.neighbors import NearestNeighbors\n",
    "\n",
    "from scipy.cluster import hierarchy as hc\n",
    "\n",
    "warnings.filterwarnings( 'ignore' )"
   ]
  },
  {
   "cell_type": "code",
   "execution_count": null,
   "id": "72347aea-7a9f-4d18-ae04-71e1b72a9be7",
   "metadata": {},
   "outputs": [],
   "source": [
    "AWS_ACCESS_KEY_ID = os.environ.get( AWS_ACCESS_KEY_ID )\n",
    "AWS_SECRET_ACCESS_KEY = os.environ.get( AWS_SECRET_ACCESS_KEY )"
   ]
  },
  {
   "cell_type": "markdown",
   "id": "df43c46b-04dd-4cf6-a540-3b385edc7757",
   "metadata": {},
   "source": [
    "## <font color='blue'>0.2. Load DataSet</font>"
   ]
  },
  {
   "cell_type": "code",
   "execution_count": 2,
   "id": "686c9b37-f045-494a-bad6-090745ee62be",
   "metadata": {
    "execution": {
     "iopub.execute_input": "2025-05-06T12:36:34.454308Z",
     "iopub.status.busy": "2025-05-06T12:36:34.453322Z",
     "iopub.status.idle": "2025-05-06T12:36:36.249382Z",
     "shell.execute_reply": "2025-05-06T12:36:36.247055Z",
     "shell.execute_reply.started": "2025-05-06T12:36:34.454233Z"
    }
   },
   "outputs": [],
   "source": [
    "# load data\n",
    "df_raw = pd.read_csv('../data/raw/Ecommerce.csv', encoding='unicode_escape')\n",
    "\n",
    "# drop extra column\n",
    "df_raw = df_raw.drop( columns=['Unnamed: 8'], axis=1)"
   ]
  },
  {
   "cell_type": "markdown",
   "id": "674e86fc-0f1a-44bd-9255-bfa8b6a2637e",
   "metadata": {},
   "source": [
    "# <font color='red'>1.0. Descrição dos dados</font>"
   ]
  },
  {
   "cell_type": "code",
   "execution_count": 3,
   "id": "4db449b3-5389-432b-9442-e765780e7507",
   "metadata": {
    "execution": {
     "iopub.execute_input": "2025-05-06T12:36:36.251650Z",
     "iopub.status.busy": "2025-05-06T12:36:36.251047Z",
     "iopub.status.idle": "2025-05-06T12:36:36.301145Z",
     "shell.execute_reply": "2025-05-06T12:36:36.298257Z",
     "shell.execute_reply.started": "2025-05-06T12:36:36.251594Z"
    }
   },
   "outputs": [],
   "source": [
    "df1 = df_raw.copy()"
   ]
  },
  {
   "cell_type": "markdown",
   "id": "f34e98dc-1dec-4653-a0a1-a49079623328",
   "metadata": {},
   "source": [
    "## 1.1. Rename Columns"
   ]
  },
  {
   "cell_type": "code",
   "execution_count": 4,
   "id": "bbe10a59-7a99-4507-9544-8d3bb76e1612",
   "metadata": {
    "execution": {
     "iopub.execute_input": "2025-05-06T12:36:36.305497Z",
     "iopub.status.busy": "2025-05-06T12:36:36.304910Z",
     "iopub.status.idle": "2025-05-06T12:36:36.519795Z",
     "shell.execute_reply": "2025-05-06T12:36:36.517256Z",
     "shell.execute_reply.started": "2025-05-06T12:36:36.305444Z"
    }
   },
   "outputs": [],
   "source": [
    "cols_old = ['InvoiceNo', 'StockCode', 'Description', 'Quantity', 'InvoiceDate',\n",
    "       'UnitPrice', 'CustomerID', 'Country']\n",
    "\n",
    "snakecase = lambda x: inflection.underscore( x )\n",
    "\n",
    "cols_new = list( map (snakecase, cols_old) )\n",
    "\n",
    "#Rename\n",
    "df1.columns = cols_new"
   ]
  },
  {
   "cell_type": "markdown",
   "id": "974c4ed1-1b68-451b-b096-df68013accc5",
   "metadata": {},
   "source": [
    "## 1.2. Data Dimensions"
   ]
  },
  {
   "cell_type": "code",
   "execution_count": 5,
   "id": "d54e9994-a1be-4609-8cbb-8f60caa18548",
   "metadata": {
    "execution": {
     "iopub.execute_input": "2025-05-06T12:36:36.522543Z",
     "iopub.status.busy": "2025-05-06T12:36:36.521796Z",
     "iopub.status.idle": "2025-05-06T12:36:36.744144Z",
     "shell.execute_reply": "2025-05-06T12:36:36.741662Z",
     "shell.execute_reply.started": "2025-05-06T12:36:36.522468Z"
    }
   },
   "outputs": [
    {
     "name": "stdout",
     "output_type": "stream",
     "text": [
      "Numero de Linhas: 541909\n",
      "Numero de Colunas: 8\n"
     ]
    }
   ],
   "source": [
    "print(f'Numero de Linhas: {df1.shape[0]}')\n",
    "print(f'Numero de Colunas: {df1.shape[1]}')"
   ]
  },
  {
   "cell_type": "markdown",
   "id": "34c6ee4a-8386-4c32-a267-3f818796a4d8",
   "metadata": {},
   "source": [
    "## 1.3. Data Types"
   ]
  },
  {
   "cell_type": "code",
   "execution_count": 6,
   "id": "ff6a2cbd-f661-455d-828e-c2876483992e",
   "metadata": {
    "execution": {
     "iopub.execute_input": "2025-05-06T12:36:36.747531Z",
     "iopub.status.busy": "2025-05-06T12:36:36.746483Z",
     "iopub.status.idle": "2025-05-06T12:36:36.978301Z",
     "shell.execute_reply": "2025-05-06T12:36:36.974546Z",
     "shell.execute_reply.started": "2025-05-06T12:36:36.747397Z"
    }
   },
   "outputs": [
    {
     "data": {
      "text/plain": [
       "invoice_no       object\n",
       "stock_code       object\n",
       "description      object\n",
       "quantity          int64\n",
       "invoice_date     object\n",
       "unit_price      float64\n",
       "customer_id     float64\n",
       "country          object\n",
       "dtype: object"
      ]
     },
     "execution_count": 6,
     "metadata": {},
     "output_type": "execute_result"
    }
   ],
   "source": [
    "df1.dtypes"
   ]
  },
  {
   "cell_type": "markdown",
   "id": "e98ab6cf-ee5a-44e1-aa21-9af2989986b7",
   "metadata": {},
   "source": [
    "## 1.4. Check NA"
   ]
  },
  {
   "cell_type": "code",
   "execution_count": 7,
   "id": "d60a3d86-d214-457b-b458-d918d33955ee",
   "metadata": {
    "execution": {
     "iopub.execute_input": "2025-05-06T12:36:36.983641Z",
     "iopub.status.busy": "2025-05-06T12:36:36.982345Z",
     "iopub.status.idle": "2025-05-06T12:36:37.493899Z",
     "shell.execute_reply": "2025-05-06T12:36:37.489248Z",
     "shell.execute_reply.started": "2025-05-06T12:36:36.983461Z"
    }
   },
   "outputs": [
    {
     "data": {
      "text/plain": [
       "invoice_no           0\n",
       "stock_code           0\n",
       "description       1454\n",
       "quantity             0\n",
       "invoice_date         0\n",
       "unit_price           0\n",
       "customer_id     135080\n",
       "country              0\n",
       "dtype: int64"
      ]
     },
     "execution_count": 7,
     "metadata": {},
     "output_type": "execute_result"
    }
   ],
   "source": [
    "df1.isna().sum()"
   ]
  },
  {
   "cell_type": "markdown",
   "id": "1fc21d69-e0b9-48fd-b9ab-81a9aaefeb9a",
   "metadata": {},
   "source": [
    "## 1.5. Replace NA"
   ]
  },
  {
   "cell_type": "code",
   "execution_count": 8,
   "id": "44109732-8cdb-4f6f-988c-d130a1797aa2",
   "metadata": {
    "execution": {
     "iopub.execute_input": "2025-05-06T12:36:37.499006Z",
     "iopub.status.busy": "2025-05-06T12:36:37.497740Z",
     "iopub.status.idle": "2025-05-06T12:36:37.840624Z",
     "shell.execute_reply": "2025-05-06T12:36:37.839310Z",
     "shell.execute_reply.started": "2025-05-06T12:36:37.498896Z"
    }
   },
   "outputs": [],
   "source": [
    "df_missing = df1.loc[df1['customer_id'].isna(), :]\n",
    "df_not_missing = df1.loc[~df1['customer_id'].isna(), :]"
   ]
  },
  {
   "cell_type": "code",
   "execution_count": 9,
   "id": "829dbfda-ebc9-42bc-9aec-25cedeaba6cd",
   "metadata": {
    "execution": {
     "iopub.execute_input": "2025-05-06T12:36:37.843355Z",
     "iopub.status.busy": "2025-05-06T12:36:37.842472Z",
     "iopub.status.idle": "2025-05-06T12:36:38.359297Z",
     "shell.execute_reply": "2025-05-06T12:36:38.357637Z",
     "shell.execute_reply.started": "2025-05-06T12:36:37.843283Z"
    }
   },
   "outputs": [],
   "source": [
    "# Criar id's acima do valor maximo do customer id, para conseguir usar os 25% da base que está como NA na clusterização\n",
    "\n",
    "# create reference\n",
    "df_backup = pd.DataFrame( df_missing['invoice_no'].drop_duplicates() )\n",
    "df_backup['customer_id'] = np.arange(19000, 19000 + len( df_backup ), 1 )\n",
    "\n",
    "# merge original with reference dataframe\n",
    "df1 = pd.merge( df1, df_backup, on='invoice_no', how='left')\n",
    "\n",
    "# coalese\n",
    "df1['customer_id'] = df1['customer_id_x'].combine_first( df1['customer_id_y'] )\n",
    "\n",
    "# drop extra columns\n",
    "df1 = df1.drop( columns=['customer_id_x', 'customer_id_y'], axis=1 )"
   ]
  },
  {
   "cell_type": "code",
   "execution_count": 10,
   "id": "ca59f3cd-2433-4b44-9f59-168c344b50ca",
   "metadata": {
    "execution": {
     "iopub.execute_input": "2025-05-06T12:36:38.366062Z",
     "iopub.status.busy": "2025-05-06T12:36:38.365419Z",
     "iopub.status.idle": "2025-05-06T12:36:38.524318Z",
     "shell.execute_reply": "2025-05-06T12:36:38.522052Z",
     "shell.execute_reply.started": "2025-05-06T12:36:38.366005Z"
    }
   },
   "outputs": [
    {
     "data": {
      "text/plain": [
       "invoice_no         0\n",
       "stock_code         0\n",
       "description     1454\n",
       "quantity           0\n",
       "invoice_date       0\n",
       "unit_price         0\n",
       "country            0\n",
       "customer_id        0\n",
       "dtype: int64"
      ]
     },
     "execution_count": 10,
     "metadata": {},
     "output_type": "execute_result"
    }
   ],
   "source": [
    "df1.isna().sum()"
   ]
  },
  {
   "cell_type": "markdown",
   "id": "908d412e-525c-42f8-8ad5-659a0dae70b6",
   "metadata": {},
   "source": [
    "## 1.6. Change Dtypes"
   ]
  },
  {
   "cell_type": "code",
   "execution_count": 11,
   "id": "61362800-f7dc-4bd7-9209-429796da48d9",
   "metadata": {
    "execution": {
     "iopub.execute_input": "2025-05-06T12:36:38.526702Z",
     "iopub.status.busy": "2025-05-06T12:36:38.526064Z",
     "iopub.status.idle": "2025-05-06T12:36:39.218782Z",
     "shell.execute_reply": "2025-05-06T12:36:39.216394Z",
     "shell.execute_reply.started": "2025-05-06T12:36:38.526636Z"
    }
   },
   "outputs": [
    {
     "data": {
      "text/html": [
       "<div>\n",
       "<style scoped>\n",
       "    .dataframe tbody tr th:only-of-type {\n",
       "        vertical-align: middle;\n",
       "    }\n",
       "\n",
       "    .dataframe tbody tr th {\n",
       "        vertical-align: top;\n",
       "    }\n",
       "\n",
       "    .dataframe thead th {\n",
       "        text-align: right;\n",
       "    }\n",
       "</style>\n",
       "<table border=\"1\" class=\"dataframe\">\n",
       "  <thead>\n",
       "    <tr style=\"text-align: right;\">\n",
       "      <th></th>\n",
       "      <th>invoice_no</th>\n",
       "      <th>stock_code</th>\n",
       "      <th>description</th>\n",
       "      <th>quantity</th>\n",
       "      <th>invoice_date</th>\n",
       "      <th>unit_price</th>\n",
       "      <th>country</th>\n",
       "      <th>customer_id</th>\n",
       "    </tr>\n",
       "  </thead>\n",
       "  <tbody>\n",
       "    <tr>\n",
       "      <th>0</th>\n",
       "      <td>536365</td>\n",
       "      <td>85123A</td>\n",
       "      <td>WHITE HANGING HEART T-LIGHT HOLDER</td>\n",
       "      <td>6</td>\n",
       "      <td>2016-11-29</td>\n",
       "      <td>2.55</td>\n",
       "      <td>United Kingdom</td>\n",
       "      <td>17850</td>\n",
       "    </tr>\n",
       "    <tr>\n",
       "      <th>1</th>\n",
       "      <td>536365</td>\n",
       "      <td>71053</td>\n",
       "      <td>WHITE METAL LANTERN</td>\n",
       "      <td>6</td>\n",
       "      <td>2016-11-29</td>\n",
       "      <td>3.39</td>\n",
       "      <td>United Kingdom</td>\n",
       "      <td>17850</td>\n",
       "    </tr>\n",
       "    <tr>\n",
       "      <th>2</th>\n",
       "      <td>536365</td>\n",
       "      <td>84406B</td>\n",
       "      <td>CREAM CUPID HEARTS COAT HANGER</td>\n",
       "      <td>8</td>\n",
       "      <td>2016-11-29</td>\n",
       "      <td>2.75</td>\n",
       "      <td>United Kingdom</td>\n",
       "      <td>17850</td>\n",
       "    </tr>\n",
       "    <tr>\n",
       "      <th>3</th>\n",
       "      <td>536365</td>\n",
       "      <td>84029G</td>\n",
       "      <td>KNITTED UNION FLAG HOT WATER BOTTLE</td>\n",
       "      <td>6</td>\n",
       "      <td>2016-11-29</td>\n",
       "      <td>3.39</td>\n",
       "      <td>United Kingdom</td>\n",
       "      <td>17850</td>\n",
       "    </tr>\n",
       "    <tr>\n",
       "      <th>4</th>\n",
       "      <td>536365</td>\n",
       "      <td>84029E</td>\n",
       "      <td>RED WOOLLY HOTTIE WHITE HEART.</td>\n",
       "      <td>6</td>\n",
       "      <td>2016-11-29</td>\n",
       "      <td>3.39</td>\n",
       "      <td>United Kingdom</td>\n",
       "      <td>17850</td>\n",
       "    </tr>\n",
       "  </tbody>\n",
       "</table>\n",
       "</div>"
      ],
      "text/plain": [
       "  invoice_no stock_code                          description  quantity  \\\n",
       "0     536365     85123A   WHITE HANGING HEART T-LIGHT HOLDER         6   \n",
       "1     536365      71053                  WHITE METAL LANTERN         6   \n",
       "2     536365     84406B       CREAM CUPID HEARTS COAT HANGER         8   \n",
       "3     536365     84029G  KNITTED UNION FLAG HOT WATER BOTTLE         6   \n",
       "4     536365     84029E       RED WOOLLY HOTTIE WHITE HEART.         6   \n",
       "\n",
       "  invoice_date  unit_price         country  customer_id  \n",
       "0   2016-11-29        2.55  United Kingdom        17850  \n",
       "1   2016-11-29        3.39  United Kingdom        17850  \n",
       "2   2016-11-29        2.75  United Kingdom        17850  \n",
       "3   2016-11-29        3.39  United Kingdom        17850  \n",
       "4   2016-11-29        3.39  United Kingdom        17850  "
      ]
     },
     "execution_count": 11,
     "metadata": {},
     "output_type": "execute_result"
    }
   ],
   "source": [
    "# invoice_date\n",
    "df1['invoice_date'] = pd.to_datetime( df1['invoice_date'], format='%d-%b-%y' )\n",
    "\n",
    "# customer_id\n",
    "df1['customer_id'] =df1['customer_id'].astype( int ) \n",
    "\n",
    "df1.head()"
   ]
  },
  {
   "cell_type": "code",
   "execution_count": 12,
   "id": "945d7a46-3ea7-49a9-b45b-63423c7106ba",
   "metadata": {
    "execution": {
     "iopub.execute_input": "2025-05-06T12:36:39.222034Z",
     "iopub.status.busy": "2025-05-06T12:36:39.221172Z",
     "iopub.status.idle": "2025-05-06T12:36:39.245068Z",
     "shell.execute_reply": "2025-05-06T12:36:39.241852Z",
     "shell.execute_reply.started": "2025-05-06T12:36:39.221946Z"
    }
   },
   "outputs": [
    {
     "data": {
      "text/plain": [
       "invoice_no              object\n",
       "stock_code              object\n",
       "description             object\n",
       "quantity                 int64\n",
       "invoice_date    datetime64[ns]\n",
       "unit_price             float64\n",
       "country                 object\n",
       "customer_id              int64\n",
       "dtype: object"
      ]
     },
     "execution_count": 12,
     "metadata": {},
     "output_type": "execute_result"
    }
   ],
   "source": [
    "df1.dtypes"
   ]
  },
  {
   "cell_type": "markdown",
   "id": "76cc0675-17ff-47f6-830e-a297de8ed865",
   "metadata": {},
   "source": [
    "## 1.7. Descriptive Statistics"
   ]
  },
  {
   "cell_type": "code",
   "execution_count": 13,
   "id": "aefd30ee-96a8-4300-84a6-861a064d4e62",
   "metadata": {
    "execution": {
     "iopub.execute_input": "2025-05-06T12:36:39.248933Z",
     "iopub.status.busy": "2025-05-06T12:36:39.247980Z",
     "iopub.status.idle": "2025-05-06T12:36:39.553633Z",
     "shell.execute_reply": "2025-05-06T12:36:39.551612Z",
     "shell.execute_reply.started": "2025-05-06T12:36:39.248836Z"
    }
   },
   "outputs": [],
   "source": [
    "num_attributes = df1.select_dtypes( include=['int64', 'float64'] )\n",
    "cat_attributes = df1.select_dtypes( exclude=['int64', 'float64', 'datetime64[ns]'] )\n"
   ]
  },
  {
   "cell_type": "markdown",
   "id": "9bbd56e8-18e7-4cd2-b0f7-7d5dfbce7543",
   "metadata": {},
   "source": [
    "### 1.7.1 Numerical Attributes"
   ]
  },
  {
   "cell_type": "code",
   "execution_count": 14,
   "id": "2836a940-b2f4-4f46-b02c-3b3dfdacd9dc",
   "metadata": {
    "execution": {
     "iopub.execute_input": "2025-05-06T12:36:39.555581Z",
     "iopub.status.busy": "2025-05-06T12:36:39.555116Z",
     "iopub.status.idle": "2025-05-06T12:36:39.962271Z",
     "shell.execute_reply": "2025-05-06T12:36:39.959869Z",
     "shell.execute_reply.started": "2025-05-06T12:36:39.555514Z"
    }
   },
   "outputs": [
    {
     "data": {
      "text/html": [
       "<div>\n",
       "<style scoped>\n",
       "    .dataframe tbody tr th:only-of-type {\n",
       "        vertical-align: middle;\n",
       "    }\n",
       "\n",
       "    .dataframe tbody tr th {\n",
       "        vertical-align: top;\n",
       "    }\n",
       "\n",
       "    .dataframe thead th {\n",
       "        text-align: right;\n",
       "    }\n",
       "</style>\n",
       "<table border=\"1\" class=\"dataframe\">\n",
       "  <thead>\n",
       "    <tr style=\"text-align: right;\">\n",
       "      <th></th>\n",
       "      <th>attributes</th>\n",
       "      <th>Min</th>\n",
       "      <th>Max</th>\n",
       "      <th>Range</th>\n",
       "      <th>Mean</th>\n",
       "      <th>Mediana</th>\n",
       "      <th>Desvio Padrão</th>\n",
       "      <th>Skew</th>\n",
       "      <th>Kurtosis</th>\n",
       "    </tr>\n",
       "  </thead>\n",
       "  <tbody>\n",
       "    <tr>\n",
       "      <th>0</th>\n",
       "      <td>quantity</td>\n",
       "      <td>-80995.00</td>\n",
       "      <td>80995.0</td>\n",
       "      <td>161990.00</td>\n",
       "      <td>9.552250</td>\n",
       "      <td>3.00</td>\n",
       "      <td>218.080957</td>\n",
       "      <td>-0.264076</td>\n",
       "      <td>119769.160031</td>\n",
       "    </tr>\n",
       "    <tr>\n",
       "      <th>1</th>\n",
       "      <td>unit_price</td>\n",
       "      <td>-11062.06</td>\n",
       "      <td>38970.0</td>\n",
       "      <td>50032.06</td>\n",
       "      <td>4.611114</td>\n",
       "      <td>2.08</td>\n",
       "      <td>96.759764</td>\n",
       "      <td>186.506972</td>\n",
       "      <td>59005.719097</td>\n",
       "    </tr>\n",
       "    <tr>\n",
       "      <th>2</th>\n",
       "      <td>customer_id</td>\n",
       "      <td>12346.00</td>\n",
       "      <td>22709.0</td>\n",
       "      <td>10363.00</td>\n",
       "      <td>16688.840453</td>\n",
       "      <td>16249.00</td>\n",
       "      <td>2911.408666</td>\n",
       "      <td>0.487449</td>\n",
       "      <td>-0.804287</td>\n",
       "    </tr>\n",
       "  </tbody>\n",
       "</table>\n",
       "</div>"
      ],
      "text/plain": [
       "    attributes       Min      Max      Range          Mean   Mediana  \\\n",
       "0     quantity -80995.00  80995.0  161990.00      9.552250      3.00   \n",
       "1   unit_price -11062.06  38970.0   50032.06      4.611114      2.08   \n",
       "2  customer_id  12346.00  22709.0   10363.00  16688.840453  16249.00   \n",
       "\n",
       "   Desvio Padrão        Skew       Kurtosis  \n",
       "0     218.080957   -0.264076  119769.160031  \n",
       "1      96.759764  186.506972   59005.719097  \n",
       "2    2911.408666    0.487449      -0.804287  "
      ]
     },
     "execution_count": 14,
     "metadata": {},
     "output_type": "execute_result"
    }
   ],
   "source": [
    "# central tendency - mean, median\n",
    "ct1 = pd.DataFrame( num_attributes.apply( np.mean ) ).T\n",
    "ct2 = pd.DataFrame( num_attributes.apply( np.median ) ).T\n",
    "\n",
    "# dispersion - desvio padrão, minímo, maximo, range, skew, kurtosis\n",
    "d1 = pd.DataFrame( num_attributes.apply( np.std ) ).T\n",
    "d2 = pd.DataFrame( num_attributes.apply( np.min ) ).T\n",
    "d3 = pd.DataFrame( num_attributes.apply( np.max ) ).T\n",
    "d4 = pd.DataFrame( num_attributes.apply( lambda x: x.max() - x.min()  ) ).T\n",
    "d5 = pd.DataFrame( num_attributes.apply( lambda x: x.skew() ) ).T\n",
    "d6 = pd.DataFrame( num_attributes.apply( lambda x: x.kurtosis() ) ).T\n",
    "\n",
    "# concatenate\n",
    "metricas = pd.concat( [d2, d3, d4, ct1, ct2, d1, d5, d6]).T.reset_index()\n",
    "metricas.columns=['attributes','Min', 'Max', 'Range', 'Mean', 'Mediana', 'Desvio Padrão', 'Skew', 'Kurtosis']\n",
    "metricas"
   ]
  },
  {
   "cell_type": "markdown",
   "id": "33ffeb02-5681-45f5-87c9-9069930e5726",
   "metadata": {},
   "source": [
    "### 1.7.2 Categorical Attributes"
   ]
  },
  {
   "cell_type": "markdown",
   "id": "bd28ccf7-b561-45c8-8285-47c13f3c4cb9",
   "metadata": {},
   "source": [
    "#### Invoice No"
   ]
  },
  {
   "cell_type": "code",
   "execution_count": 15,
   "id": "304bbc2c-b6bf-42f7-9488-62e18ea0bb98",
   "metadata": {
    "execution": {
     "iopub.execute_input": "2025-05-06T12:36:39.964844Z",
     "iopub.status.busy": "2025-05-06T12:36:39.964151Z",
     "iopub.status.idle": "2025-05-06T12:36:41.432357Z",
     "shell.execute_reply": "2025-05-06T12:36:41.429904Z",
     "shell.execute_reply.started": "2025-05-06T12:36:39.964781Z"
    }
   },
   "outputs": [
    {
     "name": "stdout",
     "output_type": "stream",
     "text": [
      "Total de invoice com letras: 9291\n",
      "Total de linhas com a quantity negativa: 9288\n"
     ]
    }
   ],
   "source": [
    "# prblema: temos invoice com letras e números\n",
    "\n",
    "# identificação:\n",
    "df_letter_invoce = df1.loc[df1['invoice_no'].apply( lambda x: bool( re.search( '[^0-9]+', x) ) ), : ]\n",
    "df_letter_invoce.head()\n",
    "\n",
    "# qt invoice com letras\n",
    "print(f'Total de invoice com letras: {len(df_letter_invoce)}')\n",
    "\n",
    "# qt de linhas com a coluna 'quantity' negativa\n",
    "print(f'Total de linhas com a quantity negativa: {len( df_letter_invoce[df_letter_invoce[\"quantity\"] < 0 ] )}')"
   ]
  },
  {
   "cell_type": "markdown",
   "id": "3f2afa40-db30-4197-97c2-d87fd0c7e258",
   "metadata": {},
   "source": [
    "#### Stock Code"
   ]
  },
  {
   "cell_type": "code",
   "execution_count": 16,
   "id": "2e768468-9d52-4976-b9b2-398607a96226",
   "metadata": {
    "execution": {
     "iopub.execute_input": "2025-05-06T12:36:41.436300Z",
     "iopub.status.busy": "2025-05-06T12:36:41.434596Z",
     "iopub.status.idle": "2025-05-06T12:36:42.835214Z",
     "shell.execute_reply": "2025-05-06T12:36:42.832896Z",
     "shell.execute_reply.started": "2025-05-06T12:36:41.436197Z"
    }
   },
   "outputs": [
    {
     "data": {
      "text/plain": [
       "array(['POST', 'D', 'DOT', 'M', 'S', 'AMAZONFEE', 'm', 'DCGSSBOY',\n",
       "       'DCGSSGIRL', 'PADS', 'B', 'CRUK'], dtype=object)"
      ]
     },
     "execution_count": 16,
     "metadata": {},
     "output_type": "execute_result"
    }
   ],
   "source": [
    "# prblema: temos Stock Code com letras e números\n",
    "\n",
    "# identificação:tock_code - apenas strings\n",
    "df1.loc[df1['stock_code'].apply( lambda x: bool( re.search( '^[a-zA-Z]+$', x) ) ), 'stock_code'].unique()\n",
    "\n",
    "# Remover stock_code in ['POST', 'D', 'M', 'PADS', 'DOT', 'CRUK']"
   ]
  },
  {
   "cell_type": "markdown",
   "id": "0fb2cd72-9d12-411b-8fcf-ef795c5d2001",
   "metadata": {},
   "source": [
    "#### Description"
   ]
  },
  {
   "cell_type": "code",
   "execution_count": 17,
   "id": "0d391482-3d2a-43b3-b356-95d0fa7580cd",
   "metadata": {
    "execution": {
     "iopub.execute_input": "2025-05-06T12:36:42.838008Z",
     "iopub.status.busy": "2025-05-06T12:36:42.837220Z",
     "iopub.status.idle": "2025-05-06T12:36:42.868027Z",
     "shell.execute_reply": "2025-05-06T12:36:42.864927Z",
     "shell.execute_reply.started": "2025-05-06T12:36:42.837941Z"
    }
   },
   "outputs": [
    {
     "data": {
      "text/html": [
       "<div>\n",
       "<style scoped>\n",
       "    .dataframe tbody tr th:only-of-type {\n",
       "        vertical-align: middle;\n",
       "    }\n",
       "\n",
       "    .dataframe tbody tr th {\n",
       "        vertical-align: top;\n",
       "    }\n",
       "\n",
       "    .dataframe thead th {\n",
       "        text-align: right;\n",
       "    }\n",
       "</style>\n",
       "<table border=\"1\" class=\"dataframe\">\n",
       "  <thead>\n",
       "    <tr style=\"text-align: right;\">\n",
       "      <th></th>\n",
       "      <th>invoice_no</th>\n",
       "      <th>stock_code</th>\n",
       "      <th>description</th>\n",
       "      <th>quantity</th>\n",
       "      <th>invoice_date</th>\n",
       "      <th>unit_price</th>\n",
       "      <th>country</th>\n",
       "      <th>customer_id</th>\n",
       "    </tr>\n",
       "  </thead>\n",
       "  <tbody>\n",
       "    <tr>\n",
       "      <th>0</th>\n",
       "      <td>536365</td>\n",
       "      <td>85123A</td>\n",
       "      <td>WHITE HANGING HEART T-LIGHT HOLDER</td>\n",
       "      <td>6</td>\n",
       "      <td>2016-11-29</td>\n",
       "      <td>2.55</td>\n",
       "      <td>United Kingdom</td>\n",
       "      <td>17850</td>\n",
       "    </tr>\n",
       "    <tr>\n",
       "      <th>1</th>\n",
       "      <td>536365</td>\n",
       "      <td>71053</td>\n",
       "      <td>WHITE METAL LANTERN</td>\n",
       "      <td>6</td>\n",
       "      <td>2016-11-29</td>\n",
       "      <td>3.39</td>\n",
       "      <td>United Kingdom</td>\n",
       "      <td>17850</td>\n",
       "    </tr>\n",
       "    <tr>\n",
       "      <th>2</th>\n",
       "      <td>536365</td>\n",
       "      <td>84406B</td>\n",
       "      <td>CREAM CUPID HEARTS COAT HANGER</td>\n",
       "      <td>8</td>\n",
       "      <td>2016-11-29</td>\n",
       "      <td>2.75</td>\n",
       "      <td>United Kingdom</td>\n",
       "      <td>17850</td>\n",
       "    </tr>\n",
       "    <tr>\n",
       "      <th>3</th>\n",
       "      <td>536365</td>\n",
       "      <td>84029G</td>\n",
       "      <td>KNITTED UNION FLAG HOT WATER BOTTLE</td>\n",
       "      <td>6</td>\n",
       "      <td>2016-11-29</td>\n",
       "      <td>3.39</td>\n",
       "      <td>United Kingdom</td>\n",
       "      <td>17850</td>\n",
       "    </tr>\n",
       "    <tr>\n",
       "      <th>4</th>\n",
       "      <td>536365</td>\n",
       "      <td>84029E</td>\n",
       "      <td>RED WOOLLY HOTTIE WHITE HEART.</td>\n",
       "      <td>6</td>\n",
       "      <td>2016-11-29</td>\n",
       "      <td>3.39</td>\n",
       "      <td>United Kingdom</td>\n",
       "      <td>17850</td>\n",
       "    </tr>\n",
       "  </tbody>\n",
       "</table>\n",
       "</div>"
      ],
      "text/plain": [
       "  invoice_no stock_code                          description  quantity  \\\n",
       "0     536365     85123A   WHITE HANGING HEART T-LIGHT HOLDER         6   \n",
       "1     536365      71053                  WHITE METAL LANTERN         6   \n",
       "2     536365     84406B       CREAM CUPID HEARTS COAT HANGER         8   \n",
       "3     536365     84029G  KNITTED UNION FLAG HOT WATER BOTTLE         6   \n",
       "4     536365     84029E       RED WOOLLY HOTTIE WHITE HEART.         6   \n",
       "\n",
       "  invoice_date  unit_price         country  customer_id  \n",
       "0   2016-11-29        2.55  United Kingdom        17850  \n",
       "1   2016-11-29        3.39  United Kingdom        17850  \n",
       "2   2016-11-29        2.75  United Kingdom        17850  \n",
       "3   2016-11-29        3.39  United Kingdom        17850  \n",
       "4   2016-11-29        3.39  United Kingdom        17850  "
      ]
     },
     "execution_count": 17,
     "metadata": {},
     "output_type": "execute_result"
    }
   ],
   "source": [
    "df1.head()\n",
    "\n",
    "# Deletar a coluna description"
   ]
  },
  {
   "cell_type": "markdown",
   "id": "c283a206-08a1-4040-a106-20a4c16389be",
   "metadata": {},
   "source": [
    "#### Country"
   ]
  },
  {
   "cell_type": "code",
   "execution_count": 18,
   "id": "fde237cd-bc97-4e4d-ac38-589d2ee2278c",
   "metadata": {
    "execution": {
     "iopub.execute_input": "2025-05-06T12:36:42.871768Z",
     "iopub.status.busy": "2025-05-06T12:36:42.870920Z",
     "iopub.status.idle": "2025-05-06T12:36:43.268482Z",
     "shell.execute_reply": "2025-05-06T12:36:43.265632Z",
     "shell.execute_reply.started": "2025-05-06T12:36:42.871679Z"
    }
   },
   "outputs": [
    {
     "data": {
      "text/plain": [
       "array(['United Kingdom', 'France', 'Australia', 'Netherlands', 'Germany',\n",
       "       'Norway', 'EIRE', 'Switzerland', 'Spain', 'Poland', 'Portugal',\n",
       "       'Italy', 'Belgium', 'Lithuania', 'Japan', 'Iceland',\n",
       "       'Channel Islands', 'Denmark', 'Cyprus', 'Sweden', 'Austria',\n",
       "       'Israel', 'Finland', 'Bahrain', 'Greece', 'Hong Kong', 'Singapore',\n",
       "       'Lebanon', 'United Arab Emirates', 'Saudi Arabia',\n",
       "       'Czech Republic', 'Canada', 'Unspecified', 'Brazil', 'USA',\n",
       "       'European Community', 'Malta', 'RSA'], dtype=object)"
      ]
     },
     "execution_count": 18,
     "metadata": {},
     "output_type": "execute_result"
    }
   ],
   "source": [
    "# Paises únicos na base\n",
    "df1['country'].unique()"
   ]
  },
  {
   "cell_type": "code",
   "execution_count": 19,
   "id": "0e9c2a13-4518-4f22-9bfe-c5a43ccce1a6",
   "metadata": {
    "execution": {
     "iopub.execute_input": "2025-05-06T12:36:43.271151Z",
     "iopub.status.busy": "2025-05-06T12:36:43.270463Z",
     "iopub.status.idle": "2025-05-06T12:36:43.504280Z",
     "shell.execute_reply": "2025-05-06T12:36:43.502112Z",
     "shell.execute_reply.started": "2025-05-06T12:36:43.271086Z"
    }
   },
   "outputs": [
    {
     "data": {
      "text/plain": [
       "country\n",
       "United Kingdom    0.914320\n",
       "Germany           0.017521\n",
       "France            0.015790\n",
       "EIRE              0.015124\n",
       "Spain             0.004674\n",
       "Name: proportion, dtype: float64"
      ]
     },
     "execution_count": 19,
     "metadata": {},
     "output_type": "execute_result"
    }
   ],
   "source": [
    "# % de paises na base\n",
    "df1['country'].value_counts(normalize=True).head()"
   ]
  },
  {
   "cell_type": "code",
   "execution_count": 20,
   "id": "e57478fe-072a-419e-8aee-915c1b8b200a",
   "metadata": {
    "execution": {
     "iopub.execute_input": "2025-05-06T12:36:43.507477Z",
     "iopub.status.busy": "2025-05-06T12:36:43.506788Z",
     "iopub.status.idle": "2025-05-06T12:36:43.878837Z",
     "shell.execute_reply": "2025-05-06T12:36:43.876850Z",
     "shell.execute_reply.started": "2025-05-06T12:36:43.507415Z"
    }
   },
   "outputs": [
    {
     "data": {
      "text/html": [
       "<div>\n",
       "<style scoped>\n",
       "    .dataframe tbody tr th:only-of-type {\n",
       "        vertical-align: middle;\n",
       "    }\n",
       "\n",
       "    .dataframe tbody tr th {\n",
       "        vertical-align: top;\n",
       "    }\n",
       "\n",
       "    .dataframe thead th {\n",
       "        text-align: right;\n",
       "    }\n",
       "</style>\n",
       "<table border=\"1\" class=\"dataframe\">\n",
       "  <thead>\n",
       "    <tr style=\"text-align: right;\">\n",
       "      <th></th>\n",
       "      <th>country</th>\n",
       "      <th>customer_id</th>\n",
       "    </tr>\n",
       "  </thead>\n",
       "  <tbody>\n",
       "    <tr>\n",
       "      <th>36</th>\n",
       "      <td>United Kingdom</td>\n",
       "      <td>7587</td>\n",
       "    </tr>\n",
       "    <tr>\n",
       "      <th>14</th>\n",
       "      <td>Germany</td>\n",
       "      <td>95</td>\n",
       "    </tr>\n",
       "    <tr>\n",
       "      <th>13</th>\n",
       "      <td>France</td>\n",
       "      <td>90</td>\n",
       "    </tr>\n",
       "    <tr>\n",
       "      <th>10</th>\n",
       "      <td>EIRE</td>\n",
       "      <td>44</td>\n",
       "    </tr>\n",
       "    <tr>\n",
       "      <th>31</th>\n",
       "      <td>Spain</td>\n",
       "      <td>31</td>\n",
       "    </tr>\n",
       "  </tbody>\n",
       "</table>\n",
       "</div>"
      ],
      "text/plain": [
       "           country  customer_id\n",
       "36  United Kingdom         7587\n",
       "14         Germany           95\n",
       "13          France           90\n",
       "10            EIRE           44\n",
       "31           Spain           31"
      ]
     },
     "execution_count": 20,
     "metadata": {},
     "output_type": "execute_result"
    }
   ],
   "source": [
    "# Qt customer por pais\n",
    "df1[['customer_id', 'country']].drop_duplicates().groupby( 'country' ).count().reset_index().sort_values( 'customer_id', ascending=False ).head()"
   ]
  },
  {
   "cell_type": "markdown",
   "id": "3e6ab600-751f-4faf-9a58-a6d5c53cf7c4",
   "metadata": {},
   "source": [
    "# <font color='red'>2.0. Filtragem de Variáveis</font>"
   ]
  },
  {
   "cell_type": "code",
   "execution_count": 21,
   "id": "fd4ce600-d446-48c3-8189-737de7e18bdb",
   "metadata": {
    "execution": {
     "iopub.execute_input": "2025-05-06T12:36:43.881292Z",
     "iopub.status.busy": "2025-05-06T12:36:43.880506Z",
     "iopub.status.idle": "2025-05-06T12:36:44.109804Z",
     "shell.execute_reply": "2025-05-06T12:36:44.107790Z",
     "shell.execute_reply.started": "2025-05-06T12:36:43.881211Z"
    }
   },
   "outputs": [],
   "source": [
    "df2 = df1.copy()"
   ]
  },
  {
   "cell_type": "code",
   "execution_count": 22,
   "id": "fe09aac3-4aa2-49b9-a9ab-3db461dc5b96",
   "metadata": {
    "execution": {
     "iopub.execute_input": "2025-05-06T12:36:44.111689Z",
     "iopub.status.busy": "2025-05-06T12:36:44.111217Z",
     "iopub.status.idle": "2025-05-06T12:36:44.268021Z",
     "shell.execute_reply": "2025-05-06T12:36:44.265690Z",
     "shell.execute_reply.started": "2025-05-06T12:36:44.111643Z"
    }
   },
   "outputs": [
    {
     "data": {
      "text/plain": [
       "invoice_no              object\n",
       "stock_code              object\n",
       "description             object\n",
       "quantity                 int64\n",
       "invoice_date    datetime64[ns]\n",
       "unit_price             float64\n",
       "country                 object\n",
       "customer_id              int64\n",
       "dtype: object"
      ]
     },
     "execution_count": 22,
     "metadata": {},
     "output_type": "execute_result"
    }
   ],
   "source": [
    "df2.dtypes"
   ]
  },
  {
   "cell_type": "code",
   "execution_count": 23,
   "id": "939d39a2-19ba-4d03-99e2-212b1b4d509d",
   "metadata": {
    "execution": {
     "iopub.execute_input": "2025-05-06T12:36:44.272458Z",
     "iopub.status.busy": "2025-05-06T12:36:44.270456Z",
     "iopub.status.idle": "2025-05-06T12:36:44.896788Z",
     "shell.execute_reply": "2025-05-06T12:36:44.894803Z",
     "shell.execute_reply.started": "2025-05-06T12:36:44.272343Z"
    }
   },
   "outputs": [],
   "source": [
    "# ==== Numerical Attributes ====\n",
    "# unit price > 0.0\n",
    "df2 = df2.loc[df2['unit_price'] > 0.04, :]\n",
    "\n",
    "# === Categorical Attributes ====\n",
    "# stock code != ['POST', 'D', 'DOT', 'M', 'S', 'AMAZONFEE', 'm', 'DCGSSBOY', 'DCGSSGIRL', 'PADS', 'B', 'CRUK']\n",
    "df2 = df2[~df2['stock_code'].isin(['POST', 'D', 'DOT', 'M', 'S', 'AMAZONFEE', 'm', 'DCGSSBOY', 'DCGSSGIRL', 'PADS', 'B', 'CRUK'] )]\n",
    "\n",
    "# description\n",
    "df2 = df2.drop( columns='description', axis=1 )\n",
    "\n",
    "# country - exclusão das linhas (RISCO)\n",
    "df2 = df2 [~df2['country'].isin ( ['European Community', 'Unspecified' ] ) ]\n",
    "\n",
    "#bad users\n",
    "df2 = df2[~df2['customer_id'].isin([16446]) ]\n",
    "\n",
    "\n",
    "# quantity - Negative number (devolução de produto) - Efetuado a separação do dataframe entre os produtos vendidos e os devolvidos\n",
    "df2_returns = df2.loc[df2['quantity'] < 0, :]\n",
    "df2_purchase = df2.loc[df2['quantity'] > 0, :]\n"
   ]
  },
  {
   "cell_type": "markdown",
   "id": "e355f534-1776-4f02-8b02-6363cc014184",
   "metadata": {},
   "source": [
    "# <font color='red'>3.0. Feature Engineering</font>"
   ]
  },
  {
   "cell_type": "code",
   "execution_count": 24,
   "id": "7776d35f-1b19-4a43-a15a-14878c23998c",
   "metadata": {
    "execution": {
     "iopub.execute_input": "2025-05-06T12:36:44.899052Z",
     "iopub.status.busy": "2025-05-06T12:36:44.898508Z",
     "iopub.status.idle": "2025-05-06T12:36:44.944377Z",
     "shell.execute_reply": "2025-05-06T12:36:44.942491Z",
     "shell.execute_reply.started": "2025-05-06T12:36:44.898999Z"
    }
   },
   "outputs": [],
   "source": [
    "df3 = df2.copy()"
   ]
  },
  {
   "cell_type": "markdown",
   "id": "60938911-01ee-4400-83b0-713f8afe8b87",
   "metadata": {},
   "source": [
    "## 3.1. Feature Creation"
   ]
  },
  {
   "cell_type": "code",
   "execution_count": 25,
   "id": "f9af6fe6-a217-4f69-9f97-93582e159080",
   "metadata": {
    "execution": {
     "iopub.execute_input": "2025-05-06T12:36:44.945907Z",
     "iopub.status.busy": "2025-05-06T12:36:44.945431Z",
     "iopub.status.idle": "2025-05-06T12:36:45.144873Z",
     "shell.execute_reply": "2025-05-06T12:36:45.142731Z",
     "shell.execute_reply.started": "2025-05-06T12:36:44.945856Z"
    }
   },
   "outputs": [],
   "source": [
    "# data reference\n",
    "df_ref = df3.drop( ['invoice_no', 'stock_code', 'quantity', 'invoice_date', 'unit_price', \n",
    "                    'country'], axis=1 ).drop_duplicates( ignore_index=True)"
   ]
  },
  {
   "cell_type": "markdown",
   "id": "4db7705a-3df1-4411-b31b-0e231da8ea16",
   "metadata": {},
   "source": [
    "### 3.1.1. Gross Revenue"
   ]
  },
  {
   "cell_type": "code",
   "execution_count": 26,
   "id": "1344ba8d-a324-42a3-ab71-05f85c07a99a",
   "metadata": {
    "execution": {
     "iopub.execute_input": "2025-05-06T12:36:45.148483Z",
     "iopub.status.busy": "2025-05-06T12:36:45.147476Z",
     "iopub.status.idle": "2025-05-06T12:36:45.780471Z",
     "shell.execute_reply": "2025-05-06T12:36:45.778072Z",
     "shell.execute_reply.started": "2025-05-06T12:36:45.148385Z"
    }
   },
   "outputs": [
    {
     "data": {
      "text/plain": [
       "customer_id       0\n",
       "gross_revenue    91\n",
       "dtype: int64"
      ]
     },
     "execution_count": 26,
     "metadata": {},
     "output_type": "execute_result"
    }
   ],
   "source": [
    "# Gross Revenue (Faturamento) quantity * price\n",
    "df2_purchase['gross_revenue'] = df2_purchase['quantity'] * df2_purchase['unit_price']\n",
    "\n",
    "# Monetary\n",
    "df_monetary = df2_purchase[['customer_id', 'gross_revenue']].groupby('customer_id').sum().reset_index()\n",
    "df_ref = pd.merge( df_ref, df_monetary, on='customer_id', how='left')\n",
    "df_ref.isna().sum()"
   ]
  },
  {
   "cell_type": "markdown",
   "id": "3151f8b5-63ff-4630-9ef9-44ab1886a107",
   "metadata": {},
   "source": [
    "### 3.1.2. Recency - Day from last purchase"
   ]
  },
  {
   "cell_type": "code",
   "execution_count": 27,
   "id": "8c8f4a3a-9b1f-46f7-b29c-6b1824f22324",
   "metadata": {
    "execution": {
     "iopub.execute_input": "2025-05-06T12:36:45.783222Z",
     "iopub.status.busy": "2025-05-06T12:36:45.782389Z",
     "iopub.status.idle": "2025-05-06T12:36:45.930178Z",
     "shell.execute_reply": "2025-05-06T12:36:45.927479Z",
     "shell.execute_reply.started": "2025-05-06T12:36:45.783139Z"
    }
   },
   "outputs": [
    {
     "data": {
      "text/plain": [
       "customer_id       0\n",
       "gross_revenue    91\n",
       "recency_days     91\n",
       "dtype: int64"
      ]
     },
     "execution_count": 27,
     "metadata": {},
     "output_type": "execute_result"
    }
   ],
   "source": [
    "# Recency - ultimo dia de compra\n",
    "df_recency = df2_purchase[['customer_id', 'invoice_date']].groupby('customer_id').max().reset_index()\n",
    "df_recency['recency_days'] = ( df2_purchase['invoice_date'].max() - df_recency['invoice_date'] ).dt.days\n",
    "df_recency = df_recency[['customer_id', 'recency_days']].copy()\n",
    "df_ref = pd.merge( df_ref, df_recency, on='customer_id', how='left')\n",
    "df_ref.isna().sum()"
   ]
  },
  {
   "cell_type": "markdown",
   "id": "17166439-74dc-4bdf-92c1-83a62b9d455a",
   "metadata": {},
   "source": [
    "### 3.1.3. Quantity of purchased"
   ]
  },
  {
   "cell_type": "code",
   "execution_count": 28,
   "id": "99f4b39e-8c7f-4d73-98e8-2e1e89778f5d",
   "metadata": {
    "execution": {
     "iopub.execute_input": "2025-05-06T12:36:45.940079Z",
     "iopub.status.busy": "2025-05-06T12:36:45.939345Z",
     "iopub.status.idle": "2025-05-06T12:36:46.212210Z",
     "shell.execute_reply": "2025-05-06T12:36:46.209750Z",
     "shell.execute_reply.started": "2025-05-06T12:36:45.940005Z"
    }
   },
   "outputs": [
    {
     "data": {
      "text/plain": [
       "customer_id       0\n",
       "gross_revenue    91\n",
       "recency_days     91\n",
       "qte_invoices     91\n",
       "dtype: int64"
      ]
     },
     "execution_count": 28,
     "metadata": {},
     "output_type": "execute_result"
    }
   ],
   "source": [
    "# Numero de produtos\n",
    "df_freq = (df2_purchase[['customer_id', 'invoice_no']].drop_duplicates()\n",
    "                                                      .groupby('customer_id')\n",
    "                                                      .count()\n",
    "                                                      .reset_index()\n",
    "                                                      .rename( columns={'invoice_no': 'qte_invoices'}))\n",
    "df_ref = pd.merge( df_ref, df_freq, on='customer_id', how='left')\n",
    "df_ref.isna().sum()"
   ]
  },
  {
   "cell_type": "markdown",
   "id": "f863cac2-aa3a-4de2-84b1-3ec044c2b64e",
   "metadata": {},
   "source": [
    "### 3.1.4. Quantity of items purchased"
   ]
  },
  {
   "cell_type": "code",
   "execution_count": 29,
   "id": "41b02b10-b53e-476f-b0c1-e39578b76623",
   "metadata": {
    "execution": {
     "iopub.execute_input": "2025-05-06T12:36:46.214293Z",
     "iopub.status.busy": "2025-05-06T12:36:46.213542Z",
     "iopub.status.idle": "2025-05-06T12:36:46.472367Z",
     "shell.execute_reply": "2025-05-06T12:36:46.469787Z",
     "shell.execute_reply.started": "2025-05-06T12:36:46.214183Z"
    }
   },
   "outputs": [
    {
     "data": {
      "text/plain": [
       "customer_id       0\n",
       "gross_revenue    91\n",
       "recency_days     91\n",
       "qte_invoices     91\n",
       "qte_items        91\n",
       "dtype: int64"
      ]
     },
     "execution_count": 29,
     "metadata": {},
     "output_type": "execute_result"
    }
   ],
   "source": [
    "# Numero de produtos\n",
    "df_freq_prod = (df2_purchase[['customer_id', 'quantity']].groupby('customer_id')\n",
    "                                                         .sum()\n",
    "                                                         .reset_index()\n",
    "                                                         .rename( columns={'quantity': 'qte_items'}) )\n",
    "df_ref = pd.merge( df_ref, df_freq_prod, on='customer_id', how='left')\n",
    "df_ref.isna().sum()"
   ]
  },
  {
   "cell_type": "markdown",
   "id": "4f876816-7adf-4c03-aea2-4432a682747b",
   "metadata": {},
   "source": [
    "### 3.1.5. Quantity of produtcs purchased"
   ]
  },
  {
   "cell_type": "code",
   "execution_count": 30,
   "id": "58e67fd3-304f-484d-8f07-b1ff3c346ed9",
   "metadata": {
    "execution": {
     "iopub.execute_input": "2025-05-06T12:36:46.476925Z",
     "iopub.status.busy": "2025-05-06T12:36:46.475748Z",
     "iopub.status.idle": "2025-05-06T12:36:46.757034Z",
     "shell.execute_reply": "2025-05-06T12:36:46.754912Z",
     "shell.execute_reply.started": "2025-05-06T12:36:46.476806Z"
    }
   },
   "outputs": [
    {
     "data": {
      "text/plain": [
       "customer_id       0\n",
       "gross_revenue    91\n",
       "recency_days     91\n",
       "qte_invoices     91\n",
       "qte_items        91\n",
       "qtde_produtcs    91\n",
       "dtype: int64"
      ]
     },
     "execution_count": 30,
     "metadata": {},
     "output_type": "execute_result"
    }
   ],
   "source": [
    "# Numero de produtos\n",
    "df_freq_prod = (df2_purchase[['customer_id', 'stock_code']].groupby('customer_id')\n",
    "                                                           .count()\n",
    "                                                           .reset_index()\n",
    "                                                           .rename( columns={'stock_code': 'qtde_produtcs'}) )\n",
    "df_ref = pd.merge( df_ref, df_freq_prod, on='customer_id', how='left')\n",
    "df_ref.isna().sum()"
   ]
  },
  {
   "cell_type": "markdown",
   "id": "4b26a892-12fe-4034-8440-29553dc9513e",
   "metadata": {},
   "source": [
    "### 3.1.6. Average Ticket Value"
   ]
  },
  {
   "cell_type": "code",
   "execution_count": 31,
   "id": "9ea9cbfd-1529-4ea1-b42b-6e0c4c5bb199",
   "metadata": {
    "execution": {
     "iopub.execute_input": "2025-05-06T12:36:46.759986Z",
     "iopub.status.busy": "2025-05-06T12:36:46.759063Z",
     "iopub.status.idle": "2025-05-06T12:36:47.146989Z",
     "shell.execute_reply": "2025-05-06T12:36:47.144144Z",
     "shell.execute_reply.started": "2025-05-06T12:36:46.759901Z"
    }
   },
   "outputs": [
    {
     "data": {
      "text/plain": [
       "customer_id       0\n",
       "gross_revenue    91\n",
       "recency_days     91\n",
       "qte_invoices     91\n",
       "qte_items        91\n",
       "qtde_produtcs    91\n",
       "avg_ticket       91\n",
       "dtype: int64"
      ]
     },
     "execution_count": 31,
     "metadata": {},
     "output_type": "execute_result"
    }
   ],
   "source": [
    "# AVG Ticket\n",
    "df_avg_ticket = df2_purchase[['customer_id', 'gross_revenue']].groupby('customer_id').mean().reset_index().rename( columns={'gross_revenue': 'avg_ticket'})\n",
    "df_ref = pd.merge( df_ref, df_avg_ticket, on='customer_id', how='left')\n",
    "df_ref.isna().sum()"
   ]
  },
  {
   "cell_type": "markdown",
   "id": "c80a4c4b-dd22-4ec2-8de1-0528911a4219",
   "metadata": {},
   "source": [
    "### 3.1.8. Frequency Purchase"
   ]
  },
  {
   "cell_type": "code",
   "execution_count": 32,
   "id": "42f71347-6042-4582-af46-a05e7e5c06e5",
   "metadata": {
    "execution": {
     "iopub.execute_input": "2025-05-06T12:36:47.152491Z",
     "iopub.status.busy": "2025-05-06T12:36:47.150167Z",
     "iopub.status.idle": "2025-05-06T12:36:49.717909Z",
     "shell.execute_reply": "2025-05-06T12:36:49.715166Z",
     "shell.execute_reply.started": "2025-05-06T12:36:47.152390Z"
    }
   },
   "outputs": [
    {
     "data": {
      "text/plain": [
       "customer_id       0\n",
       "gross_revenue    91\n",
       "recency_days     91\n",
       "qte_invoices     91\n",
       "qte_items        91\n",
       "qtde_produtcs    91\n",
       "avg_ticket       91\n",
       "frequency        91\n",
       "dtype: int64"
      ]
     },
     "execution_count": 32,
     "metadata": {},
     "output_type": "execute_result"
    }
   ],
   "source": [
    "df_aux = ( df2_purchase[['invoice_no', 'customer_id', 'invoice_date']].drop_duplicates()\n",
    "                                                             .groupby( 'customer_id')\n",
    "                                                             .agg( max_ = ('invoice_date', 'max'),\n",
    "                                                                   min_ = ('invoice_date', 'min'),\n",
    "                                                                   days_= ('invoice_date', lambda x: ( (x.max() - x.min() ).days ) +1 ),\n",
    "                                                                   buy_ = ( 'invoice_no', 'count')) ).reset_index()\n",
    "         \n",
    "# Frequency\n",
    "df_aux['frequency'] = df_aux[['buy_', 'days_']].apply( lambda x: x['buy_'] / x['days_'] if x['days_'] != 0 else 0, axis=1)\n",
    "\n",
    "# merge\n",
    "df_ref = pd.merge( df_ref, df_aux[['customer_id', 'frequency']], on='customer_id', how='left')\n",
    "df_ref.isna().sum()"
   ]
  },
  {
   "cell_type": "markdown",
   "id": "91b9cfd1-972f-4af5-974d-c33b95ef7a25",
   "metadata": {},
   "source": [
    "### 3.1.9. Devoluções"
   ]
  },
  {
   "cell_type": "code",
   "execution_count": 33,
   "id": "4c738306-79f5-4a42-913b-49556b5de00e",
   "metadata": {
    "execution": {
     "iopub.execute_input": "2025-05-06T12:36:49.720573Z",
     "iopub.status.busy": "2025-05-06T12:36:49.720016Z",
     "iopub.status.idle": "2025-05-06T12:36:49.757374Z",
     "shell.execute_reply": "2025-05-06T12:36:49.755922Z",
     "shell.execute_reply.started": "2025-05-06T12:36:49.720509Z"
    }
   },
   "outputs": [
    {
     "data": {
      "text/plain": [
       "customer_id       0\n",
       "gross_revenue    91\n",
       "recency_days     91\n",
       "qte_invoices     91\n",
       "qte_items        91\n",
       "qtde_produtcs    91\n",
       "avg_ticket       91\n",
       "frequency        91\n",
       "qtde_returns      0\n",
       "dtype: int64"
      ]
     },
     "execution_count": 33,
     "metadata": {},
     "output_type": "execute_result"
    }
   ],
   "source": [
    "# Number of Returns\n",
    "df_returns = df2_returns[['customer_id', 'quantity']].groupby( 'customer_id' ).sum().reset_index().rename( columns={'quantity':'qtde_returns'} )\n",
    "df_returns['qtde_returns'] = df_returns['qtde_returns'] * -1\n",
    "\n",
    "df_ref = pd.merge( df_ref, df_returns, how='left', on='customer_id' )\n",
    "df_ref.loc[df_ref['qtde_returns'].isna(), 'qtde_returns'] = 0\n",
    "\n",
    "df_ref.isna().sum()"
   ]
  },
  {
   "cell_type": "markdown",
   "id": "316503e9-4dea-42fd-825b-40d84f5685f9",
   "metadata": {},
   "source": [
    "### 3.1.10. Basket Size - Quantidade de Items por Cesta (Quantity)"
   ]
  },
  {
   "cell_type": "code",
   "execution_count": 34,
   "id": "f9780bd1-9e83-4d9e-8319-d55717c40cad",
   "metadata": {
    "execution": {
     "iopub.execute_input": "2025-05-06T12:36:49.760055Z",
     "iopub.status.busy": "2025-05-06T12:36:49.759315Z",
     "iopub.status.idle": "2025-05-06T12:36:50.329968Z",
     "shell.execute_reply": "2025-05-06T12:36:50.327120Z",
     "shell.execute_reply.started": "2025-05-06T12:36:49.759994Z"
    }
   },
   "outputs": [
    {
     "data": {
      "text/plain": [
       "customer_id         0\n",
       "gross_revenue      91\n",
       "recency_days       91\n",
       "qte_invoices       91\n",
       "qte_items          91\n",
       "qtde_produtcs      91\n",
       "avg_ticket         91\n",
       "frequency          91\n",
       "qtde_returns        0\n",
       "avg_basket_size    91\n",
       "dtype: int64"
      ]
     },
     "execution_count": 34,
     "metadata": {},
     "output_type": "execute_result"
    }
   ],
   "source": [
    "df_aux = ( df2_purchase.loc[:,['customer_id', 'invoice_no', 'quantity']].groupby( 'customer_id')\n",
    "                                                                        .agg( n_purchase=( 'invoice_no', 'nunique'),\n",
    "                                                                              n_products=( 'quantity', 'sum'))\n",
    "                                                                        .reset_index() )\n",
    "\n",
    "# calculation\n",
    "df_aux['avg_basket_size'] = df_aux['n_products'] / df_aux['n_purchase']\n",
    "\n",
    "# merge\n",
    "df_ref = pd.merge( df_ref, df_aux[['customer_id', 'avg_basket_size']], on='customer_id', how='left')\n",
    "df_ref.isna().sum()"
   ]
  },
  {
   "cell_type": "markdown",
   "id": "bb227509-ae2f-431d-8219-e7bce554429f",
   "metadata": {},
   "source": [
    "### 3.1.11. Unique Basket Size - Quantidade de Produtos distintos por compra"
   ]
  },
  {
   "cell_type": "code",
   "execution_count": 35,
   "id": "71259163-dc55-4f1b-9da2-9d0d109371f4",
   "metadata": {
    "execution": {
     "iopub.execute_input": "2025-05-06T12:36:50.334408Z",
     "iopub.status.busy": "2025-05-06T12:36:50.332614Z",
     "iopub.status.idle": "2025-05-06T12:36:50.832183Z",
     "shell.execute_reply": "2025-05-06T12:36:50.830096Z",
     "shell.execute_reply.started": "2025-05-06T12:36:50.334290Z"
    }
   },
   "outputs": [
    {
     "data": {
      "text/plain": [
       "customer_id                0\n",
       "gross_revenue             91\n",
       "recency_days              91\n",
       "qte_invoices              91\n",
       "qte_items                 91\n",
       "qtde_produtcs             91\n",
       "avg_ticket                91\n",
       "frequency                 91\n",
       "qtde_returns               0\n",
       "avg_basket_size           91\n",
       "avg_unique_basket_size    91\n",
       "dtype: int64"
      ]
     },
     "execution_count": 35,
     "metadata": {},
     "output_type": "execute_result"
    }
   ],
   "source": [
    "df_aux = ( df2_purchase.loc[:,['customer_id', 'invoice_no', 'stock_code']].groupby( 'customer_id')\n",
    "                                                                          .agg( n_purchase=( 'invoice_no', 'nunique'),\n",
    "                                                                                n_products=( 'stock_code', 'nunique'))\n",
    "                                                                          .reset_index() )\n",
    "\n",
    "# calculation\n",
    "df_aux['avg_unique_basket_size'] = df_aux['n_products'] / df_aux['n_purchase']\n",
    "\n",
    "# merge\n",
    "df_ref = pd.merge( df_ref, df_aux[['customer_id', 'avg_unique_basket_size']], on='customer_id', how='left')\n",
    "df_ref.isna().sum()"
   ]
  },
  {
   "cell_type": "markdown",
   "id": "1a1ec474-fb0a-49e7-981d-ccb1f508881f",
   "metadata": {},
   "source": [
    "# <font color='red'>4.0. EDA (Exploratory Data Analysis)</font>"
   ]
  },
  {
   "cell_type": "code",
   "execution_count": 36,
   "id": "41ab5b9d-4583-446f-a58e-ed2f469f4d06",
   "metadata": {
    "execution": {
     "iopub.execute_input": "2025-05-06T12:36:50.834387Z",
     "iopub.status.busy": "2025-05-06T12:36:50.833787Z",
     "iopub.status.idle": "2025-05-06T12:36:50.848310Z",
     "shell.execute_reply": "2025-05-06T12:36:50.845716Z",
     "shell.execute_reply.started": "2025-05-06T12:36:50.834316Z"
    }
   },
   "outputs": [],
   "source": [
    "df4 = df_ref.dropna()"
   ]
  },
  {
   "cell_type": "markdown",
   "id": "fc905b5d-f92a-42f2-8aed-954d0da4b766",
   "metadata": {},
   "source": [
    "## 4.3. Estudo do Espaço"
   ]
  },
  {
   "cell_type": "code",
   "execution_count": 37,
   "id": "dee18d5a-1af9-44cc-953c-da12be03c589",
   "metadata": {
    "execution": {
     "iopub.execute_input": "2025-05-06T12:36:50.854905Z",
     "iopub.status.busy": "2025-05-06T12:36:50.853854Z",
     "iopub.status.idle": "2025-05-06T12:36:51.064217Z",
     "shell.execute_reply": "2025-05-06T12:36:51.061574Z",
     "shell.execute_reply.started": "2025-05-06T12:36:50.854821Z"
    }
   },
   "outputs": [],
   "source": [
    "# Selected Dataset - (Ciclo 06)\n",
    "cols_selected = ['customer_id', 'gross_revenue', 'recency_days', 'qtde_produtcs', 'frequency', 'qtde_returns']\n",
    "df43 = df4[cols_selected].copy()"
   ]
  },
  {
   "cell_type": "code",
   "execution_count": 42,
   "id": "e73c16e1-a6bd-456e-b971-bbd4d5ab8bff",
   "metadata": {
    "execution": {
     "iopub.execute_input": "2025-05-06T12:57:03.141369Z",
     "iopub.status.busy": "2025-05-06T12:57:03.140525Z",
     "iopub.status.idle": "2025-05-06T12:57:03.238682Z",
     "shell.execute_reply": "2025-05-06T12:57:03.235536Z",
     "shell.execute_reply.started": "2025-05-06T12:57:03.141292Z"
    }
   },
   "outputs": [
    {
     "ename": "NameError",
     "evalue": "name 'AWS_ACCESS_KEY_ID' is not defined",
     "output_type": "error",
     "traceback": [
      "\u001b[0;31m---------------------------------------------------------------------------\u001b[0m",
      "\u001b[0;31mNameError\u001b[0m                                 Traceback (most recent call last)",
      "Cell \u001b[0;32mIn[42], line 7\u001b[0m\n\u001b[1;32m      4\u001b[0m pickle\u001b[38;5;241m.\u001b[39mdump( mm, \u001b[38;5;28mopen\u001b[39m( \u001b[38;5;124m'\u001b[39m\u001b[38;5;124m../src/features/gross_revenue_scaler.pkl\u001b[39m\u001b[38;5;124m'\u001b[39m, \u001b[38;5;124m'\u001b[39m\u001b[38;5;124mwb\u001b[39m\u001b[38;5;124m'\u001b[39m))\n\u001b[1;32m      6\u001b[0m \u001b[38;5;66;03m# save to T3\u001b[39;00m\n\u001b[0;32m----> 7\u001b[0m AWS_ACCESS_KEY_ID \u001b[38;5;241m=\u001b[39m os\u001b[38;5;241m.\u001b[39menviron\u001b[38;5;241m.\u001b[39mget( \u001b[43mAWS_ACCESS_KEY_ID\u001b[49m )\n\u001b[1;32m      8\u001b[0m AWS_SECRET_ACCESS_KEY \u001b[38;5;241m=\u001b[39m os\u001b[38;5;241m.\u001b[39menviron\u001b[38;5;241m.\u001b[39mget( AWS_SECRET_ACCESS_KEY )\n\u001b[1;32m      9\u001b[0m fs \u001b[38;5;241m=\u001b[39m s3fs\u001b[38;5;241m.\u001b[39mS3FileSystem( anon\u001b[38;5;241m=\u001b[39m\u001b[38;5;28;01mFalse\u001b[39;00m, key\u001b[38;5;241m=\u001b[39mAWS_ACCESS_KEY_ID, secret\u001b[38;5;241m=\u001b[39mAWS_SECRET_ACCESS_KEY )\n",
      "\u001b[0;31mNameError\u001b[0m: name 'AWS_ACCESS_KEY_ID' is not defined"
     ]
    }
   ],
   "source": [
    "mm = pp.MinMaxScaler()\n",
    "fs = s3fs.S3FileSystem( anon=False, key=AWS_ACCESS_KEY_ID, secret=AWS_SECRET_ACCESS_KEY )\n",
    "\n",
    "df43['gross_revenue'] = mm.fit_transform( df43[['gross_revenue']] )\n",
    "pickle.dump( mm, open( '../src/features/gross_revenue_scaler.pkl', 'wb'))\n",
    "pickle.dump( mm, fs.open( 's3://insiders-dataset-tuk/gross_revenue_scaler.pkl', 'wb' ))\n",
    "\n",
    "df43['recency_days'] = mm.fit_transform( df43[['recency_days']] )\n",
    "pickle.dump( mm, open( '../src/features/recency_days_scaler.pkl', 'wb'))\n",
    "pickle.dump( mm, fs.open( 's3://insiders-dataset-tuk/recency_days_scaler.pkl', 'wb' ))\n",
    "\n",
    "df43['qtde_produtcs'] = mm.fit_transform( df43[['qtde_produtcs']] )\n",
    "pickle.dump( mm, open( '../src/features/qtde_produtcs_scaler.pkl', 'wb'))\n",
    "pickle.dump( mm, fs.open( 's3://insiders-dataset-tuk/qtde_produtcs_scaler.pkl', 'wb' ))\n",
    "\n",
    "df43['frequency'] = mm.fit_transform( df43[['frequency']] )\n",
    "pickle.dump( mm, open( '../src/features/frequency_scaler.pkl', 'wb'))\n",
    "pickle.dump( mm, fs.open( 's3://insiders-dataset-tuk/frequency_scaler.pkl', 'wb' ))\n",
    "\n",
    "df43['qtde_returns'] = mm.fit_transform( df43[['qtde_returns']] )\n",
    "pickle.dump( mm, open( '../src/features/qtde_returns_scaler.pkl', 'wb'))\n",
    "pickle.dump( mm, fs.open( 's3://insiders-dataset-tuk/qtde_returns_scaler.pkl', 'wb' ))\n"
   ]
  },
  {
   "cell_type": "markdown",
   "id": "121610d4-f00f-401d-bbb7-fccdde386ec9",
   "metadata": {},
   "source": [
    "### 4.3.4. Tree-Based Embedding"
   ]
  },
  {
   "cell_type": "code",
   "execution_count": 94,
   "id": "70ebf70e-8ff0-4c34-9ca7-0456c4ea8e87",
   "metadata": {
    "execution": {
     "iopub.execute_input": "2025-05-05T14:51:12.192306Z",
     "iopub.status.busy": "2025-05-05T14:51:12.191608Z",
     "iopub.status.idle": "2025-05-05T14:51:18.940145Z",
     "shell.execute_reply": "2025-05-05T14:51:18.938913Z",
     "shell.execute_reply.started": "2025-05-05T14:51:12.192257Z"
    }
   },
   "outputs": [],
   "source": [
    "# training dataset\n",
    "X = df43.drop( columns=['customer_id', 'gross_revenue'], axis=1)\n",
    "y = df43['gross_revenue']\n",
    "\n",
    "# model definition\n",
    "rf_model = en.RandomForestRegressor(n_estimators=300, random_state=42)\n",
    "\n",
    "# model training\n",
    "rf_model.fit( X, y )\n",
    "\n",
    "pickle.dump( rf_model, open( '../src/models/rf_model.pkl', 'wb'))\n",
    "pickle.dump( rf_model, fs.open( 's3://insiders-dataset-tuk/rf_model.pkl', 'wb' ))\n",
    "\n",
    "# Leaf\n",
    "df_leaf = pd.DataFrame( rf_model.apply( X ) )\n",
    "\n",
    "# dataframe Leaf"
   ]
  },
  {
   "cell_type": "code",
   "execution_count": 96,
   "id": "76705b97-6ad1-44d2-9060-cedc413b93ea",
   "metadata": {
    "execution": {
     "iopub.execute_input": "2025-05-05T14:53:56.358095Z",
     "iopub.status.busy": "2025-05-05T14:53:56.357650Z",
     "iopub.status.idle": "2025-05-05T14:54:16.843309Z",
     "shell.execute_reply": "2025-05-05T14:54:16.842121Z",
     "shell.execute_reply.started": "2025-05-05T14:53:56.358058Z"
    }
   },
   "outputs": [],
   "source": [
    "# reduzindo a dimensionalidade\n",
    "reducer = umap.UMAP( random_state=42 )\n",
    "embedding = reducer.fit_transform( df_leaf )\n",
    "\n",
    "pickle.dump( reducer, open( '../src/features/umap_reducer.pkl', 'wb'))\n",
    "pickle.dump( reducer, fs.open( 's3://insiders-dataset-tuk/umap_reducer.pkl', 'wb' ))\n",
    "\n",
    "# embedding\n",
    "df_tree = pd.DataFrame()\n",
    "df_tree['embedding_x'] = embedding[:, 0]\n",
    "df_tree['embedding_y'] = embedding[:, 1]"
   ]
  },
  {
   "cell_type": "markdown",
   "id": "711471e6-d307-4ec2-a602-b9397fa75f04",
   "metadata": {},
   "source": [
    "# <font color='red'>7.0. Hyperparameter Fine-Tunning</font>"
   ]
  },
  {
   "cell_type": "code",
   "execution_count": 42,
   "id": "9e331d6b-a251-448c-9651-94238df08c86",
   "metadata": {
    "execution": {
     "iopub.execute_input": "2025-04-29T19:03:59.018378Z",
     "iopub.status.busy": "2025-04-29T19:03:59.018072Z",
     "iopub.status.idle": "2025-04-29T19:03:59.024786Z",
     "shell.execute_reply": "2025-04-29T19:03:59.023417Z",
     "shell.execute_reply.started": "2025-04-29T19:03:59.018341Z"
    }
   },
   "outputs": [],
   "source": [
    "X = df_tree.copy()"
   ]
  },
  {
   "cell_type": "markdown",
   "id": "0b2eb22c-ce13-46d1-aba2-05c70f6ea7ea",
   "metadata": {},
   "source": [
    "# <font color='red'>8.0. Model Training</font>"
   ]
  },
  {
   "cell_type": "markdown",
   "id": "f2a0daa4-6463-4f67-924d-576921044d64",
   "metadata": {},
   "source": [
    "## 8.2. GMM"
   ]
  },
  {
   "cell_type": "code",
   "execution_count": 43,
   "id": "eaf34422-2ca9-4119-8440-93afe152d028",
   "metadata": {
    "execution": {
     "iopub.execute_input": "2025-04-29T19:03:59.026223Z",
     "iopub.status.busy": "2025-04-29T19:03:59.025836Z",
     "iopub.status.idle": "2025-04-29T19:04:10.645436Z",
     "shell.execute_reply": "2025-04-29T19:04:10.644141Z",
     "shell.execute_reply.started": "2025-04-29T19:03:59.026188Z"
    }
   },
   "outputs": [],
   "source": [
    "k = 8\n",
    "# model definition\n",
    "gmm_model = mx.GaussianMixture( n_components=k, n_init=300, random_state=42 )\n",
    "\n",
    "# model training\n",
    "gmm_model.fit( X )\n",
    "\n",
    "# model predict\n",
    "labels = gmm_model.predict( X )"
   ]
  },
  {
   "cell_type": "markdown",
   "id": "20881d9e-230d-4a25-aa59-73e9dc2e1bda",
   "metadata": {},
   "source": [
    "### 8.1.0. Cluster Validation"
   ]
  },
  {
   "cell_type": "code",
   "execution_count": 44,
   "id": "94692501-c1d7-4ec4-966b-0d61f4967174",
   "metadata": {
    "execution": {
     "iopub.execute_input": "2025-04-29T19:04:10.647404Z",
     "iopub.status.busy": "2025-04-29T19:04:10.646971Z",
     "iopub.status.idle": "2025-04-29T19:04:10.807161Z",
     "shell.execute_reply": "2025-04-29T19:04:10.803990Z",
     "shell.execute_reply.started": "2025-04-29T19:04:10.647360Z"
    }
   },
   "outputs": [
    {
     "name": "stdout",
     "output_type": "stream",
     "text": [
      "SS value: 0.5811989307403564\n"
     ]
    }
   ],
   "source": [
    "print( f'SS value: {m.silhouette_score( X, labels, metric=\"euclidean\" )}' )"
   ]
  },
  {
   "cell_type": "markdown",
   "id": "edd39975-77df-4f14-8b8c-d7f05c3766fe",
   "metadata": {},
   "source": [
    "# <font color='red'>9.0. Cluster Analysis</font>"
   ]
  },
  {
   "cell_type": "code",
   "execution_count": 55,
   "id": "ac83d170-3c33-41c1-8d7a-c549fb0c0e0f",
   "metadata": {
    "execution": {
     "iopub.execute_input": "2025-04-29T19:14:02.447706Z",
     "iopub.status.busy": "2025-04-29T19:14:02.446977Z",
     "iopub.status.idle": "2025-04-29T19:14:02.468197Z",
     "shell.execute_reply": "2025-04-29T19:14:02.466204Z",
     "shell.execute_reply.started": "2025-04-29T19:14:02.447631Z"
    }
   },
   "outputs": [],
   "source": [
    "df92 = df4[cols_selected].copy()\n",
    "df92['cluster'] = labels\n",
    "df92.head()\n",
    "\n",
    "df92['recency_days'] = df92['recency_days'].astype( int )\n",
    "df92['qtde_produtcs'] = df92['qtde_produtcs'].astype( int )\n",
    "df92['qtde_returns'] = df92['qtde_returns'].astype( int )"
   ]
  },
  {
   "cell_type": "code",
   "execution_count": 56,
   "id": "9e378ffa-7ebf-4fc7-936d-fe56c0afb8c4",
   "metadata": {
    "execution": {
     "iopub.execute_input": "2025-04-29T19:14:04.136246Z",
     "iopub.status.busy": "2025-04-29T19:14:04.135811Z",
     "iopub.status.idle": "2025-04-29T19:14:04.191851Z",
     "shell.execute_reply": "2025-04-29T19:14:04.190088Z",
     "shell.execute_reply.started": "2025-04-29T19:14:04.136203Z"
    }
   },
   "outputs": [
    {
     "data": {
      "text/html": [
       "<div>\n",
       "<style scoped>\n",
       "    .dataframe tbody tr th:only-of-type {\n",
       "        vertical-align: middle;\n",
       "    }\n",
       "\n",
       "    .dataframe tbody tr th {\n",
       "        vertical-align: top;\n",
       "    }\n",
       "\n",
       "    .dataframe thead th {\n",
       "        text-align: right;\n",
       "    }\n",
       "</style>\n",
       "<table border=\"1\" class=\"dataframe\">\n",
       "  <thead>\n",
       "    <tr style=\"text-align: right;\">\n",
       "      <th></th>\n",
       "      <th>cluster</th>\n",
       "      <th>customer_id</th>\n",
       "      <th>perc_customer</th>\n",
       "      <th>gross_revenue</th>\n",
       "      <th>recency_days</th>\n",
       "      <th>qtde_produtcs</th>\n",
       "      <th>frequency</th>\n",
       "      <th>qtde_returns</th>\n",
       "    </tr>\n",
       "  </thead>\n",
       "  <tbody>\n",
       "    <tr>\n",
       "      <th>7</th>\n",
       "      <td>7</td>\n",
       "      <td>37</td>\n",
       "      <td>1.334295</td>\n",
       "      <td>65570.565405</td>\n",
       "      <td>16.108108</td>\n",
       "      <td>1118.216216</td>\n",
       "      <td>0.138570</td>\n",
       "      <td>1221.054054</td>\n",
       "    </tr>\n",
       "    <tr>\n",
       "      <th>6</th>\n",
       "      <td>6</td>\n",
       "      <td>250</td>\n",
       "      <td>9.015507</td>\n",
       "      <td>7811.725040</td>\n",
       "      <td>20.776000</td>\n",
       "      <td>338.240000</td>\n",
       "      <td>0.065782</td>\n",
       "      <td>81.432000</td>\n",
       "    </tr>\n",
       "    <tr>\n",
       "      <th>3</th>\n",
       "      <td>3</td>\n",
       "      <td>177</td>\n",
       "      <td>6.382979</td>\n",
       "      <td>3905.311808</td>\n",
       "      <td>27.050847</td>\n",
       "      <td>230.627119</td>\n",
       "      <td>0.036717</td>\n",
       "      <td>35.966102</td>\n",
       "    </tr>\n",
       "    <tr>\n",
       "      <th>0</th>\n",
       "      <td>0</td>\n",
       "      <td>361</td>\n",
       "      <td>13.018392</td>\n",
       "      <td>2603.055734</td>\n",
       "      <td>39.396122</td>\n",
       "      <td>163.249307</td>\n",
       "      <td>0.078228</td>\n",
       "      <td>23.152355</td>\n",
       "    </tr>\n",
       "    <tr>\n",
       "      <th>5</th>\n",
       "      <td>5</td>\n",
       "      <td>431</td>\n",
       "      <td>15.542734</td>\n",
       "      <td>1769.454269</td>\n",
       "      <td>36.143852</td>\n",
       "      <td>118.930394</td>\n",
       "      <td>0.032457</td>\n",
       "      <td>19.287703</td>\n",
       "    </tr>\n",
       "    <tr>\n",
       "      <th>2</th>\n",
       "      <td>2</td>\n",
       "      <td>202</td>\n",
       "      <td>7.284529</td>\n",
       "      <td>1266.267327</td>\n",
       "      <td>61.599010</td>\n",
       "      <td>85.272277</td>\n",
       "      <td>0.035871</td>\n",
       "      <td>7.698020</td>\n",
       "    </tr>\n",
       "    <tr>\n",
       "      <th>4</th>\n",
       "      <td>4</td>\n",
       "      <td>548</td>\n",
       "      <td>19.761991</td>\n",
       "      <td>898.286715</td>\n",
       "      <td>68.770073</td>\n",
       "      <td>64.804745</td>\n",
       "      <td>0.041638</td>\n",
       "      <td>8.202555</td>\n",
       "    </tr>\n",
       "    <tr>\n",
       "      <th>1</th>\n",
       "      <td>1</td>\n",
       "      <td>767</td>\n",
       "      <td>27.659574</td>\n",
       "      <td>480.256649</td>\n",
       "      <td>86.804433</td>\n",
       "      <td>39.327249</td>\n",
       "      <td>0.048856</td>\n",
       "      <td>3.074316</td>\n",
       "    </tr>\n",
       "  </tbody>\n",
       "</table>\n",
       "</div>"
      ],
      "text/plain": [
       "   cluster  customer_id  perc_customer  gross_revenue  recency_days  \\\n",
       "7        7           37       1.334295   65570.565405     16.108108   \n",
       "6        6          250       9.015507    7811.725040     20.776000   \n",
       "3        3          177       6.382979    3905.311808     27.050847   \n",
       "0        0          361      13.018392    2603.055734     39.396122   \n",
       "5        5          431      15.542734    1769.454269     36.143852   \n",
       "2        2          202       7.284529    1266.267327     61.599010   \n",
       "4        4          548      19.761991     898.286715     68.770073   \n",
       "1        1          767      27.659574     480.256649     86.804433   \n",
       "\n",
       "   qtde_produtcs  frequency  qtde_returns  \n",
       "7    1118.216216   0.138570   1221.054054  \n",
       "6     338.240000   0.065782     81.432000  \n",
       "3     230.627119   0.036717     35.966102  \n",
       "0     163.249307   0.078228     23.152355  \n",
       "5     118.930394   0.032457     19.287703  \n",
       "2      85.272277   0.035871      7.698020  \n",
       "4      64.804745   0.041638      8.202555  \n",
       "1      39.327249   0.048856      3.074316  "
      ]
     },
     "execution_count": 56,
     "metadata": {},
     "output_type": "execute_result"
    }
   ],
   "source": [
    "# Number of customer\n",
    "df_cluster = df92[['customer_id', 'cluster']].groupby( 'cluster' ).count().reset_index()\n",
    "df_cluster['perc_customer'] = 100 * ( df_cluster['customer_id'] / df_cluster['customer_id'].sum() )\n",
    "\n",
    "# AVG gross_revenue\n",
    "df_avg_gross_revenue = df92[['gross_revenue', 'cluster']].groupby ('cluster').mean().reset_index()\n",
    "df_cluster = pd.merge( df_cluster, df_avg_gross_revenue, how='inner', on='cluster')\n",
    "\n",
    "# AVG recency_days\n",
    "df_avg_recency_days = df92[['recency_days', 'cluster']].groupby ('cluster').mean().reset_index()\n",
    "df_cluster = pd.merge( df_cluster, df_avg_recency_days, how='inner', on='cluster')\n",
    "\n",
    "# AVG qtde_produtcs\n",
    "df_qtde_produtcs = df92[['qtde_produtcs', 'cluster']].groupby ('cluster').mean().reset_index()\n",
    "df_cluster = pd.merge( df_cluster, df_qtde_produtcs, how='inner', on='cluster')\n",
    "\n",
    "# AVG frequency\n",
    "df_frequency = df92[['frequency', 'cluster']].groupby ('cluster').mean().reset_index()\n",
    "df_cluster = pd.merge( df_cluster, df_frequency, how='inner', on='cluster')\n",
    "\n",
    "# AVG qtde_returns\n",
    "df_qtde_returns = df92[['qtde_returns', 'cluster']].groupby ('cluster').mean().reset_index()\n",
    "df_cluster = pd.merge( df_cluster, df_qtde_returns, how='inner', on='cluster')\n",
    "\n",
    "df_cluster.sort_values(by='gross_revenue', ascending=False)\n"
   ]
  },
  {
   "cell_type": "code",
   "execution_count": 57,
   "id": "539a3e34-a6c6-4513-b142-24cec4e36cf6",
   "metadata": {
    "execution": {
     "iopub.execute_input": "2025-04-29T19:14:05.620098Z",
     "iopub.status.busy": "2025-04-29T19:14:05.618269Z",
     "iopub.status.idle": "2025-04-29T19:14:05.628911Z",
     "shell.execute_reply": "2025-04-29T19:14:05.625881Z",
     "shell.execute_reply.started": "2025-04-29T19:14:05.619956Z"
    }
   },
   "outputs": [],
   "source": [
    "# 7 Cluster Insiders\n",
    "# 6 Cluster 2 melhor\n",
    "# 3 Cluster 3 melhor\n",
    "# 0 Cluster 4 melhor\n",
    "# 5 Cluster 5 melhor\n",
    "# 2 Cluster 6 melhor\n",
    "# 4 Cluster 7 melhor\n",
    "# 1 Cluster pior"
   ]
  },
  {
   "cell_type": "markdown",
   "id": "3987291c-9226-4b21-bbd5-41c104357c70",
   "metadata": {},
   "source": [
    "### Cluster 01:\n",
    "    - Número de customers: 464 (16% do custormers)\n",
    "    - Faturamento médio: $10.927,33\n",
    "    - Recência média: 23 dias\n",
    "    - Média de produtos comprados: 359 produtos\n",
    "    - Frequência de produtos comprados: 0.06 compras/dia\n",
    "    - Devoluções em média: 155 produtos\n",
    "\n",
    "### Cluster 02:\n",
    "    - Número de customers: xxx (xx% do custormers)\n",
    "    - Faturamento médio: $xxxxx\n",
    "    - Recência média: xx dias\n",
    "    - Frequência de produtos comprados: x.xx compras/dia\n",
    "    - Devoluções em média: xxx produtos\n",
    "\n",
    "### Cluster 03:\n",
    "    - Número de customers: xxx (xx% do custormers)\n",
    "    - Faturamento médio: $xxxxx\n",
    "    - Recência média: xx dias\n",
    "    - Frequência de produtos comprados: x.xx compras/dia\n",
    "    - Devoluções em média: xxx produtos\n",
    "\n",
    "### Cluster 04:\n",
    "    - Número de customers: xxx (xx% do custormers)\n",
    "    - Faturamento médio: $xxxxx\n",
    "    - Recência média: xx dias\n",
    "    - Frequência de produtos comprados: x.xx compras/dia\n",
    "    - Devoluções em média: xxx produtos\n",
    "\n",
    "### Cluster 05:\n",
    "    - Número de customers: xxx (xx% do custormers)\n",
    "    - Faturamento médio: $xxxxx\n",
    "    - Recência média: xx dias\n",
    "    - Frequência de produtos comprados: x.xx compras/dia\n",
    "    - Devoluções em média: xxx produtos\n",
    "\n",
    "### Cluster 06:\n",
    "    - Número de customers: xxx (xx% do custormers)\n",
    "    - Faturamento médio: $xxxxx\n",
    "    - Recência média: xx dias\n",
    "    - Frequência de produtos comprados: x.xx compras/dia\n",
    "    - Devoluções em média: xxx produtos\n",
    "\n",
    "### Cluster 07:\n",
    "    - Número de customers: xxx (xx% do custormers)\n",
    "    - Faturamento médio: $xxxxx\n",
    "    - Recência média: xx dias\n",
    "    - Frequência de produtos comprados: x.xx compras/dia\n",
    "    - Devoluções em média: xxx produtos\n",
    "\n",
    "### Cluster 08:\n",
    "    - Número de customers: xxx (xx% do custormers)\n",
    "    - Faturamento médio: $xxxxx\n",
    "    - Recência média: xx dias\n",
    "    - Frequência de produtos comprados: x.xx compras/dia\n",
    "    - Devoluções em média: xxx produtos"
   ]
  },
  {
   "cell_type": "markdown",
   "id": "4c60a502-5778-4445-8a6f-c62fd0eab98c",
   "metadata": {},
   "source": [
    "# <font color='red'>11.0. Deploy To Production</font>"
   ]
  },
  {
   "cell_type": "code",
   "execution_count": 58,
   "id": "c9bdbbd8-9767-456a-8ef4-21339b14a578",
   "metadata": {
    "execution": {
     "iopub.execute_input": "2025-04-29T19:14:07.149519Z",
     "iopub.status.busy": "2025-04-29T19:14:07.148833Z",
     "iopub.status.idle": "2025-04-29T19:14:07.176666Z",
     "shell.execute_reply": "2025-04-29T19:14:07.175072Z",
     "shell.execute_reply.started": "2025-04-29T19:14:07.149446Z"
    }
   },
   "outputs": [
    {
     "data": {
      "text/html": [
       "<div>\n",
       "<style scoped>\n",
       "    .dataframe tbody tr th:only-of-type {\n",
       "        vertical-align: middle;\n",
       "    }\n",
       "\n",
       "    .dataframe tbody tr th {\n",
       "        vertical-align: top;\n",
       "    }\n",
       "\n",
       "    .dataframe thead th {\n",
       "        text-align: right;\n",
       "    }\n",
       "</style>\n",
       "<table border=\"1\" class=\"dataframe\">\n",
       "  <thead>\n",
       "    <tr style=\"text-align: right;\">\n",
       "      <th></th>\n",
       "      <th>customer_id</th>\n",
       "      <th>gross_revenue</th>\n",
       "      <th>recency_days</th>\n",
       "      <th>qtde_produtcs</th>\n",
       "      <th>frequency</th>\n",
       "      <th>qtde_returns</th>\n",
       "      <th>cluster</th>\n",
       "    </tr>\n",
       "  </thead>\n",
       "  <tbody>\n",
       "    <tr>\n",
       "      <th>0</th>\n",
       "      <td>17850</td>\n",
       "      <td>5391.21</td>\n",
       "      <td>372</td>\n",
       "      <td>297</td>\n",
       "      <td>17.000000</td>\n",
       "      <td>40</td>\n",
       "      <td>0</td>\n",
       "    </tr>\n",
       "    <tr>\n",
       "      <th>1</th>\n",
       "      <td>13047</td>\n",
       "      <td>3232.59</td>\n",
       "      <td>56</td>\n",
       "      <td>171</td>\n",
       "      <td>0.028302</td>\n",
       "      <td>35</td>\n",
       "      <td>0</td>\n",
       "    </tr>\n",
       "    <tr>\n",
       "      <th>2</th>\n",
       "      <td>12583</td>\n",
       "      <td>6705.38</td>\n",
       "      <td>2</td>\n",
       "      <td>232</td>\n",
       "      <td>0.040323</td>\n",
       "      <td>50</td>\n",
       "      <td>6</td>\n",
       "    </tr>\n",
       "    <tr>\n",
       "      <th>3</th>\n",
       "      <td>13748</td>\n",
       "      <td>948.25</td>\n",
       "      <td>95</td>\n",
       "      <td>28</td>\n",
       "      <td>0.017921</td>\n",
       "      <td>0</td>\n",
       "      <td>4</td>\n",
       "    </tr>\n",
       "    <tr>\n",
       "      <th>4</th>\n",
       "      <td>15100</td>\n",
       "      <td>876.00</td>\n",
       "      <td>333</td>\n",
       "      <td>3</td>\n",
       "      <td>0.073171</td>\n",
       "      <td>22</td>\n",
       "      <td>1</td>\n",
       "    </tr>\n",
       "  </tbody>\n",
       "</table>\n",
       "</div>"
      ],
      "text/plain": [
       "   customer_id  gross_revenue  recency_days  qtde_produtcs  frequency  \\\n",
       "0        17850        5391.21           372            297  17.000000   \n",
       "1        13047        3232.59            56            171   0.028302   \n",
       "2        12583        6705.38             2            232   0.040323   \n",
       "3        13748         948.25            95             28   0.017921   \n",
       "4        15100         876.00           333              3   0.073171   \n",
       "\n",
       "   qtde_returns  cluster  \n",
       "0            40        0  \n",
       "1            35        0  \n",
       "2            50        6  \n",
       "3             0        4  \n",
       "4            22        1  "
      ]
     },
     "execution_count": 58,
     "metadata": {},
     "output_type": "execute_result"
    }
   ],
   "source": [
    "df92.head()"
   ]
  },
  {
   "cell_type": "code",
   "execution_count": 59,
   "id": "1b30013f-e0ac-4f0a-a1f7-fc34d1d4fb72",
   "metadata": {
    "execution": {
     "iopub.execute_input": "2025-04-29T19:14:08.488248Z",
     "iopub.status.busy": "2025-04-29T19:14:08.487424Z",
     "iopub.status.idle": "2025-04-29T19:14:08.507537Z",
     "shell.execute_reply": "2025-04-29T19:14:08.504896Z",
     "shell.execute_reply.started": "2025-04-29T19:14:08.488165Z"
    }
   },
   "outputs": [
    {
     "data": {
      "text/plain": [
       "customer_id        int64\n",
       "gross_revenue    float64\n",
       "recency_days       int64\n",
       "qtde_produtcs      int64\n",
       "frequency        float64\n",
       "qtde_returns       int64\n",
       "cluster            int64\n",
       "dtype: object"
      ]
     },
     "execution_count": 59,
     "metadata": {},
     "output_type": "execute_result"
    }
   ],
   "source": [
    "df92.dtypes"
   ]
  },
  {
   "cell_type": "markdown",
   "id": "c4ac564d-95dc-4a43-ac18-e3e0dccdb1ec",
   "metadata": {},
   "source": [
    "## 11.1. Insert into SQLITE"
   ]
  },
  {
   "cell_type": "code",
   "execution_count": 67,
   "id": "f23b8226-06b6-421b-a143-87f3f1bf9227",
   "metadata": {
    "execution": {
     "iopub.execute_input": "2025-04-29T20:25:15.204249Z",
     "iopub.status.busy": "2025-04-29T20:25:15.203824Z",
     "iopub.status.idle": "2025-04-29T20:25:15.211367Z",
     "shell.execute_reply": "2025-04-29T20:25:15.209464Z",
     "shell.execute_reply.started": "2025-04-29T20:25:15.204205Z"
    }
   },
   "outputs": [],
   "source": [
    "import sqlite3\n",
    "from sqlalchemy import create_engine"
   ]
  },
  {
   "cell_type": "code",
   "execution_count": 70,
   "id": "7118754a-1a30-4d66-be6b-a1f8b8dc291b",
   "metadata": {
    "execution": {
     "iopub.execute_input": "2025-04-29T20:28:26.128781Z",
     "iopub.status.busy": "2025-04-29T20:28:26.127996Z",
     "iopub.status.idle": "2025-04-29T20:28:26.140612Z",
     "shell.execute_reply": "2025-04-29T20:28:26.138089Z",
     "shell.execute_reply.started": "2025-04-29T20:28:26.128704Z"
    }
   },
   "outputs": [],
   "source": [
    "## create table\n",
    "#query_create_table_insiders = '''\n",
    "#    CREATE TABLE insiders(\n",
    "#        customer_id      INTEGER,\n",
    "#        gross_revenue    REAL,\n",
    "#        recency_days     INTEGER,\n",
    "#        qtde_produtcs    INTEGER,\n",
    "#        frequency        REAL,\n",
    "#        qtde_returns     INTEGER,\n",
    "#        cluster          INTEGER        \n",
    "#    )\n",
    "#'''\n",
    "#\n",
    "#conn = sqlite3.connect( 'insiders_db.sqlite' )\n",
    "#conn.execute( query_create_table_insiders )\n",
    "#conn.commit()\n",
    "#conn.close()\n",
    "\n",
    "# insert data\n",
    "conn = create_engine( 'sqlite:///insiders_db.sqlite' )\n",
    "#df92.to_sql( 'insiders', con=conn, if_exists='append', index=False )\n",
    "\n",
    "# select data"
   ]
  },
  {
   "cell_type": "code",
   "execution_count": 71,
   "id": "0622eeef-78a9-4a91-9360-a59474ed7efe",
   "metadata": {
    "execution": {
     "iopub.execute_input": "2025-04-29T20:28:34.398029Z",
     "iopub.status.busy": "2025-04-29T20:28:34.396900Z",
     "iopub.status.idle": "2025-04-29T20:28:34.439235Z",
     "shell.execute_reply": "2025-04-29T20:28:34.436972Z",
     "shell.execute_reply.started": "2025-04-29T20:28:34.397936Z"
    }
   },
   "outputs": [],
   "source": [
    "# consulta no banco de dados\n",
    "query = '''\n",
    "    SELECT * FROM insiders\n",
    "'''\n",
    "\n",
    "df = pd.read_sql_query( query, conn)"
   ]
  },
  {
   "cell_type": "code",
   "execution_count": 72,
   "id": "f14f84e6-bf7f-4093-bc7f-dba8b2fdc444",
   "metadata": {
    "execution": {
     "iopub.execute_input": "2025-04-29T20:28:44.270518Z",
     "iopub.status.busy": "2025-04-29T20:28:44.269674Z",
     "iopub.status.idle": "2025-04-29T20:28:44.301598Z",
     "shell.execute_reply": "2025-04-29T20:28:44.300231Z",
     "shell.execute_reply.started": "2025-04-29T20:28:44.270431Z"
    }
   },
   "outputs": [
    {
     "data": {
      "text/html": [
       "<div>\n",
       "<style scoped>\n",
       "    .dataframe tbody tr th:only-of-type {\n",
       "        vertical-align: middle;\n",
       "    }\n",
       "\n",
       "    .dataframe tbody tr th {\n",
       "        vertical-align: top;\n",
       "    }\n",
       "\n",
       "    .dataframe thead th {\n",
       "        text-align: right;\n",
       "    }\n",
       "</style>\n",
       "<table border=\"1\" class=\"dataframe\">\n",
       "  <thead>\n",
       "    <tr style=\"text-align: right;\">\n",
       "      <th></th>\n",
       "      <th>customer_id</th>\n",
       "      <th>gross_revenue</th>\n",
       "      <th>recency_days</th>\n",
       "      <th>qtde_produtcs</th>\n",
       "      <th>frequency</th>\n",
       "      <th>qtde_returns</th>\n",
       "      <th>cluster</th>\n",
       "    </tr>\n",
       "  </thead>\n",
       "  <tbody>\n",
       "    <tr>\n",
       "      <th>0</th>\n",
       "      <td>17850</td>\n",
       "      <td>5391.21</td>\n",
       "      <td>372</td>\n",
       "      <td>297</td>\n",
       "      <td>17.000000</td>\n",
       "      <td>40</td>\n",
       "      <td>0</td>\n",
       "    </tr>\n",
       "    <tr>\n",
       "      <th>1</th>\n",
       "      <td>13047</td>\n",
       "      <td>3232.59</td>\n",
       "      <td>56</td>\n",
       "      <td>171</td>\n",
       "      <td>0.028302</td>\n",
       "      <td>35</td>\n",
       "      <td>0</td>\n",
       "    </tr>\n",
       "    <tr>\n",
       "      <th>2</th>\n",
       "      <td>12583</td>\n",
       "      <td>6705.38</td>\n",
       "      <td>2</td>\n",
       "      <td>232</td>\n",
       "      <td>0.040323</td>\n",
       "      <td>50</td>\n",
       "      <td>6</td>\n",
       "    </tr>\n",
       "    <tr>\n",
       "      <th>3</th>\n",
       "      <td>13748</td>\n",
       "      <td>948.25</td>\n",
       "      <td>95</td>\n",
       "      <td>28</td>\n",
       "      <td>0.017921</td>\n",
       "      <td>0</td>\n",
       "      <td>4</td>\n",
       "    </tr>\n",
       "    <tr>\n",
       "      <th>4</th>\n",
       "      <td>15100</td>\n",
       "      <td>876.00</td>\n",
       "      <td>333</td>\n",
       "      <td>3</td>\n",
       "      <td>0.073171</td>\n",
       "      <td>22</td>\n",
       "      <td>1</td>\n",
       "    </tr>\n",
       "  </tbody>\n",
       "</table>\n",
       "</div>"
      ],
      "text/plain": [
       "   customer_id  gross_revenue  recency_days  qtde_produtcs  frequency  \\\n",
       "0        17850        5391.21           372            297  17.000000   \n",
       "1        13047        3232.59            56            171   0.028302   \n",
       "2        12583        6705.38             2            232   0.040323   \n",
       "3        13748         948.25            95             28   0.017921   \n",
       "4        15100         876.00           333              3   0.073171   \n",
       "\n",
       "   qtde_returns  cluster  \n",
       "0            40        0  \n",
       "1            35        0  \n",
       "2            50        6  \n",
       "3             0        4  \n",
       "4            22        1  "
      ]
     },
     "execution_count": 72,
     "metadata": {},
     "output_type": "execute_result"
    }
   ],
   "source": [
    "df.head()"
   ]
  },
  {
   "cell_type": "code",
   "execution_count": 73,
   "id": "df02c32f-f7ad-48df-95c6-02a989a8dd2e",
   "metadata": {
    "execution": {
     "iopub.execute_input": "2025-04-29T20:29:03.558585Z",
     "iopub.status.busy": "2025-04-29T20:29:03.557690Z",
     "iopub.status.idle": "2025-04-29T20:29:03.574044Z",
     "shell.execute_reply": "2025-04-29T20:29:03.571498Z",
     "shell.execute_reply.started": "2025-04-29T20:29:03.558470Z"
    }
   },
   "outputs": [
    {
     "data": {
      "text/plain": [
       "(2773, 7)"
      ]
     },
     "execution_count": 73,
     "metadata": {},
     "output_type": "execute_result"
    }
   ],
   "source": [
    "df.shape"
   ]
  },
  {
   "cell_type": "code",
   "execution_count": null,
   "id": "0e4ffecb-5923-418a-b980-99a8581fd857",
   "metadata": {},
   "outputs": [],
   "source": []
  },
  {
   "cell_type": "code",
   "execution_count": null,
   "id": "c960beca-57a4-446b-bc7e-c9b0a9d3c8f9",
   "metadata": {},
   "outputs": [],
   "source": []
  },
  {
   "cell_type": "code",
   "execution_count": null,
   "id": "9d76e48f-17f9-411c-af19-14110546e13c",
   "metadata": {},
   "outputs": [],
   "source": []
  },
  {
   "cell_type": "code",
   "execution_count": null,
   "id": "40897467-1604-4736-90ea-37a6a7197705",
   "metadata": {},
   "outputs": [],
   "source": []
  },
  {
   "cell_type": "code",
   "execution_count": null,
   "id": "842d3c11-f1f6-40d1-9cf9-76193d11cd6d",
   "metadata": {},
   "outputs": [],
   "source": []
  },
  {
   "cell_type": "code",
   "execution_count": null,
   "id": "80c4c001-4710-413c-8ab7-67e404ca89e5",
   "metadata": {},
   "outputs": [],
   "source": []
  },
  {
   "cell_type": "code",
   "execution_count": null,
   "id": "9dbc803c-e94f-4768-9a7b-5ff64cb81fc1",
   "metadata": {},
   "outputs": [],
   "source": []
  },
  {
   "cell_type": "code",
   "execution_count": null,
   "id": "01c0ee49-d40b-464b-a6db-a25942a0eb5e",
   "metadata": {},
   "outputs": [],
   "source": []
  },
  {
   "cell_type": "code",
   "execution_count": null,
   "id": "f8d5f0bf-c114-4a91-a786-95255d3ac6d0",
   "metadata": {},
   "outputs": [],
   "source": []
  }
 ],
 "metadata": {
  "kernelspec": {
   "display_name": "Python 3 (ipykernel)",
   "language": "python",
   "name": "python3"
  },
  "language_info": {
   "codemirror_mode": {
    "name": "ipython",
    "version": 3
   },
   "file_extension": ".py",
   "mimetype": "text/x-python",
   "name": "python",
   "nbconvert_exporter": "python",
   "pygments_lexer": "ipython3",
   "version": "3.8.0"
  }
 },
 "nbformat": 4,
 "nbformat_minor": 5
}
