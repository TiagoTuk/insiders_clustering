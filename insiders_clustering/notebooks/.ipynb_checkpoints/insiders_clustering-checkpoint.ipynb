{
 "cells": [
  {
   "cell_type": "markdown",
   "id": "92c60726-9342-42bc-9344-a94a441e6d6f",
   "metadata": {},
   "source": [
    "# 0.0 IMPORTS"
   ]
  },
  {
   "cell_type": "code",
   "execution_count": 3,
   "id": "6a65e4dd-17c5-4402-a1d6-fe9759bdf4db",
   "metadata": {
    "execution": {
     "iopub.execute_input": "2025-03-27T14:04:20.799744Z",
     "iopub.status.busy": "2025-03-27T14:04:20.798804Z",
     "iopub.status.idle": "2025-03-27T14:04:21.221385Z",
     "shell.execute_reply": "2025-03-27T14:04:21.220083Z",
     "shell.execute_reply.started": "2025-03-27T14:04:20.799641Z"
    }
   },
   "outputs": [],
   "source": [
    "import pandas as pd"
   ]
  }
 ],
 "metadata": {
  "kernelspec": {
   "display_name": "Python 3 (ipykernel)",
   "language": "python",
   "name": "python3"
  },
  "language_info": {
   "codemirror_mode": {
    "name": "ipython",
    "version": 3
   },
   "file_extension": ".py",
   "mimetype": "text/x-python",
   "name": "python",
   "nbconvert_exporter": "python",
   "pygments_lexer": "ipython3",
   "version": "3.8.0"
  }
 },
 "nbformat": 4,
 "nbformat_minor": 5
}
