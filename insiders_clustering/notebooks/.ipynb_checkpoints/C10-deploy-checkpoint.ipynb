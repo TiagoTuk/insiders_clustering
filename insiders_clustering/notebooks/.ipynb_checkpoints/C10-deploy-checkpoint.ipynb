{
 "cells": [
  {
   "cell_type": "markdown",
   "id": "906e9b0f-ea94-4b81-8315-622a529f778b",
   "metadata": {},
   "source": [
    "# High Value Customer Identification (Insiders)"
   ]
  },
  {
   "cell_type": "markdown",
   "id": "20a830b5-fb85-463d-927e-dd56591cea73",
   "metadata": {},
   "source": [
    "# <font color='blue'>0.0. Imports</font>"
   ]
  },
  {
   "cell_type": "code",
   "execution_count": 1,
   "id": "7e52605b-5b36-4b7a-ad74-60e5cc431bbc",
   "metadata": {
    "execution": {
     "iopub.execute_input": "2025-05-01T12:03:25.921078Z",
     "iopub.status.busy": "2025-05-01T12:03:25.919299Z",
     "iopub.status.idle": "2025-05-01T12:03:49.519518Z",
     "shell.execute_reply": "2025-05-01T12:03:49.517678Z",
     "shell.execute_reply.started": "2025-05-01T12:03:25.920974Z"
    }
   },
   "outputs": [],
   "source": [
    "import re\n",
    "import numpy    as np\n",
    "import pandas   as pd\n",
    "import seaborn  as sns\n",
    "import inflection\n",
    "import warnings\n",
    "\n",
    "import umap.umap_ as umap\n",
    "\n",
    "from matplotlib import pyplot as plt\n",
    "from plotly import express as px\n",
    "\n",
    "from sklearn import cluster as c\n",
    "from sklearn import metrics as m\n",
    "from sklearn import preprocessing as pp\n",
    "from sklearn import decomposition as dd\n",
    "from sklearn import ensemble as en\n",
    "from sklearn import mixture as mx\n",
    "from sklearn.manifold import TSNE\n",
    "from sklearn.neighbors import NearestNeighbors\n",
    "\n",
    "from scipy.cluster import hierarchy as hc\n",
    "\n",
    "from sqlalchemy import create_engine, text"
   ]
  },
  {
   "cell_type": "markdown",
   "id": "df43c46b-04dd-4cf6-a540-3b385edc7757",
   "metadata": {},
   "source": [
    "## <font color='blue'>0.2. Load DataSet</font>"
   ]
  },
  {
   "cell_type": "code",
   "execution_count": 63,
   "id": "686c9b37-f045-494a-bad6-090745ee62be",
   "metadata": {
    "execution": {
     "iopub.execute_input": "2025-05-01T12:38:44.507045Z",
     "iopub.status.busy": "2025-05-01T12:38:44.506040Z",
     "iopub.status.idle": "2025-05-01T12:38:45.205738Z",
     "shell.execute_reply": "2025-05-01T12:38:45.204783Z",
     "shell.execute_reply.started": "2025-05-01T12:38:44.506908Z"
    }
   },
   "outputs": [],
   "source": [
    "# load data\n",
    "path = '/home/tiago/Documentos/repos/insiders_clustering/insiders_clustering/'\n",
    "df_raw = pd.read_csv( path + 'data/raw/Ecommerce.csv', encoding='unicode_escape')\n",
    "\n",
    "# drop extra column\n",
    "df_raw = df_raw.drop( columns=['Unnamed: 8'], axis=1)"
   ]
  },
  {
   "cell_type": "markdown",
   "id": "674e86fc-0f1a-44bd-9255-bfa8b6a2637e",
   "metadata": {},
   "source": [
    "# <font color='red'>1.0. Descrição dos dados</font>"
   ]
  },
  {
   "cell_type": "code",
   "execution_count": 3,
   "id": "4db449b3-5389-432b-9442-e765780e7507",
   "metadata": {
    "execution": {
     "iopub.execute_input": "2025-05-01T12:03:51.238865Z",
     "iopub.status.busy": "2025-05-01T12:03:51.238575Z",
     "iopub.status.idle": "2025-05-01T12:03:51.268867Z",
     "shell.execute_reply": "2025-05-01T12:03:51.267039Z",
     "shell.execute_reply.started": "2025-05-01T12:03:51.238834Z"
    }
   },
   "outputs": [],
   "source": [
    "df1 = df_raw.copy()"
   ]
  },
  {
   "cell_type": "markdown",
   "id": "f34e98dc-1dec-4653-a0a1-a49079623328",
   "metadata": {},
   "source": [
    "## 1.1. Rename Columns"
   ]
  },
  {
   "cell_type": "code",
   "execution_count": 4,
   "id": "b421c643-4169-40d1-8134-902a8254f5e8",
   "metadata": {
    "execution": {
     "iopub.execute_input": "2025-05-01T12:03:51.273399Z",
     "iopub.status.busy": "2025-05-01T12:03:51.272894Z",
     "iopub.status.idle": "2025-05-01T12:03:51.780500Z",
     "shell.execute_reply": "2025-05-01T12:03:51.778854Z",
     "shell.execute_reply.started": "2025-05-01T12:03:51.273358Z"
    }
   },
   "outputs": [
    {
     "data": {
      "text/plain": [
       "Index(['InvoiceNo', 'StockCode', 'Description', 'Quantity', 'InvoiceDate',\n",
       "       'UnitPrice', 'CustomerID', 'Country'],\n",
       "      dtype='object')"
      ]
     },
     "execution_count": 4,
     "metadata": {},
     "output_type": "execute_result"
    }
   ],
   "source": [
    "df1.columns"
   ]
  },
  {
   "cell_type": "code",
   "execution_count": 5,
   "id": "bbe10a59-7a99-4507-9544-8d3bb76e1612",
   "metadata": {
    "execution": {
     "iopub.execute_input": "2025-05-01T12:03:51.782847Z",
     "iopub.status.busy": "2025-05-01T12:03:51.782165Z",
     "iopub.status.idle": "2025-05-01T12:03:52.000239Z",
     "shell.execute_reply": "2025-05-01T12:03:51.997633Z",
     "shell.execute_reply.started": "2025-05-01T12:03:51.782766Z"
    }
   },
   "outputs": [],
   "source": [
    "cols_old = ['InvoiceNo', 'StockCode', 'Description', 'Quantity', 'InvoiceDate',\n",
    "       'UnitPrice', 'CustomerID', 'Country']\n",
    "\n",
    "snakecase = lambda x: inflection.underscore( x )\n",
    "\n",
    "cols_new = list( map (snakecase, cols_old) )\n",
    "\n",
    "#Rename\n",
    "df1.columns = cols_new"
   ]
  },
  {
   "cell_type": "code",
   "execution_count": 6,
   "id": "aa08c698-30e0-4010-9a57-964756a9f550",
   "metadata": {
    "execution": {
     "iopub.execute_input": "2025-05-01T12:03:52.003929Z",
     "iopub.status.busy": "2025-05-01T12:03:52.002870Z",
     "iopub.status.idle": "2025-05-01T12:03:52.541295Z",
     "shell.execute_reply": "2025-05-01T12:03:52.540011Z",
     "shell.execute_reply.started": "2025-05-01T12:03:52.003827Z"
    }
   },
   "outputs": [
    {
     "data": {
      "text/plain": [
       "Index(['invoice_no', 'stock_code', 'description', 'quantity', 'invoice_date',\n",
       "       'unit_price', 'customer_id', 'country'],\n",
       "      dtype='object')"
      ]
     },
     "execution_count": 6,
     "metadata": {},
     "output_type": "execute_result"
    }
   ],
   "source": [
    "df1.columns"
   ]
  },
  {
   "cell_type": "markdown",
   "id": "974c4ed1-1b68-451b-b096-df68013accc5",
   "metadata": {},
   "source": [
    "## 1.2. Data Dimensions"
   ]
  },
  {
   "cell_type": "code",
   "execution_count": 7,
   "id": "d54e9994-a1be-4609-8cbb-8f60caa18548",
   "metadata": {
    "execution": {
     "iopub.execute_input": "2025-05-01T12:03:52.543015Z",
     "iopub.status.busy": "2025-05-01T12:03:52.542506Z",
     "iopub.status.idle": "2025-05-01T12:03:52.776328Z",
     "shell.execute_reply": "2025-05-01T12:03:52.774628Z",
     "shell.execute_reply.started": "2025-05-01T12:03:52.542974Z"
    }
   },
   "outputs": [
    {
     "name": "stdout",
     "output_type": "stream",
     "text": [
      "Numero de Linhas: 541909\n",
      "Numero de Colunas: 8\n"
     ]
    }
   ],
   "source": [
    "print(f'Numero de Linhas: {df1.shape[0]}')\n",
    "print(f'Numero de Colunas: {df1.shape[1]}')"
   ]
  },
  {
   "cell_type": "markdown",
   "id": "34c6ee4a-8386-4c32-a267-3f818796a4d8",
   "metadata": {},
   "source": [
    "## 1.3. Data Types"
   ]
  },
  {
   "cell_type": "code",
   "execution_count": 8,
   "id": "4f085796-4383-4038-a974-09c93ea9c9c6",
   "metadata": {
    "execution": {
     "iopub.execute_input": "2025-05-01T12:03:52.777701Z",
     "iopub.status.busy": "2025-05-01T12:03:52.777300Z",
     "iopub.status.idle": "2025-05-01T12:03:53.470937Z",
     "shell.execute_reply": "2025-05-01T12:03:53.469195Z",
     "shell.execute_reply.started": "2025-05-01T12:03:52.777659Z"
    }
   },
   "outputs": [
    {
     "data": {
      "text/html": [
       "<div>\n",
       "<style scoped>\n",
       "    .dataframe tbody tr th:only-of-type {\n",
       "        vertical-align: middle;\n",
       "    }\n",
       "\n",
       "    .dataframe tbody tr th {\n",
       "        vertical-align: top;\n",
       "    }\n",
       "\n",
       "    .dataframe thead th {\n",
       "        text-align: right;\n",
       "    }\n",
       "</style>\n",
       "<table border=\"1\" class=\"dataframe\">\n",
       "  <thead>\n",
       "    <tr style=\"text-align: right;\">\n",
       "      <th></th>\n",
       "      <th>invoice_no</th>\n",
       "      <th>stock_code</th>\n",
       "      <th>description</th>\n",
       "      <th>quantity</th>\n",
       "      <th>invoice_date</th>\n",
       "      <th>unit_price</th>\n",
       "      <th>customer_id</th>\n",
       "      <th>country</th>\n",
       "    </tr>\n",
       "  </thead>\n",
       "  <tbody>\n",
       "    <tr>\n",
       "      <th>0</th>\n",
       "      <td>536365</td>\n",
       "      <td>85123A</td>\n",
       "      <td>WHITE HANGING HEART T-LIGHT HOLDER</td>\n",
       "      <td>6</td>\n",
       "      <td>29-Nov-16</td>\n",
       "      <td>2.55</td>\n",
       "      <td>17850.0</td>\n",
       "      <td>United Kingdom</td>\n",
       "    </tr>\n",
       "    <tr>\n",
       "      <th>1</th>\n",
       "      <td>536365</td>\n",
       "      <td>71053</td>\n",
       "      <td>WHITE METAL LANTERN</td>\n",
       "      <td>6</td>\n",
       "      <td>29-Nov-16</td>\n",
       "      <td>3.39</td>\n",
       "      <td>17850.0</td>\n",
       "      <td>United Kingdom</td>\n",
       "    </tr>\n",
       "    <tr>\n",
       "      <th>2</th>\n",
       "      <td>536365</td>\n",
       "      <td>84406B</td>\n",
       "      <td>CREAM CUPID HEARTS COAT HANGER</td>\n",
       "      <td>8</td>\n",
       "      <td>29-Nov-16</td>\n",
       "      <td>2.75</td>\n",
       "      <td>17850.0</td>\n",
       "      <td>United Kingdom</td>\n",
       "    </tr>\n",
       "    <tr>\n",
       "      <th>3</th>\n",
       "      <td>536365</td>\n",
       "      <td>84029G</td>\n",
       "      <td>KNITTED UNION FLAG HOT WATER BOTTLE</td>\n",
       "      <td>6</td>\n",
       "      <td>29-Nov-16</td>\n",
       "      <td>3.39</td>\n",
       "      <td>17850.0</td>\n",
       "      <td>United Kingdom</td>\n",
       "    </tr>\n",
       "    <tr>\n",
       "      <th>4</th>\n",
       "      <td>536365</td>\n",
       "      <td>84029E</td>\n",
       "      <td>RED WOOLLY HOTTIE WHITE HEART.</td>\n",
       "      <td>6</td>\n",
       "      <td>29-Nov-16</td>\n",
       "      <td>3.39</td>\n",
       "      <td>17850.0</td>\n",
       "      <td>United Kingdom</td>\n",
       "    </tr>\n",
       "  </tbody>\n",
       "</table>\n",
       "</div>"
      ],
      "text/plain": [
       "  invoice_no stock_code                          description  quantity  \\\n",
       "0     536365     85123A   WHITE HANGING HEART T-LIGHT HOLDER         6   \n",
       "1     536365      71053                  WHITE METAL LANTERN         6   \n",
       "2     536365     84406B       CREAM CUPID HEARTS COAT HANGER         8   \n",
       "3     536365     84029G  KNITTED UNION FLAG HOT WATER BOTTLE         6   \n",
       "4     536365     84029E       RED WOOLLY HOTTIE WHITE HEART.         6   \n",
       "\n",
       "  invoice_date  unit_price  customer_id         country  \n",
       "0    29-Nov-16        2.55      17850.0  United Kingdom  \n",
       "1    29-Nov-16        3.39      17850.0  United Kingdom  \n",
       "2    29-Nov-16        2.75      17850.0  United Kingdom  \n",
       "3    29-Nov-16        3.39      17850.0  United Kingdom  \n",
       "4    29-Nov-16        3.39      17850.0  United Kingdom  "
      ]
     },
     "execution_count": 8,
     "metadata": {},
     "output_type": "execute_result"
    }
   ],
   "source": [
    "df1.head()"
   ]
  },
  {
   "cell_type": "code",
   "execution_count": 9,
   "id": "ff6a2cbd-f661-455d-828e-c2876483992e",
   "metadata": {
    "execution": {
     "iopub.execute_input": "2025-05-01T12:03:53.474060Z",
     "iopub.status.busy": "2025-05-01T12:03:53.473270Z",
     "iopub.status.idle": "2025-05-01T12:03:53.696015Z",
     "shell.execute_reply": "2025-05-01T12:03:53.693309Z",
     "shell.execute_reply.started": "2025-05-01T12:03:53.473935Z"
    }
   },
   "outputs": [
    {
     "data": {
      "text/plain": [
       "invoice_no       object\n",
       "stock_code       object\n",
       "description      object\n",
       "quantity          int64\n",
       "invoice_date     object\n",
       "unit_price      float64\n",
       "customer_id     float64\n",
       "country          object\n",
       "dtype: object"
      ]
     },
     "execution_count": 9,
     "metadata": {},
     "output_type": "execute_result"
    }
   ],
   "source": [
    "df1.dtypes"
   ]
  },
  {
   "cell_type": "markdown",
   "id": "e98ab6cf-ee5a-44e1-aa21-9af2989986b7",
   "metadata": {},
   "source": [
    "## 1.4. Check NA"
   ]
  },
  {
   "cell_type": "code",
   "execution_count": 10,
   "id": "d60a3d86-d214-457b-b458-d918d33955ee",
   "metadata": {
    "execution": {
     "iopub.execute_input": "2025-05-01T12:03:53.706885Z",
     "iopub.status.busy": "2025-05-01T12:03:53.705934Z",
     "iopub.status.idle": "2025-05-01T12:03:54.329840Z",
     "shell.execute_reply": "2025-05-01T12:03:54.328172Z",
     "shell.execute_reply.started": "2025-05-01T12:03:53.706790Z"
    }
   },
   "outputs": [
    {
     "data": {
      "text/plain": [
       "invoice_no           0\n",
       "stock_code           0\n",
       "description       1454\n",
       "quantity             0\n",
       "invoice_date         0\n",
       "unit_price           0\n",
       "customer_id     135080\n",
       "country              0\n",
       "dtype: int64"
      ]
     },
     "execution_count": 10,
     "metadata": {},
     "output_type": "execute_result"
    }
   ],
   "source": [
    "df1.isna().sum()"
   ]
  },
  {
   "cell_type": "markdown",
   "id": "1fc21d69-e0b9-48fd-b9ab-81a9aaefeb9a",
   "metadata": {},
   "source": [
    "## 1.5. Replace NA"
   ]
  },
  {
   "cell_type": "code",
   "execution_count": 11,
   "id": "44109732-8cdb-4f6f-988c-d130a1797aa2",
   "metadata": {
    "execution": {
     "iopub.execute_input": "2025-05-01T12:03:54.331461Z",
     "iopub.status.busy": "2025-05-01T12:03:54.330908Z",
     "iopub.status.idle": "2025-05-01T12:03:54.765000Z",
     "shell.execute_reply": "2025-05-01T12:03:54.762525Z",
     "shell.execute_reply.started": "2025-05-01T12:03:54.331401Z"
    }
   },
   "outputs": [],
   "source": [
    "df_missing = df1.loc[df1['customer_id'].isna(), :]\n",
    "df_not_missing = df1.loc[~df1['customer_id'].isna(), :]"
   ]
  },
  {
   "cell_type": "code",
   "execution_count": 12,
   "id": "0aee1e8c-9653-4517-ae46-040d916bbabd",
   "metadata": {
    "execution": {
     "iopub.execute_input": "2025-05-01T12:03:54.767643Z",
     "iopub.status.busy": "2025-05-01T12:03:54.766990Z",
     "iopub.status.idle": "2025-05-01T12:03:54.906490Z",
     "shell.execute_reply": "2025-05-01T12:03:54.904041Z",
     "shell.execute_reply.started": "2025-05-01T12:03:54.767588Z"
    }
   },
   "outputs": [
    {
     "name": "stdout",
     "output_type": "stream",
     "text": [
      "Customer NA: 135080\n",
      "Customer Ok: 406829\n"
     ]
    }
   ],
   "source": [
    "print(f'Customer NA: {df_missing.shape[0]}')\n",
    "print(f'Customer Ok: {df_not_missing.shape[0]}')"
   ]
  },
  {
   "cell_type": "code",
   "execution_count": 13,
   "id": "4f88b313-90d4-431b-a367-3e09a93494f4",
   "metadata": {
    "execution": {
     "iopub.execute_input": "2025-05-01T12:03:54.909879Z",
     "iopub.status.busy": "2025-05-01T12:03:54.908902Z",
     "iopub.status.idle": "2025-05-01T12:03:55.411440Z",
     "shell.execute_reply": "2025-05-01T12:03:55.409197Z",
     "shell.execute_reply.started": "2025-05-01T12:03:54.909796Z"
    }
   },
   "outputs": [
    {
     "data": {
      "text/plain": [
       "['536414',\n",
       " '536544',\n",
       " '536545',\n",
       " '536546',\n",
       " '536547',\n",
       " '536549',\n",
       " '536550',\n",
       " '536552',\n",
       " '536553',\n",
       " '536554']"
      ]
     },
     "execution_count": 13,
     "metadata": {},
     "output_type": "execute_result"
    }
   ],
   "source": [
    "# Separando em uma lista os invoice sem o customer registrado\n",
    "missing_invoice = df_missing['invoice_no'].drop_duplicates().tolist()\n",
    "missing_invoice[0:10]"
   ]
  },
  {
   "cell_type": "code",
   "execution_count": 14,
   "id": "829dbfda-ebc9-42bc-9aec-25cedeaba6cd",
   "metadata": {
    "execution": {
     "iopub.execute_input": "2025-05-01T12:03:55.415589Z",
     "iopub.status.busy": "2025-05-01T12:03:55.414340Z",
     "iopub.status.idle": "2025-05-01T12:03:56.151795Z",
     "shell.execute_reply": "2025-05-01T12:03:56.150473Z",
     "shell.execute_reply.started": "2025-05-01T12:03:55.415492Z"
    }
   },
   "outputs": [],
   "source": [
    "# Criar id's acima do valor maximo do customer id, para conseguir usar os 25% da base que está como NA na clusterização\n",
    "\n",
    "# create reference\n",
    "df_backup = pd.DataFrame( df_missing['invoice_no'].drop_duplicates() )\n",
    "df_backup['customer_id'] = np.arange(19000, 19000 + len( df_backup ), 1 )\n",
    "\n",
    "# merge original with reference dataframe\n",
    "df1 = pd.merge( df1, df_backup, on='invoice_no', how='left')\n",
    "\n",
    "# coalese\n",
    "df1['customer_id'] = df1['customer_id_x'].combine_first( df1['customer_id_y'] )\n",
    "\n",
    "# drop extra columns\n",
    "df1 = df1.drop( columns=['customer_id_x', 'customer_id_y'], axis=1 )"
   ]
  },
  {
   "cell_type": "code",
   "execution_count": 15,
   "id": "ca59f3cd-2433-4b44-9f59-168c344b50ca",
   "metadata": {
    "execution": {
     "iopub.execute_input": "2025-05-01T12:03:56.152929Z",
     "iopub.status.busy": "2025-05-01T12:03:56.152664Z",
     "iopub.status.idle": "2025-05-01T12:03:56.255159Z",
     "shell.execute_reply": "2025-05-01T12:03:56.253686Z",
     "shell.execute_reply.started": "2025-05-01T12:03:56.152902Z"
    }
   },
   "outputs": [
    {
     "data": {
      "text/plain": [
       "invoice_no         0\n",
       "stock_code         0\n",
       "description     1454\n",
       "quantity           0\n",
       "invoice_date       0\n",
       "unit_price         0\n",
       "country            0\n",
       "customer_id        0\n",
       "dtype: int64"
      ]
     },
     "execution_count": 15,
     "metadata": {},
     "output_type": "execute_result"
    }
   ],
   "source": [
    "df1.isna().sum()"
   ]
  },
  {
   "cell_type": "markdown",
   "id": "908d412e-525c-42f8-8ad5-659a0dae70b6",
   "metadata": {},
   "source": [
    "## 1.6. Change Dtypes"
   ]
  },
  {
   "cell_type": "code",
   "execution_count": 16,
   "id": "87027e86-4788-4ece-a4aa-96a4ace1ebef",
   "metadata": {
    "execution": {
     "iopub.execute_input": "2025-05-01T12:03:56.256201Z",
     "iopub.status.busy": "2025-05-01T12:03:56.255863Z",
     "iopub.status.idle": "2025-05-01T12:03:56.838065Z",
     "shell.execute_reply": "2025-05-01T12:03:56.836332Z",
     "shell.execute_reply.started": "2025-05-01T12:03:56.256169Z"
    }
   },
   "outputs": [
    {
     "data": {
      "text/plain": [
       "invoice_no       object\n",
       "stock_code       object\n",
       "description      object\n",
       "quantity          int64\n",
       "invoice_date     object\n",
       "unit_price      float64\n",
       "country          object\n",
       "customer_id     float64\n",
       "dtype: object"
      ]
     },
     "execution_count": 16,
     "metadata": {},
     "output_type": "execute_result"
    }
   ],
   "source": [
    "df1.dtypes"
   ]
  },
  {
   "cell_type": "code",
   "execution_count": 17,
   "id": "61362800-f7dc-4bd7-9209-429796da48d9",
   "metadata": {
    "execution": {
     "iopub.execute_input": "2025-05-01T12:03:56.840546Z",
     "iopub.status.busy": "2025-05-01T12:03:56.839815Z",
     "iopub.status.idle": "2025-05-01T12:03:57.395225Z",
     "shell.execute_reply": "2025-05-01T12:03:57.393681Z",
     "shell.execute_reply.started": "2025-05-01T12:03:56.840475Z"
    }
   },
   "outputs": [
    {
     "data": {
      "text/html": [
       "<div>\n",
       "<style scoped>\n",
       "    .dataframe tbody tr th:only-of-type {\n",
       "        vertical-align: middle;\n",
       "    }\n",
       "\n",
       "    .dataframe tbody tr th {\n",
       "        vertical-align: top;\n",
       "    }\n",
       "\n",
       "    .dataframe thead th {\n",
       "        text-align: right;\n",
       "    }\n",
       "</style>\n",
       "<table border=\"1\" class=\"dataframe\">\n",
       "  <thead>\n",
       "    <tr style=\"text-align: right;\">\n",
       "      <th></th>\n",
       "      <th>invoice_no</th>\n",
       "      <th>stock_code</th>\n",
       "      <th>description</th>\n",
       "      <th>quantity</th>\n",
       "      <th>invoice_date</th>\n",
       "      <th>unit_price</th>\n",
       "      <th>country</th>\n",
       "      <th>customer_id</th>\n",
       "    </tr>\n",
       "  </thead>\n",
       "  <tbody>\n",
       "    <tr>\n",
       "      <th>0</th>\n",
       "      <td>536365</td>\n",
       "      <td>85123A</td>\n",
       "      <td>WHITE HANGING HEART T-LIGHT HOLDER</td>\n",
       "      <td>6</td>\n",
       "      <td>2016-11-29</td>\n",
       "      <td>2.55</td>\n",
       "      <td>United Kingdom</td>\n",
       "      <td>17850</td>\n",
       "    </tr>\n",
       "    <tr>\n",
       "      <th>1</th>\n",
       "      <td>536365</td>\n",
       "      <td>71053</td>\n",
       "      <td>WHITE METAL LANTERN</td>\n",
       "      <td>6</td>\n",
       "      <td>2016-11-29</td>\n",
       "      <td>3.39</td>\n",
       "      <td>United Kingdom</td>\n",
       "      <td>17850</td>\n",
       "    </tr>\n",
       "    <tr>\n",
       "      <th>2</th>\n",
       "      <td>536365</td>\n",
       "      <td>84406B</td>\n",
       "      <td>CREAM CUPID HEARTS COAT HANGER</td>\n",
       "      <td>8</td>\n",
       "      <td>2016-11-29</td>\n",
       "      <td>2.75</td>\n",
       "      <td>United Kingdom</td>\n",
       "      <td>17850</td>\n",
       "    </tr>\n",
       "    <tr>\n",
       "      <th>3</th>\n",
       "      <td>536365</td>\n",
       "      <td>84029G</td>\n",
       "      <td>KNITTED UNION FLAG HOT WATER BOTTLE</td>\n",
       "      <td>6</td>\n",
       "      <td>2016-11-29</td>\n",
       "      <td>3.39</td>\n",
       "      <td>United Kingdom</td>\n",
       "      <td>17850</td>\n",
       "    </tr>\n",
       "    <tr>\n",
       "      <th>4</th>\n",
       "      <td>536365</td>\n",
       "      <td>84029E</td>\n",
       "      <td>RED WOOLLY HOTTIE WHITE HEART.</td>\n",
       "      <td>6</td>\n",
       "      <td>2016-11-29</td>\n",
       "      <td>3.39</td>\n",
       "      <td>United Kingdom</td>\n",
       "      <td>17850</td>\n",
       "    </tr>\n",
       "  </tbody>\n",
       "</table>\n",
       "</div>"
      ],
      "text/plain": [
       "  invoice_no stock_code                          description  quantity  \\\n",
       "0     536365     85123A   WHITE HANGING HEART T-LIGHT HOLDER         6   \n",
       "1     536365      71053                  WHITE METAL LANTERN         6   \n",
       "2     536365     84406B       CREAM CUPID HEARTS COAT HANGER         8   \n",
       "3     536365     84029G  KNITTED UNION FLAG HOT WATER BOTTLE         6   \n",
       "4     536365     84029E       RED WOOLLY HOTTIE WHITE HEART.         6   \n",
       "\n",
       "  invoice_date  unit_price         country  customer_id  \n",
       "0   2016-11-29        2.55  United Kingdom        17850  \n",
       "1   2016-11-29        3.39  United Kingdom        17850  \n",
       "2   2016-11-29        2.75  United Kingdom        17850  \n",
       "3   2016-11-29        3.39  United Kingdom        17850  \n",
       "4   2016-11-29        3.39  United Kingdom        17850  "
      ]
     },
     "execution_count": 17,
     "metadata": {},
     "output_type": "execute_result"
    }
   ],
   "source": [
    "# invoice_date\n",
    "df1['invoice_date'] = pd.to_datetime( df1['invoice_date'], format='%d-%b-%y' )\n",
    "\n",
    "# customer_id\n",
    "df1['customer_id'] =df1['customer_id'].astype( int ) \n",
    "\n",
    "df1.head()"
   ]
  },
  {
   "cell_type": "code",
   "execution_count": 18,
   "id": "945d7a46-3ea7-49a9-b45b-63423c7106ba",
   "metadata": {
    "execution": {
     "iopub.execute_input": "2025-05-01T12:03:57.396994Z",
     "iopub.status.busy": "2025-05-01T12:03:57.396444Z",
     "iopub.status.idle": "2025-05-01T12:03:57.504051Z",
     "shell.execute_reply": "2025-05-01T12:03:57.501835Z",
     "shell.execute_reply.started": "2025-05-01T12:03:57.396909Z"
    }
   },
   "outputs": [
    {
     "data": {
      "text/plain": [
       "invoice_no              object\n",
       "stock_code              object\n",
       "description             object\n",
       "quantity                 int64\n",
       "invoice_date    datetime64[ns]\n",
       "unit_price             float64\n",
       "country                 object\n",
       "customer_id              int64\n",
       "dtype: object"
      ]
     },
     "execution_count": 18,
     "metadata": {},
     "output_type": "execute_result"
    }
   ],
   "source": [
    "df1.dtypes"
   ]
  },
  {
   "cell_type": "markdown",
   "id": "76cc0675-17ff-47f6-830e-a297de8ed865",
   "metadata": {},
   "source": [
    "## 1.7. Descriptive Statistics"
   ]
  },
  {
   "cell_type": "code",
   "execution_count": 19,
   "id": "aefd30ee-96a8-4300-84a6-861a064d4e62",
   "metadata": {
    "execution": {
     "iopub.execute_input": "2025-05-01T12:03:57.507054Z",
     "iopub.status.busy": "2025-05-01T12:03:57.506230Z",
     "iopub.status.idle": "2025-05-01T12:03:58.085416Z",
     "shell.execute_reply": "2025-05-01T12:03:58.084195Z",
     "shell.execute_reply.started": "2025-05-01T12:03:57.506926Z"
    }
   },
   "outputs": [],
   "source": [
    "num_attributes = df1.select_dtypes( include=['int64', 'float64'] )\n",
    "cat_attributes = df1.select_dtypes( exclude=['int64', 'float64', 'datetime64[ns]'] )\n"
   ]
  },
  {
   "cell_type": "markdown",
   "id": "9bbd56e8-18e7-4cd2-b0f7-7d5dfbce7543",
   "metadata": {},
   "source": [
    "### 1.7.1 Numerical Attributes"
   ]
  },
  {
   "cell_type": "code",
   "execution_count": 20,
   "id": "2836a940-b2f4-4f46-b02c-3b3dfdacd9dc",
   "metadata": {
    "execution": {
     "iopub.execute_input": "2025-05-01T12:03:58.086592Z",
     "iopub.status.busy": "2025-05-01T12:03:58.086321Z",
     "iopub.status.idle": "2025-05-01T12:03:58.645930Z",
     "shell.execute_reply": "2025-05-01T12:03:58.644273Z",
     "shell.execute_reply.started": "2025-05-01T12:03:58.086555Z"
    }
   },
   "outputs": [
    {
     "data": {
      "text/html": [
       "<div>\n",
       "<style scoped>\n",
       "    .dataframe tbody tr th:only-of-type {\n",
       "        vertical-align: middle;\n",
       "    }\n",
       "\n",
       "    .dataframe tbody tr th {\n",
       "        vertical-align: top;\n",
       "    }\n",
       "\n",
       "    .dataframe thead th {\n",
       "        text-align: right;\n",
       "    }\n",
       "</style>\n",
       "<table border=\"1\" class=\"dataframe\">\n",
       "  <thead>\n",
       "    <tr style=\"text-align: right;\">\n",
       "      <th></th>\n",
       "      <th>attributes</th>\n",
       "      <th>Min</th>\n",
       "      <th>Max</th>\n",
       "      <th>Range</th>\n",
       "      <th>Mean</th>\n",
       "      <th>Mediana</th>\n",
       "      <th>Desvio Padrão</th>\n",
       "      <th>Skew</th>\n",
       "      <th>Kurtosis</th>\n",
       "    </tr>\n",
       "  </thead>\n",
       "  <tbody>\n",
       "    <tr>\n",
       "      <th>0</th>\n",
       "      <td>quantity</td>\n",
       "      <td>-80995.00</td>\n",
       "      <td>80995.0</td>\n",
       "      <td>161990.00</td>\n",
       "      <td>9.552250</td>\n",
       "      <td>3.00</td>\n",
       "      <td>218.080957</td>\n",
       "      <td>-0.264076</td>\n",
       "      <td>119769.160031</td>\n",
       "    </tr>\n",
       "    <tr>\n",
       "      <th>1</th>\n",
       "      <td>unit_price</td>\n",
       "      <td>-11062.06</td>\n",
       "      <td>38970.0</td>\n",
       "      <td>50032.06</td>\n",
       "      <td>4.611114</td>\n",
       "      <td>2.08</td>\n",
       "      <td>96.759764</td>\n",
       "      <td>186.506972</td>\n",
       "      <td>59005.719097</td>\n",
       "    </tr>\n",
       "    <tr>\n",
       "      <th>2</th>\n",
       "      <td>customer_id</td>\n",
       "      <td>12346.00</td>\n",
       "      <td>22709.0</td>\n",
       "      <td>10363.00</td>\n",
       "      <td>16688.840453</td>\n",
       "      <td>16249.00</td>\n",
       "      <td>2911.408666</td>\n",
       "      <td>0.487449</td>\n",
       "      <td>-0.804287</td>\n",
       "    </tr>\n",
       "  </tbody>\n",
       "</table>\n",
       "</div>"
      ],
      "text/plain": [
       "    attributes       Min      Max      Range          Mean   Mediana  \\\n",
       "0     quantity -80995.00  80995.0  161990.00      9.552250      3.00   \n",
       "1   unit_price -11062.06  38970.0   50032.06      4.611114      2.08   \n",
       "2  customer_id  12346.00  22709.0   10363.00  16688.840453  16249.00   \n",
       "\n",
       "   Desvio Padrão        Skew       Kurtosis  \n",
       "0     218.080957   -0.264076  119769.160031  \n",
       "1      96.759764  186.506972   59005.719097  \n",
       "2    2911.408666    0.487449      -0.804287  "
      ]
     },
     "execution_count": 20,
     "metadata": {},
     "output_type": "execute_result"
    }
   ],
   "source": [
    "# central tendency - mean, median\n",
    "ct1 = pd.DataFrame( num_attributes.apply( np.mean ) ).T\n",
    "ct2 = pd.DataFrame( num_attributes.apply( np.median ) ).T\n",
    "\n",
    "# dispersion - desvio padrão, minímo, maximo, range, skew, kurtosis\n",
    "d1 = pd.DataFrame( num_attributes.apply( np.std ) ).T\n",
    "d2 = pd.DataFrame( num_attributes.apply( np.min ) ).T\n",
    "d3 = pd.DataFrame( num_attributes.apply( np.max ) ).T\n",
    "d4 = pd.DataFrame( num_attributes.apply( lambda x: x.max() - x.min()  ) ).T\n",
    "d5 = pd.DataFrame( num_attributes.apply( lambda x: x.skew() ) ).T\n",
    "d6 = pd.DataFrame( num_attributes.apply( lambda x: x.kurtosis() ) ).T\n",
    "\n",
    "# concatenate\n",
    "metricas = pd.concat( [d2, d3, d4, ct1, ct2, d1, d5, d6]).T.reset_index()\n",
    "metricas.columns=['attributes','Min', 'Max', 'Range', 'Mean', 'Mediana', 'Desvio Padrão', 'Skew', 'Kurtosis']\n",
    "metricas"
   ]
  },
  {
   "cell_type": "markdown",
   "id": "33ffeb02-5681-45f5-87c9-9069930e5726",
   "metadata": {},
   "source": [
    "### 1.7.2 Categorical Attributes"
   ]
  },
  {
   "cell_type": "markdown",
   "id": "bd28ccf7-b561-45c8-8285-47c13f3c4cb9",
   "metadata": {},
   "source": [
    "#### Invoice No"
   ]
  },
  {
   "cell_type": "code",
   "execution_count": 21,
   "id": "304bbc2c-b6bf-42f7-9488-62e18ea0bb98",
   "metadata": {
    "execution": {
     "iopub.execute_input": "2025-05-01T12:03:58.647792Z",
     "iopub.status.busy": "2025-05-01T12:03:58.647300Z",
     "iopub.status.idle": "2025-05-01T12:03:59.589463Z",
     "shell.execute_reply": "2025-05-01T12:03:59.587906Z",
     "shell.execute_reply.started": "2025-05-01T12:03:58.647733Z"
    }
   },
   "outputs": [
    {
     "name": "stdout",
     "output_type": "stream",
     "text": [
      "Total de invoice com letras: 9291\n",
      "Total de linhas com a quantity negativa: 9288\n"
     ]
    }
   ],
   "source": [
    "# prblema: temos invoice com letras e números\n",
    "\n",
    "# identificação:\n",
    "df_letter_invoce = df1.loc[df1['invoice_no'].apply( lambda x: bool( re.search( '[^0-9]+', x) ) ), : ]\n",
    "df_letter_invoce.head()\n",
    "\n",
    "# qt invoice com letras\n",
    "print(f'Total de invoice com letras: {len(df_letter_invoce)}')\n",
    "\n",
    "# qt de linhas com a coluna 'quantity' negativa\n",
    "print(f'Total de linhas com a quantity negativa: {len( df_letter_invoce[df_letter_invoce[\"quantity\"] < 0 ] )}')"
   ]
  },
  {
   "cell_type": "markdown",
   "id": "3f2afa40-db30-4197-97c2-d87fd0c7e258",
   "metadata": {},
   "source": [
    "#### Stock Code"
   ]
  },
  {
   "cell_type": "code",
   "execution_count": 22,
   "id": "2e768468-9d52-4976-b9b2-398607a96226",
   "metadata": {
    "execution": {
     "iopub.execute_input": "2025-05-01T12:03:59.591043Z",
     "iopub.status.busy": "2025-05-01T12:03:59.590679Z",
     "iopub.status.idle": "2025-05-01T12:04:00.516072Z",
     "shell.execute_reply": "2025-05-01T12:04:00.514441Z",
     "shell.execute_reply.started": "2025-05-01T12:03:59.591000Z"
    }
   },
   "outputs": [
    {
     "data": {
      "text/plain": [
       "array(['POST', 'D', 'DOT', 'M', 'S', 'AMAZONFEE', 'm', 'DCGSSBOY',\n",
       "       'DCGSSGIRL', 'PADS', 'B', 'CRUK'], dtype=object)"
      ]
     },
     "execution_count": 22,
     "metadata": {},
     "output_type": "execute_result"
    }
   ],
   "source": [
    "# prblema: temos Stock Code com letras e números\n",
    "\n",
    "# identificação:tock_code - apenas strings\n",
    "df1.loc[df1['stock_code'].apply( lambda x: bool( re.search( '^[a-zA-Z]+$', x) ) ), 'stock_code'].unique()\n",
    "\n",
    "# Remover stock_code in ['POST', 'D', 'M', 'PADS', 'DOT', 'CRUK']"
   ]
  },
  {
   "cell_type": "markdown",
   "id": "3e6ab600-751f-4faf-9a58-a6d5c53cf7c4",
   "metadata": {},
   "source": [
    "# <font color='red'>2.0. Filtragem de Variáveis</font>"
   ]
  },
  {
   "cell_type": "code",
   "execution_count": 23,
   "id": "fd4ce600-d446-48c3-8189-737de7e18bdb",
   "metadata": {
    "execution": {
     "iopub.execute_input": "2025-05-01T12:04:00.520573Z",
     "iopub.status.busy": "2025-05-01T12:04:00.520238Z",
     "iopub.status.idle": "2025-05-01T12:04:00.596564Z",
     "shell.execute_reply": "2025-05-01T12:04:00.594668Z",
     "shell.execute_reply.started": "2025-05-01T12:04:00.520543Z"
    }
   },
   "outputs": [],
   "source": [
    "df2 = df1.copy()"
   ]
  },
  {
   "cell_type": "code",
   "execution_count": 24,
   "id": "fe09aac3-4aa2-49b9-a9ab-3db461dc5b96",
   "metadata": {
    "execution": {
     "iopub.execute_input": "2025-05-01T12:04:00.597623Z",
     "iopub.status.busy": "2025-05-01T12:04:00.597311Z",
     "iopub.status.idle": "2025-05-01T12:04:01.147319Z",
     "shell.execute_reply": "2025-05-01T12:04:01.144616Z",
     "shell.execute_reply.started": "2025-05-01T12:04:00.597591Z"
    }
   },
   "outputs": [
    {
     "data": {
      "text/plain": [
       "invoice_no              object\n",
       "stock_code              object\n",
       "description             object\n",
       "quantity                 int64\n",
       "invoice_date    datetime64[ns]\n",
       "unit_price             float64\n",
       "country                 object\n",
       "customer_id              int64\n",
       "dtype: object"
      ]
     },
     "execution_count": 24,
     "metadata": {},
     "output_type": "execute_result"
    }
   ],
   "source": [
    "df2.dtypes"
   ]
  },
  {
   "cell_type": "code",
   "execution_count": 25,
   "id": "939d39a2-19ba-4d03-99e2-212b1b4d509d",
   "metadata": {
    "execution": {
     "iopub.execute_input": "2025-05-01T12:04:01.150245Z",
     "iopub.status.busy": "2025-05-01T12:04:01.149469Z",
     "iopub.status.idle": "2025-05-01T12:04:01.750090Z",
     "shell.execute_reply": "2025-05-01T12:04:01.748825Z",
     "shell.execute_reply.started": "2025-05-01T12:04:01.150164Z"
    }
   },
   "outputs": [],
   "source": [
    "# ==== Numerical Attributes ====\n",
    "# unit price > 0.0\n",
    "df2 = df2.loc[df2['unit_price'] > 0.04, :]\n",
    "\n",
    "# === Categorical Attributes ====\n",
    "# stock code != ['POST', 'D', 'DOT', 'M', 'S', 'AMAZONFEE', 'm', 'DCGSSBOY', 'DCGSSGIRL', 'PADS', 'B', 'CRUK']\n",
    "df2 = df2[~df2['stock_code'].isin(['POST', 'D', 'DOT', 'M', 'S', 'AMAZONFEE', 'm', 'DCGSSBOY', 'DCGSSGIRL', 'PADS', 'B', 'CRUK'] )]\n",
    "\n",
    "# description\n",
    "df2 = df2.drop( columns='description', axis=1 )\n",
    "\n",
    "# country - exclusão das linhas (RISCO)\n",
    "df2 = df2 [~df2['country'].isin ( ['European Community', 'Unspecified' ] ) ]\n",
    "\n",
    "#bad users\n",
    "df2 = df2[~df2['customer_id'].isin([16446]) ]\n",
    "\n",
    "\n",
    "# quantity - Negative number (devolução de produto) - Efetuado a separação do dataframe entre os produtos vendidos e os devolvidos\n",
    "df2_returns = df2.loc[df2['quantity'] < 0, :]\n",
    "df2_purchase = df2.loc[df2['quantity'] > 0, :]\n"
   ]
  },
  {
   "cell_type": "markdown",
   "id": "e355f534-1776-4f02-8b02-6363cc014184",
   "metadata": {},
   "source": [
    "# <font color='red'>3.0. Feature Engineering</font>"
   ]
  },
  {
   "cell_type": "code",
   "execution_count": 26,
   "id": "7776d35f-1b19-4a43-a15a-14878c23998c",
   "metadata": {
    "execution": {
     "iopub.execute_input": "2025-05-01T12:04:01.751416Z",
     "iopub.status.busy": "2025-05-01T12:04:01.751106Z",
     "iopub.status.idle": "2025-05-01T12:04:01.775841Z",
     "shell.execute_reply": "2025-05-01T12:04:01.774452Z",
     "shell.execute_reply.started": "2025-05-01T12:04:01.751378Z"
    }
   },
   "outputs": [],
   "source": [
    "df3 = df2.copy()"
   ]
  },
  {
   "cell_type": "markdown",
   "id": "60938911-01ee-4400-83b0-713f8afe8b87",
   "metadata": {},
   "source": [
    "## 3.1. Feature Creation"
   ]
  },
  {
   "cell_type": "code",
   "execution_count": 27,
   "id": "39f1bdf5-d62b-47e0-9007-9cfbd1adfc64",
   "metadata": {
    "execution": {
     "iopub.execute_input": "2025-05-01T12:04:02.285654Z",
     "iopub.status.busy": "2025-05-01T12:04:02.285114Z",
     "iopub.status.idle": "2025-05-01T12:04:02.315919Z",
     "shell.execute_reply": "2025-05-01T12:04:02.314412Z",
     "shell.execute_reply.started": "2025-05-01T12:04:02.285600Z"
    }
   },
   "outputs": [
    {
     "data": {
      "text/html": [
       "<div>\n",
       "<style scoped>\n",
       "    .dataframe tbody tr th:only-of-type {\n",
       "        vertical-align: middle;\n",
       "    }\n",
       "\n",
       "    .dataframe tbody tr th {\n",
       "        vertical-align: top;\n",
       "    }\n",
       "\n",
       "    .dataframe thead th {\n",
       "        text-align: right;\n",
       "    }\n",
       "</style>\n",
       "<table border=\"1\" class=\"dataframe\">\n",
       "  <thead>\n",
       "    <tr style=\"text-align: right;\">\n",
       "      <th></th>\n",
       "      <th>invoice_no</th>\n",
       "      <th>stock_code</th>\n",
       "      <th>quantity</th>\n",
       "      <th>invoice_date</th>\n",
       "      <th>unit_price</th>\n",
       "      <th>country</th>\n",
       "      <th>customer_id</th>\n",
       "    </tr>\n",
       "  </thead>\n",
       "  <tbody>\n",
       "    <tr>\n",
       "      <th>0</th>\n",
       "      <td>536365</td>\n",
       "      <td>85123A</td>\n",
       "      <td>6</td>\n",
       "      <td>2016-11-29</td>\n",
       "      <td>2.55</td>\n",
       "      <td>United Kingdom</td>\n",
       "      <td>17850</td>\n",
       "    </tr>\n",
       "    <tr>\n",
       "      <th>1</th>\n",
       "      <td>536365</td>\n",
       "      <td>71053</td>\n",
       "      <td>6</td>\n",
       "      <td>2016-11-29</td>\n",
       "      <td>3.39</td>\n",
       "      <td>United Kingdom</td>\n",
       "      <td>17850</td>\n",
       "    </tr>\n",
       "    <tr>\n",
       "      <th>2</th>\n",
       "      <td>536365</td>\n",
       "      <td>84406B</td>\n",
       "      <td>8</td>\n",
       "      <td>2016-11-29</td>\n",
       "      <td>2.75</td>\n",
       "      <td>United Kingdom</td>\n",
       "      <td>17850</td>\n",
       "    </tr>\n",
       "    <tr>\n",
       "      <th>3</th>\n",
       "      <td>536365</td>\n",
       "      <td>84029G</td>\n",
       "      <td>6</td>\n",
       "      <td>2016-11-29</td>\n",
       "      <td>3.39</td>\n",
       "      <td>United Kingdom</td>\n",
       "      <td>17850</td>\n",
       "    </tr>\n",
       "    <tr>\n",
       "      <th>4</th>\n",
       "      <td>536365</td>\n",
       "      <td>84029E</td>\n",
       "      <td>6</td>\n",
       "      <td>2016-11-29</td>\n",
       "      <td>3.39</td>\n",
       "      <td>United Kingdom</td>\n",
       "      <td>17850</td>\n",
       "    </tr>\n",
       "  </tbody>\n",
       "</table>\n",
       "</div>"
      ],
      "text/plain": [
       "  invoice_no stock_code  quantity invoice_date  unit_price         country  \\\n",
       "0     536365     85123A         6   2016-11-29        2.55  United Kingdom   \n",
       "1     536365      71053         6   2016-11-29        3.39  United Kingdom   \n",
       "2     536365     84406B         8   2016-11-29        2.75  United Kingdom   \n",
       "3     536365     84029G         6   2016-11-29        3.39  United Kingdom   \n",
       "4     536365     84029E         6   2016-11-29        3.39  United Kingdom   \n",
       "\n",
       "   customer_id  \n",
       "0        17850  \n",
       "1        17850  \n",
       "2        17850  \n",
       "3        17850  \n",
       "4        17850  "
      ]
     },
     "execution_count": 27,
     "metadata": {},
     "output_type": "execute_result"
    }
   ],
   "source": [
    "df3.head()"
   ]
  },
  {
   "cell_type": "code",
   "execution_count": 28,
   "id": "f9af6fe6-a217-4f69-9f97-93582e159080",
   "metadata": {
    "execution": {
     "iopub.execute_input": "2025-05-01T12:04:03.780861Z",
     "iopub.status.busy": "2025-05-01T12:04:03.779720Z",
     "iopub.status.idle": "2025-05-01T12:04:03.819423Z",
     "shell.execute_reply": "2025-05-01T12:04:03.817620Z",
     "shell.execute_reply.started": "2025-05-01T12:04:03.780764Z"
    }
   },
   "outputs": [],
   "source": [
    "# data reference\n",
    "df_ref = df3.drop( ['invoice_no', 'stock_code', 'quantity', 'invoice_date', 'unit_price', \n",
    "                    'country'], axis=1 ).drop_duplicates( ignore_index=True)"
   ]
  },
  {
   "cell_type": "code",
   "execution_count": 29,
   "id": "2f0c423b-586d-463a-b74a-4b307bd2c4fe",
   "metadata": {
    "execution": {
     "iopub.execute_input": "2025-05-01T12:04:05.516722Z",
     "iopub.status.busy": "2025-05-01T12:04:05.515913Z",
     "iopub.status.idle": "2025-05-01T12:04:05.530474Z",
     "shell.execute_reply": "2025-05-01T12:04:05.528332Z",
     "shell.execute_reply.started": "2025-05-01T12:04:05.516644Z"
    }
   },
   "outputs": [
    {
     "data": {
      "text/plain": [
       "(5786, 1)"
      ]
     },
     "execution_count": 29,
     "metadata": {},
     "output_type": "execute_result"
    }
   ],
   "source": [
    "df_ref.shape"
   ]
  },
  {
   "cell_type": "markdown",
   "id": "4db7705a-3df1-4411-b31b-0e231da8ea16",
   "metadata": {},
   "source": [
    "### 3.1.1. Gross Revenue"
   ]
  },
  {
   "cell_type": "code",
   "execution_count": 30,
   "id": "1344ba8d-a324-42a3-ab71-05f85c07a99a",
   "metadata": {
    "execution": {
     "iopub.execute_input": "2025-05-01T12:04:07.677005Z",
     "iopub.status.busy": "2025-05-01T12:04:07.676000Z",
     "iopub.status.idle": "2025-05-01T12:04:08.330120Z",
     "shell.execute_reply": "2025-05-01T12:04:08.327412Z",
     "shell.execute_reply.started": "2025-05-01T12:04:07.676870Z"
    }
   },
   "outputs": [
    {
     "name": "stderr",
     "output_type": "stream",
     "text": [
      "/tmp/ipykernel_5751/3136603236.py:2: SettingWithCopyWarning: \n",
      "A value is trying to be set on a copy of a slice from a DataFrame.\n",
      "Try using .loc[row_indexer,col_indexer] = value instead\n",
      "\n",
      "See the caveats in the documentation: https://pandas.pydata.org/pandas-docs/stable/user_guide/indexing.html#returning-a-view-versus-a-copy\n",
      "  df2_purchase['gross_revenue'] = df2_purchase['quantity'] * df2_purchase['unit_price']\n"
     ]
    },
    {
     "data": {
      "text/plain": [
       "customer_id       0\n",
       "gross_revenue    91\n",
       "dtype: int64"
      ]
     },
     "execution_count": 30,
     "metadata": {},
     "output_type": "execute_result"
    }
   ],
   "source": [
    "# Gross Revenue (Faturamento) quantity * price\n",
    "df2_purchase['gross_revenue'] = df2_purchase['quantity'] * df2_purchase['unit_price']\n",
    "\n",
    "# Monetary\n",
    "df_monetary = df2_purchase[['customer_id', 'gross_revenue']].groupby('customer_id').sum().reset_index()\n",
    "df_ref = pd.merge( df_ref, df_monetary, on='customer_id', how='left')\n",
    "df_ref.isna().sum()"
   ]
  },
  {
   "cell_type": "markdown",
   "id": "3151f8b5-63ff-4630-9ef9-44ab1886a107",
   "metadata": {},
   "source": [
    "### 3.1.2. Recency - Day from last purchase"
   ]
  },
  {
   "cell_type": "code",
   "execution_count": 31,
   "id": "8c8f4a3a-9b1f-46f7-b29c-6b1824f22324",
   "metadata": {
    "execution": {
     "iopub.execute_input": "2025-05-01T12:04:09.562793Z",
     "iopub.status.busy": "2025-05-01T12:04:09.560777Z",
     "iopub.status.idle": "2025-05-01T12:04:09.703442Z",
     "shell.execute_reply": "2025-05-01T12:04:09.701139Z",
     "shell.execute_reply.started": "2025-05-01T12:04:09.562696Z"
    }
   },
   "outputs": [
    {
     "data": {
      "text/plain": [
       "customer_id       0\n",
       "gross_revenue    91\n",
       "recency_days     91\n",
       "dtype: int64"
      ]
     },
     "execution_count": 31,
     "metadata": {},
     "output_type": "execute_result"
    }
   ],
   "source": [
    "# Recency - ultimo dia de compra\n",
    "df_recency = df2_purchase[['customer_id', 'invoice_date']].groupby('customer_id').max().reset_index()\n",
    "df_recency['recency_days'] = ( df2_purchase['invoice_date'].max() - df_recency['invoice_date'] ).dt.days\n",
    "df_recency = df_recency[['customer_id', 'recency_days']].copy()\n",
    "df_ref = pd.merge( df_ref, df_recency, on='customer_id', how='left')\n",
    "df_ref.isna().sum()"
   ]
  },
  {
   "cell_type": "markdown",
   "id": "f863cac2-aa3a-4de2-84b1-3ec044c2b64e",
   "metadata": {},
   "source": [
    "### 3.1.5. Quantity of produtcs purchased"
   ]
  },
  {
   "cell_type": "code",
   "execution_count": 32,
   "id": "58e67fd3-304f-484d-8f07-b1ff3c346ed9",
   "metadata": {
    "execution": {
     "iopub.execute_input": "2025-05-01T12:04:12.038920Z",
     "iopub.status.busy": "2025-05-01T12:04:12.037989Z",
     "iopub.status.idle": "2025-05-01T12:04:12.111122Z",
     "shell.execute_reply": "2025-05-01T12:04:12.109670Z",
     "shell.execute_reply.started": "2025-05-01T12:04:12.038828Z"
    }
   },
   "outputs": [
    {
     "data": {
      "text/plain": [
       "customer_id       0\n",
       "gross_revenue    91\n",
       "recency_days     91\n",
       "qtde_produtcs    91\n",
       "dtype: int64"
      ]
     },
     "execution_count": 32,
     "metadata": {},
     "output_type": "execute_result"
    }
   ],
   "source": [
    "# Numero de produtos\n",
    "df_freq_prod = (df2_purchase[['customer_id', 'stock_code']].groupby('customer_id')\n",
    "                                                           .count()\n",
    "                                                           .reset_index()\n",
    "                                                           .rename( columns={'stock_code': 'qtde_produtcs'}) )\n",
    "df_ref = pd.merge( df_ref, df_freq_prod, on='customer_id', how='left')\n",
    "df_ref.isna().sum()"
   ]
  },
  {
   "cell_type": "markdown",
   "id": "4b26a892-12fe-4034-8440-29553dc9513e",
   "metadata": {},
   "source": [
    "### 3.1.8. Frequency Purchase"
   ]
  },
  {
   "cell_type": "code",
   "execution_count": 33,
   "id": "42f71347-6042-4582-af46-a05e7e5c06e5",
   "metadata": {
    "execution": {
     "iopub.execute_input": "2025-05-01T12:04:13.257294Z",
     "iopub.status.busy": "2025-05-01T12:04:13.256640Z",
     "iopub.status.idle": "2025-05-01T12:04:14.992292Z",
     "shell.execute_reply": "2025-05-01T12:04:14.991276Z",
     "shell.execute_reply.started": "2025-05-01T12:04:13.257244Z"
    }
   },
   "outputs": [
    {
     "data": {
      "text/plain": [
       "customer_id       0\n",
       "gross_revenue    91\n",
       "recency_days     91\n",
       "qtde_produtcs    91\n",
       "frequency        91\n",
       "dtype: int64"
      ]
     },
     "execution_count": 33,
     "metadata": {},
     "output_type": "execute_result"
    }
   ],
   "source": [
    "df_aux = ( df2_purchase[['invoice_no', 'customer_id', 'invoice_date']].drop_duplicates()\n",
    "                                                             .groupby( 'customer_id')\n",
    "                                                             .agg( max_ = ('invoice_date', 'max'),\n",
    "                                                                   min_ = ('invoice_date', 'min'),\n",
    "                                                                   days_= ('invoice_date', lambda x: ( (x.max() - x.min() ).days ) +1 ),\n",
    "                                                                   buy_ = ( 'invoice_no', 'count')) ).reset_index()\n",
    "         \n",
    "# Frequency\n",
    "df_aux['frequency'] = df_aux[['buy_', 'days_']].apply( lambda x: x['buy_'] / x['days_'] if x['days_'] != 0 else 0, axis=1)\n",
    "\n",
    "# merge\n",
    "df_ref = pd.merge( df_ref, df_aux[['customer_id', 'frequency']], on='customer_id', how='left')\n",
    "df_ref.isna().sum()"
   ]
  },
  {
   "cell_type": "markdown",
   "id": "91b9cfd1-972f-4af5-974d-c33b95ef7a25",
   "metadata": {},
   "source": [
    "### 3.1.9. Devoluções"
   ]
  },
  {
   "cell_type": "code",
   "execution_count": 34,
   "id": "4c738306-79f5-4a42-913b-49556b5de00e",
   "metadata": {
    "execution": {
     "iopub.execute_input": "2025-05-01T12:04:14.994186Z",
     "iopub.status.busy": "2025-05-01T12:04:14.993743Z",
     "iopub.status.idle": "2025-05-01T12:04:15.036811Z",
     "shell.execute_reply": "2025-05-01T12:04:15.035424Z",
     "shell.execute_reply.started": "2025-05-01T12:04:14.994148Z"
    }
   },
   "outputs": [
    {
     "data": {
      "text/plain": [
       "customer_id       0\n",
       "gross_revenue    91\n",
       "recency_days     91\n",
       "qtde_produtcs    91\n",
       "frequency        91\n",
       "qtde_returns      0\n",
       "dtype: int64"
      ]
     },
     "execution_count": 34,
     "metadata": {},
     "output_type": "execute_result"
    }
   ],
   "source": [
    "# Number of Returns\n",
    "df_returns = df2_returns[['customer_id', 'quantity']].groupby( 'customer_id' ).sum().reset_index().rename( columns={'quantity':'qtde_returns'} )\n",
    "df_returns['qtde_returns'] = df_returns['qtde_returns'] * -1\n",
    "\n",
    "df_ref = pd.merge( df_ref, df_returns, how='left', on='customer_id' )\n",
    "df_ref.loc[df_ref['qtde_returns'].isna(), 'qtde_returns'] = 0\n",
    "\n",
    "df_ref.isna().sum()"
   ]
  },
  {
   "cell_type": "code",
   "execution_count": 35,
   "id": "9965fda3-edd7-4362-994b-6df8108a7f44",
   "metadata": {
    "execution": {
     "iopub.execute_input": "2025-05-01T12:04:15.273205Z",
     "iopub.status.busy": "2025-05-01T12:04:15.270407Z",
     "iopub.status.idle": "2025-05-01T12:04:15.368252Z",
     "shell.execute_reply": "2025-05-01T12:04:15.366711Z",
     "shell.execute_reply.started": "2025-05-01T12:04:15.273075Z"
    }
   },
   "outputs": [
    {
     "data": {
      "text/html": [
       "<div>\n",
       "<style scoped>\n",
       "    .dataframe tbody tr th:only-of-type {\n",
       "        vertical-align: middle;\n",
       "    }\n",
       "\n",
       "    .dataframe tbody tr th {\n",
       "        vertical-align: top;\n",
       "    }\n",
       "\n",
       "    .dataframe thead th {\n",
       "        text-align: right;\n",
       "    }\n",
       "</style>\n",
       "<table border=\"1\" class=\"dataframe\">\n",
       "  <thead>\n",
       "    <tr style=\"text-align: right;\">\n",
       "      <th></th>\n",
       "      <th>customer_id</th>\n",
       "      <th>gross_revenue</th>\n",
       "      <th>recency_days</th>\n",
       "      <th>qtde_produtcs</th>\n",
       "      <th>frequency</th>\n",
       "      <th>qtde_returns</th>\n",
       "    </tr>\n",
       "  </thead>\n",
       "  <tbody>\n",
       "    <tr>\n",
       "      <th>0</th>\n",
       "      <td>17850</td>\n",
       "      <td>5391.21</td>\n",
       "      <td>372.0</td>\n",
       "      <td>297.0</td>\n",
       "      <td>17.000000</td>\n",
       "      <td>40.0</td>\n",
       "    </tr>\n",
       "    <tr>\n",
       "      <th>1</th>\n",
       "      <td>13047</td>\n",
       "      <td>3232.59</td>\n",
       "      <td>56.0</td>\n",
       "      <td>171.0</td>\n",
       "      <td>0.028302</td>\n",
       "      <td>35.0</td>\n",
       "    </tr>\n",
       "    <tr>\n",
       "      <th>2</th>\n",
       "      <td>12583</td>\n",
       "      <td>6705.38</td>\n",
       "      <td>2.0</td>\n",
       "      <td>232.0</td>\n",
       "      <td>0.040323</td>\n",
       "      <td>50.0</td>\n",
       "    </tr>\n",
       "    <tr>\n",
       "      <th>3</th>\n",
       "      <td>13748</td>\n",
       "      <td>948.25</td>\n",
       "      <td>95.0</td>\n",
       "      <td>28.0</td>\n",
       "      <td>0.017921</td>\n",
       "      <td>0.0</td>\n",
       "    </tr>\n",
       "    <tr>\n",
       "      <th>4</th>\n",
       "      <td>15100</td>\n",
       "      <td>876.00</td>\n",
       "      <td>333.0</td>\n",
       "      <td>3.0</td>\n",
       "      <td>0.073171</td>\n",
       "      <td>22.0</td>\n",
       "    </tr>\n",
       "  </tbody>\n",
       "</table>\n",
       "</div>"
      ],
      "text/plain": [
       "   customer_id  gross_revenue  recency_days  qtde_produtcs  frequency  \\\n",
       "0        17850        5391.21         372.0          297.0  17.000000   \n",
       "1        13047        3232.59          56.0          171.0   0.028302   \n",
       "2        12583        6705.38           2.0          232.0   0.040323   \n",
       "3        13748         948.25          95.0           28.0   0.017921   \n",
       "4        15100         876.00         333.0            3.0   0.073171   \n",
       "\n",
       "   qtde_returns  \n",
       "0          40.0  \n",
       "1          35.0  \n",
       "2          50.0  \n",
       "3           0.0  \n",
       "4          22.0  "
      ]
     },
     "execution_count": 35,
     "metadata": {},
     "output_type": "execute_result"
    }
   ],
   "source": [
    "df_ref.head()"
   ]
  },
  {
   "cell_type": "markdown",
   "id": "1a1ec474-fb0a-49e7-981d-ccb1f508881f",
   "metadata": {},
   "source": [
    "# <font color='red'>4.0. EDA (Exploratory Data Analysis)</font>"
   ]
  },
  {
   "cell_type": "code",
   "execution_count": 36,
   "id": "41ab5b9d-4583-446f-a58e-ed2f469f4d06",
   "metadata": {
    "execution": {
     "iopub.execute_input": "2025-05-01T12:04:16.879731Z",
     "iopub.status.busy": "2025-05-01T12:04:16.878842Z",
     "iopub.status.idle": "2025-05-01T12:04:16.904719Z",
     "shell.execute_reply": "2025-05-01T12:04:16.901795Z",
     "shell.execute_reply.started": "2025-05-01T12:04:16.879644Z"
    }
   },
   "outputs": [
    {
     "data": {
      "text/plain": [
       "customer_id      0\n",
       "gross_revenue    0\n",
       "recency_days     0\n",
       "qtde_produtcs    0\n",
       "frequency        0\n",
       "qtde_returns     0\n",
       "dtype: int64"
      ]
     },
     "execution_count": 36,
     "metadata": {},
     "output_type": "execute_result"
    }
   ],
   "source": [
    "df4 = df_ref.dropna()\n",
    "df4.isna().sum()"
   ]
  },
  {
   "cell_type": "markdown",
   "id": "fc905b5d-f92a-42f2-8aed-954d0da4b766",
   "metadata": {},
   "source": [
    "## 4.3. Estudo do Espaço"
   ]
  },
  {
   "cell_type": "code",
   "execution_count": 37,
   "id": "dee18d5a-1af9-44cc-953c-da12be03c589",
   "metadata": {
    "execution": {
     "iopub.execute_input": "2025-05-01T12:04:18.861525Z",
     "iopub.status.busy": "2025-05-01T12:04:18.860235Z",
     "iopub.status.idle": "2025-05-01T12:04:18.877818Z",
     "shell.execute_reply": "2025-05-01T12:04:18.875002Z",
     "shell.execute_reply.started": "2025-05-01T12:04:18.861433Z"
    }
   },
   "outputs": [],
   "source": [
    "# Selected Dataset - (Ciclo 06)\n",
    "cols_selected = ['customer_id', 'gross_revenue', 'recency_days', 'qtde_produtcs', 'frequency', 'qtde_returns']\n",
    "df43 = df4[cols_selected].drop( columns='customer_id', axis=1 )"
   ]
  },
  {
   "cell_type": "code",
   "execution_count": 38,
   "id": "d3a4a134-b498-4dfe-aa77-7236624bd7bf",
   "metadata": {
    "execution": {
     "iopub.execute_input": "2025-05-01T12:04:19.306132Z",
     "iopub.status.busy": "2025-05-01T12:04:19.304783Z",
     "iopub.status.idle": "2025-05-01T12:04:19.340925Z",
     "shell.execute_reply": "2025-05-01T12:04:19.338350Z",
     "shell.execute_reply.started": "2025-05-01T12:04:19.306033Z"
    }
   },
   "outputs": [
    {
     "data": {
      "text/html": [
       "<div>\n",
       "<style scoped>\n",
       "    .dataframe tbody tr th:only-of-type {\n",
       "        vertical-align: middle;\n",
       "    }\n",
       "\n",
       "    .dataframe tbody tr th {\n",
       "        vertical-align: top;\n",
       "    }\n",
       "\n",
       "    .dataframe thead th {\n",
       "        text-align: right;\n",
       "    }\n",
       "</style>\n",
       "<table border=\"1\" class=\"dataframe\">\n",
       "  <thead>\n",
       "    <tr style=\"text-align: right;\">\n",
       "      <th></th>\n",
       "      <th>gross_revenue</th>\n",
       "      <th>recency_days</th>\n",
       "      <th>qtde_produtcs</th>\n",
       "      <th>frequency</th>\n",
       "      <th>qtde_returns</th>\n",
       "    </tr>\n",
       "  </thead>\n",
       "  <tbody>\n",
       "    <tr>\n",
       "      <th>0</th>\n",
       "      <td>5391.21</td>\n",
       "      <td>372.0</td>\n",
       "      <td>297.0</td>\n",
       "      <td>17.000000</td>\n",
       "      <td>40.0</td>\n",
       "    </tr>\n",
       "    <tr>\n",
       "      <th>1</th>\n",
       "      <td>3232.59</td>\n",
       "      <td>56.0</td>\n",
       "      <td>171.0</td>\n",
       "      <td>0.028302</td>\n",
       "      <td>35.0</td>\n",
       "    </tr>\n",
       "    <tr>\n",
       "      <th>2</th>\n",
       "      <td>6705.38</td>\n",
       "      <td>2.0</td>\n",
       "      <td>232.0</td>\n",
       "      <td>0.040323</td>\n",
       "      <td>50.0</td>\n",
       "    </tr>\n",
       "    <tr>\n",
       "      <th>3</th>\n",
       "      <td>948.25</td>\n",
       "      <td>95.0</td>\n",
       "      <td>28.0</td>\n",
       "      <td>0.017921</td>\n",
       "      <td>0.0</td>\n",
       "    </tr>\n",
       "    <tr>\n",
       "      <th>4</th>\n",
       "      <td>876.00</td>\n",
       "      <td>333.0</td>\n",
       "      <td>3.0</td>\n",
       "      <td>0.073171</td>\n",
       "      <td>22.0</td>\n",
       "    </tr>\n",
       "  </tbody>\n",
       "</table>\n",
       "</div>"
      ],
      "text/plain": [
       "   gross_revenue  recency_days  qtde_produtcs  frequency  qtde_returns\n",
       "0        5391.21         372.0          297.0  17.000000          40.0\n",
       "1        3232.59          56.0          171.0   0.028302          35.0\n",
       "2        6705.38           2.0          232.0   0.040323          50.0\n",
       "3         948.25          95.0           28.0   0.017921           0.0\n",
       "4         876.00         333.0            3.0   0.073171          22.0"
      ]
     },
     "execution_count": 38,
     "metadata": {},
     "output_type": "execute_result"
    }
   ],
   "source": [
    "df43.head()"
   ]
  },
  {
   "cell_type": "code",
   "execution_count": 39,
   "id": "e73c16e1-a6bd-456e-b971-bbd4d5ab8bff",
   "metadata": {
    "execution": {
     "iopub.execute_input": "2025-05-01T12:04:22.944252Z",
     "iopub.status.busy": "2025-05-01T12:04:22.943465Z",
     "iopub.status.idle": "2025-05-01T12:04:23.004432Z",
     "shell.execute_reply": "2025-05-01T12:04:23.002689Z",
     "shell.execute_reply.started": "2025-05-01T12:04:22.944174Z"
    }
   },
   "outputs": [],
   "source": [
    "mm = pp.MinMaxScaler()\n",
    "\n",
    "#\n",
    "df43['gross_revenue'] = mm.fit_transform( df43[['gross_revenue']] )\n",
    "df43['recency_days'] = mm.fit_transform( df43[['recency_days']] )\n",
    "df43['qtde_produtcs'] = mm.fit_transform( df43[['qtde_produtcs']] )\n",
    "df43['frequency'] = mm.fit_transform( df43[['frequency']] )\n",
    "df43['qtde_returns'] = mm.fit_transform( df43[['qtde_returns']] )\n",
    "\n",
    "X = df43.copy()"
   ]
  },
  {
   "cell_type": "markdown",
   "id": "d7818b44-1ac6-42f1-801e-16c3d5b5b979",
   "metadata": {},
   "source": [
    "### 4.3.1. PCA"
   ]
  },
  {
   "cell_type": "code",
   "execution_count": 40,
   "id": "a0a5ef25-e312-405d-b6ad-31fd29669494",
   "metadata": {
    "execution": {
     "iopub.execute_input": "2025-05-01T12:04:24.924169Z",
     "iopub.status.busy": "2025-05-01T12:04:24.923398Z",
     "iopub.status.idle": "2025-05-01T12:04:25.934589Z",
     "shell.execute_reply": "2025-05-01T12:04:25.932034Z",
     "shell.execute_reply.started": "2025-05-01T12:04:24.924102Z"
    }
   },
   "outputs": [
    {
     "data": {
      "image/png": "[encoded data removed]",
      "text/plain": [
       "<Figure size 640x480 with 1 Axes>"
      ]
     },
     "metadata": {},
     "output_type": "display_data"
    }
   ],
   "source": [
    "pca = dd.PCA ( n_components= X.shape[1] )\n",
    "\n",
    "principal_components = pca.fit_transform ( X )\n",
    "\n",
    "#plot Explained variable\n",
    "features = range( pca.n_components_ )\n",
    "\n",
    "plt.bar( features, pca.explained_variance_ratio_, color='black')\n",
    "\n",
    "# pca component\n",
    "df_pca = pd.DataFrame( principal_components )"
   ]
  },
  {
   "cell_type": "code",
   "execution_count": 41,
   "id": "4b69380c-d867-4c93-8dd0-751b58e1900c",
   "metadata": {
    "execution": {
     "iopub.execute_input": "2025-05-01T12:04:26.847212Z",
     "iopub.status.busy": "2025-05-01T12:04:26.846126Z",
     "iopub.status.idle": "2025-05-01T12:04:27.450773Z",
     "shell.execute_reply": "2025-05-01T12:04:27.448919Z",
     "shell.execute_reply.started": "2025-05-01T12:04:26.847108Z"
    }
   },
   "outputs": [
    {
     "data": {
      "text/plain": [
       "<Axes: xlabel='0', ylabel='1'>"
      ]
     },
     "execution_count": 41,
     "metadata": {},
     "output_type": "execute_result"
    },
    {
     "data": {
      "image/png": "[encoded data removed]",
      "text/plain": [
       "<Figure size 640x480 with 1 Axes>"
      ]
     },
     "metadata": {},
     "output_type": "display_data"
    }
   ],
   "source": [
    "sns.scatterplot ( x=0, y=1, data=df_pca)"
   ]
  },
  {
   "cell_type": "markdown",
   "id": "5757f353-84c7-406e-8392-a89cfa5ffbd4",
   "metadata": {},
   "source": [
    "### 4.3.2. UMAP"
   ]
  },
  {
   "cell_type": "code",
   "execution_count": 42,
   "id": "17ea51f5-bd10-4dc9-97dc-8b0fcacc0b17",
   "metadata": {
    "execution": {
     "iopub.execute_input": "2025-05-01T12:04:29.615486Z",
     "iopub.status.busy": "2025-05-01T12:04:29.614984Z",
     "iopub.status.idle": "2025-05-01T12:05:02.876654Z",
     "shell.execute_reply": "2025-05-01T12:05:02.874593Z",
     "shell.execute_reply.started": "2025-05-01T12:04:29.615429Z"
    }
   },
   "outputs": [
    {
     "name": "stderr",
     "output_type": "stream",
     "text": [
      "/home/tiago/.pyenv/versions/3.8.0/envs/insiders/lib/python3.8/site-packages/umap/umap_.py:1952: UserWarning: n_jobs value 1 overridden to 1 by setting random_state. Use no seed for parallelism.\n",
      "  warn(\n"
     ]
    },
    {
     "data": {
      "image/png": "[encoded data removed]",
      "text/plain": [
       "<Figure size 640x480 with 1 Axes>"
      ]
     },
     "metadata": {},
     "output_type": "display_data"
    }
   ],
   "source": [
    "reducer = umap.UMAP( random_state=42 )\n",
    "embedding = reducer.fit_transform( X )\n",
    "\n",
    "# embedding\n",
    "df_umap = pd.DataFrame()\n",
    "df_umap['embedding_x'] = embedding[:, 0]\n",
    "df_umap['embedding_y'] = embedding[:, 1]\n",
    "\n",
    "#plot\n",
    "sns.scatterplot( x='embedding_x', y='embedding_y',\n",
    "                data=df_umap);"
   ]
  },
  {
   "cell_type": "markdown",
   "id": "4851f6d2-6a25-4f98-8e3d-94f95391b9d4",
   "metadata": {},
   "source": [
    "### 4.3.3. t-SNE"
   ]
  },
  {
   "cell_type": "code",
   "execution_count": 43,
   "id": "60850976-c2cb-4ef4-a3e3-7a4a627479bf",
   "metadata": {
    "execution": {
     "iopub.execute_input": "2025-05-01T12:05:02.879403Z",
     "iopub.status.busy": "2025-05-01T12:05:02.878910Z",
     "iopub.status.idle": "2025-05-01T12:05:22.655851Z",
     "shell.execute_reply": "2025-05-01T12:05:22.653819Z",
     "shell.execute_reply.started": "2025-05-01T12:05:02.879356Z"
    }
   },
   "outputs": [
    {
     "data": {
      "text/plain": [
       "<Axes: xlabel='embedding_x', ylabel='embedding_y'>"
      ]
     },
     "execution_count": 43,
     "metadata": {},
     "output_type": "execute_result"
    },
    {
     "data": {
      "image/png": "[encoded data removed]",
      "text/plain": [
       "<Figure size 640x480 with 1 Axes>"
      ]
     },
     "metadata": {},
     "output_type": "display_data"
    }
   ],
   "source": [
    "reducer = TSNE( n_components=2, n_jobs=-1,random_state=42 )\n",
    "embedding = reducer.fit_transform( X )\n",
    "\n",
    "# embedding\n",
    "df_tsne = pd.DataFrame()\n",
    "df_tsne['embedding_x'] = embedding[:, 0]\n",
    "df_tsne['embedding_y'] = embedding[:, 1]\n",
    "\n",
    "#plot\n",
    "sns.scatterplot( x='embedding_x', y='embedding_y',\n",
    "                data=df_tsne)"
   ]
  },
  {
   "cell_type": "markdown",
   "id": "121610d4-f00f-401d-bbb7-fccdde386ec9",
   "metadata": {},
   "source": [
    "### 4.3.4. Tree-Based Embedding"
   ]
  },
  {
   "cell_type": "code",
   "execution_count": 44,
   "id": "70ebf70e-8ff0-4c34-9ca7-0456c4ea8e87",
   "metadata": {
    "execution": {
     "iopub.execute_input": "2025-05-01T12:05:22.658366Z",
     "iopub.status.busy": "2025-05-01T12:05:22.657771Z",
     "iopub.status.idle": "2025-05-01T12:05:25.411446Z",
     "shell.execute_reply": "2025-05-01T12:05:25.410237Z",
     "shell.execute_reply.started": "2025-05-01T12:05:22.658302Z"
    }
   },
   "outputs": [],
   "source": [
    "# training dataset\n",
    "X = df4.drop( columns=['gross_revenue'], axis=1)\n",
    "y = df4['gross_revenue']\n",
    "\n",
    "# model definition\n",
    "rf_model = en.RandomForestRegressor(n_estimators=100, random_state=42)\n",
    "\n",
    "# model training\n",
    "rf_model.fit( X, y )\n",
    "\n",
    "# Leaf\n",
    "\n",
    "# dataframe Leaf\n",
    "df_leaf = pd.DataFrame( rf_model.apply( X ) )"
   ]
  },
  {
   "cell_type": "code",
   "execution_count": 45,
   "id": "f8755fff-a97a-4b2e-be70-36b17568a4aa",
   "metadata": {
    "execution": {
     "iopub.execute_input": "2025-05-01T12:05:25.414193Z",
     "iopub.status.busy": "2025-05-01T12:05:25.413828Z",
     "iopub.status.idle": "2025-05-01T12:05:33.168850Z",
     "shell.execute_reply": "2025-05-01T12:05:33.166999Z",
     "shell.execute_reply.started": "2025-05-01T12:05:25.414159Z"
    }
   },
   "outputs": [
    {
     "name": "stderr",
     "output_type": "stream",
     "text": [
      "/home/tiago/.pyenv/versions/3.8.0/envs/insiders/lib/python3.8/site-packages/umap/umap_.py:1952: UserWarning: n_jobs value 1 overridden to 1 by setting random_state. Use no seed for parallelism.\n",
      "  warn(\n",
      "/home/tiago/.pyenv/versions/3.8.0/envs/insiders/lib/python3.8/site-packages/sklearn/manifold/_spectral_embedding.py:273: UserWarning: Graph is not fully connected, spectral embedding may not work as expected.\n",
      "  warnings.warn(\n"
     ]
    },
    {
     "data": {
      "text/plain": [
       "<Axes: xlabel='embedding_x', ylabel='embedding_y'>"
      ]
     },
     "execution_count": 45,
     "metadata": {},
     "output_type": "execute_result"
    },
    {
     "data": {
      "image/png": "[encoded data removed]",
      "text/plain": [
       "<Figure size 640x480 with 1 Axes>"
      ]
     },
     "metadata": {},
     "output_type": "display_data"
    }
   ],
   "source": [
    "# reduzindo a dimensionalidade\n",
    "reducer = umap.UMAP( random_state=42 )\n",
    "embedding = reducer.fit_transform( df_leaf )\n",
    "\n",
    "# embedding\n",
    "df_tree = pd.DataFrame()\n",
    "df_tree['embedding_x'] = embedding[:, 0]\n",
    "df_tree['embedding_y'] = embedding[:, 1]\n",
    "\n",
    "#plot\n",
    "sns.scatterplot( x='embedding_x', y='embedding_y',\n",
    "                data=df_tree)"
   ]
  },
  {
   "cell_type": "markdown",
   "id": "1cff104d-36ad-40f2-98d6-c9bd6b59cd86",
   "metadata": {},
   "source": [
    "# <font color='red'>5.0. Data Preparation</font>"
   ]
  },
  {
   "cell_type": "code",
   "execution_count": 46,
   "id": "450a8cdb-6e3c-43f4-a867-40b754c29e0c",
   "metadata": {
    "execution": {
     "iopub.execute_input": "2025-05-01T12:05:33.170835Z",
     "iopub.status.busy": "2025-05-01T12:05:33.170354Z",
     "iopub.status.idle": "2025-05-01T12:05:33.210597Z",
     "shell.execute_reply": "2025-05-01T12:05:33.209361Z",
     "shell.execute_reply.started": "2025-05-01T12:05:33.170778Z"
    }
   },
   "outputs": [],
   "source": [
    "# Tree-Based Embedding\n",
    "df5 = df_tree.copy()\n",
    "\n",
    "# UMAP Embedding\n",
    "#df5 = df_umap.copy()\n",
    "\n",
    "# TSNE Embedding\n",
    "#df5 = df_tsne.copy()"
   ]
  },
  {
   "cell_type": "markdown",
   "id": "711471e6-d307-4ec2-a602-b9397fa75f04",
   "metadata": {},
   "source": [
    "# <font color='red'>7.0. Hyperparameter Fine-Tunning</font>"
   ]
  },
  {
   "cell_type": "code",
   "execution_count": 47,
   "id": "9e331d6b-a251-448c-9651-94238df08c86",
   "metadata": {
    "execution": {
     "iopub.execute_input": "2025-05-01T12:05:33.212986Z",
     "iopub.status.busy": "2025-05-01T12:05:33.212203Z",
     "iopub.status.idle": "2025-05-01T12:05:33.465240Z",
     "shell.execute_reply": "2025-05-01T12:05:33.462843Z",
     "shell.execute_reply.started": "2025-05-01T12:05:33.212889Z"
    }
   },
   "outputs": [],
   "source": [
    "X = df5.copy()"
   ]
  },
  {
   "cell_type": "code",
   "execution_count": 48,
   "id": "20a0a5fd-8332-40b1-8879-d6b475e1a85a",
   "metadata": {
    "execution": {
     "iopub.execute_input": "2025-05-01T12:05:33.469128Z",
     "iopub.status.busy": "2025-05-01T12:05:33.468013Z",
     "iopub.status.idle": "2025-05-01T12:05:34.048359Z",
     "shell.execute_reply": "2025-05-01T12:05:34.046412Z",
     "shell.execute_reply.started": "2025-05-01T12:05:33.469004Z"
    }
   },
   "outputs": [],
   "source": [
    "#clusters = [2, 3, 4, 5, 6, 7, 8, 9]\n",
    "clusters = np.arange( 2, 25, 1)"
   ]
  },
  {
   "cell_type": "markdown",
   "id": "bea300da-cdce-49fa-bb47-501ca7fa8389",
   "metadata": {},
   "source": [
    "## 7.1. K-Means"
   ]
  },
  {
   "cell_type": "code",
   "execution_count": 49,
   "id": "552ea4c5-cf4c-4d3b-a98e-022a6e7c5d2d",
   "metadata": {
    "execution": {
     "iopub.execute_input": "2025-05-01T12:05:34.051293Z",
     "iopub.status.busy": "2025-05-01T12:05:34.050444Z",
     "iopub.status.idle": "2025-05-01T12:06:12.489078Z",
     "shell.execute_reply": "2025-05-01T12:06:12.486880Z",
     "shell.execute_reply.started": "2025-05-01T12:05:34.051205Z"
    }
   },
   "outputs": [],
   "source": [
    "kmeans_list = []\n",
    "for k in clusters:\n",
    "    # model definition\n",
    "    kmeans_model = c.KMeans( n_clusters=k, n_init=100, random_state=42 )\n",
    "    \n",
    "    # model training\n",
    "    kmeans_model.fit( X )\n",
    "    \n",
    "    # model predict\n",
    "    labels = kmeans_model.predict( X )\n",
    "    \n",
    "    # model performance\n",
    "    sil = m.silhouette_score( X, labels, metric='euclidean')\n",
    "    kmeans_list.append( sil )"
   ]
  },
  {
   "cell_type": "code",
   "execution_count": 50,
   "id": "2e36627b-6f99-4964-95c1-466bba748668",
   "metadata": {
    "execution": {
     "iopub.execute_input": "2025-05-01T12:06:12.491425Z",
     "iopub.status.busy": "2025-05-01T12:06:12.490924Z",
     "iopub.status.idle": "2025-05-01T12:06:12.786950Z",
     "shell.execute_reply": "2025-05-01T12:06:12.785473Z",
     "shell.execute_reply.started": "2025-05-01T12:06:12.491372Z"
    }
   },
   "outputs": [
    {
     "data": {
      "text/plain": [
       "Text(0.5, 1.0, 'Silhouette Score x K')"
      ]
     },
     "execution_count": 50,
     "metadata": {},
     "output_type": "execute_result"
    },
    {
     "data": {
      "image/png": "[encoded data removed]",
      "text/plain": [
       "<Figure size 640x480 with 1 Axes>"
      ]
     },
     "metadata": {},
     "output_type": "display_data"
    }
   ],
   "source": [
    "plt.plot(clusters, kmeans_list, linestyle='--', marker='o', color='b')\n",
    "plt.xlabel( 'K' );\n",
    "plt.ylabel( 'Silhouette Score');\n",
    "plt.title( 'Silhouette Score x K' )"
   ]
  },
  {
   "cell_type": "markdown",
   "id": "7976cc9d-f7ce-4e07-aad7-1bfda6a2c7d5",
   "metadata": {},
   "source": [
    "## 7.2. GMM"
   ]
  },
  {
   "cell_type": "code",
   "execution_count": 51,
   "id": "a8f71874-7d2d-4595-a8df-254b80cbe49a",
   "metadata": {
    "execution": {
     "iopub.execute_input": "2025-05-01T12:06:12.790646Z",
     "iopub.status.busy": "2025-05-01T12:06:12.790303Z",
     "iopub.status.idle": "2025-05-01T12:06:51.501963Z",
     "shell.execute_reply": "2025-05-01T12:06:51.500471Z",
     "shell.execute_reply.started": "2025-05-01T12:06:12.790612Z"
    }
   },
   "outputs": [],
   "source": [
    "gmm_list = []\n",
    "for k in clusters:\n",
    "    # model definition\n",
    "    gmm_model = mx.GaussianMixture( n_components=k, n_init=10, random_state=42 )\n",
    "    \n",
    "    # model training\n",
    "    gmm_model.fit( X )\n",
    "    \n",
    "    # model predict\n",
    "    labels = gmm_model.predict( X )\n",
    "    \n",
    "    # model performance\n",
    "    sil = m.silhouette_score( X, labels, metric='euclidean')\n",
    "    gmm_list.append( sil )"
   ]
  },
  {
   "cell_type": "code",
   "execution_count": 52,
   "id": "8af1a314-d305-485c-8b2f-e99f49fe094c",
   "metadata": {
    "execution": {
     "iopub.execute_input": "2025-05-01T12:06:51.504672Z",
     "iopub.status.busy": "2025-05-01T12:06:51.503372Z",
     "iopub.status.idle": "2025-05-01T12:06:51.773656Z",
     "shell.execute_reply": "2025-05-01T12:06:51.772041Z",
     "shell.execute_reply.started": "2025-05-01T12:06:51.504591Z"
    }
   },
   "outputs": [
    {
     "data": {
      "text/plain": [
       "Text(0.5, 1.0, 'Silhouette Score x K')"
      ]
     },
     "execution_count": 52,
     "metadata": {},
     "output_type": "execute_result"
    },
    {
     "data": {
      "image/png": "[encoded data removed]",
      "text/plain": [
       "<Figure size 640x480 with 1 Axes>"
      ]
     },
     "metadata": {},
     "output_type": "display_data"
    }
   ],
   "source": [
    "plt.plot(clusters, gmm_list, linestyle='--', marker='o', color='b')\n",
    "plt.xlabel( 'K' );\n",
    "plt.ylabel( 'Silhouette Score');\n",
    "plt.title( 'Silhouette Score x K' )"
   ]
  },
  {
   "cell_type": "markdown",
   "id": "4baed97f-cd69-45ea-9a83-5cfb9ff670b6",
   "metadata": {},
   "source": [
    "## 7.3. Hierarchical Clustering"
   ]
  },
  {
   "cell_type": "code",
   "execution_count": 53,
   "id": "ee84e4cb-10a4-4e1e-8623-cc953a4fc405",
   "metadata": {
    "execution": {
     "iopub.execute_input": "2025-05-01T12:06:51.775503Z",
     "iopub.status.busy": "2025-05-01T12:06:51.774976Z",
     "iopub.status.idle": "2025-05-01T12:06:52.586243Z",
     "shell.execute_reply": "2025-05-01T12:06:52.584434Z",
     "shell.execute_reply.started": "2025-05-01T12:06:51.775448Z"
    }
   },
   "outputs": [],
   "source": [
    "# model definition and training\n",
    "hc_model = hc.linkage(X, 'ward' )"
   ]
  },
  {
   "cell_type": "markdown",
   "id": "52d14b59-b672-488b-88b3-48c87460232c",
   "metadata": {},
   "source": [
    "### 7.3.1. HClustering Silhouette Score"
   ]
  },
  {
   "cell_type": "code",
   "execution_count": 54,
   "id": "7ac49e0d-b146-4409-89c6-fe0e3c38fca9",
   "metadata": {
    "execution": {
     "iopub.execute_input": "2025-05-01T12:06:52.588253Z",
     "iopub.status.busy": "2025-05-01T12:06:52.587746Z",
     "iopub.status.idle": "2025-05-01T12:07:23.125337Z",
     "shell.execute_reply": "2025-05-01T12:07:23.124006Z",
     "shell.execute_reply.started": "2025-05-01T12:06:52.588205Z"
    }
   },
   "outputs": [],
   "source": [
    "hc_list = []\n",
    "for k in clusters:\n",
    "    # model definition & training\n",
    "    hc_model = hc.linkage( X, 'ward' )\n",
    "    \n",
    "    # model predict\n",
    "    labels = hc.fcluster( hc_model, k, criterion='maxclust' )\n",
    "    \n",
    "    # model performance\n",
    "    sil = m.silhouette_score( X, labels, metric='euclidean')\n",
    "    hc_list.append( sil )"
   ]
  },
  {
   "cell_type": "code",
   "execution_count": 55,
   "id": "870c62b4-1b39-419e-b1ce-81a61f7a93ba",
   "metadata": {
    "execution": {
     "iopub.execute_input": "2025-05-01T12:07:23.126724Z",
     "iopub.status.busy": "2025-05-01T12:07:23.126417Z",
     "iopub.status.idle": "2025-05-01T12:07:23.381866Z",
     "shell.execute_reply": "2025-05-01T12:07:23.380311Z",
     "shell.execute_reply.started": "2025-05-01T12:07:23.126694Z"
    }
   },
   "outputs": [
    {
     "data": {
      "text/plain": [
       "Text(0.5, 1.0, 'Silhouette Score x K')"
      ]
     },
     "execution_count": 55,
     "metadata": {},
     "output_type": "execute_result"
    },
    {
     "data": {
      "image/png": "[encoded data removed]",
      "text/plain": [
       "<Figure size 640x480 with 1 Axes>"
      ]
     },
     "metadata": {},
     "output_type": "display_data"
    }
   ],
   "source": [
    "plt.plot(clusters, hc_list, linestyle='--', marker='o', color='b')\n",
    "plt.xlabel( 'K' );\n",
    "plt.ylabel( 'Silhouette Score');\n",
    "plt.title( 'Silhouette Score x K' )"
   ]
  },
  {
   "cell_type": "code",
   "execution_count": 99,
   "id": "f50ca6fa-d21b-4a00-854b-6ca33db9bfdc",
   "metadata": {
    "execution": {
     "iopub.execute_input": "2025-04-30T13:16:43.452390Z",
     "iopub.status.busy": "2025-04-30T13:16:43.451851Z",
     "iopub.status.idle": "2025-04-30T13:16:43.986000Z",
     "shell.execute_reply": "2025-04-30T13:16:43.984535Z",
     "shell.execute_reply.started": "2025-04-30T13:16:43.452346Z"
    }
   },
   "outputs": [
    {
     "data": {
      "text/html": [
       "<style type=\"text/css\">\n",
       "#T_298a9_row0_col22, #T_298a9_row1_col21, #T_298a9_row2_col22 {\n",
       "  background-color: lightgreen;\n",
       "}\n",
       "</style>\n",
       "<table id=\"T_298a9\">\n",
       "  <thead>\n",
       "    <tr>\n",
       "      <th class=\"blank level0\" >&nbsp;</th>\n",
       "      <th id=\"T_298a9_level0_col0\" class=\"col_heading level0 col0\" >2</th>\n",
       "      <th id=\"T_298a9_level0_col1\" class=\"col_heading level0 col1\" >3</th>\n",
       "      <th id=\"T_298a9_level0_col2\" class=\"col_heading level0 col2\" >4</th>\n",
       "      <th id=\"T_298a9_level0_col3\" class=\"col_heading level0 col3\" >5</th>\n",
       "      <th id=\"T_298a9_level0_col4\" class=\"col_heading level0 col4\" >6</th>\n",
       "      <th id=\"T_298a9_level0_col5\" class=\"col_heading level0 col5\" >7</th>\n",
       "      <th id=\"T_298a9_level0_col6\" class=\"col_heading level0 col6\" >8</th>\n",
       "      <th id=\"T_298a9_level0_col7\" class=\"col_heading level0 col7\" >9</th>\n",
       "      <th id=\"T_298a9_level0_col8\" class=\"col_heading level0 col8\" >10</th>\n",
       "      <th id=\"T_298a9_level0_col9\" class=\"col_heading level0 col9\" >11</th>\n",
       "      <th id=\"T_298a9_level0_col10\" class=\"col_heading level0 col10\" >12</th>\n",
       "      <th id=\"T_298a9_level0_col11\" class=\"col_heading level0 col11\" >13</th>\n",
       "      <th id=\"T_298a9_level0_col12\" class=\"col_heading level0 col12\" >14</th>\n",
       "      <th id=\"T_298a9_level0_col13\" class=\"col_heading level0 col13\" >15</th>\n",
       "      <th id=\"T_298a9_level0_col14\" class=\"col_heading level0 col14\" >16</th>\n",
       "      <th id=\"T_298a9_level0_col15\" class=\"col_heading level0 col15\" >17</th>\n",
       "      <th id=\"T_298a9_level0_col16\" class=\"col_heading level0 col16\" >18</th>\n",
       "      <th id=\"T_298a9_level0_col17\" class=\"col_heading level0 col17\" >19</th>\n",
       "      <th id=\"T_298a9_level0_col18\" class=\"col_heading level0 col18\" >20</th>\n",
       "      <th id=\"T_298a9_level0_col19\" class=\"col_heading level0 col19\" >21</th>\n",
       "      <th id=\"T_298a9_level0_col20\" class=\"col_heading level0 col20\" >22</th>\n",
       "      <th id=\"T_298a9_level0_col21\" class=\"col_heading level0 col21\" >23</th>\n",
       "      <th id=\"T_298a9_level0_col22\" class=\"col_heading level0 col22\" >24</th>\n",
       "    </tr>\n",
       "  </thead>\n",
       "  <tbody>\n",
       "    <tr>\n",
       "      <th id=\"T_298a9_level0_row0\" class=\"row_heading level0 row0\" >Kmeans</th>\n",
       "      <td id=\"T_298a9_row0_col0\" class=\"data row0 col0\" >0.367648</td>\n",
       "      <td id=\"T_298a9_row0_col1\" class=\"data row0 col1\" >0.460202</td>\n",
       "      <td id=\"T_298a9_row0_col2\" class=\"data row0 col2\" >0.458051</td>\n",
       "      <td id=\"T_298a9_row0_col3\" class=\"data row0 col3\" >0.440121</td>\n",
       "      <td id=\"T_298a9_row0_col4\" class=\"data row0 col4\" >0.439244</td>\n",
       "      <td id=\"T_298a9_row0_col5\" class=\"data row0 col5\" >0.467595</td>\n",
       "      <td id=\"T_298a9_row0_col6\" class=\"data row0 col6\" >0.486050</td>\n",
       "      <td id=\"T_298a9_row0_col7\" class=\"data row0 col7\" >0.518489</td>\n",
       "      <td id=\"T_298a9_row0_col8\" class=\"data row0 col8\" >0.529600</td>\n",
       "      <td id=\"T_298a9_row0_col9\" class=\"data row0 col9\" >0.529447</td>\n",
       "      <td id=\"T_298a9_row0_col10\" class=\"data row0 col10\" >0.524822</td>\n",
       "      <td id=\"T_298a9_row0_col11\" class=\"data row0 col11\" >0.534301</td>\n",
       "      <td id=\"T_298a9_row0_col12\" class=\"data row0 col12\" >0.530712</td>\n",
       "      <td id=\"T_298a9_row0_col13\" class=\"data row0 col13\" >0.531275</td>\n",
       "      <td id=\"T_298a9_row0_col14\" class=\"data row0 col14\" >0.535964</td>\n",
       "      <td id=\"T_298a9_row0_col15\" class=\"data row0 col15\" >0.544104</td>\n",
       "      <td id=\"T_298a9_row0_col16\" class=\"data row0 col16\" >0.542645</td>\n",
       "      <td id=\"T_298a9_row0_col17\" class=\"data row0 col17\" >0.545900</td>\n",
       "      <td id=\"T_298a9_row0_col18\" class=\"data row0 col18\" >0.562361</td>\n",
       "      <td id=\"T_298a9_row0_col19\" class=\"data row0 col19\" >0.565888</td>\n",
       "      <td id=\"T_298a9_row0_col20\" class=\"data row0 col20\" >0.564327</td>\n",
       "      <td id=\"T_298a9_row0_col21\" class=\"data row0 col21\" >0.570891</td>\n",
       "      <td id=\"T_298a9_row0_col22\" class=\"data row0 col22\" >0.581490</td>\n",
       "    </tr>\n",
       "    <tr>\n",
       "      <th id=\"T_298a9_level0_row1\" class=\"row_heading level0 row1\" >GMM</th>\n",
       "      <td id=\"T_298a9_row1_col0\" class=\"data row1 col0\" >0.380251</td>\n",
       "      <td id=\"T_298a9_row1_col1\" class=\"data row1 col1\" >0.429532</td>\n",
       "      <td id=\"T_298a9_row1_col2\" class=\"data row1 col2\" >0.402878</td>\n",
       "      <td id=\"T_298a9_row1_col3\" class=\"data row1 col3\" >0.396171</td>\n",
       "      <td id=\"T_298a9_row1_col4\" class=\"data row1 col4\" >0.394819</td>\n",
       "      <td id=\"T_298a9_row1_col5\" class=\"data row1 col5\" >0.423868</td>\n",
       "      <td id=\"T_298a9_row1_col6\" class=\"data row1 col6\" >0.426517</td>\n",
       "      <td id=\"T_298a9_row1_col7\" class=\"data row1 col7\" >0.467087</td>\n",
       "      <td id=\"T_298a9_row1_col8\" class=\"data row1 col8\" >0.449489</td>\n",
       "      <td id=\"T_298a9_row1_col9\" class=\"data row1 col9\" >0.435526</td>\n",
       "      <td id=\"T_298a9_row1_col10\" class=\"data row1 col10\" >0.481677</td>\n",
       "      <td id=\"T_298a9_row1_col11\" class=\"data row1 col11\" >0.429240</td>\n",
       "      <td id=\"T_298a9_row1_col12\" class=\"data row1 col12\" >0.427441</td>\n",
       "      <td id=\"T_298a9_row1_col13\" class=\"data row1 col13\" >0.433829</td>\n",
       "      <td id=\"T_298a9_row1_col14\" class=\"data row1 col14\" >0.415912</td>\n",
       "      <td id=\"T_298a9_row1_col15\" class=\"data row1 col15\" >0.494435</td>\n",
       "      <td id=\"T_298a9_row1_col16\" class=\"data row1 col16\" >0.482797</td>\n",
       "      <td id=\"T_298a9_row1_col17\" class=\"data row1 col17\" >0.519732</td>\n",
       "      <td id=\"T_298a9_row1_col18\" class=\"data row1 col18\" >0.518536</td>\n",
       "      <td id=\"T_298a9_row1_col19\" class=\"data row1 col19\" >0.537406</td>\n",
       "      <td id=\"T_298a9_row1_col20\" class=\"data row1 col20\" >0.469340</td>\n",
       "      <td id=\"T_298a9_row1_col21\" class=\"data row1 col21\" >0.550786</td>\n",
       "      <td id=\"T_298a9_row1_col22\" class=\"data row1 col22\" >0.502743</td>\n",
       "    </tr>\n",
       "    <tr>\n",
       "      <th id=\"T_298a9_level0_row2\" class=\"row_heading level0 row2\" >HC</th>\n",
       "      <td id=\"T_298a9_row2_col0\" class=\"data row2 col0\" >0.382178</td>\n",
       "      <td id=\"T_298a9_row2_col1\" class=\"data row2 col1\" >0.420723</td>\n",
       "      <td id=\"T_298a9_row2_col2\" class=\"data row2 col2\" >0.425372</td>\n",
       "      <td id=\"T_298a9_row2_col3\" class=\"data row2 col3\" >0.412282</td>\n",
       "      <td id=\"T_298a9_row2_col4\" class=\"data row2 col4\" >0.427954</td>\n",
       "      <td id=\"T_298a9_row2_col5\" class=\"data row2 col5\" >0.459252</td>\n",
       "      <td id=\"T_298a9_row2_col6\" class=\"data row2 col6\" >0.501761</td>\n",
       "      <td id=\"T_298a9_row2_col7\" class=\"data row2 col7\" >0.499320</td>\n",
       "      <td id=\"T_298a9_row2_col8\" class=\"data row2 col8\" >0.502613</td>\n",
       "      <td id=\"T_298a9_row2_col9\" class=\"data row2 col9\" >0.518014</td>\n",
       "      <td id=\"T_298a9_row2_col10\" class=\"data row2 col10\" >0.506867</td>\n",
       "      <td id=\"T_298a9_row2_col11\" class=\"data row2 col11\" >0.510278</td>\n",
       "      <td id=\"T_298a9_row2_col12\" class=\"data row2 col12\" >0.502656</td>\n",
       "      <td id=\"T_298a9_row2_col13\" class=\"data row2 col13\" >0.515228</td>\n",
       "      <td id=\"T_298a9_row2_col14\" class=\"data row2 col14\" >0.511235</td>\n",
       "      <td id=\"T_298a9_row2_col15\" class=\"data row2 col15\" >0.520801</td>\n",
       "      <td id=\"T_298a9_row2_col16\" class=\"data row2 col16\" >0.522595</td>\n",
       "      <td id=\"T_298a9_row2_col17\" class=\"data row2 col17\" >0.526149</td>\n",
       "      <td id=\"T_298a9_row2_col18\" class=\"data row2 col18\" >0.530821</td>\n",
       "      <td id=\"T_298a9_row2_col19\" class=\"data row2 col19\" >0.535682</td>\n",
       "      <td id=\"T_298a9_row2_col20\" class=\"data row2 col20\" >0.541711</td>\n",
       "      <td id=\"T_298a9_row2_col21\" class=\"data row2 col21\" >0.548298</td>\n",
       "      <td id=\"T_298a9_row2_col22\" class=\"data row2 col22\" >0.555822</td>\n",
       "    </tr>\n",
       "  </tbody>\n",
       "</table>\n"
      ],
      "text/plain": [
       "<pandas.io.formats.style.Styler at 0x753aa9262a90>"
      ]
     },
     "execution_count": 99,
     "metadata": {},
     "output_type": "execute_result"
    }
   ],
   "source": [
    "## 7.5. Results - Tree Based Embedding\n",
    "df_results = pd.DataFrame(\n",
    "    {'Kmeans': kmeans_list,\n",
    "     'GMM': gmm_list,\n",
    "     'HC': hc_list}\n",
    ").T\n",
    "\n",
    "df_results.columns = clusters\n",
    "df_results.style.highlight_max( color='lightgreen', axis=1)"
   ]
  },
  {
   "cell_type": "code",
   "execution_count": 110,
   "id": "6973be8a-a215-4a6d-b5c1-dbb06da462b1",
   "metadata": {
    "execution": {
     "iopub.execute_input": "2025-04-30T13:32:46.250016Z",
     "iopub.status.busy": "2025-04-30T13:32:46.249689Z",
     "iopub.status.idle": "2025-04-30T13:32:46.350760Z",
     "shell.execute_reply": "2025-04-30T13:32:46.348231Z",
     "shell.execute_reply.started": "2025-04-30T13:32:46.249984Z"
    }
   },
   "outputs": [
    {
     "data": {
      "text/html": [
       "<style type=\"text/css\">\n",
       "#T_bf53a_row0_col22, #T_bf53a_row1_col22, #T_bf53a_row2_col22 {\n",
       "  background-color: lightgreen;\n",
       "}\n",
       "</style>\n",
       "<table id=\"T_bf53a\">\n",
       "  <thead>\n",
       "    <tr>\n",
       "      <th class=\"blank level0\" >&nbsp;</th>\n",
       "      <th id=\"T_bf53a_level0_col0\" class=\"col_heading level0 col0\" >2</th>\n",
       "      <th id=\"T_bf53a_level0_col1\" class=\"col_heading level0 col1\" >3</th>\n",
       "      <th id=\"T_bf53a_level0_col2\" class=\"col_heading level0 col2\" >4</th>\n",
       "      <th id=\"T_bf53a_level0_col3\" class=\"col_heading level0 col3\" >5</th>\n",
       "      <th id=\"T_bf53a_level0_col4\" class=\"col_heading level0 col4\" >6</th>\n",
       "      <th id=\"T_bf53a_level0_col5\" class=\"col_heading level0 col5\" >7</th>\n",
       "      <th id=\"T_bf53a_level0_col6\" class=\"col_heading level0 col6\" >8</th>\n",
       "      <th id=\"T_bf53a_level0_col7\" class=\"col_heading level0 col7\" >9</th>\n",
       "      <th id=\"T_bf53a_level0_col8\" class=\"col_heading level0 col8\" >10</th>\n",
       "      <th id=\"T_bf53a_level0_col9\" class=\"col_heading level0 col9\" >11</th>\n",
       "      <th id=\"T_bf53a_level0_col10\" class=\"col_heading level0 col10\" >12</th>\n",
       "      <th id=\"T_bf53a_level0_col11\" class=\"col_heading level0 col11\" >13</th>\n",
       "      <th id=\"T_bf53a_level0_col12\" class=\"col_heading level0 col12\" >14</th>\n",
       "      <th id=\"T_bf53a_level0_col13\" class=\"col_heading level0 col13\" >15</th>\n",
       "      <th id=\"T_bf53a_level0_col14\" class=\"col_heading level0 col14\" >16</th>\n",
       "      <th id=\"T_bf53a_level0_col15\" class=\"col_heading level0 col15\" >17</th>\n",
       "      <th id=\"T_bf53a_level0_col16\" class=\"col_heading level0 col16\" >18</th>\n",
       "      <th id=\"T_bf53a_level0_col17\" class=\"col_heading level0 col17\" >19</th>\n",
       "      <th id=\"T_bf53a_level0_col18\" class=\"col_heading level0 col18\" >20</th>\n",
       "      <th id=\"T_bf53a_level0_col19\" class=\"col_heading level0 col19\" >21</th>\n",
       "      <th id=\"T_bf53a_level0_col20\" class=\"col_heading level0 col20\" >22</th>\n",
       "      <th id=\"T_bf53a_level0_col21\" class=\"col_heading level0 col21\" >23</th>\n",
       "      <th id=\"T_bf53a_level0_col22\" class=\"col_heading level0 col22\" >24</th>\n",
       "    </tr>\n",
       "  </thead>\n",
       "  <tbody>\n",
       "    <tr>\n",
       "      <th id=\"T_bf53a_level0_row0\" class=\"row_heading level0 row0\" >Kmeans</th>\n",
       "      <td id=\"T_bf53a_row0_col0\" class=\"data row0 col0\" >0.440712</td>\n",
       "      <td id=\"T_bf53a_row0_col1\" class=\"data row0 col1\" >0.468515</td>\n",
       "      <td id=\"T_bf53a_row0_col2\" class=\"data row0 col2\" >0.480087</td>\n",
       "      <td id=\"T_bf53a_row0_col3\" class=\"data row0 col3\" >0.463209</td>\n",
       "      <td id=\"T_bf53a_row0_col4\" class=\"data row0 col4\" >0.455744</td>\n",
       "      <td id=\"T_bf53a_row0_col5\" class=\"data row0 col5\" >0.457584</td>\n",
       "      <td id=\"T_bf53a_row0_col6\" class=\"data row0 col6\" >0.472404</td>\n",
       "      <td id=\"T_bf53a_row0_col7\" class=\"data row0 col7\" >0.486295</td>\n",
       "      <td id=\"T_bf53a_row0_col8\" class=\"data row0 col8\" >0.488144</td>\n",
       "      <td id=\"T_bf53a_row0_col9\" class=\"data row0 col9\" >0.506071</td>\n",
       "      <td id=\"T_bf53a_row0_col10\" class=\"data row0 col10\" >0.510430</td>\n",
       "      <td id=\"T_bf53a_row0_col11\" class=\"data row0 col11\" >0.523891</td>\n",
       "      <td id=\"T_bf53a_row0_col12\" class=\"data row0 col12\" >0.540354</td>\n",
       "      <td id=\"T_bf53a_row0_col13\" class=\"data row0 col13\" >0.540044</td>\n",
       "      <td id=\"T_bf53a_row0_col14\" class=\"data row0 col14\" >0.542900</td>\n",
       "      <td id=\"T_bf53a_row0_col15\" class=\"data row0 col15\" >0.528795</td>\n",
       "      <td id=\"T_bf53a_row0_col16\" class=\"data row0 col16\" >0.540364</td>\n",
       "      <td id=\"T_bf53a_row0_col17\" class=\"data row0 col17\" >0.539810</td>\n",
       "      <td id=\"T_bf53a_row0_col18\" class=\"data row0 col18\" >0.553509</td>\n",
       "      <td id=\"T_bf53a_row0_col19\" class=\"data row0 col19\" >0.556602</td>\n",
       "      <td id=\"T_bf53a_row0_col20\" class=\"data row0 col20\" >0.564246</td>\n",
       "      <td id=\"T_bf53a_row0_col21\" class=\"data row0 col21\" >0.569689</td>\n",
       "      <td id=\"T_bf53a_row0_col22\" class=\"data row0 col22\" >0.572788</td>\n",
       "    </tr>\n",
       "    <tr>\n",
       "      <th id=\"T_bf53a_level0_row1\" class=\"row_heading level0 row1\" >GMM</th>\n",
       "      <td id=\"T_bf53a_row1_col0\" class=\"data row1 col0\" >0.406763</td>\n",
       "      <td id=\"T_bf53a_row1_col1\" class=\"data row1 col1\" >0.432368</td>\n",
       "      <td id=\"T_bf53a_row1_col2\" class=\"data row1 col2\" >0.475550</td>\n",
       "      <td id=\"T_bf53a_row1_col3\" class=\"data row1 col3\" >0.419933</td>\n",
       "      <td id=\"T_bf53a_row1_col4\" class=\"data row1 col4\" >0.254140</td>\n",
       "      <td id=\"T_bf53a_row1_col5\" class=\"data row1 col5\" >0.369554</td>\n",
       "      <td id=\"T_bf53a_row1_col6\" class=\"data row1 col6\" >0.358952</td>\n",
       "      <td id=\"T_bf53a_row1_col7\" class=\"data row1 col7\" >0.323557</td>\n",
       "      <td id=\"T_bf53a_row1_col8\" class=\"data row1 col8\" >0.428590</td>\n",
       "      <td id=\"T_bf53a_row1_col9\" class=\"data row1 col9\" >0.420105</td>\n",
       "      <td id=\"T_bf53a_row1_col10\" class=\"data row1 col10\" >0.481080</td>\n",
       "      <td id=\"T_bf53a_row1_col11\" class=\"data row1 col11\" >0.456113</td>\n",
       "      <td id=\"T_bf53a_row1_col12\" class=\"data row1 col12\" >0.461393</td>\n",
       "      <td id=\"T_bf53a_row1_col13\" class=\"data row1 col13\" >0.466490</td>\n",
       "      <td id=\"T_bf53a_row1_col14\" class=\"data row1 col14\" >0.505482</td>\n",
       "      <td id=\"T_bf53a_row1_col15\" class=\"data row1 col15\" >0.440041</td>\n",
       "      <td id=\"T_bf53a_row1_col16\" class=\"data row1 col16\" >0.494110</td>\n",
       "      <td id=\"T_bf53a_row1_col17\" class=\"data row1 col17\" >0.507651</td>\n",
       "      <td id=\"T_bf53a_row1_col18\" class=\"data row1 col18\" >0.515428</td>\n",
       "      <td id=\"T_bf53a_row1_col19\" class=\"data row1 col19\" >0.499123</td>\n",
       "      <td id=\"T_bf53a_row1_col20\" class=\"data row1 col20\" >0.514906</td>\n",
       "      <td id=\"T_bf53a_row1_col21\" class=\"data row1 col21\" >0.490302</td>\n",
       "      <td id=\"T_bf53a_row1_col22\" class=\"data row1 col22\" >0.527739</td>\n",
       "    </tr>\n",
       "    <tr>\n",
       "      <th id=\"T_bf53a_level0_row2\" class=\"row_heading level0 row2\" >HC</th>\n",
       "      <td id=\"T_bf53a_row2_col0\" class=\"data row2 col0\" >0.388978</td>\n",
       "      <td id=\"T_bf53a_row2_col1\" class=\"data row2 col1\" >0.450148</td>\n",
       "      <td id=\"T_bf53a_row2_col2\" class=\"data row2 col2\" >0.443880</td>\n",
       "      <td id=\"T_bf53a_row2_col3\" class=\"data row2 col3\" >0.450691</td>\n",
       "      <td id=\"T_bf53a_row2_col4\" class=\"data row2 col4\" >0.439218</td>\n",
       "      <td id=\"T_bf53a_row2_col5\" class=\"data row2 col5\" >0.406871</td>\n",
       "      <td id=\"T_bf53a_row2_col6\" class=\"data row2 col6\" >0.442933</td>\n",
       "      <td id=\"T_bf53a_row2_col7\" class=\"data row2 col7\" >0.448037</td>\n",
       "      <td id=\"T_bf53a_row2_col8\" class=\"data row2 col8\" >0.471143</td>\n",
       "      <td id=\"T_bf53a_row2_col9\" class=\"data row2 col9\" >0.491973</td>\n",
       "      <td id=\"T_bf53a_row2_col10\" class=\"data row2 col10\" >0.501544</td>\n",
       "      <td id=\"T_bf53a_row2_col11\" class=\"data row2 col11\" >0.502184</td>\n",
       "      <td id=\"T_bf53a_row2_col12\" class=\"data row2 col12\" >0.515971</td>\n",
       "      <td id=\"T_bf53a_row2_col13\" class=\"data row2 col13\" >0.525869</td>\n",
       "      <td id=\"T_bf53a_row2_col14\" class=\"data row2 col14\" >0.528296</td>\n",
       "      <td id=\"T_bf53a_row2_col15\" class=\"data row2 col15\" >0.515254</td>\n",
       "      <td id=\"T_bf53a_row2_col16\" class=\"data row2 col16\" >0.525228</td>\n",
       "      <td id=\"T_bf53a_row2_col17\" class=\"data row2 col17\" >0.536489</td>\n",
       "      <td id=\"T_bf53a_row2_col18\" class=\"data row2 col18\" >0.537360</td>\n",
       "      <td id=\"T_bf53a_row2_col19\" class=\"data row2 col19\" >0.542695</td>\n",
       "      <td id=\"T_bf53a_row2_col20\" class=\"data row2 col20\" >0.549070</td>\n",
       "      <td id=\"T_bf53a_row2_col21\" class=\"data row2 col21\" >0.549689</td>\n",
       "      <td id=\"T_bf53a_row2_col22\" class=\"data row2 col22\" >0.557585</td>\n",
       "    </tr>\n",
       "  </tbody>\n",
       "</table>\n"
      ],
      "text/plain": [
       "<pandas.io.formats.style.Styler at 0x753aa8269f10>"
      ]
     },
     "execution_count": 110,
     "metadata": {},
     "output_type": "execute_result"
    }
   ],
   "source": [
    "## 7.6. Results - UMAP Embedding\n",
    "df_results = pd.DataFrame(\n",
    "    {'Kmeans': kmeans_list,\n",
    "     'GMM': gmm_list,\n",
    "     'HC': hc_list}\n",
    ").T\n",
    "\n",
    "df_results.columns = clusters\n",
    "df_results.style.highlight_max( color='lightgreen', axis=1)"
   ]
  },
  {
   "cell_type": "code",
   "execution_count": 121,
   "id": "b43eae97-a8a6-46f3-b7f2-4d8291dc91aa",
   "metadata": {
    "execution": {
     "iopub.execute_input": "2025-04-30T13:56:06.010191Z",
     "iopub.status.busy": "2025-04-30T13:56:06.009752Z",
     "iopub.status.idle": "2025-04-30T13:56:06.176987Z",
     "shell.execute_reply": "2025-04-30T13:56:06.173679Z",
     "shell.execute_reply.started": "2025-04-30T13:56:06.010151Z"
    }
   },
   "outputs": [
    {
     "data": {
      "text/html": [
       "<style type=\"text/css\">\n",
       "#T_14251_row0_col22, #T_14251_row1_col21, #T_14251_row2_col21 {\n",
       "  background-color: lightgreen;\n",
       "}\n",
       "</style>\n",
       "<table id=\"T_14251\">\n",
       "  <thead>\n",
       "    <tr>\n",
       "      <th class=\"blank level0\" >&nbsp;</th>\n",
       "      <th id=\"T_14251_level0_col0\" class=\"col_heading level0 col0\" >2</th>\n",
       "      <th id=\"T_14251_level0_col1\" class=\"col_heading level0 col1\" >3</th>\n",
       "      <th id=\"T_14251_level0_col2\" class=\"col_heading level0 col2\" >4</th>\n",
       "      <th id=\"T_14251_level0_col3\" class=\"col_heading level0 col3\" >5</th>\n",
       "      <th id=\"T_14251_level0_col4\" class=\"col_heading level0 col4\" >6</th>\n",
       "      <th id=\"T_14251_level0_col5\" class=\"col_heading level0 col5\" >7</th>\n",
       "      <th id=\"T_14251_level0_col6\" class=\"col_heading level0 col6\" >8</th>\n",
       "      <th id=\"T_14251_level0_col7\" class=\"col_heading level0 col7\" >9</th>\n",
       "      <th id=\"T_14251_level0_col8\" class=\"col_heading level0 col8\" >10</th>\n",
       "      <th id=\"T_14251_level0_col9\" class=\"col_heading level0 col9\" >11</th>\n",
       "      <th id=\"T_14251_level0_col10\" class=\"col_heading level0 col10\" >12</th>\n",
       "      <th id=\"T_14251_level0_col11\" class=\"col_heading level0 col11\" >13</th>\n",
       "      <th id=\"T_14251_level0_col12\" class=\"col_heading level0 col12\" >14</th>\n",
       "      <th id=\"T_14251_level0_col13\" class=\"col_heading level0 col13\" >15</th>\n",
       "      <th id=\"T_14251_level0_col14\" class=\"col_heading level0 col14\" >16</th>\n",
       "      <th id=\"T_14251_level0_col15\" class=\"col_heading level0 col15\" >17</th>\n",
       "      <th id=\"T_14251_level0_col16\" class=\"col_heading level0 col16\" >18</th>\n",
       "      <th id=\"T_14251_level0_col17\" class=\"col_heading level0 col17\" >19</th>\n",
       "      <th id=\"T_14251_level0_col18\" class=\"col_heading level0 col18\" >20</th>\n",
       "      <th id=\"T_14251_level0_col19\" class=\"col_heading level0 col19\" >21</th>\n",
       "      <th id=\"T_14251_level0_col20\" class=\"col_heading level0 col20\" >22</th>\n",
       "      <th id=\"T_14251_level0_col21\" class=\"col_heading level0 col21\" >23</th>\n",
       "      <th id=\"T_14251_level0_col22\" class=\"col_heading level0 col22\" >24</th>\n",
       "    </tr>\n",
       "  </thead>\n",
       "  <tbody>\n",
       "    <tr>\n",
       "      <th id=\"T_14251_level0_row0\" class=\"row_heading level0 row0\" >Kmeans</th>\n",
       "      <td id=\"T_14251_row0_col0\" class=\"data row0 col0\" >0.352204</td>\n",
       "      <td id=\"T_14251_row0_col1\" class=\"data row0 col1\" >0.391075</td>\n",
       "      <td id=\"T_14251_row0_col2\" class=\"data row0 col2\" >0.406995</td>\n",
       "      <td id=\"T_14251_row0_col3\" class=\"data row0 col3\" >0.407313</td>\n",
       "      <td id=\"T_14251_row0_col4\" class=\"data row0 col4\" >0.421849</td>\n",
       "      <td id=\"T_14251_row0_col5\" class=\"data row0 col5\" >0.423702</td>\n",
       "      <td id=\"T_14251_row0_col6\" class=\"data row0 col6\" >0.422029</td>\n",
       "      <td id=\"T_14251_row0_col7\" class=\"data row0 col7\" >0.426500</td>\n",
       "      <td id=\"T_14251_row0_col8\" class=\"data row0 col8\" >0.428827</td>\n",
       "      <td id=\"T_14251_row0_col9\" class=\"data row0 col9\" >0.445264</td>\n",
       "      <td id=\"T_14251_row0_col10\" class=\"data row0 col10\" >0.443559</td>\n",
       "      <td id=\"T_14251_row0_col11\" class=\"data row0 col11\" >0.443842</td>\n",
       "      <td id=\"T_14251_row0_col12\" class=\"data row0 col12\" >0.445922</td>\n",
       "      <td id=\"T_14251_row0_col13\" class=\"data row0 col13\" >0.448645</td>\n",
       "      <td id=\"T_14251_row0_col14\" class=\"data row0 col14\" >0.453837</td>\n",
       "      <td id=\"T_14251_row0_col15\" class=\"data row0 col15\" >0.464858</td>\n",
       "      <td id=\"T_14251_row0_col16\" class=\"data row0 col16\" >0.468475</td>\n",
       "      <td id=\"T_14251_row0_col17\" class=\"data row0 col17\" >0.466333</td>\n",
       "      <td id=\"T_14251_row0_col18\" class=\"data row0 col18\" >0.474754</td>\n",
       "      <td id=\"T_14251_row0_col19\" class=\"data row0 col19\" >0.479596</td>\n",
       "      <td id=\"T_14251_row0_col20\" class=\"data row0 col20\" >0.483555</td>\n",
       "      <td id=\"T_14251_row0_col21\" class=\"data row0 col21\" >0.483386</td>\n",
       "      <td id=\"T_14251_row0_col22\" class=\"data row0 col22\" >0.487452</td>\n",
       "    </tr>\n",
       "    <tr>\n",
       "      <th id=\"T_14251_level0_row1\" class=\"row_heading level0 row1\" >GMM</th>\n",
       "      <td id=\"T_14251_row1_col0\" class=\"data row1 col0\" >0.353616</td>\n",
       "      <td id=\"T_14251_row1_col1\" class=\"data row1 col1\" >0.368886</td>\n",
       "      <td id=\"T_14251_row1_col2\" class=\"data row1 col2\" >0.387388</td>\n",
       "      <td id=\"T_14251_row1_col3\" class=\"data row1 col3\" >0.341046</td>\n",
       "      <td id=\"T_14251_row1_col4\" class=\"data row1 col4\" >0.328913</td>\n",
       "      <td id=\"T_14251_row1_col5\" class=\"data row1 col5\" >0.361048</td>\n",
       "      <td id=\"T_14251_row1_col6\" class=\"data row1 col6\" >0.395721</td>\n",
       "      <td id=\"T_14251_row1_col7\" class=\"data row1 col7\" >0.374983</td>\n",
       "      <td id=\"T_14251_row1_col8\" class=\"data row1 col8\" >0.279010</td>\n",
       "      <td id=\"T_14251_row1_col9\" class=\"data row1 col9\" >0.327052</td>\n",
       "      <td id=\"T_14251_row1_col10\" class=\"data row1 col10\" >0.264883</td>\n",
       "      <td id=\"T_14251_row1_col11\" class=\"data row1 col11\" >0.247630</td>\n",
       "      <td id=\"T_14251_row1_col12\" class=\"data row1 col12\" >0.314894</td>\n",
       "      <td id=\"T_14251_row1_col13\" class=\"data row1 col13\" >0.367622</td>\n",
       "      <td id=\"T_14251_row1_col14\" class=\"data row1 col14\" >0.389050</td>\n",
       "      <td id=\"T_14251_row1_col15\" class=\"data row1 col15\" >0.231949</td>\n",
       "      <td id=\"T_14251_row1_col16\" class=\"data row1 col16\" >0.374381</td>\n",
       "      <td id=\"T_14251_row1_col17\" class=\"data row1 col17\" >0.391803</td>\n",
       "      <td id=\"T_14251_row1_col18\" class=\"data row1 col18\" >0.405014</td>\n",
       "      <td id=\"T_14251_row1_col19\" class=\"data row1 col19\" >0.383828</td>\n",
       "      <td id=\"T_14251_row1_col20\" class=\"data row1 col20\" >0.409989</td>\n",
       "      <td id=\"T_14251_row1_col21\" class=\"data row1 col21\" >0.441377</td>\n",
       "      <td id=\"T_14251_row1_col22\" class=\"data row1 col22\" >0.403004</td>\n",
       "    </tr>\n",
       "    <tr>\n",
       "      <th id=\"T_14251_level0_row2\" class=\"row_heading level0 row2\" >HC</th>\n",
       "      <td id=\"T_14251_row2_col0\" class=\"data row2 col0\" >0.339858</td>\n",
       "      <td id=\"T_14251_row2_col1\" class=\"data row2 col1\" >0.348096</td>\n",
       "      <td id=\"T_14251_row2_col2\" class=\"data row2 col2\" >0.377154</td>\n",
       "      <td id=\"T_14251_row2_col3\" class=\"data row2 col3\" >0.399633</td>\n",
       "      <td id=\"T_14251_row2_col4\" class=\"data row2 col4\" >0.374418</td>\n",
       "      <td id=\"T_14251_row2_col5\" class=\"data row2 col5\" >0.383637</td>\n",
       "      <td id=\"T_14251_row2_col6\" class=\"data row2 col6\" >0.401106</td>\n",
       "      <td id=\"T_14251_row2_col7\" class=\"data row2 col7\" >0.403413</td>\n",
       "      <td id=\"T_14251_row2_col8\" class=\"data row2 col8\" >0.384902</td>\n",
       "      <td id=\"T_14251_row2_col9\" class=\"data row2 col9\" >0.403333</td>\n",
       "      <td id=\"T_14251_row2_col10\" class=\"data row2 col10\" >0.403682</td>\n",
       "      <td id=\"T_14251_row2_col11\" class=\"data row2 col11\" >0.414272</td>\n",
       "      <td id=\"T_14251_row2_col12\" class=\"data row2 col12\" >0.412095</td>\n",
       "      <td id=\"T_14251_row2_col13\" class=\"data row2 col13\" >0.429744</td>\n",
       "      <td id=\"T_14251_row2_col14\" class=\"data row2 col14\" >0.433339</td>\n",
       "      <td id=\"T_14251_row2_col15\" class=\"data row2 col15\" >0.441740</td>\n",
       "      <td id=\"T_14251_row2_col16\" class=\"data row2 col16\" >0.450784</td>\n",
       "      <td id=\"T_14251_row2_col17\" class=\"data row2 col17\" >0.456848</td>\n",
       "      <td id=\"T_14251_row2_col18\" class=\"data row2 col18\" >0.454527</td>\n",
       "      <td id=\"T_14251_row2_col19\" class=\"data row2 col19\" >0.457949</td>\n",
       "      <td id=\"T_14251_row2_col20\" class=\"data row2 col20\" >0.471661</td>\n",
       "      <td id=\"T_14251_row2_col21\" class=\"data row2 col21\" >0.472868</td>\n",
       "      <td id=\"T_14251_row2_col22\" class=\"data row2 col22\" >0.468708</td>\n",
       "    </tr>\n",
       "  </tbody>\n",
       "</table>\n"
      ],
      "text/plain": [
       "<pandas.io.formats.style.Styler at 0x753aa0772eb0>"
      ]
     },
     "execution_count": 121,
     "metadata": {},
     "output_type": "execute_result"
    }
   ],
   "source": [
    "## 7.7. Results - TSNE Embedding\n",
    "df_results = pd.DataFrame(\n",
    "    {'Kmeans': kmeans_list,\n",
    "     'GMM': gmm_list,\n",
    "     'HC': hc_list}\n",
    ").T\n",
    "\n",
    "df_results.columns = clusters\n",
    "df_results.style.highlight_max( color='lightgreen', axis=1)"
   ]
  },
  {
   "cell_type": "markdown",
   "id": "0b2eb22c-ce13-46d1-aba2-05c70f6ea7ea",
   "metadata": {},
   "source": [
    "# <font color='red'>8.0. Model Training</font>"
   ]
  },
  {
   "cell_type": "markdown",
   "id": "f2a0daa4-6463-4f67-924d-576921044d64",
   "metadata": {},
   "source": [
    "## 8.1. Final model"
   ]
  },
  {
   "cell_type": "code",
   "execution_count": 56,
   "id": "eaf34422-2ca9-4119-8440-93afe152d028",
   "metadata": {
    "execution": {
     "iopub.execute_input": "2025-05-01T12:07:23.384045Z",
     "iopub.status.busy": "2025-05-01T12:07:23.383406Z",
     "iopub.status.idle": "2025-05-01T12:07:23.439962Z",
     "shell.execute_reply": "2025-05-01T12:07:23.438660Z",
     "shell.execute_reply.started": "2025-05-01T12:07:23.383984Z"
    }
   },
   "outputs": [],
   "source": [
    "k = 8\n",
    "# model definition\n",
    "gmm_model = mx.GaussianMixture( n_components=k, random_state=42 )\n",
    "\n",
    "# model training\n",
    "gmm_model.fit( X )\n",
    "\n",
    "# model predict\n",
    "labels = gmm_model.predict( X )"
   ]
  },
  {
   "cell_type": "markdown",
   "id": "20881d9e-230d-4a25-aa59-73e9dc2e1bda",
   "metadata": {},
   "source": [
    "### 8.1.0. Cluster Validation"
   ]
  },
  {
   "cell_type": "code",
   "execution_count": 57,
   "id": "94692501-c1d7-4ec4-966b-0d61f4967174",
   "metadata": {
    "execution": {
     "iopub.execute_input": "2025-05-01T12:07:23.441508Z",
     "iopub.status.busy": "2025-05-01T12:07:23.441150Z",
     "iopub.status.idle": "2025-05-01T12:07:24.466222Z",
     "shell.execute_reply": "2025-05-01T12:07:24.464395Z",
     "shell.execute_reply.started": "2025-05-01T12:07:23.441468Z"
    }
   },
   "outputs": [
    {
     "name": "stdout",
     "output_type": "stream",
     "text": [
      "SS value: 0.43982574343681335\n"
     ]
    }
   ],
   "source": [
    "# WSS (Within-Cluster Sum of Square)\n",
    "#print( f'WSS value: {kmeans.inertia_}')\n",
    "\n",
    "# SS (Silhouette Score)\n",
    "print( f'SS value: {m.silhouette_score( X, labels, metric=\"euclidean\" )}' )"
   ]
  },
  {
   "cell_type": "markdown",
   "id": "edd39975-77df-4f14-8b8c-d7f05c3766fe",
   "metadata": {},
   "source": [
    "# <font color='red'>9.0. Cluster Analysis</font>"
   ]
  },
  {
   "cell_type": "code",
   "execution_count": 58,
   "id": "728cffa5-6ed2-466d-9800-148462b6c4d7",
   "metadata": {
    "execution": {
     "iopub.execute_input": "2025-05-01T12:07:24.467344Z",
     "iopub.status.busy": "2025-05-01T12:07:24.466914Z",
     "iopub.status.idle": "2025-05-01T12:07:24.475041Z",
     "shell.execute_reply": "2025-05-01T12:07:24.473552Z",
     "shell.execute_reply.started": "2025-05-01T12:07:24.467299Z"
    }
   },
   "outputs": [],
   "source": [
    "df9 = X.copy()\n",
    "df9['cluster'] = labels"
   ]
  },
  {
   "cell_type": "markdown",
   "id": "8a0b9ffc-7d26-4cbb-9d6e-d63c9fb93035",
   "metadata": {},
   "source": [
    "## 9.1. Visualization Inspection"
   ]
  },
  {
   "cell_type": "code",
   "execution_count": 59,
   "id": "d4d844a7-804c-46c8-9ab9-91de03d2a85e",
   "metadata": {
    "execution": {
     "iopub.execute_input": "2025-05-01T12:07:24.477221Z",
     "iopub.status.busy": "2025-05-01T12:07:24.476640Z",
     "iopub.status.idle": "2025-05-01T12:07:25.400375Z",
     "shell.execute_reply": "2025-05-01T12:07:25.398844Z",
     "shell.execute_reply.started": "2025-05-01T12:07:24.477167Z"
    }
   },
   "outputs": [
    {
     "data": {
      "text/plain": [
       "<Axes: xlabel='embedding_x', ylabel='embedding_y'>"
      ]
     },
     "execution_count": 59,
     "metadata": {},
     "output_type": "execute_result"
    },
    {
     "data": {
      "image/png": "[encoded data removed]",
      "text/plain": [
       "<Figure size 640x480 with 1 Axes>"
      ]
     },
     "metadata": {},
     "output_type": "display_data"
    }
   ],
   "source": [
    "sns.scatterplot(x='embedding_x', y='embedding_y', hue='cluster', data=df9, palette='deep')"
   ]
  },
  {
   "cell_type": "markdown",
   "id": "70cfb8a9-3335-4219-b55c-f95c5e5b1a1e",
   "metadata": {},
   "source": [
    "## 9.2. Cluster Profile"
   ]
  },
  {
   "cell_type": "code",
   "execution_count": 60,
   "id": "ac83d170-3c33-41c1-8d7a-c549fb0c0e0f",
   "metadata": {
    "execution": {
     "iopub.execute_input": "2025-05-01T12:07:25.407220Z",
     "iopub.status.busy": "2025-05-01T12:07:25.405334Z",
     "iopub.status.idle": "2025-05-01T12:07:25.428918Z",
     "shell.execute_reply": "2025-05-01T12:07:25.427009Z",
     "shell.execute_reply.started": "2025-05-01T12:07:25.407159Z"
    }
   },
   "outputs": [
    {
     "data": {
      "text/html": [
       "<div>\n",
       "<style scoped>\n",
       "    .dataframe tbody tr th:only-of-type {\n",
       "        vertical-align: middle;\n",
       "    }\n",
       "\n",
       "    .dataframe tbody tr th {\n",
       "        vertical-align: top;\n",
       "    }\n",
       "\n",
       "    .dataframe thead th {\n",
       "        text-align: right;\n",
       "    }\n",
       "</style>\n",
       "<table border=\"1\" class=\"dataframe\">\n",
       "  <thead>\n",
       "    <tr style=\"text-align: right;\">\n",
       "      <th></th>\n",
       "      <th>customer_id</th>\n",
       "      <th>gross_revenue</th>\n",
       "      <th>recency_days</th>\n",
       "      <th>qtde_produtcs</th>\n",
       "      <th>frequency</th>\n",
       "      <th>qtde_returns</th>\n",
       "      <th>cluster</th>\n",
       "    </tr>\n",
       "  </thead>\n",
       "  <tbody>\n",
       "    <tr>\n",
       "      <th>0</th>\n",
       "      <td>17850</td>\n",
       "      <td>5391.21</td>\n",
       "      <td>372.0</td>\n",
       "      <td>297.0</td>\n",
       "      <td>17.000000</td>\n",
       "      <td>40.0</td>\n",
       "      <td>4</td>\n",
       "    </tr>\n",
       "    <tr>\n",
       "      <th>1</th>\n",
       "      <td>13047</td>\n",
       "      <td>3232.59</td>\n",
       "      <td>56.0</td>\n",
       "      <td>171.0</td>\n",
       "      <td>0.028302</td>\n",
       "      <td>35.0</td>\n",
       "      <td>4</td>\n",
       "    </tr>\n",
       "    <tr>\n",
       "      <th>2</th>\n",
       "      <td>12583</td>\n",
       "      <td>6705.38</td>\n",
       "      <td>2.0</td>\n",
       "      <td>232.0</td>\n",
       "      <td>0.040323</td>\n",
       "      <td>50.0</td>\n",
       "      <td>4</td>\n",
       "    </tr>\n",
       "    <tr>\n",
       "      <th>3</th>\n",
       "      <td>13748</td>\n",
       "      <td>948.25</td>\n",
       "      <td>95.0</td>\n",
       "      <td>28.0</td>\n",
       "      <td>0.017921</td>\n",
       "      <td>0.0</td>\n",
       "      <td>2</td>\n",
       "    </tr>\n",
       "    <tr>\n",
       "      <th>4</th>\n",
       "      <td>15100</td>\n",
       "      <td>876.00</td>\n",
       "      <td>333.0</td>\n",
       "      <td>3.0</td>\n",
       "      <td>0.073171</td>\n",
       "      <td>22.0</td>\n",
       "      <td>0</td>\n",
       "    </tr>\n",
       "  </tbody>\n",
       "</table>\n",
       "</div>"
      ],
      "text/plain": [
       "   customer_id  gross_revenue  recency_days  qtde_produtcs  frequency  \\\n",
       "0        17850        5391.21         372.0          297.0  17.000000   \n",
       "1        13047        3232.59          56.0          171.0   0.028302   \n",
       "2        12583        6705.38           2.0          232.0   0.040323   \n",
       "3        13748         948.25          95.0           28.0   0.017921   \n",
       "4        15100         876.00         333.0            3.0   0.073171   \n",
       "\n",
       "   qtde_returns  cluster  \n",
       "0          40.0        4  \n",
       "1          35.0        4  \n",
       "2          50.0        4  \n",
       "3           0.0        2  \n",
       "4          22.0        0  "
      ]
     },
     "execution_count": 60,
     "metadata": {},
     "output_type": "execute_result"
    }
   ],
   "source": [
    "df92 = df4.copy()\n",
    "df92['cluster'] = labels\n",
    "df92.head()"
   ]
  },
  {
   "cell_type": "code",
   "execution_count": 61,
   "id": "9e378ffa-7ebf-4fc7-936d-fe56c0afb8c4",
   "metadata": {
    "execution": {
     "iopub.execute_input": "2025-05-01T12:07:25.430972Z",
     "iopub.status.busy": "2025-05-01T12:07:25.430490Z",
     "iopub.status.idle": "2025-05-01T12:07:25.884165Z",
     "shell.execute_reply": "2025-05-01T12:07:25.882472Z",
     "shell.execute_reply.started": "2025-05-01T12:07:25.430900Z"
    }
   },
   "outputs": [
    {
     "data": {
      "text/html": [
       "<div>\n",
       "<style scoped>\n",
       "    .dataframe tbody tr th:only-of-type {\n",
       "        vertical-align: middle;\n",
       "    }\n",
       "\n",
       "    .dataframe tbody tr th {\n",
       "        vertical-align: top;\n",
       "    }\n",
       "\n",
       "    .dataframe thead th {\n",
       "        text-align: right;\n",
       "    }\n",
       "</style>\n",
       "<table border=\"1\" class=\"dataframe\">\n",
       "  <thead>\n",
       "    <tr style=\"text-align: right;\">\n",
       "      <th></th>\n",
       "      <th>cluster</th>\n",
       "      <th>customer_id</th>\n",
       "      <th>perc_customer</th>\n",
       "      <th>gross_revenue</th>\n",
       "      <th>recency_days</th>\n",
       "      <th>qtde_produtcs</th>\n",
       "      <th>frequency</th>\n",
       "      <th>qtde_returns</th>\n",
       "    </tr>\n",
       "  </thead>\n",
       "  <tbody>\n",
       "    <tr>\n",
       "      <th>4</th>\n",
       "      <td>4</td>\n",
       "      <td>874</td>\n",
       "      <td>15.346795</td>\n",
       "      <td>6232.066670</td>\n",
       "      <td>68.747140</td>\n",
       "      <td>305.638444</td>\n",
       "      <td>0.326478</td>\n",
       "      <td>176.508009</td>\n",
       "    </tr>\n",
       "    <tr>\n",
       "      <th>1</th>\n",
       "      <td>1</td>\n",
       "      <td>722</td>\n",
       "      <td>12.677788</td>\n",
       "      <td>1867.053934</td>\n",
       "      <td>101.105263</td>\n",
       "      <td>159.531856</td>\n",
       "      <td>0.461950</td>\n",
       "      <td>0.785319</td>\n",
       "    </tr>\n",
       "    <tr>\n",
       "      <th>3</th>\n",
       "      <td>3</td>\n",
       "      <td>361</td>\n",
       "      <td>6.338894</td>\n",
       "      <td>1252.126482</td>\n",
       "      <td>60.268698</td>\n",
       "      <td>54.382271</td>\n",
       "      <td>0.027892</td>\n",
       "      <td>8.975069</td>\n",
       "    </tr>\n",
       "    <tr>\n",
       "      <th>6</th>\n",
       "      <td>6</td>\n",
       "      <td>564</td>\n",
       "      <td>9.903424</td>\n",
       "      <td>1215.027571</td>\n",
       "      <td>136.404255</td>\n",
       "      <td>68.001773</td>\n",
       "      <td>0.753051</td>\n",
       "      <td>2.810284</td>\n",
       "    </tr>\n",
       "    <tr>\n",
       "      <th>5</th>\n",
       "      <td>5</td>\n",
       "      <td>669</td>\n",
       "      <td>11.747147</td>\n",
       "      <td>1127.006726</td>\n",
       "      <td>145.686099</td>\n",
       "      <td>42.375187</td>\n",
       "      <td>0.936321</td>\n",
       "      <td>6.186846</td>\n",
       "    </tr>\n",
       "    <tr>\n",
       "      <th>0</th>\n",
       "      <td>0</td>\n",
       "      <td>602</td>\n",
       "      <td>10.570676</td>\n",
       "      <td>872.564950</td>\n",
       "      <td>85.318937</td>\n",
       "      <td>31.131229</td>\n",
       "      <td>0.059393</td>\n",
       "      <td>8.699336</td>\n",
       "    </tr>\n",
       "    <tr>\n",
       "      <th>7</th>\n",
       "      <td>7</td>\n",
       "      <td>604</td>\n",
       "      <td>10.605795</td>\n",
       "      <td>857.184222</td>\n",
       "      <td>113.902318</td>\n",
       "      <td>38.422185</td>\n",
       "      <td>0.447304</td>\n",
       "      <td>5.884106</td>\n",
       "    </tr>\n",
       "    <tr>\n",
       "      <th>2</th>\n",
       "      <td>2</td>\n",
       "      <td>1299</td>\n",
       "      <td>22.809482</td>\n",
       "      <td>288.830685</td>\n",
       "      <td>166.675135</td>\n",
       "      <td>12.896844</td>\n",
       "      <td>0.870556</td>\n",
       "      <td>4.220939</td>\n",
       "    </tr>\n",
       "  </tbody>\n",
       "</table>\n",
       "</div>"
      ],
      "text/plain": [
       "   cluster  customer_id  perc_customer  gross_revenue  recency_days  \\\n",
       "4        4          874      15.346795    6232.066670     68.747140   \n",
       "1        1          722      12.677788    1867.053934    101.105263   \n",
       "3        3          361       6.338894    1252.126482     60.268698   \n",
       "6        6          564       9.903424    1215.027571    136.404255   \n",
       "5        5          669      11.747147    1127.006726    145.686099   \n",
       "0        0          602      10.570676     872.564950     85.318937   \n",
       "7        7          604      10.605795     857.184222    113.902318   \n",
       "2        2         1299      22.809482     288.830685    166.675135   \n",
       "\n",
       "   qtde_produtcs  frequency  qtde_returns  \n",
       "4     305.638444   0.326478    176.508009  \n",
       "1     159.531856   0.461950      0.785319  \n",
       "3      54.382271   0.027892      8.975069  \n",
       "6      68.001773   0.753051      2.810284  \n",
       "5      42.375187   0.936321      6.186846  \n",
       "0      31.131229   0.059393      8.699336  \n",
       "7      38.422185   0.447304      5.884106  \n",
       "2      12.896844   0.870556      4.220939  "
      ]
     },
     "execution_count": 61,
     "metadata": {},
     "output_type": "execute_result"
    }
   ],
   "source": [
    "# Number of customer\n",
    "df_cluster = df92[['customer_id', 'cluster']].groupby( 'cluster' ).count().reset_index()\n",
    "df_cluster['perc_customer'] = 100 * ( df_cluster['customer_id'] / df_cluster['customer_id'].sum() )\n",
    "\n",
    "# AVG gross_revenue\n",
    "df_avg_gross_revenue = df92[['gross_revenue', 'cluster']].groupby ('cluster').mean().reset_index()\n",
    "df_cluster = pd.merge( df_cluster, df_avg_gross_revenue, how='inner', on='cluster')\n",
    "\n",
    "# AVG recency_days\n",
    "df_avg_recency_days = df92[['recency_days', 'cluster']].groupby ('cluster').mean().reset_index()\n",
    "df_cluster = pd.merge( df_cluster, df_avg_recency_days, how='inner', on='cluster')\n",
    "\n",
    "# AVG qtde_produtcs\n",
    "df_qtde_produtcs = df92[['qtde_produtcs', 'cluster']].groupby ('cluster').mean().reset_index()\n",
    "df_cluster = pd.merge( df_cluster, df_qtde_produtcs, how='inner', on='cluster')\n",
    "\n",
    "# AVG frequency\n",
    "df_frequency = df92[['frequency', 'cluster']].groupby ('cluster').mean().reset_index()\n",
    "df_cluster = pd.merge( df_cluster, df_frequency, how='inner', on='cluster')\n",
    "\n",
    "# AVG qtde_returns\n",
    "df_qtde_returns = df92[['qtde_returns', 'cluster']].groupby ('cluster').mean().reset_index()\n",
    "df_cluster = pd.merge( df_cluster, df_qtde_returns, how='inner', on='cluster')\n",
    "\n",
    "df_cluster.sort_values(by='gross_revenue', ascending=False)\n"
   ]
  },
  {
   "cell_type": "code",
   "execution_count": 68,
   "id": "539a3e34-a6c6-4513-b142-24cec4e36cf6",
   "metadata": {
    "execution": {
     "iopub.execute_input": "2025-04-30T21:23:21.751791Z",
     "iopub.status.busy": "2025-04-30T21:23:21.751006Z",
     "iopub.status.idle": "2025-04-30T21:23:21.761838Z",
     "shell.execute_reply": "2025-04-30T21:23:21.758976Z",
     "shell.execute_reply.started": "2025-04-30T21:23:21.751717Z"
    }
   },
   "outputs": [],
   "source": [
    "# 4 Cluster Insiders\n",
    "# 1 Cluster More Products\n",
    "# 3 Cluster Spend Money\n",
    "# 6 Cluster Even More Products\n",
    "# 5 Cluster Less Days\n",
    "# 0 Cluster Less 1k\n",
    "# 7 Cluster Stop Returners\n",
    "# 2 Cluster More Buy"
   ]
  },
  {
   "cell_type": "markdown",
   "id": "3987291c-9226-4b21-bbd5-41c104357c70",
   "metadata": {},
   "source": [
    "### Cluster 01:\n",
    "    - Número de customers: 464 (16% do custormers)\n",
    "    - Faturamento médio: $10.927,33\n",
    "    - Recência média: 23 dias\n",
    "    - Média de produtos comprados: 359 produtos\n",
    "    - Frequência de produtos comprados: 0.06 compras/dia\n",
    "    - Devoluções em média: 155 produtos\n",
    "\n",
    "### Cluster 02:\n",
    "    - Número de customers: xxx (xx% do custormers)\n",
    "    - Faturamento médio: $xxxxx\n",
    "    - Recência média: xx dias\n",
    "    - Frequência de produtos comprados: x.xx compras/dia\n",
    "    - Devoluções em média: xxx produtos\n",
    "\n",
    "### Cluster 03:\n",
    "    - Número de customers: xxx (xx% do custormers)\n",
    "    - Faturamento médio: $xxxxx\n",
    "    - Recência média: xx dias\n",
    "    - Frequência de produtos comprados: x.xx compras/dia\n",
    "    - Devoluções em média: xxx produtos\n",
    "\n",
    "### Cluster 04:\n",
    "    - Número de customers: xxx (xx% do custormers)\n",
    "    - Faturamento médio: $xxxxx\n",
    "    - Recência média: xx dias\n",
    "    - Frequência de produtos comprados: x.xx compras/dia\n",
    "    - Devoluções em média: xxx produtos\n",
    "\n",
    "### Cluster 05:\n",
    "    - Número de customers: xxx (xx% do custormers)\n",
    "    - Faturamento médio: $xxxxx\n",
    "    - Recência média: xx dias\n",
    "    - Frequência de produtos comprados: x.xx compras/dia\n",
    "    - Devoluções em média: xxx produtos\n",
    "\n",
    "### Cluster 06:\n",
    "    - Número de customers: xxx (xx% do custormers)\n",
    "    - Faturamento médio: $xxxxx\n",
    "    - Recência média: xx dias\n",
    "    - Frequência de produtos comprados: x.xx compras/dia\n",
    "    - Devoluções em média: xxx produtos\n",
    "\n",
    "### Cluster 07:\n",
    "    - Número de customers: xxx (xx% do custormers)\n",
    "    - Faturamento médio: $xxxxx\n",
    "    - Recência média: xx dias\n",
    "    - Frequência de produtos comprados: x.xx compras/dia\n",
    "    - Devoluções em média: xxx produtos\n",
    "\n",
    "### Cluster 08:\n",
    "    - Número de customers: xxx (xx% do custormers)\n",
    "    - Faturamento médio: $xxxxx\n",
    "    - Recência média: xx dias\n",
    "    - Frequência de produtos comprados: x.xx compras/dia\n",
    "    - Devoluções em média: xxx produtos"
   ]
  },
  {
   "cell_type": "markdown",
   "id": "89b75b84-c351-4f06-9647-5f78a6b2ebcf",
   "metadata": {},
   "source": [
    "# <font color='red'>10.0. Análise Exploratoria de Dados</font>"
   ]
  },
  {
   "cell_type": "code",
   "execution_count": 65,
   "id": "88aa19fc-44b4-4ade-83a6-5a5b7a557cb7",
   "metadata": {
    "execution": {
     "iopub.execute_input": "2025-04-30T21:19:16.999289Z",
     "iopub.status.busy": "2025-04-30T21:19:16.998599Z",
     "iopub.status.idle": "2025-04-30T21:19:17.009757Z",
     "shell.execute_reply": "2025-04-30T21:19:17.007199Z",
     "shell.execute_reply.started": "2025-04-30T21:19:16.999226Z"
    }
   },
   "outputs": [],
   "source": [
    "df10 = df92.copy()"
   ]
  },
  {
   "cell_type": "markdown",
   "id": "4c60a502-5778-4445-8a6f-c62fd0eab98c",
   "metadata": {},
   "source": [
    "# <font color='red'>11.0. Deploy To Production</font>"
   ]
  },
  {
   "cell_type": "code",
   "execution_count": 66,
   "id": "7118754a-1a30-4d66-be6b-a1f8b8dc291b",
   "metadata": {
    "execution": {
     "iopub.execute_input": "2025-04-30T21:19:30.003691Z",
     "iopub.status.busy": "2025-04-30T21:19:30.002674Z",
     "iopub.status.idle": "2025-04-30T21:19:30.025607Z",
     "shell.execute_reply": "2025-04-30T21:19:30.022837Z",
     "shell.execute_reply.started": "2025-04-30T21:19:30.003575Z"
    }
   },
   "outputs": [
    {
     "data": {
      "text/plain": [
       "customer_id        int64\n",
       "gross_revenue    float64\n",
       "recency_days     float64\n",
       "qtde_produtcs    float64\n",
       "frequency        float64\n",
       "qtde_returns     float64\n",
       "cluster            int64\n",
       "dtype: object"
      ]
     },
     "execution_count": 66,
     "metadata": {},
     "output_type": "execute_result"
    }
   ],
   "source": [
    "df92.dtypes"
   ]
  },
  {
   "cell_type": "code",
   "execution_count": 67,
   "id": "0622eeef-78a9-4a91-9360-a59474ed7efe",
   "metadata": {
    "execution": {
     "iopub.execute_input": "2025-04-30T21:19:38.399710Z",
     "iopub.status.busy": "2025-04-30T21:19:38.398057Z",
     "iopub.status.idle": "2025-04-30T21:19:38.415476Z",
     "shell.execute_reply": "2025-04-30T21:19:38.412743Z",
     "shell.execute_reply.started": "2025-04-30T21:19:38.399611Z"
    }
   },
   "outputs": [],
   "source": [
    "df92['recency_days'] = df92['recency_days'].astype( int )\n",
    "df92['qtde_produtcs'] = df92['qtde_produtcs'].astype( int )\n",
    "df92['qtde_returns'] = df92['qtde_returns'].astype( int )"
   ]
  },
  {
   "cell_type": "code",
   "execution_count": 75,
   "id": "df02c32f-f7ad-48df-95c6-02a989a8dd2e",
   "metadata": {
    "execution": {
     "iopub.execute_input": "2025-04-30T21:34:03.734380Z",
     "iopub.status.busy": "2025-04-30T21:34:03.733581Z",
     "iopub.status.idle": "2025-04-30T21:34:04.066452Z",
     "shell.execute_reply": "2025-04-30T21:34:04.063949Z",
     "shell.execute_reply.started": "2025-04-30T21:34:03.734300Z"
    }
   },
   "outputs": [],
   "source": [
    "# database conection\n",
    "conn = create_engine( 'sqlite:///insiders_db.sqlite' )\n",
    "\n",
    "# drop table\n",
    "query_drop_insiders = '''\n",
    "    DROP TABLE insiders\n",
    "'''\n",
    "\n",
    "# create table\n",
    "query_create_insiders = '''\n",
    "    CREATE TABLE insiders(\n",
    "        customer_id      INTEGER,\n",
    "        gross_revenue    REAL,\n",
    "        recency_days     INTEGER,\n",
    "        qtde_produtcs    INTEGER,\n",
    "        frequency        REAL,\n",
    "        qtde_returns     INTEGER,\n",
    "        cluster          INTEGER        \n",
    "    )\n",
    "'''\n",
    "\n",
    "with conn.connect() as connection:\n",
    "    connection.execute( text(query_create_insiders) )"
   ]
  },
  {
   "cell_type": "code",
   "execution_count": 77,
   "id": "0e4ffecb-5923-418a-b980-99a8581fd857",
   "metadata": {
    "execution": {
     "iopub.execute_input": "2025-04-30T21:34:24.600743Z",
     "iopub.status.busy": "2025-04-30T21:34:24.599914Z",
     "iopub.status.idle": "2025-04-30T21:34:25.070119Z",
     "shell.execute_reply": "2025-04-30T21:34:25.067970Z",
     "shell.execute_reply.started": "2025-04-30T21:34:24.600658Z"
    }
   },
   "outputs": [
    {
     "data": {
      "text/plain": [
       "5695"
      ]
     },
     "execution_count": 77,
     "metadata": {},
     "output_type": "execute_result"
    }
   ],
   "source": [
    "#insert data\n",
    "df92.to_sql( 'insiders', con=conn, if_exists='append', index=False )"
   ]
  },
  {
   "cell_type": "code",
   "execution_count": 78,
   "id": "c960beca-57a4-446b-bc7e-c9b0a9d3c8f9",
   "metadata": {
    "execution": {
     "iopub.execute_input": "2025-04-30T21:34:27.335718Z",
     "iopub.status.busy": "2025-04-30T21:34:27.334907Z",
     "iopub.status.idle": "2025-04-30T21:34:27.412411Z",
     "shell.execute_reply": "2025-04-30T21:34:27.410421Z",
     "shell.execute_reply.started": "2025-04-30T21:34:27.335637Z"
    }
   },
   "outputs": [
    {
     "data": {
      "text/html": [
       "<div>\n",
       "<style scoped>\n",
       "    .dataframe tbody tr th:only-of-type {\n",
       "        vertical-align: middle;\n",
       "    }\n",
       "\n",
       "    .dataframe tbody tr th {\n",
       "        vertical-align: top;\n",
       "    }\n",
       "\n",
       "    .dataframe thead th {\n",
       "        text-align: right;\n",
       "    }\n",
       "</style>\n",
       "<table border=\"1\" class=\"dataframe\">\n",
       "  <thead>\n",
       "    <tr style=\"text-align: right;\">\n",
       "      <th></th>\n",
       "      <th>customer_id</th>\n",
       "      <th>gross_revenue</th>\n",
       "      <th>recency_days</th>\n",
       "      <th>qtde_produtcs</th>\n",
       "      <th>frequency</th>\n",
       "      <th>qtde_returns</th>\n",
       "      <th>cluster</th>\n",
       "    </tr>\n",
       "  </thead>\n",
       "  <tbody>\n",
       "    <tr>\n",
       "      <th>0</th>\n",
       "      <td>17850</td>\n",
       "      <td>5391.21</td>\n",
       "      <td>372</td>\n",
       "      <td>297</td>\n",
       "      <td>17.000000</td>\n",
       "      <td>40</td>\n",
       "      <td>4</td>\n",
       "    </tr>\n",
       "    <tr>\n",
       "      <th>1</th>\n",
       "      <td>13047</td>\n",
       "      <td>3232.59</td>\n",
       "      <td>56</td>\n",
       "      <td>171</td>\n",
       "      <td>0.028302</td>\n",
       "      <td>35</td>\n",
       "      <td>4</td>\n",
       "    </tr>\n",
       "    <tr>\n",
       "      <th>2</th>\n",
       "      <td>12583</td>\n",
       "      <td>6705.38</td>\n",
       "      <td>2</td>\n",
       "      <td>232</td>\n",
       "      <td>0.040323</td>\n",
       "      <td>50</td>\n",
       "      <td>4</td>\n",
       "    </tr>\n",
       "    <tr>\n",
       "      <th>3</th>\n",
       "      <td>13748</td>\n",
       "      <td>948.25</td>\n",
       "      <td>95</td>\n",
       "      <td>28</td>\n",
       "      <td>0.017921</td>\n",
       "      <td>0</td>\n",
       "      <td>2</td>\n",
       "    </tr>\n",
       "    <tr>\n",
       "      <th>4</th>\n",
       "      <td>15100</td>\n",
       "      <td>876.00</td>\n",
       "      <td>333</td>\n",
       "      <td>3</td>\n",
       "      <td>0.073171</td>\n",
       "      <td>22</td>\n",
       "      <td>0</td>\n",
       "    </tr>\n",
       "  </tbody>\n",
       "</table>\n",
       "</div>"
      ],
      "text/plain": [
       "   customer_id  gross_revenue  recency_days  qtde_produtcs  frequency  \\\n",
       "0        17850        5391.21           372            297  17.000000   \n",
       "1        13047        3232.59            56            171   0.028302   \n",
       "2        12583        6705.38             2            232   0.040323   \n",
       "3        13748         948.25            95             28   0.017921   \n",
       "4        15100         876.00           333              3   0.073171   \n",
       "\n",
       "   qtde_returns  cluster  \n",
       "0            40        4  \n",
       "1            35        4  \n",
       "2            50        4  \n",
       "3             0        2  \n",
       "4            22        0  "
      ]
     },
     "execution_count": 78,
     "metadata": {},
     "output_type": "execute_result"
    }
   ],
   "source": [
    "## get query\n",
    "#query_collect = '''\n",
    "#    SELECT * FROM insiders\n",
    "#'''\n",
    "#\n",
    "#df = pd.read_sql_query( query_collect, conn )\n",
    "#df.head()"
   ]
  },
  {
   "cell_type": "code",
   "execution_count": null,
   "id": "40897467-1604-4736-90ea-37a6a7197705",
   "metadata": {},
   "outputs": [],
   "source": []
  },
  {
   "cell_type": "code",
   "execution_count": null,
   "id": "842d3c11-f1f6-40d1-9cf9-76193d11cd6d",
   "metadata": {},
   "outputs": [],
   "source": []
  },
  {
   "cell_type": "code",
   "execution_count": null,
   "id": "80c4c001-4710-413c-8ab7-67e404ca89e5",
   "metadata": {},
   "outputs": [],
   "source": []
  },
  {
   "cell_type": "code",
   "execution_count": null,
   "id": "9dbc803c-e94f-4768-9a7b-5ff64cb81fc1",
   "metadata": {},
   "outputs": [],
   "source": []
  },
  {
   "cell_type": "code",
   "execution_count": null,
   "id": "01c0ee49-d40b-464b-a6db-a25942a0eb5e",
   "metadata": {},
   "outputs": [],
   "source": []
  },
  {
   "cell_type": "code",
   "execution_count": null,
   "id": "f8d5f0bf-c114-4a91-a786-95255d3ac6d0",
   "metadata": {},
   "outputs": [],
   "source": []
  }
 ],
 "metadata": {
  "kernelspec": {
   "display_name": "Python 3 (ipykernel)",
   "language": "python",
   "name": "python3"
  },
  "language_info": {
   "codemirror_mode": {
    "name": "ipython",
    "version": 3
   },
   "file_extension": ".py",
   "mimetype": "text/x-python",
   "name": "python",
   "nbconvert_exporter": "python",
   "pygments_lexer": "ipython3",
   "version": "3.8.0"
  }
 },
 "nbformat": 4,
 "nbformat_minor": 5
}
