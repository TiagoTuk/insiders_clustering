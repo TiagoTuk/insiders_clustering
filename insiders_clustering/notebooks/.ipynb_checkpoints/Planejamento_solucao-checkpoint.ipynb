{
 "cells": [
  {
   "cell_type": "markdown",
   "id": "906e9b0f-ea94-4b81-8315-622a529f778b",
   "metadata": {},
   "source": [
    "# High Value Customer Identification (Insiders)"
   ]
  },
  {
   "cell_type": "markdown",
   "id": "e214dc0b-7333-4d1c-abe1-5ccbc39ec9d4",
   "metadata": {},
   "source": [
    "## 0.0. Planejamento da Solução"
   ]
  },
  {
   "cell_type": "markdown",
   "id": "e4695d37-385f-41cf-9260-2be300a1f726",
   "metadata": {},
   "source": [
    "### Input - Entrada"
   ]
  },
  {
   "cell_type": "markdown",
   "id": "ecf694ae-0274-46a8-a997-c49c9be97f95",
   "metadata": {},
   "source": [
    "1. Problema de Negócio\n",
    "   - Selecionar os clientes mais valiosos para integrar um programa de Fidelização\n",
    "\n",
    "--------------------------------------------------------------     \n",
    "2. Conjunto de dados\n",
    "   - Vendas de um e-commerce online, durante o periodo de um ano."
   ]
  },
  {
   "cell_type": "markdown",
   "id": "610789e3-d5e5-4c86-817b-17307a3d565b",
   "metadata": {},
   "source": [
    "### Output - Saída"
   ]
  },
  {
   "cell_type": "markdown",
   "id": "fa8b93f9-2c40-40a3-8a60-0bf2fe65cb1b",
   "metadata": {},
   "source": [
    "1. A indicação das pessoas que farão parte do programa de Insiders\n",
    "    - Lista: client_id | is_insider |\n",
    "    -          10323    | yes / 1\n",
    "    -          32413    | no / 2\n",
    "\n",
    "---------------------------------------------------------------\n",
    "2. Relatório com as respostas das perguntas de negócio\n",
    "    - Quem são as pessoas elegíveis para participar do programa de Insiders?\n",
    "    - Quantos clientes farão parte do grupo?\n",
    "    - Quais as principais características desses clientes?\n",
    "    - Qual a porcentagem de contribuição do faturamento, vinda do Insiders?\n",
    "    - Qual a expectativa de faturamento desse grupo para os próximos meses?\n",
    "    - Quais as condições para uma pessoa ser elegível ao Insiders?\n",
    "    - Quais as condições para uma pessoa ser removida do Insiders?\n",
    "    - Qual a garantia que o programa Insiders é melhor que o restante da base?\n",
    "    - Quais ações o time de marketing pode realizar para aumentar o faturamento?"
   ]
  },
  {
   "cell_type": "markdown",
   "id": "44f8a1ac-1073-43ad-b546-4657e127f24f",
   "metadata": {},
   "source": [
    "### Task - Tarefas"
   ]
  },
  {
   "cell_type": "markdown",
   "id": "6a441f55-0289-439b-a9b6-adea3cb9e0a5",
   "metadata": {},
   "source": [
    "1. Quem são as pessoas elegíveis para participar do programa de Insiders?\n",
    "    - O que é ser elegível? O que são clientes de maior 'valor'?\n",
    "        - Faturamento:\n",
    "          - Alto Ticket médio.\n",
    "          - Alto LTV.\n",
    "          - Baixo Recência. (Sempre esta comprando ou utilizando o produto)\n",
    "          - Alto Basket Size.\n",
    "          - Baixo probabilidade de Churn.\n",
    "          - Alta previsão de LTV.\n",
    "          - Alta propensão de compra.\n",
    "\n",
    "        - Custo:\n",
    "          - Baixa taxa de devolução.\n",
    "\n",
    "        - Experiência de compra:\n",
    "          - Média alta das avaliação.\n",
    "\n",
    "------------------------------------------------------\n",
    "2. Quantos clientes farão parte do grupo?\n",
    "    - Número total de clientes.\n",
    "    - % do grupo Insiders.\n",
    "\n",
    "------------------------------------------------------\n",
    "3. Quais as principais características desses clientes?\n",
    "    - Escrever características do cliente:\n",
    "        - Idade.\n",
    "        - Localização.\n",
    "        - Sexo.\n",
    "        - Estado Cívil.\n",
    "\n",
    "    - Escrever características do consumo:\n",
    "        - Atributos da clusterização.\n",
    "\n",
    "------------------------------------------------------\n",
    "4. Qual a porcentagem de contribuição do faturamento, vinda do Insiders?\n",
    "    - Faturamento total do ano.\n",
    "    - Faturamento do grupo Insiders.\n",
    "\n",
    "------------------------------------------------------\n",
    "5. Qual a expectativa de faturamento desse grupo para os próximos meses?\n",
    "    - LTV do grupo Insiders.\n",
    "    - Análise de Cohort\n",
    "\n",
    "------------------------------------------------------\n",
    "6. Quais as condições para uma pessoa ser elegível ao Insiders?\n",
    "    - Definir a periodicidade. \n",
    "    - A pessoa precisa ser similar ou parecido com uma pessoa do grupo.\n",
    "\n",
    "------------------------------------------------------\n",
    "7. Quais as condições para uma pessoa ser removida do Insiders?\n",
    "    - Definir a periodicidade.\n",
    "    - A pessoa precisa ser desimilar ou não-parecido com uma pessoa do grupo\n",
    "\n",
    "------------------------------------------------------\n",
    "8. Qual a garantia que o programa Insiders é melhor que o restante da base?\n",
    "    - Teste A/B.\n",
    "    - Teste A/B Bayesiano\n",
    "    - Teste de hipóteses.\n",
    "\n",
    "------------------------------------------------------\n",
    "9. Quais ações o time de marketing pode realizar para aumentar o faturamento?\n",
    "    - Desconto.\n",
    "    - Preferência de compra.\n",
    "    - Produtos exclusivos.\n",
    "    - Visita a empresa."
   ]
  },
  {
   "cell_type": "markdown",
   "id": "25f90ec3-894b-4c76-94e7-eb77f3950e7e",
   "metadata": {},
   "source": [
    "## Benchmark de Soluções\n",
    "### 1. Desk Research"
   ]
  },
  {
   "cell_type": "markdown",
   "id": "4aeed9ef-1f0f-461e-bd86-2357d52d48b4",
   "metadata": {},
   "source": []
  },
  {
   "cell_type": "code",
   "execution_count": null,
   "id": "7118754a-1a30-4d66-be6b-a1f8b8dc291b",
   "metadata": {},
   "outputs": [],
   "source": []
  },
  {
   "cell_type": "code",
   "execution_count": null,
   "id": "0622eeef-78a9-4a91-9360-a59474ed7efe",
   "metadata": {},
   "outputs": [],
   "source": []
  },
  {
   "cell_type": "code",
   "execution_count": null,
   "id": "df02c32f-f7ad-48df-95c6-02a989a8dd2e",
   "metadata": {},
   "outputs": [],
   "source": []
  },
  {
   "cell_type": "code",
   "execution_count": null,
   "id": "0e4ffecb-5923-418a-b980-99a8581fd857",
   "metadata": {},
   "outputs": [],
   "source": []
  },
  {
   "cell_type": "code",
   "execution_count": null,
   "id": "c960beca-57a4-446b-bc7e-c9b0a9d3c8f9",
   "metadata": {},
   "outputs": [],
   "source": []
  }
 ],
 "metadata": {
  "kernelspec": {
   "display_name": "Python 3 (ipykernel)",
   "language": "python",
   "name": "python3"
  },
  "language_info": {
   "codemirror_mode": {
    "name": "ipython",
    "version": 3
   },
   "file_extension": ".py",
   "mimetype": "text/x-python",
   "name": "python",
   "nbconvert_exporter": "python",
   "pygments_lexer": "ipython3",
   "version": "3.8.0"
  }
 },
 "nbformat": 4,
 "nbformat_minor": 5
}
