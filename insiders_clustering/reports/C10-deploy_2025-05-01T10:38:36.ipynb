{
 "cells": [
  {
   "cell_type": "markdown",
   "id": "5f6d675c",
   "metadata": {
    "tags": [
     "papermill-error-cell-tag"
    ]
   },
   "source": [
    "<span style=\"color:red; font-family:Helvetica Neue, Helvetica, Arial, sans-serif; font-size:2em;\">An Exception was encountered at '<a href=\"#papermill-error-cell\">In [46]</a>'.</span>"
   ]
  },
  {
   "cell_type": "markdown",
   "id": "906e9b0f-ea94-4b81-8315-622a529f778b",
   "metadata": {
    "papermill": {
     "duration": 0.04207,
     "end_time": "2025-05-01T13:38:38.225676",
     "exception": false,
     "start_time": "2025-05-01T13:38:38.183606",
     "status": "completed"
    },
    "tags": []
   },
   "source": [
    "# High Value Customer Identification (Insiders)"
   ]
  },
  {
   "cell_type": "markdown",
   "id": "20a830b5-fb85-463d-927e-dd56591cea73",
   "metadata": {
    "papermill": {
     "duration": 0.026796,
     "end_time": "2025-05-01T13:38:38.280828",
     "exception": false,
     "start_time": "2025-05-01T13:38:38.254032",
     "status": "completed"
    },
    "tags": []
   },
   "source": [
    "# <font color='blue'>0.0. Imports</font>"
   ]
  },
  {
   "cell_type": "code",
   "execution_count": 1,
   "id": "7e52605b-5b36-4b7a-ad74-60e5cc431bbc",
   "metadata": {
    "execution": {
     "iopub.execute_input": "2025-05-01T13:38:38.336606Z",
     "iopub.status.busy": "2025-05-01T13:38:38.335628Z",
     "iopub.status.idle": "2025-05-01T13:38:46.874316Z",
     "shell.execute_reply": "2025-05-01T13:38:46.873373Z"
    },
    "papermill": {
     "duration": 8.570488,
     "end_time": "2025-05-01T13:38:46.877529",
     "exception": false,
     "start_time": "2025-05-01T13:38:38.307041",
     "status": "completed"
    },
    "tags": []
   },
   "outputs": [],
   "source": [
    "import re\n",
    "import numpy    as np\n",
    "import pandas   as pd\n",
    "import seaborn  as sns\n",
    "import inflection\n",
    "import warnings\n",
    "\n",
    "import umap.umap_ as umap\n",
    "\n",
    "from matplotlib import pyplot as plt\n",
    "from plotly import express as px\n",
    "\n",
    "from sklearn import cluster as c\n",
    "from sklearn import metrics as m\n",
    "from sklearn import preprocessing as pp\n",
    "from sklearn import decomposition as dd\n",
    "from sklearn import ensemble as en\n",
    "from sklearn import mixture as mx\n",
    "from sklearn.manifold import TSNE\n",
    "from sklearn.neighbors import NearestNeighbors\n",
    "\n",
    "from scipy.cluster import hierarchy as hc\n",
    "\n",
    "from sqlalchemy import create_engine, text"
   ]
  },
  {
   "cell_type": "markdown",
   "id": "df43c46b-04dd-4cf6-a540-3b385edc7757",
   "metadata": {
    "papermill": {
     "duration": 0.02637,
     "end_time": "2025-05-01T13:38:46.935854",
     "exception": false,
     "start_time": "2025-05-01T13:38:46.909484",
     "status": "completed"
    },
    "tags": []
   },
   "source": [
    "## <font color='blue'>0.2. Load DataSet</font>"
   ]
  },
  {
   "cell_type": "code",
   "execution_count": 2,
   "id": "686c9b37-f045-494a-bad6-090745ee62be",
   "metadata": {
    "execution": {
     "iopub.execute_input": "2025-05-01T13:38:46.994676Z",
     "iopub.status.busy": "2025-05-01T13:38:46.993604Z",
     "iopub.status.idle": "2025-05-01T13:38:47.757072Z",
     "shell.execute_reply": "2025-05-01T13:38:47.756079Z"
    },
    "papermill": {
     "duration": 0.796917,
     "end_time": "2025-05-01T13:38:47.759843",
     "exception": false,
     "start_time": "2025-05-01T13:38:46.962926",
     "status": "completed"
    },
    "tags": []
   },
   "outputs": [],
   "source": [
    "# load data\n",
    "path = '/home/tiago/Documentos/repos/insiders_clustering/insiders_clustering/'\n",
    "df_raw = pd.read_csv( path + 'data/raw/Ecommerce.csv', encoding='unicode_escape')\n",
    "\n",
    "# drop extra column\n",
    "df_raw = df_raw.drop( columns=['Unnamed: 8'], axis=1)"
   ]
  },
  {
   "cell_type": "markdown",
   "id": "674e86fc-0f1a-44bd-9255-bfa8b6a2637e",
   "metadata": {
    "papermill": {
     "duration": 0.027016,
     "end_time": "2025-05-01T13:38:47.820627",
     "exception": false,
     "start_time": "2025-05-01T13:38:47.793611",
     "status": "completed"
    },
    "tags": []
   },
   "source": [
    "# <font color='red'>1.0. Descrição dos dados</font>"
   ]
  },
  {
   "cell_type": "code",
   "execution_count": 3,
   "id": "4db449b3-5389-432b-9442-e765780e7507",
   "metadata": {
    "execution": {
     "iopub.execute_input": "2025-05-01T13:38:47.876273Z",
     "iopub.status.busy": "2025-05-01T13:38:47.875799Z",
     "iopub.status.idle": "2025-05-01T13:38:47.911344Z",
     "shell.execute_reply": "2025-05-01T13:38:47.910196Z"
    },
    "papermill": {
     "duration": 0.06597,
     "end_time": "2025-05-01T13:38:47.913378",
     "exception": false,
     "start_time": "2025-05-01T13:38:47.847408",
     "status": "completed"
    },
    "tags": []
   },
   "outputs": [],
   "source": [
    "df1 = df_raw.copy()"
   ]
  },
  {
   "cell_type": "markdown",
   "id": "f34e98dc-1dec-4653-a0a1-a49079623328",
   "metadata": {
    "papermill": {
     "duration": 0.026821,
     "end_time": "2025-05-01T13:38:47.969646",
     "exception": false,
     "start_time": "2025-05-01T13:38:47.942825",
     "status": "completed"
    },
    "tags": []
   },
   "source": [
    "## 1.1. Rename Columns"
   ]
  },
  {
   "cell_type": "code",
   "execution_count": 4,
   "id": "b421c643-4169-40d1-8134-902a8254f5e8",
   "metadata": {
    "execution": {
     "iopub.execute_input": "2025-05-01T13:38:48.067913Z",
     "iopub.status.busy": "2025-05-01T13:38:48.066763Z",
     "iopub.status.idle": "2025-05-01T13:38:48.084122Z",
     "shell.execute_reply": "2025-05-01T13:38:48.082572Z"
    },
    "papermill": {
     "duration": 0.08981,
     "end_time": "2025-05-01T13:38:48.086291",
     "exception": false,
     "start_time": "2025-05-01T13:38:47.996481",
     "status": "completed"
    },
    "tags": []
   },
   "outputs": [
    {
     "data": {
      "text/plain": [
       "Index(['InvoiceNo', 'StockCode', 'Description', 'Quantity', 'InvoiceDate',\n",
       "       'UnitPrice', 'CustomerID', 'Country'],\n",
       "      dtype='object')"
      ]
     },
     "execution_count": 4,
     "metadata": {},
     "output_type": "execute_result"
    }
   ],
   "source": [
    "df1.columns"
   ]
  },
  {
   "cell_type": "code",
   "execution_count": 5,
   "id": "bbe10a59-7a99-4507-9544-8d3bb76e1612",
   "metadata": {
    "execution": {
     "iopub.execute_input": "2025-05-01T13:38:48.145503Z",
     "iopub.status.busy": "2025-05-01T13:38:48.144481Z",
     "iopub.status.idle": "2025-05-01T13:38:48.156547Z",
     "shell.execute_reply": "2025-05-01T13:38:48.155658Z"
    },
    "papermill": {
     "duration": 0.044765,
     "end_time": "2025-05-01T13:38:48.158350",
     "exception": false,
     "start_time": "2025-05-01T13:38:48.113585",
     "status": "completed"
    },
    "tags": []
   },
   "outputs": [],
   "source": [
    "cols_old = ['InvoiceNo', 'StockCode', 'Description', 'Quantity', 'InvoiceDate',\n",
    "       'UnitPrice', 'CustomerID', 'Country']\n",
    "\n",
    "snakecase = lambda x: inflection.underscore( x )\n",
    "\n",
    "cols_new = list( map (snakecase, cols_old) )\n",
    "\n",
    "#Rename\n",
    "df1.columns = cols_new"
   ]
  },
  {
   "cell_type": "code",
   "execution_count": 6,
   "id": "aa08c698-30e0-4010-9a57-964756a9f550",
   "metadata": {
    "execution": {
     "iopub.execute_input": "2025-05-01T13:38:48.217340Z",
     "iopub.status.busy": "2025-05-01T13:38:48.215604Z",
     "iopub.status.idle": "2025-05-01T13:38:48.225142Z",
     "shell.execute_reply": "2025-05-01T13:38:48.223896Z"
    },
    "papermill": {
     "duration": 0.04057,
     "end_time": "2025-05-01T13:38:48.226909",
     "exception": false,
     "start_time": "2025-05-01T13:38:48.186339",
     "status": "completed"
    },
    "tags": []
   },
   "outputs": [
    {
     "data": {
      "text/plain": [
       "Index(['invoice_no', 'stock_code', 'description', 'quantity', 'invoice_date',\n",
       "       'unit_price', 'customer_id', 'country'],\n",
       "      dtype='object')"
      ]
     },
     "execution_count": 6,
     "metadata": {},
     "output_type": "execute_result"
    }
   ],
   "source": [
    "df1.columns"
   ]
  },
  {
   "cell_type": "markdown",
   "id": "974c4ed1-1b68-451b-b096-df68013accc5",
   "metadata": {
    "papermill": {
     "duration": 0.026954,
     "end_time": "2025-05-01T13:38:48.281773",
     "exception": false,
     "start_time": "2025-05-01T13:38:48.254819",
     "status": "completed"
    },
    "tags": []
   },
   "source": [
    "## 1.2. Data Dimensions"
   ]
  },
  {
   "cell_type": "code",
   "execution_count": 7,
   "id": "d54e9994-a1be-4609-8cbb-8f60caa18548",
   "metadata": {
    "execution": {
     "iopub.execute_input": "2025-05-01T13:38:48.337095Z",
     "iopub.status.busy": "2025-05-01T13:38:48.336161Z",
     "iopub.status.idle": "2025-05-01T13:38:48.344976Z",
     "shell.execute_reply": "2025-05-01T13:38:48.343462Z"
    },
    "papermill": {
     "duration": 0.038865,
     "end_time": "2025-05-01T13:38:48.347031",
     "exception": false,
     "start_time": "2025-05-01T13:38:48.308166",
     "status": "completed"
    },
    "tags": []
   },
   "outputs": [
    {
     "name": "stdout",
     "output_type": "stream",
     "text": [
      "Numero de Linhas: 541909\n",
      "Numero de Colunas: 8\n"
     ]
    }
   ],
   "source": [
    "print(f'Numero de Linhas: {df1.shape[0]}')\n",
    "print(f'Numero de Colunas: {df1.shape[1]}')"
   ]
  },
  {
   "cell_type": "markdown",
   "id": "34c6ee4a-8386-4c32-a267-3f818796a4d8",
   "metadata": {
    "papermill": {
     "duration": 0.027802,
     "end_time": "2025-05-01T13:38:48.402766",
     "exception": false,
     "start_time": "2025-05-01T13:38:48.374964",
     "status": "completed"
    },
    "tags": []
   },
   "source": [
    "## 1.3. Data Types"
   ]
  },
  {
   "cell_type": "code",
   "execution_count": 8,
   "id": "4f085796-4383-4038-a974-09c93ea9c9c6",
   "metadata": {
    "execution": {
     "iopub.execute_input": "2025-05-01T13:38:48.459310Z",
     "iopub.status.busy": "2025-05-01T13:38:48.457900Z",
     "iopub.status.idle": "2025-05-01T13:38:48.485195Z",
     "shell.execute_reply": "2025-05-01T13:38:48.482751Z"
    },
    "papermill": {
     "duration": 0.058429,
     "end_time": "2025-05-01T13:38:48.487664",
     "exception": false,
     "start_time": "2025-05-01T13:38:48.429235",
     "status": "completed"
    },
    "tags": []
   },
   "outputs": [
    {
     "data": {
      "text/html": [
       "<div>\n",
       "<style scoped>\n",
       "    .dataframe tbody tr th:only-of-type {\n",
       "        vertical-align: middle;\n",
       "    }\n",
       "\n",
       "    .dataframe tbody tr th {\n",
       "        vertical-align: top;\n",
       "    }\n",
       "\n",
       "    .dataframe thead th {\n",
       "        text-align: right;\n",
       "    }\n",
       "</style>\n",
       "<table border=\"1\" class=\"dataframe\">\n",
       "  <thead>\n",
       "    <tr style=\"text-align: right;\">\n",
       "      <th></th>\n",
       "      <th>invoice_no</th>\n",
       "      <th>stock_code</th>\n",
       "      <th>description</th>\n",
       "      <th>quantity</th>\n",
       "      <th>invoice_date</th>\n",
       "      <th>unit_price</th>\n",
       "      <th>customer_id</th>\n",
       "      <th>country</th>\n",
       "    </tr>\n",
       "  </thead>\n",
       "  <tbody>\n",
       "    <tr>\n",
       "      <th>0</th>\n",
       "      <td>536365</td>\n",
       "      <td>85123A</td>\n",
       "      <td>WHITE HANGING HEART T-LIGHT HOLDER</td>\n",
       "      <td>6</td>\n",
       "      <td>29-Nov-16</td>\n",
       "      <td>2.55</td>\n",
       "      <td>17850.0</td>\n",
       "      <td>United Kingdom</td>\n",
       "    </tr>\n",
       "    <tr>\n",
       "      <th>1</th>\n",
       "      <td>536365</td>\n",
       "      <td>71053</td>\n",
       "      <td>WHITE METAL LANTERN</td>\n",
       "      <td>6</td>\n",
       "      <td>29-Nov-16</td>\n",
       "      <td>3.39</td>\n",
       "      <td>17850.0</td>\n",
       "      <td>United Kingdom</td>\n",
       "    </tr>\n",
       "    <tr>\n",
       "      <th>2</th>\n",
       "      <td>536365</td>\n",
       "      <td>84406B</td>\n",
       "      <td>CREAM CUPID HEARTS COAT HANGER</td>\n",
       "      <td>8</td>\n",
       "      <td>29-Nov-16</td>\n",
       "      <td>2.75</td>\n",
       "      <td>17850.0</td>\n",
       "      <td>United Kingdom</td>\n",
       "    </tr>\n",
       "    <tr>\n",
       "      <th>3</th>\n",
       "      <td>536365</td>\n",
       "      <td>84029G</td>\n",
       "      <td>KNITTED UNION FLAG HOT WATER BOTTLE</td>\n",
       "      <td>6</td>\n",
       "      <td>29-Nov-16</td>\n",
       "      <td>3.39</td>\n",
       "      <td>17850.0</td>\n",
       "      <td>United Kingdom</td>\n",
       "    </tr>\n",
       "    <tr>\n",
       "      <th>4</th>\n",
       "      <td>536365</td>\n",
       "      <td>84029E</td>\n",
       "      <td>RED WOOLLY HOTTIE WHITE HEART.</td>\n",
       "      <td>6</td>\n",
       "      <td>29-Nov-16</td>\n",
       "      <td>3.39</td>\n",
       "      <td>17850.0</td>\n",
       "      <td>United Kingdom</td>\n",
       "    </tr>\n",
       "  </tbody>\n",
       "</table>\n",
       "</div>"
      ],
      "text/plain": [
       "  invoice_no stock_code                          description  quantity  \\\n",
       "0     536365     85123A   WHITE HANGING HEART T-LIGHT HOLDER         6   \n",
       "1     536365      71053                  WHITE METAL LANTERN         6   \n",
       "2     536365     84406B       CREAM CUPID HEARTS COAT HANGER         8   \n",
       "3     536365     84029G  KNITTED UNION FLAG HOT WATER BOTTLE         6   \n",
       "4     536365     84029E       RED WOOLLY HOTTIE WHITE HEART.         6   \n",
       "\n",
       "  invoice_date  unit_price  customer_id         country  \n",
       "0    29-Nov-16        2.55      17850.0  United Kingdom  \n",
       "1    29-Nov-16        3.39      17850.0  United Kingdom  \n",
       "2    29-Nov-16        2.75      17850.0  United Kingdom  \n",
       "3    29-Nov-16        3.39      17850.0  United Kingdom  \n",
       "4    29-Nov-16        3.39      17850.0  United Kingdom  "
      ]
     },
     "execution_count": 8,
     "metadata": {},
     "output_type": "execute_result"
    }
   ],
   "source": [
    "df1.head()"
   ]
  },
  {
   "cell_type": "code",
   "execution_count": 9,
   "id": "ff6a2cbd-f661-455d-828e-c2876483992e",
   "metadata": {
    "execution": {
     "iopub.execute_input": "2025-05-01T13:38:48.545889Z",
     "iopub.status.busy": "2025-05-01T13:38:48.544874Z",
     "iopub.status.idle": "2025-05-01T13:38:48.559276Z",
     "shell.execute_reply": "2025-05-01T13:38:48.557632Z"
    },
    "papermill": {
     "duration": 0.045015,
     "end_time": "2025-05-01T13:38:48.561142",
     "exception": false,
     "start_time": "2025-05-01T13:38:48.516127",
     "status": "completed"
    },
    "tags": []
   },
   "outputs": [
    {
     "data": {
      "text/plain": [
       "invoice_no       object\n",
       "stock_code       object\n",
       "description      object\n",
       "quantity          int64\n",
       "invoice_date     object\n",
       "unit_price      float64\n",
       "customer_id     float64\n",
       "country          object\n",
       "dtype: object"
      ]
     },
     "execution_count": 9,
     "metadata": {},
     "output_type": "execute_result"
    }
   ],
   "source": [
    "df1.dtypes"
   ]
  },
  {
   "cell_type": "markdown",
   "id": "e98ab6cf-ee5a-44e1-aa21-9af2989986b7",
   "metadata": {
    "papermill": {
     "duration": 0.029357,
     "end_time": "2025-05-01T13:38:48.617709",
     "exception": false,
     "start_time": "2025-05-01T13:38:48.588352",
     "status": "completed"
    },
    "tags": []
   },
   "source": [
    "## 1.4. Check NA"
   ]
  },
  {
   "cell_type": "code",
   "execution_count": 10,
   "id": "d60a3d86-d214-457b-b458-d918d33955ee",
   "metadata": {
    "execution": {
     "iopub.execute_input": "2025-05-01T13:38:48.676074Z",
     "iopub.status.busy": "2025-05-01T13:38:48.675013Z",
     "iopub.status.idle": "2025-05-01T13:38:48.806018Z",
     "shell.execute_reply": "2025-05-01T13:38:48.803665Z"
    },
    "papermill": {
     "duration": 0.163952,
     "end_time": "2025-05-01T13:38:48.809687",
     "exception": false,
     "start_time": "2025-05-01T13:38:48.645735",
     "status": "completed"
    },
    "tags": []
   },
   "outputs": [
    {
     "data": {
      "text/plain": [
       "invoice_no           0\n",
       "stock_code           0\n",
       "description       1454\n",
       "quantity             0\n",
       "invoice_date         0\n",
       "unit_price           0\n",
       "customer_id     135080\n",
       "country              0\n",
       "dtype: int64"
      ]
     },
     "execution_count": 10,
     "metadata": {},
     "output_type": "execute_result"
    }
   ],
   "source": [
    "df1.isna().sum()"
   ]
  },
  {
   "cell_type": "markdown",
   "id": "1fc21d69-e0b9-48fd-b9ab-81a9aaefeb9a",
   "metadata": {
    "papermill": {
     "duration": 0.02714,
     "end_time": "2025-05-01T13:38:48.881330",
     "exception": false,
     "start_time": "2025-05-01T13:38:48.854190",
     "status": "completed"
    },
    "tags": []
   },
   "source": [
    "## 1.5. Replace NA"
   ]
  },
  {
   "cell_type": "code",
   "execution_count": 11,
   "id": "44109732-8cdb-4f6f-988c-d130a1797aa2",
   "metadata": {
    "execution": {
     "iopub.execute_input": "2025-05-01T13:38:48.939262Z",
     "iopub.status.busy": "2025-05-01T13:38:48.938743Z",
     "iopub.status.idle": "2025-05-01T13:38:49.004346Z",
     "shell.execute_reply": "2025-05-01T13:38:49.003016Z"
    },
    "papermill": {
     "duration": 0.097559,
     "end_time": "2025-05-01T13:38:49.007079",
     "exception": false,
     "start_time": "2025-05-01T13:38:48.909520",
     "status": "completed"
    },
    "tags": []
   },
   "outputs": [],
   "source": [
    "df_missing = df1.loc[df1['customer_id'].isna(), :]\n",
    "df_not_missing = df1.loc[~df1['customer_id'].isna(), :]"
   ]
  },
  {
   "cell_type": "code",
   "execution_count": 12,
   "id": "0aee1e8c-9653-4517-ae46-040d916bbabd",
   "metadata": {
    "execution": {
     "iopub.execute_input": "2025-05-01T13:38:49.070081Z",
     "iopub.status.busy": "2025-05-01T13:38:49.068653Z",
     "iopub.status.idle": "2025-05-01T13:38:49.077707Z",
     "shell.execute_reply": "2025-05-01T13:38:49.075985Z"
    },
    "papermill": {
     "duration": 0.041714,
     "end_time": "2025-05-01T13:38:49.079742",
     "exception": false,
     "start_time": "2025-05-01T13:38:49.038028",
     "status": "completed"
    },
    "tags": []
   },
   "outputs": [
    {
     "name": "stdout",
     "output_type": "stream",
     "text": [
      "Customer NA: 135080\n",
      "Customer Ok: 406829\n"
     ]
    }
   ],
   "source": [
    "print(f'Customer NA: {df_missing.shape[0]}')\n",
    "print(f'Customer Ok: {df_not_missing.shape[0]}')"
   ]
  },
  {
   "cell_type": "code",
   "execution_count": 13,
   "id": "4f88b313-90d4-431b-a367-3e09a93494f4",
   "metadata": {
    "execution": {
     "iopub.execute_input": "2025-05-01T13:38:49.143012Z",
     "iopub.status.busy": "2025-05-01T13:38:49.142106Z",
     "iopub.status.idle": "2025-05-01T13:38:49.159513Z",
     "shell.execute_reply": "2025-05-01T13:38:49.157543Z"
    },
    "papermill": {
     "duration": 0.050703,
     "end_time": "2025-05-01T13:38:49.161783",
     "exception": false,
     "start_time": "2025-05-01T13:38:49.111080",
     "status": "completed"
    },
    "tags": []
   },
   "outputs": [
    {
     "data": {
      "text/plain": [
       "['536414',\n",
       " '536544',\n",
       " '536545',\n",
       " '536546',\n",
       " '536547',\n",
       " '536549',\n",
       " '536550',\n",
       " '536552',\n",
       " '536553',\n",
       " '536554']"
      ]
     },
     "execution_count": 13,
     "metadata": {},
     "output_type": "execute_result"
    }
   ],
   "source": [
    "# Separando em uma lista os invoice sem o customer registrado\n",
    "missing_invoice = df_missing['invoice_no'].drop_duplicates().tolist()\n",
    "missing_invoice[0:10]"
   ]
  },
  {
   "cell_type": "code",
   "execution_count": 14,
   "id": "829dbfda-ebc9-42bc-9aec-25cedeaba6cd",
   "metadata": {
    "execution": {
     "iopub.execute_input": "2025-05-01T13:38:49.225649Z",
     "iopub.status.busy": "2025-05-01T13:38:49.225028Z",
     "iopub.status.idle": "2025-05-01T13:38:49.393630Z",
     "shell.execute_reply": "2025-05-01T13:38:49.392385Z"
    },
    "papermill": {
     "duration": 0.203834,
     "end_time": "2025-05-01T13:38:49.396487",
     "exception": false,
     "start_time": "2025-05-01T13:38:49.192653",
     "status": "completed"
    },
    "tags": []
   },
   "outputs": [],
   "source": [
    "# Criar id's acima do valor maximo do customer id, para conseguir usar os 25% da base que está como NA na clusterização\n",
    "\n",
    "# create reference\n",
    "df_backup = pd.DataFrame( df_missing['invoice_no'].drop_duplicates() )\n",
    "df_backup['customer_id'] = np.arange(19000, 19000 + len( df_backup ), 1 )\n",
    "\n",
    "# merge original with reference dataframe\n",
    "df1 = pd.merge( df1, df_backup, on='invoice_no', how='left')\n",
    "\n",
    "# coalese\n",
    "df1['customer_id'] = df1['customer_id_x'].combine_first( df1['customer_id_y'] )\n",
    "\n",
    "# drop extra columns\n",
    "df1 = df1.drop( columns=['customer_id_x', 'customer_id_y'], axis=1 )"
   ]
  },
  {
   "cell_type": "code",
   "execution_count": 15,
   "id": "ca59f3cd-2433-4b44-9f59-168c344b50ca",
   "metadata": {
    "execution": {
     "iopub.execute_input": "2025-05-01T13:38:49.459333Z",
     "iopub.status.busy": "2025-05-01T13:38:49.458858Z",
     "iopub.status.idle": "2025-05-01T13:38:49.566040Z",
     "shell.execute_reply": "2025-05-01T13:38:49.563783Z"
    },
    "papermill": {
     "duration": 0.139244,
     "end_time": "2025-05-01T13:38:49.568467",
     "exception": false,
     "start_time": "2025-05-01T13:38:49.429223",
     "status": "completed"
    },
    "tags": []
   },
   "outputs": [
    {
     "data": {
      "text/plain": [
       "invoice_no         0\n",
       "stock_code         0\n",
       "description     1454\n",
       "quantity           0\n",
       "invoice_date       0\n",
       "unit_price         0\n",
       "country            0\n",
       "customer_id        0\n",
       "dtype: int64"
      ]
     },
     "execution_count": 15,
     "metadata": {},
     "output_type": "execute_result"
    }
   ],
   "source": [
    "df1.isna().sum()"
   ]
  },
  {
   "cell_type": "markdown",
   "id": "908d412e-525c-42f8-8ad5-659a0dae70b6",
   "metadata": {
    "papermill": {
     "duration": 0.038568,
     "end_time": "2025-05-01T13:38:49.661502",
     "exception": false,
     "start_time": "2025-05-01T13:38:49.622934",
     "status": "completed"
    },
    "tags": []
   },
   "source": [
    "## 1.6. Change Dtypes"
   ]
  },
  {
   "cell_type": "code",
   "execution_count": 16,
   "id": "87027e86-4788-4ece-a4aa-96a4ace1ebef",
   "metadata": {
    "execution": {
     "iopub.execute_input": "2025-05-01T13:38:49.724608Z",
     "iopub.status.busy": "2025-05-01T13:38:49.724035Z",
     "iopub.status.idle": "2025-05-01T13:38:49.736921Z",
     "shell.execute_reply": "2025-05-01T13:38:49.734937Z"
    },
    "papermill": {
     "duration": 0.044778,
     "end_time": "2025-05-01T13:38:49.739648",
     "exception": false,
     "start_time": "2025-05-01T13:38:49.694870",
     "status": "completed"
    },
    "tags": []
   },
   "outputs": [
    {
     "data": {
      "text/plain": [
       "invoice_no       object\n",
       "stock_code       object\n",
       "description      object\n",
       "quantity          int64\n",
       "invoice_date     object\n",
       "unit_price      float64\n",
       "country          object\n",
       "customer_id     float64\n",
       "dtype: object"
      ]
     },
     "execution_count": 16,
     "metadata": {},
     "output_type": "execute_result"
    }
   ],
   "source": [
    "df1.dtypes"
   ]
  },
  {
   "cell_type": "code",
   "execution_count": 17,
   "id": "61362800-f7dc-4bd7-9209-429796da48d9",
   "metadata": {
    "execution": {
     "iopub.execute_input": "2025-05-01T13:38:49.808719Z",
     "iopub.status.busy": "2025-05-01T13:38:49.807753Z",
     "iopub.status.idle": "2025-05-01T13:38:49.887538Z",
     "shell.execute_reply": "2025-05-01T13:38:49.886277Z"
    },
    "papermill": {
     "duration": 0.114253,
     "end_time": "2025-05-01T13:38:49.889641",
     "exception": false,
     "start_time": "2025-05-01T13:38:49.775388",
     "status": "completed"
    },
    "tags": []
   },
   "outputs": [
    {
     "data": {
      "text/html": [
       "<div>\n",
       "<style scoped>\n",
       "    .dataframe tbody tr th:only-of-type {\n",
       "        vertical-align: middle;\n",
       "    }\n",
       "\n",
       "    .dataframe tbody tr th {\n",
       "        vertical-align: top;\n",
       "    }\n",
       "\n",
       "    .dataframe thead th {\n",
       "        text-align: right;\n",
       "    }\n",
       "</style>\n",
       "<table border=\"1\" class=\"dataframe\">\n",
       "  <thead>\n",
       "    <tr style=\"text-align: right;\">\n",
       "      <th></th>\n",
       "      <th>invoice_no</th>\n",
       "      <th>stock_code</th>\n",
       "      <th>description</th>\n",
       "      <th>quantity</th>\n",
       "      <th>invoice_date</th>\n",
       "      <th>unit_price</th>\n",
       "      <th>country</th>\n",
       "      <th>customer_id</th>\n",
       "    </tr>\n",
       "  </thead>\n",
       "  <tbody>\n",
       "    <tr>\n",
       "      <th>0</th>\n",
       "      <td>536365</td>\n",
       "      <td>85123A</td>\n",
       "      <td>WHITE HANGING HEART T-LIGHT HOLDER</td>\n",
       "      <td>6</td>\n",
       "      <td>2016-11-29</td>\n",
       "      <td>2.55</td>\n",
       "      <td>United Kingdom</td>\n",
       "      <td>17850</td>\n",
       "    </tr>\n",
       "    <tr>\n",
       "      <th>1</th>\n",
       "      <td>536365</td>\n",
       "      <td>71053</td>\n",
       "      <td>WHITE METAL LANTERN</td>\n",
       "      <td>6</td>\n",
       "      <td>2016-11-29</td>\n",
       "      <td>3.39</td>\n",
       "      <td>United Kingdom</td>\n",
       "      <td>17850</td>\n",
       "    </tr>\n",
       "    <tr>\n",
       "      <th>2</th>\n",
       "      <td>536365</td>\n",
       "      <td>84406B</td>\n",
       "      <td>CREAM CUPID HEARTS COAT HANGER</td>\n",
       "      <td>8</td>\n",
       "      <td>2016-11-29</td>\n",
       "      <td>2.75</td>\n",
       "      <td>United Kingdom</td>\n",
       "      <td>17850</td>\n",
       "    </tr>\n",
       "    <tr>\n",
       "      <th>3</th>\n",
       "      <td>536365</td>\n",
       "      <td>84029G</td>\n",
       "      <td>KNITTED UNION FLAG HOT WATER BOTTLE</td>\n",
       "      <td>6</td>\n",
       "      <td>2016-11-29</td>\n",
       "      <td>3.39</td>\n",
       "      <td>United Kingdom</td>\n",
       "      <td>17850</td>\n",
       "    </tr>\n",
       "    <tr>\n",
       "      <th>4</th>\n",
       "      <td>536365</td>\n",
       "      <td>84029E</td>\n",
       "      <td>RED WOOLLY HOTTIE WHITE HEART.</td>\n",
       "      <td>6</td>\n",
       "      <td>2016-11-29</td>\n",
       "      <td>3.39</td>\n",
       "      <td>United Kingdom</td>\n",
       "      <td>17850</td>\n",
       "    </tr>\n",
       "  </tbody>\n",
       "</table>\n",
       "</div>"
      ],
      "text/plain": [
       "  invoice_no stock_code                          description  quantity  \\\n",
       "0     536365     85123A   WHITE HANGING HEART T-LIGHT HOLDER         6   \n",
       "1     536365      71053                  WHITE METAL LANTERN         6   \n",
       "2     536365     84406B       CREAM CUPID HEARTS COAT HANGER         8   \n",
       "3     536365     84029G  KNITTED UNION FLAG HOT WATER BOTTLE         6   \n",
       "4     536365     84029E       RED WOOLLY HOTTIE WHITE HEART.         6   \n",
       "\n",
       "  invoice_date  unit_price         country  customer_id  \n",
       "0   2016-11-29        2.55  United Kingdom        17850  \n",
       "1   2016-11-29        3.39  United Kingdom        17850  \n",
       "2   2016-11-29        2.75  United Kingdom        17850  \n",
       "3   2016-11-29        3.39  United Kingdom        17850  \n",
       "4   2016-11-29        3.39  United Kingdom        17850  "
      ]
     },
     "execution_count": 17,
     "metadata": {},
     "output_type": "execute_result"
    }
   ],
   "source": [
    "# invoice_date\n",
    "df1['invoice_date'] = pd.to_datetime( df1['invoice_date'], format='%d-%b-%y' )\n",
    "\n",
    "# customer_id\n",
    "df1['customer_id'] =df1['customer_id'].astype( int ) \n",
    "\n",
    "df1.head()"
   ]
  },
  {
   "cell_type": "code",
   "execution_count": 18,
   "id": "945d7a46-3ea7-49a9-b45b-63423c7106ba",
   "metadata": {
    "execution": {
     "iopub.execute_input": "2025-05-01T13:38:49.951591Z",
     "iopub.status.busy": "2025-05-01T13:38:49.950423Z",
     "iopub.status.idle": "2025-05-01T13:38:49.961856Z",
     "shell.execute_reply": "2025-05-01T13:38:49.960462Z"
    },
    "papermill": {
     "duration": 0.043905,
     "end_time": "2025-05-01T13:38:49.964237",
     "exception": false,
     "start_time": "2025-05-01T13:38:49.920332",
     "status": "completed"
    },
    "tags": []
   },
   "outputs": [
    {
     "data": {
      "text/plain": [
       "invoice_no              object\n",
       "stock_code              object\n",
       "description             object\n",
       "quantity                 int64\n",
       "invoice_date    datetime64[ns]\n",
       "unit_price             float64\n",
       "country                 object\n",
       "customer_id              int64\n",
       "dtype: object"
      ]
     },
     "execution_count": 18,
     "metadata": {},
     "output_type": "execute_result"
    }
   ],
   "source": [
    "df1.dtypes"
   ]
  },
  {
   "cell_type": "markdown",
   "id": "76cc0675-17ff-47f6-830e-a297de8ed865",
   "metadata": {
    "papermill": {
     "duration": 0.030295,
     "end_time": "2025-05-01T13:38:50.023203",
     "exception": false,
     "start_time": "2025-05-01T13:38:49.992908",
     "status": "completed"
    },
    "tags": []
   },
   "source": [
    "## 1.7. Descriptive Statistics"
   ]
  },
  {
   "cell_type": "code",
   "execution_count": 19,
   "id": "aefd30ee-96a8-4300-84a6-861a064d4e62",
   "metadata": {
    "execution": {
     "iopub.execute_input": "2025-05-01T13:38:50.084437Z",
     "iopub.status.busy": "2025-05-01T13:38:50.083784Z",
     "iopub.status.idle": "2025-05-01T13:38:50.167378Z",
     "shell.execute_reply": "2025-05-01T13:38:50.166367Z"
    },
    "papermill": {
     "duration": 0.117655,
     "end_time": "2025-05-01T13:38:50.170026",
     "exception": false,
     "start_time": "2025-05-01T13:38:50.052371",
     "status": "completed"
    },
    "tags": []
   },
   "outputs": [],
   "source": [
    "num_attributes = df1.select_dtypes( include=['int64', 'float64'] )\n",
    "cat_attributes = df1.select_dtypes( exclude=['int64', 'float64', 'datetime64[ns]'] )\n"
   ]
  },
  {
   "cell_type": "markdown",
   "id": "9bbd56e8-18e7-4cd2-b0f7-7d5dfbce7543",
   "metadata": {
    "papermill": {
     "duration": 0.029692,
     "end_time": "2025-05-01T13:38:50.233129",
     "exception": false,
     "start_time": "2025-05-01T13:38:50.203437",
     "status": "completed"
    },
    "tags": []
   },
   "source": [
    "### 1.7.1 Numerical Attributes"
   ]
  },
  {
   "cell_type": "code",
   "execution_count": 20,
   "id": "2836a940-b2f4-4f46-b02c-3b3dfdacd9dc",
   "metadata": {
    "execution": {
     "iopub.execute_input": "2025-05-01T13:38:50.299123Z",
     "iopub.status.busy": "2025-05-01T13:38:50.298572Z",
     "iopub.status.idle": "2025-05-01T13:38:50.414987Z",
     "shell.execute_reply": "2025-05-01T13:38:50.413242Z"
    },
    "papermill": {
     "duration": 0.154761,
     "end_time": "2025-05-01T13:38:50.417445",
     "exception": false,
     "start_time": "2025-05-01T13:38:50.262684",
     "status": "completed"
    },
    "tags": []
   },
   "outputs": [
    {
     "data": {
      "text/html": [
       "<div>\n",
       "<style scoped>\n",
       "    .dataframe tbody tr th:only-of-type {\n",
       "        vertical-align: middle;\n",
       "    }\n",
       "\n",
       "    .dataframe tbody tr th {\n",
       "        vertical-align: top;\n",
       "    }\n",
       "\n",
       "    .dataframe thead th {\n",
       "        text-align: right;\n",
       "    }\n",
       "</style>\n",
       "<table border=\"1\" class=\"dataframe\">\n",
       "  <thead>\n",
       "    <tr style=\"text-align: right;\">\n",
       "      <th></th>\n",
       "      <th>attributes</th>\n",
       "      <th>Min</th>\n",
       "      <th>Max</th>\n",
       "      <th>Range</th>\n",
       "      <th>Mean</th>\n",
       "      <th>Mediana</th>\n",
       "      <th>Desvio Padrão</th>\n",
       "      <th>Skew</th>\n",
       "      <th>Kurtosis</th>\n",
       "    </tr>\n",
       "  </thead>\n",
       "  <tbody>\n",
       "    <tr>\n",
       "      <th>0</th>\n",
       "      <td>quantity</td>\n",
       "      <td>-80995.00</td>\n",
       "      <td>80995.0</td>\n",
       "      <td>161990.00</td>\n",
       "      <td>9.552250</td>\n",
       "      <td>3.00</td>\n",
       "      <td>218.080957</td>\n",
       "      <td>-0.264076</td>\n",
       "      <td>119769.160031</td>\n",
       "    </tr>\n",
       "    <tr>\n",
       "      <th>1</th>\n",
       "      <td>unit_price</td>\n",
       "      <td>-11062.06</td>\n",
       "      <td>38970.0</td>\n",
       "      <td>50032.06</td>\n",
       "      <td>4.611114</td>\n",
       "      <td>2.08</td>\n",
       "      <td>96.759764</td>\n",
       "      <td>186.506972</td>\n",
       "      <td>59005.719097</td>\n",
       "    </tr>\n",
       "    <tr>\n",
       "      <th>2</th>\n",
       "      <td>customer_id</td>\n",
       "      <td>12346.00</td>\n",
       "      <td>22709.0</td>\n",
       "      <td>10363.00</td>\n",
       "      <td>16688.840453</td>\n",
       "      <td>16249.00</td>\n",
       "      <td>2911.408666</td>\n",
       "      <td>0.487449</td>\n",
       "      <td>-0.804287</td>\n",
       "    </tr>\n",
       "  </tbody>\n",
       "</table>\n",
       "</div>"
      ],
      "text/plain": [
       "    attributes       Min      Max      Range          Mean   Mediana  \\\n",
       "0     quantity -80995.00  80995.0  161990.00      9.552250      3.00   \n",
       "1   unit_price -11062.06  38970.0   50032.06      4.611114      2.08   \n",
       "2  customer_id  12346.00  22709.0   10363.00  16688.840453  16249.00   \n",
       "\n",
       "   Desvio Padrão        Skew       Kurtosis  \n",
       "0     218.080957   -0.264076  119769.160031  \n",
       "1      96.759764  186.506972   59005.719097  \n",
       "2    2911.408666    0.487449      -0.804287  "
      ]
     },
     "execution_count": 20,
     "metadata": {},
     "output_type": "execute_result"
    }
   ],
   "source": [
    "# central tendency - mean, median\n",
    "ct1 = pd.DataFrame( num_attributes.apply( np.mean ) ).T\n",
    "ct2 = pd.DataFrame( num_attributes.apply( np.median ) ).T\n",
    "\n",
    "# dispersion - desvio padrão, minímo, maximo, range, skew, kurtosis\n",
    "d1 = pd.DataFrame( num_attributes.apply( np.std ) ).T\n",
    "d2 = pd.DataFrame( num_attributes.apply( np.min ) ).T\n",
    "d3 = pd.DataFrame( num_attributes.apply( np.max ) ).T\n",
    "d4 = pd.DataFrame( num_attributes.apply( lambda x: x.max() - x.min()  ) ).T\n",
    "d5 = pd.DataFrame( num_attributes.apply( lambda x: x.skew() ) ).T\n",
    "d6 = pd.DataFrame( num_attributes.apply( lambda x: x.kurtosis() ) ).T\n",
    "\n",
    "# concatenate\n",
    "metricas = pd.concat( [d2, d3, d4, ct1, ct2, d1, d5, d6]).T.reset_index()\n",
    "metricas.columns=['attributes','Min', 'Max', 'Range', 'Mean', 'Mediana', 'Desvio Padrão', 'Skew', 'Kurtosis']\n",
    "metricas"
   ]
  },
  {
   "cell_type": "markdown",
   "id": "33ffeb02-5681-45f5-87c9-9069930e5726",
   "metadata": {
    "papermill": {
     "duration": 0.029714,
     "end_time": "2025-05-01T13:38:50.482271",
     "exception": false,
     "start_time": "2025-05-01T13:38:50.452557",
     "status": "completed"
    },
    "tags": []
   },
   "source": [
    "### 1.7.2 Categorical Attributes"
   ]
  },
  {
   "cell_type": "markdown",
   "id": "bd28ccf7-b561-45c8-8285-47c13f3c4cb9",
   "metadata": {
    "papermill": {
     "duration": 0.031004,
     "end_time": "2025-05-01T13:38:50.596254",
     "exception": false,
     "start_time": "2025-05-01T13:38:50.565250",
     "status": "completed"
    },
    "tags": []
   },
   "source": [
    "#### Invoice No"
   ]
  },
  {
   "cell_type": "code",
   "execution_count": 21,
   "id": "304bbc2c-b6bf-42f7-9488-62e18ea0bb98",
   "metadata": {
    "execution": {
     "iopub.execute_input": "2025-05-01T13:38:50.661236Z",
     "iopub.status.busy": "2025-05-01T13:38:50.660785Z",
     "iopub.status.idle": "2025-05-01T13:38:51.585080Z",
     "shell.execute_reply": "2025-05-01T13:38:51.583644Z"
    },
    "papermill": {
     "duration": 0.960427,
     "end_time": "2025-05-01T13:38:51.587700",
     "exception": false,
     "start_time": "2025-05-01T13:38:50.627273",
     "status": "completed"
    },
    "tags": []
   },
   "outputs": [
    {
     "name": "stdout",
     "output_type": "stream",
     "text": [
      "Total de invoice com letras: 9291\n",
      "Total de linhas com a quantity negativa: 9288\n"
     ]
    }
   ],
   "source": [
    "# prblema: temos invoice com letras e números\n",
    "\n",
    "# identificação:\n",
    "df_letter_invoce = df1.loc[df1['invoice_no'].apply( lambda x: bool( re.search( '[^0-9]+', x) ) ), : ]\n",
    "df_letter_invoce.head()\n",
    "\n",
    "# qt invoice com letras\n",
    "print(f'Total de invoice com letras: {len(df_letter_invoce)}')\n",
    "\n",
    "# qt de linhas com a coluna 'quantity' negativa\n",
    "print(f'Total de linhas com a quantity negativa: {len( df_letter_invoce[df_letter_invoce[\"quantity\"] < 0 ] )}')"
   ]
  },
  {
   "cell_type": "markdown",
   "id": "3f2afa40-db30-4197-97c2-d87fd0c7e258",
   "metadata": {
    "papermill": {
     "duration": 0.029566,
     "end_time": "2025-05-01T13:38:51.650228",
     "exception": false,
     "start_time": "2025-05-01T13:38:51.620662",
     "status": "completed"
    },
    "tags": []
   },
   "source": [
    "#### Stock Code"
   ]
  },
  {
   "cell_type": "code",
   "execution_count": 22,
   "id": "2e768468-9d52-4976-b9b2-398607a96226",
   "metadata": {
    "execution": {
     "iopub.execute_input": "2025-05-01T13:38:51.719881Z",
     "iopub.status.busy": "2025-05-01T13:38:51.719157Z",
     "iopub.status.idle": "2025-05-01T13:38:52.608142Z",
     "shell.execute_reply": "2025-05-01T13:38:52.606811Z"
    },
    "papermill": {
     "duration": 0.923407,
     "end_time": "2025-05-01T13:38:52.610568",
     "exception": false,
     "start_time": "2025-05-01T13:38:51.687161",
     "status": "completed"
    },
    "tags": []
   },
   "outputs": [
    {
     "data": {
      "text/plain": [
       "array(['POST', 'D', 'DOT', 'M', 'S', 'AMAZONFEE', 'm', 'DCGSSBOY',\n",
       "       'DCGSSGIRL', 'PADS', 'B', 'CRUK'], dtype=object)"
      ]
     },
     "execution_count": 22,
     "metadata": {},
     "output_type": "execute_result"
    }
   ],
   "source": [
    "# prblema: temos Stock Code com letras e números\n",
    "\n",
    "# identificação:tock_code - apenas strings\n",
    "df1.loc[df1['stock_code'].apply( lambda x: bool( re.search( '^[a-zA-Z]+$', x) ) ), 'stock_code'].unique()\n",
    "\n",
    "# Remover stock_code in ['POST', 'D', 'M', 'PADS', 'DOT', 'CRUK']"
   ]
  },
  {
   "cell_type": "markdown",
   "id": "3e6ab600-751f-4faf-9a58-a6d5c53cf7c4",
   "metadata": {
    "papermill": {
     "duration": 0.02917,
     "end_time": "2025-05-01T13:38:52.672453",
     "exception": false,
     "start_time": "2025-05-01T13:38:52.643283",
     "status": "completed"
    },
    "tags": []
   },
   "source": [
    "# <font color='red'>2.0. Filtragem de Variáveis</font>"
   ]
  },
  {
   "cell_type": "code",
   "execution_count": 23,
   "id": "fd4ce600-d446-48c3-8189-737de7e18bdb",
   "metadata": {
    "execution": {
     "iopub.execute_input": "2025-05-01T13:38:52.739734Z",
     "iopub.status.busy": "2025-05-01T13:38:52.738594Z",
     "iopub.status.idle": "2025-05-01T13:38:52.819837Z",
     "shell.execute_reply": "2025-05-01T13:38:52.818963Z"
    },
    "papermill": {
     "duration": 0.116907,
     "end_time": "2025-05-01T13:38:52.822605",
     "exception": false,
     "start_time": "2025-05-01T13:38:52.705698",
     "status": "completed"
    },
    "tags": []
   },
   "outputs": [],
   "source": [
    "df2 = df1.copy()"
   ]
  },
  {
   "cell_type": "code",
   "execution_count": 24,
   "id": "fe09aac3-4aa2-49b9-a9ab-3db461dc5b96",
   "metadata": {
    "execution": {
     "iopub.execute_input": "2025-05-01T13:38:52.888022Z",
     "iopub.status.busy": "2025-05-01T13:38:52.887454Z",
     "iopub.status.idle": "2025-05-01T13:38:52.897202Z",
     "shell.execute_reply": "2025-05-01T13:38:52.895023Z"
    },
    "papermill": {
     "duration": 0.044034,
     "end_time": "2025-05-01T13:38:52.899113",
     "exception": false,
     "start_time": "2025-05-01T13:38:52.855079",
     "status": "completed"
    },
    "tags": []
   },
   "outputs": [
    {
     "data": {
      "text/plain": [
       "invoice_no              object\n",
       "stock_code              object\n",
       "description             object\n",
       "quantity                 int64\n",
       "invoice_date    datetime64[ns]\n",
       "unit_price             float64\n",
       "country                 object\n",
       "customer_id              int64\n",
       "dtype: object"
      ]
     },
     "execution_count": 24,
     "metadata": {},
     "output_type": "execute_result"
    }
   ],
   "source": [
    "df2.dtypes"
   ]
  },
  {
   "cell_type": "code",
   "execution_count": 25,
   "id": "939d39a2-19ba-4d03-99e2-212b1b4d509d",
   "metadata": {
    "execution": {
     "iopub.execute_input": "2025-05-01T13:38:52.962787Z",
     "iopub.status.busy": "2025-05-01T13:38:52.961758Z",
     "iopub.status.idle": "2025-05-01T13:38:53.238585Z",
     "shell.execute_reply": "2025-05-01T13:38:53.237273Z"
    },
    "papermill": {
     "duration": 0.311456,
     "end_time": "2025-05-01T13:38:53.240692",
     "exception": false,
     "start_time": "2025-05-01T13:38:52.929236",
     "status": "completed"
    },
    "tags": []
   },
   "outputs": [],
   "source": [
    "# ==== Numerical Attributes ====\n",
    "# unit price > 0.0\n",
    "df2 = df2.loc[df2['unit_price'] > 0.04, :]\n",
    "\n",
    "# === Categorical Attributes ====\n",
    "# stock code != ['POST', 'D', 'DOT', 'M', 'S', 'AMAZONFEE', 'm', 'DCGSSBOY', 'DCGSSGIRL', 'PADS', 'B', 'CRUK']\n",
    "df2 = df2[~df2['stock_code'].isin(['POST', 'D', 'DOT', 'M', 'S', 'AMAZONFEE', 'm', 'DCGSSBOY', 'DCGSSGIRL', 'PADS', 'B', 'CRUK'] )]\n",
    "\n",
    "# description\n",
    "df2 = df2.drop( columns='description', axis=1 )\n",
    "\n",
    "# country - exclusão das linhas (RISCO)\n",
    "df2 = df2 [~df2['country'].isin ( ['European Community', 'Unspecified' ] ) ]\n",
    "\n",
    "#bad users\n",
    "df2 = df2[~df2['customer_id'].isin([16446]) ]\n",
    "\n",
    "\n",
    "# quantity - Negative number (devolução de produto) - Efetuado a separação do dataframe entre os produtos vendidos e os devolvidos\n",
    "df2_returns = df2.loc[df2['quantity'] < 0, :]\n",
    "df2_purchase = df2.loc[df2['quantity'] > 0, :]\n"
   ]
  },
  {
   "cell_type": "markdown",
   "id": "e355f534-1776-4f02-8b02-6363cc014184",
   "metadata": {
    "papermill": {
     "duration": 0.029476,
     "end_time": "2025-05-01T13:38:53.302531",
     "exception": false,
     "start_time": "2025-05-01T13:38:53.273055",
     "status": "completed"
    },
    "tags": []
   },
   "source": [
    "# <font color='red'>3.0. Feature Engineering</font>"
   ]
  },
  {
   "cell_type": "code",
   "execution_count": 26,
   "id": "7776d35f-1b19-4a43-a15a-14878c23998c",
   "metadata": {
    "execution": {
     "iopub.execute_input": "2025-05-01T13:38:53.363427Z",
     "iopub.status.busy": "2025-05-01T13:38:53.362929Z",
     "iopub.status.idle": "2025-05-01T13:38:53.390709Z",
     "shell.execute_reply": "2025-05-01T13:38:53.389564Z"
    },
    "papermill": {
     "duration": 0.061624,
     "end_time": "2025-05-01T13:38:53.393173",
     "exception": false,
     "start_time": "2025-05-01T13:38:53.331549",
     "status": "completed"
    },
    "tags": []
   },
   "outputs": [],
   "source": [
    "df3 = df2.copy()"
   ]
  },
  {
   "cell_type": "markdown",
   "id": "60938911-01ee-4400-83b0-713f8afe8b87",
   "metadata": {
    "papermill": {
     "duration": 0.030197,
     "end_time": "2025-05-01T13:38:53.458303",
     "exception": false,
     "start_time": "2025-05-01T13:38:53.428106",
     "status": "completed"
    },
    "tags": []
   },
   "source": [
    "## 3.1. Feature Creation"
   ]
  },
  {
   "cell_type": "code",
   "execution_count": 27,
   "id": "39f1bdf5-d62b-47e0-9007-9cfbd1adfc64",
   "metadata": {
    "execution": {
     "iopub.execute_input": "2025-05-01T13:38:53.521889Z",
     "iopub.status.busy": "2025-05-01T13:38:53.520730Z",
     "iopub.status.idle": "2025-05-01T13:38:53.540044Z",
     "shell.execute_reply": "2025-05-01T13:38:53.538172Z"
    },
    "papermill": {
     "duration": 0.053829,
     "end_time": "2025-05-01T13:38:53.542541",
     "exception": false,
     "start_time": "2025-05-01T13:38:53.488712",
     "status": "completed"
    },
    "tags": []
   },
   "outputs": [
    {
     "data": {
      "text/html": [
       "<div>\n",
       "<style scoped>\n",
       "    .dataframe tbody tr th:only-of-type {\n",
       "        vertical-align: middle;\n",
       "    }\n",
       "\n",
       "    .dataframe tbody tr th {\n",
       "        vertical-align: top;\n",
       "    }\n",
       "\n",
       "    .dataframe thead th {\n",
       "        text-align: right;\n",
       "    }\n",
       "</style>\n",
       "<table border=\"1\" class=\"dataframe\">\n",
       "  <thead>\n",
       "    <tr style=\"text-align: right;\">\n",
       "      <th></th>\n",
       "      <th>invoice_no</th>\n",
       "      <th>stock_code</th>\n",
       "      <th>quantity</th>\n",
       "      <th>invoice_date</th>\n",
       "      <th>unit_price</th>\n",
       "      <th>country</th>\n",
       "      <th>customer_id</th>\n",
       "    </tr>\n",
       "  </thead>\n",
       "  <tbody>\n",
       "    <tr>\n",
       "      <th>0</th>\n",
       "      <td>536365</td>\n",
       "      <td>85123A</td>\n",
       "      <td>6</td>\n",
       "      <td>2016-11-29</td>\n",
       "      <td>2.55</td>\n",
       "      <td>United Kingdom</td>\n",
       "      <td>17850</td>\n",
       "    </tr>\n",
       "    <tr>\n",
       "      <th>1</th>\n",
       "      <td>536365</td>\n",
       "      <td>71053</td>\n",
       "      <td>6</td>\n",
       "      <td>2016-11-29</td>\n",
       "      <td>3.39</td>\n",
       "      <td>United Kingdom</td>\n",
       "      <td>17850</td>\n",
       "    </tr>\n",
       "    <tr>\n",
       "      <th>2</th>\n",
       "      <td>536365</td>\n",
       "      <td>84406B</td>\n",
       "      <td>8</td>\n",
       "      <td>2016-11-29</td>\n",
       "      <td>2.75</td>\n",
       "      <td>United Kingdom</td>\n",
       "      <td>17850</td>\n",
       "    </tr>\n",
       "    <tr>\n",
       "      <th>3</th>\n",
       "      <td>536365</td>\n",
       "      <td>84029G</td>\n",
       "      <td>6</td>\n",
       "      <td>2016-11-29</td>\n",
       "      <td>3.39</td>\n",
       "      <td>United Kingdom</td>\n",
       "      <td>17850</td>\n",
       "    </tr>\n",
       "    <tr>\n",
       "      <th>4</th>\n",
       "      <td>536365</td>\n",
       "      <td>84029E</td>\n",
       "      <td>6</td>\n",
       "      <td>2016-11-29</td>\n",
       "      <td>3.39</td>\n",
       "      <td>United Kingdom</td>\n",
       "      <td>17850</td>\n",
       "    </tr>\n",
       "  </tbody>\n",
       "</table>\n",
       "</div>"
      ],
      "text/plain": [
       "  invoice_no stock_code  quantity invoice_date  unit_price         country  \\\n",
       "0     536365     85123A         6   2016-11-29        2.55  United Kingdom   \n",
       "1     536365      71053         6   2016-11-29        3.39  United Kingdom   \n",
       "2     536365     84406B         8   2016-11-29        2.75  United Kingdom   \n",
       "3     536365     84029G         6   2016-11-29        3.39  United Kingdom   \n",
       "4     536365     84029E         6   2016-11-29        3.39  United Kingdom   \n",
       "\n",
       "   customer_id  \n",
       "0        17850  \n",
       "1        17850  \n",
       "2        17850  \n",
       "3        17850  \n",
       "4        17850  "
      ]
     },
     "execution_count": 27,
     "metadata": {},
     "output_type": "execute_result"
    }
   ],
   "source": [
    "df3.head()"
   ]
  },
  {
   "cell_type": "code",
   "execution_count": 28,
   "id": "f9af6fe6-a217-4f69-9f97-93582e159080",
   "metadata": {
    "execution": {
     "iopub.execute_input": "2025-05-01T13:38:53.605773Z",
     "iopub.status.busy": "2025-05-01T13:38:53.604663Z",
     "iopub.status.idle": "2025-05-01T13:38:53.629119Z",
     "shell.execute_reply": "2025-05-01T13:38:53.627406Z"
    },
    "papermill": {
     "duration": 0.058071,
     "end_time": "2025-05-01T13:38:53.631510",
     "exception": false,
     "start_time": "2025-05-01T13:38:53.573439",
     "status": "completed"
    },
    "tags": []
   },
   "outputs": [],
   "source": [
    "# data reference\n",
    "df_ref = df3.drop( ['invoice_no', 'stock_code', 'quantity', 'invoice_date', 'unit_price', \n",
    "                    'country'], axis=1 ).drop_duplicates( ignore_index=True)"
   ]
  },
  {
   "cell_type": "code",
   "execution_count": 29,
   "id": "2f0c423b-586d-463a-b74a-4b307bd2c4fe",
   "metadata": {
    "execution": {
     "iopub.execute_input": "2025-05-01T13:38:53.698276Z",
     "iopub.status.busy": "2025-05-01T13:38:53.697369Z",
     "iopub.status.idle": "2025-05-01T13:38:53.708266Z",
     "shell.execute_reply": "2025-05-01T13:38:53.706550Z"
    },
    "papermill": {
     "duration": 0.047267,
     "end_time": "2025-05-01T13:38:53.710658",
     "exception": false,
     "start_time": "2025-05-01T13:38:53.663391",
     "status": "completed"
    },
    "tags": []
   },
   "outputs": [
    {
     "data": {
      "text/plain": [
       "(5786, 1)"
      ]
     },
     "execution_count": 29,
     "metadata": {},
     "output_type": "execute_result"
    }
   ],
   "source": [
    "df_ref.shape"
   ]
  },
  {
   "cell_type": "markdown",
   "id": "4db7705a-3df1-4411-b31b-0e231da8ea16",
   "metadata": {
    "papermill": {
     "duration": 0.034786,
     "end_time": "2025-05-01T13:38:53.782405",
     "exception": false,
     "start_time": "2025-05-01T13:38:53.747619",
     "status": "completed"
    },
    "tags": []
   },
   "source": [
    "### 3.1.1. Gross Revenue"
   ]
  },
  {
   "cell_type": "code",
   "execution_count": 30,
   "id": "1344ba8d-a324-42a3-ab71-05f85c07a99a",
   "metadata": {
    "execution": {
     "iopub.execute_input": "2025-05-01T13:38:53.847437Z",
     "iopub.status.busy": "2025-05-01T13:38:53.846824Z",
     "iopub.status.idle": "2025-05-01T13:38:53.896178Z",
     "shell.execute_reply": "2025-05-01T13:38:53.894181Z"
    },
    "papermill": {
     "duration": 0.084747,
     "end_time": "2025-05-01T13:38:53.898653",
     "exception": false,
     "start_time": "2025-05-01T13:38:53.813906",
     "status": "completed"
    },
    "tags": []
   },
   "outputs": [
    {
     "name": "stderr",
     "output_type": "stream",
     "text": [
      "/tmp/ipykernel_29002/3136603236.py:2: SettingWithCopyWarning: \n",
      "A value is trying to be set on a copy of a slice from a DataFrame.\n",
      "Try using .loc[row_indexer,col_indexer] = value instead\n",
      "\n",
      "See the caveats in the documentation: https://pandas.pydata.org/pandas-docs/stable/user_guide/indexing.html#returning-a-view-versus-a-copy\n",
      "  df2_purchase['gross_revenue'] = df2_purchase['quantity'] * df2_purchase['unit_price']\n"
     ]
    },
    {
     "data": {
      "text/plain": [
       "customer_id       0\n",
       "gross_revenue    91\n",
       "dtype: int64"
      ]
     },
     "execution_count": 30,
     "metadata": {},
     "output_type": "execute_result"
    }
   ],
   "source": [
    "# Gross Revenue (Faturamento) quantity * price\n",
    "df2_purchase['gross_revenue'] = df2_purchase['quantity'] * df2_purchase['unit_price']\n",
    "\n",
    "# Monetary\n",
    "df_monetary = df2_purchase[['customer_id', 'gross_revenue']].groupby('customer_id').sum().reset_index()\n",
    "df_ref = pd.merge( df_ref, df_monetary, on='customer_id', how='left')\n",
    "df_ref.isna().sum()"
   ]
  },
  {
   "cell_type": "markdown",
   "id": "3151f8b5-63ff-4630-9ef9-44ab1886a107",
   "metadata": {
    "papermill": {
     "duration": 0.029055,
     "end_time": "2025-05-01T13:38:53.960842",
     "exception": false,
     "start_time": "2025-05-01T13:38:53.931787",
     "status": "completed"
    },
    "tags": []
   },
   "source": [
    "### 3.1.2. Recency - Day from last purchase"
   ]
  },
  {
   "cell_type": "code",
   "execution_count": 31,
   "id": "8c8f4a3a-9b1f-46f7-b29c-6b1824f22324",
   "metadata": {
    "execution": {
     "iopub.execute_input": "2025-05-01T13:38:54.022378Z",
     "iopub.status.busy": "2025-05-01T13:38:54.021635Z",
     "iopub.status.idle": "2025-05-01T13:38:54.072127Z",
     "shell.execute_reply": "2025-05-01T13:38:54.070815Z"
    },
    "papermill": {
     "duration": 0.083436,
     "end_time": "2025-05-01T13:38:54.074049",
     "exception": false,
     "start_time": "2025-05-01T13:38:53.990613",
     "status": "completed"
    },
    "tags": []
   },
   "outputs": [
    {
     "data": {
      "text/plain": [
       "customer_id       0\n",
       "gross_revenue    91\n",
       "recency_days     91\n",
       "dtype: int64"
      ]
     },
     "execution_count": 31,
     "metadata": {},
     "output_type": "execute_result"
    }
   ],
   "source": [
    "# Recency - ultimo dia de compra\n",
    "df_recency = df2_purchase[['customer_id', 'invoice_date']].groupby('customer_id').max().reset_index()\n",
    "df_recency['recency_days'] = ( df2_purchase['invoice_date'].max() - df_recency['invoice_date'] ).dt.days\n",
    "df_recency = df_recency[['customer_id', 'recency_days']].copy()\n",
    "df_ref = pd.merge( df_ref, df_recency, on='customer_id', how='left')\n",
    "df_ref.isna().sum()"
   ]
  },
  {
   "cell_type": "markdown",
   "id": "f863cac2-aa3a-4de2-84b1-3ec044c2b64e",
   "metadata": {
    "papermill": {
     "duration": 0.033342,
     "end_time": "2025-05-01T13:38:54.139815",
     "exception": false,
     "start_time": "2025-05-01T13:38:54.106473",
     "status": "completed"
    },
    "tags": []
   },
   "source": [
    "### 3.1.5. Quantity of produtcs purchased"
   ]
  },
  {
   "cell_type": "code",
   "execution_count": 32,
   "id": "58e67fd3-304f-484d-8f07-b1ff3c346ed9",
   "metadata": {
    "execution": {
     "iopub.execute_input": "2025-05-01T13:38:54.220683Z",
     "iopub.status.busy": "2025-05-01T13:38:54.219283Z",
     "iopub.status.idle": "2025-05-01T13:38:54.296489Z",
     "shell.execute_reply": "2025-05-01T13:38:54.294219Z"
    },
    "papermill": {
     "duration": 0.116006,
     "end_time": "2025-05-01T13:38:54.300461",
     "exception": false,
     "start_time": "2025-05-01T13:38:54.184455",
     "status": "completed"
    },
    "tags": []
   },
   "outputs": [
    {
     "data": {
      "text/plain": [
       "customer_id       0\n",
       "gross_revenue    91\n",
       "recency_days     91\n",
       "qtde_produtcs    91\n",
       "dtype: int64"
      ]
     },
     "execution_count": 32,
     "metadata": {},
     "output_type": "execute_result"
    }
   ],
   "source": [
    "# Numero de produtos\n",
    "df_freq_prod = (df2_purchase[['customer_id', 'stock_code']].groupby('customer_id')\n",
    "                                                           .count()\n",
    "                                                           .reset_index()\n",
    "                                                           .rename( columns={'stock_code': 'qtde_produtcs'}) )\n",
    "df_ref = pd.merge( df_ref, df_freq_prod, on='customer_id', how='left')\n",
    "df_ref.isna().sum()"
   ]
  },
  {
   "cell_type": "markdown",
   "id": "4b26a892-12fe-4034-8440-29553dc9513e",
   "metadata": {
    "papermill": {
     "duration": 0.033115,
     "end_time": "2025-05-01T13:38:54.366460",
     "exception": false,
     "start_time": "2025-05-01T13:38:54.333345",
     "status": "completed"
    },
    "tags": []
   },
   "source": [
    "### 3.1.8. Frequency Purchase"
   ]
  },
  {
   "cell_type": "code",
   "execution_count": 33,
   "id": "42f71347-6042-4582-af46-a05e7e5c06e5",
   "metadata": {
    "execution": {
     "iopub.execute_input": "2025-05-01T13:38:54.498098Z",
     "iopub.status.busy": "2025-05-01T13:38:54.497726Z",
     "iopub.status.idle": "2025-05-01T13:38:56.047106Z",
     "shell.execute_reply": "2025-05-01T13:38:56.046006Z"
    },
    "papermill": {
     "duration": 1.586835,
     "end_time": "2025-05-01T13:38:56.050072",
     "exception": false,
     "start_time": "2025-05-01T13:38:54.463237",
     "status": "completed"
    },
    "tags": []
   },
   "outputs": [
    {
     "data": {
      "text/plain": [
       "customer_id       0\n",
       "gross_revenue    91\n",
       "recency_days     91\n",
       "qtde_produtcs    91\n",
       "frequency        91\n",
       "dtype: int64"
      ]
     },
     "execution_count": 33,
     "metadata": {},
     "output_type": "execute_result"
    }
   ],
   "source": [
    "df_aux = ( df2_purchase[['invoice_no', 'customer_id', 'invoice_date']].drop_duplicates()\n",
    "                                                             .groupby( 'customer_id')\n",
    "                                                             .agg( max_ = ('invoice_date', 'max'),\n",
    "                                                                   min_ = ('invoice_date', 'min'),\n",
    "                                                                   days_= ('invoice_date', lambda x: ( (x.max() - x.min() ).days ) +1 ),\n",
    "                                                                   buy_ = ( 'invoice_no', 'count')) ).reset_index()\n",
    "         \n",
    "# Frequency\n",
    "df_aux['frequency'] = df_aux[['buy_', 'days_']].apply( lambda x: x['buy_'] / x['days_'] if x['days_'] != 0 else 0, axis=1)\n",
    "\n",
    "# merge\n",
    "df_ref = pd.merge( df_ref, df_aux[['customer_id', 'frequency']], on='customer_id', how='left')\n",
    "df_ref.isna().sum()"
   ]
  },
  {
   "cell_type": "markdown",
   "id": "91b9cfd1-972f-4af5-974d-c33b95ef7a25",
   "metadata": {
    "papermill": {
     "duration": 0.030297,
     "end_time": "2025-05-01T13:38:56.141454",
     "exception": false,
     "start_time": "2025-05-01T13:38:56.111157",
     "status": "completed"
    },
    "tags": []
   },
   "source": [
    "### 3.1.9. Devoluções"
   ]
  },
  {
   "cell_type": "code",
   "execution_count": 34,
   "id": "4c738306-79f5-4a42-913b-49556b5de00e",
   "metadata": {
    "execution": {
     "iopub.execute_input": "2025-05-01T13:38:56.205160Z",
     "iopub.status.busy": "2025-05-01T13:38:56.204704Z",
     "iopub.status.idle": "2025-05-01T13:38:56.241256Z",
     "shell.execute_reply": "2025-05-01T13:38:56.238924Z"
    },
    "papermill": {
     "duration": 0.072476,
     "end_time": "2025-05-01T13:38:56.243854",
     "exception": false,
     "start_time": "2025-05-01T13:38:56.171378",
     "status": "completed"
    },
    "tags": []
   },
   "outputs": [
    {
     "data": {
      "text/plain": [
       "customer_id       0\n",
       "gross_revenue    91\n",
       "recency_days     91\n",
       "qtde_produtcs    91\n",
       "frequency        91\n",
       "qtde_returns      0\n",
       "dtype: int64"
      ]
     },
     "execution_count": 34,
     "metadata": {},
     "output_type": "execute_result"
    }
   ],
   "source": [
    "# Number of Returns\n",
    "df_returns = df2_returns[['customer_id', 'quantity']].groupby( 'customer_id' ).sum().reset_index().rename( columns={'quantity':'qtde_returns'} )\n",
    "df_returns['qtde_returns'] = df_returns['qtde_returns'] * -1\n",
    "\n",
    "df_ref = pd.merge( df_ref, df_returns, how='left', on='customer_id' )\n",
    "df_ref.loc[df_ref['qtde_returns'].isna(), 'qtde_returns'] = 0\n",
    "\n",
    "df_ref.isna().sum()"
   ]
  },
  {
   "cell_type": "code",
   "execution_count": 35,
   "id": "9965fda3-edd7-4362-994b-6df8108a7f44",
   "metadata": {
    "execution": {
     "iopub.execute_input": "2025-05-01T13:38:56.313053Z",
     "iopub.status.busy": "2025-05-01T13:38:56.312145Z",
     "iopub.status.idle": "2025-05-01T13:38:56.345493Z",
     "shell.execute_reply": "2025-05-01T13:38:56.344104Z"
    },
    "papermill": {
     "duration": 0.068533,
     "end_time": "2025-05-01T13:38:56.347415",
     "exception": false,
     "start_time": "2025-05-01T13:38:56.278882",
     "status": "completed"
    },
    "tags": []
   },
   "outputs": [
    {
     "data": {
      "text/html": [
       "<div>\n",
       "<style scoped>\n",
       "    .dataframe tbody tr th:only-of-type {\n",
       "        vertical-align: middle;\n",
       "    }\n",
       "\n",
       "    .dataframe tbody tr th {\n",
       "        vertical-align: top;\n",
       "    }\n",
       "\n",
       "    .dataframe thead th {\n",
       "        text-align: right;\n",
       "    }\n",
       "</style>\n",
       "<table border=\"1\" class=\"dataframe\">\n",
       "  <thead>\n",
       "    <tr style=\"text-align: right;\">\n",
       "      <th></th>\n",
       "      <th>customer_id</th>\n",
       "      <th>gross_revenue</th>\n",
       "      <th>recency_days</th>\n",
       "      <th>qtde_produtcs</th>\n",
       "      <th>frequency</th>\n",
       "      <th>qtde_returns</th>\n",
       "    </tr>\n",
       "  </thead>\n",
       "  <tbody>\n",
       "    <tr>\n",
       "      <th>0</th>\n",
       "      <td>17850</td>\n",
       "      <td>5391.21</td>\n",
       "      <td>372.0</td>\n",
       "      <td>297.0</td>\n",
       "      <td>17.000000</td>\n",
       "      <td>40.0</td>\n",
       "    </tr>\n",
       "    <tr>\n",
       "      <th>1</th>\n",
       "      <td>13047</td>\n",
       "      <td>3232.59</td>\n",
       "      <td>56.0</td>\n",
       "      <td>171.0</td>\n",
       "      <td>0.028302</td>\n",
       "      <td>35.0</td>\n",
       "    </tr>\n",
       "    <tr>\n",
       "      <th>2</th>\n",
       "      <td>12583</td>\n",
       "      <td>6705.38</td>\n",
       "      <td>2.0</td>\n",
       "      <td>232.0</td>\n",
       "      <td>0.040323</td>\n",
       "      <td>50.0</td>\n",
       "    </tr>\n",
       "    <tr>\n",
       "      <th>3</th>\n",
       "      <td>13748</td>\n",
       "      <td>948.25</td>\n",
       "      <td>95.0</td>\n",
       "      <td>28.0</td>\n",
       "      <td>0.017921</td>\n",
       "      <td>0.0</td>\n",
       "    </tr>\n",
       "    <tr>\n",
       "      <th>4</th>\n",
       "      <td>15100</td>\n",
       "      <td>876.00</td>\n",
       "      <td>333.0</td>\n",
       "      <td>3.0</td>\n",
       "      <td>0.073171</td>\n",
       "      <td>22.0</td>\n",
       "    </tr>\n",
       "  </tbody>\n",
       "</table>\n",
       "</div>"
      ],
      "text/plain": [
       "   customer_id  gross_revenue  recency_days  qtde_produtcs  frequency  \\\n",
       "0        17850        5391.21         372.0          297.0  17.000000   \n",
       "1        13047        3232.59          56.0          171.0   0.028302   \n",
       "2        12583        6705.38           2.0          232.0   0.040323   \n",
       "3        13748         948.25          95.0           28.0   0.017921   \n",
       "4        15100         876.00         333.0            3.0   0.073171   \n",
       "\n",
       "   qtde_returns  \n",
       "0          40.0  \n",
       "1          35.0  \n",
       "2          50.0  \n",
       "3           0.0  \n",
       "4          22.0  "
      ]
     },
     "execution_count": 35,
     "metadata": {},
     "output_type": "execute_result"
    }
   ],
   "source": [
    "df_ref.head()"
   ]
  },
  {
   "cell_type": "markdown",
   "id": "1a1ec474-fb0a-49e7-981d-ccb1f508881f",
   "metadata": {
    "papermill": {
     "duration": 0.031947,
     "end_time": "2025-05-01T13:38:56.410052",
     "exception": false,
     "start_time": "2025-05-01T13:38:56.378105",
     "status": "completed"
    },
    "tags": []
   },
   "source": [
    "# <font color='red'>4.0. EDA (Exploratory Data Analysis)</font>"
   ]
  },
  {
   "cell_type": "code",
   "execution_count": 36,
   "id": "41ab5b9d-4583-446f-a58e-ed2f469f4d06",
   "metadata": {
    "execution": {
     "iopub.execute_input": "2025-05-01T13:38:56.479628Z",
     "iopub.status.busy": "2025-05-01T13:38:56.478851Z",
     "iopub.status.idle": "2025-05-01T13:38:56.494786Z",
     "shell.execute_reply": "2025-05-01T13:38:56.493467Z"
    },
    "papermill": {
     "duration": 0.053125,
     "end_time": "2025-05-01T13:38:56.496866",
     "exception": false,
     "start_time": "2025-05-01T13:38:56.443741",
     "status": "completed"
    },
    "tags": []
   },
   "outputs": [
    {
     "data": {
      "text/plain": [
       "customer_id      0\n",
       "gross_revenue    0\n",
       "recency_days     0\n",
       "qtde_produtcs    0\n",
       "frequency        0\n",
       "qtde_returns     0\n",
       "dtype: int64"
      ]
     },
     "execution_count": 36,
     "metadata": {},
     "output_type": "execute_result"
    }
   ],
   "source": [
    "df4 = df_ref.dropna()\n",
    "df4.isna().sum()"
   ]
  },
  {
   "cell_type": "markdown",
   "id": "fc905b5d-f92a-42f2-8aed-954d0da4b766",
   "metadata": {
    "papermill": {
     "duration": 0.031093,
     "end_time": "2025-05-01T13:38:56.561583",
     "exception": false,
     "start_time": "2025-05-01T13:38:56.530490",
     "status": "completed"
    },
    "tags": []
   },
   "source": [
    "## 4.3. Estudo do Espaço"
   ]
  },
  {
   "cell_type": "code",
   "execution_count": 37,
   "id": "dee18d5a-1af9-44cc-953c-da12be03c589",
   "metadata": {
    "execution": {
     "iopub.execute_input": "2025-05-01T13:38:56.626665Z",
     "iopub.status.busy": "2025-05-01T13:38:56.625713Z",
     "iopub.status.idle": "2025-05-01T13:38:56.637787Z",
     "shell.execute_reply": "2025-05-01T13:38:56.636357Z"
    },
    "papermill": {
     "duration": 0.046785,
     "end_time": "2025-05-01T13:38:56.640241",
     "exception": false,
     "start_time": "2025-05-01T13:38:56.593456",
     "status": "completed"
    },
    "tags": []
   },
   "outputs": [],
   "source": [
    "# Selected Dataset - (Ciclo 06)\n",
    "cols_selected = ['customer_id', 'gross_revenue', 'recency_days', 'qtde_produtcs', 'frequency', 'qtde_returns']\n",
    "df43 = df4[cols_selected].drop( columns='customer_id', axis=1 )"
   ]
  },
  {
   "cell_type": "code",
   "execution_count": 38,
   "id": "d3a4a134-b498-4dfe-aa77-7236624bd7bf",
   "metadata": {
    "execution": {
     "iopub.execute_input": "2025-05-01T13:38:56.705540Z",
     "iopub.status.busy": "2025-05-01T13:38:56.704782Z",
     "iopub.status.idle": "2025-05-01T13:38:56.723829Z",
     "shell.execute_reply": "2025-05-01T13:38:56.721554Z"
    },
    "papermill": {
     "duration": 0.054514,
     "end_time": "2025-05-01T13:38:56.726495",
     "exception": false,
     "start_time": "2025-05-01T13:38:56.671981",
     "status": "completed"
    },
    "tags": []
   },
   "outputs": [
    {
     "data": {
      "text/html": [
       "<div>\n",
       "<style scoped>\n",
       "    .dataframe tbody tr th:only-of-type {\n",
       "        vertical-align: middle;\n",
       "    }\n",
       "\n",
       "    .dataframe tbody tr th {\n",
       "        vertical-align: top;\n",
       "    }\n",
       "\n",
       "    .dataframe thead th {\n",
       "        text-align: right;\n",
       "    }\n",
       "</style>\n",
       "<table border=\"1\" class=\"dataframe\">\n",
       "  <thead>\n",
       "    <tr style=\"text-align: right;\">\n",
       "      <th></th>\n",
       "      <th>gross_revenue</th>\n",
       "      <th>recency_days</th>\n",
       "      <th>qtde_produtcs</th>\n",
       "      <th>frequency</th>\n",
       "      <th>qtde_returns</th>\n",
       "    </tr>\n",
       "  </thead>\n",
       "  <tbody>\n",
       "    <tr>\n",
       "      <th>0</th>\n",
       "      <td>5391.21</td>\n",
       "      <td>372.0</td>\n",
       "      <td>297.0</td>\n",
       "      <td>17.000000</td>\n",
       "      <td>40.0</td>\n",
       "    </tr>\n",
       "    <tr>\n",
       "      <th>1</th>\n",
       "      <td>3232.59</td>\n",
       "      <td>56.0</td>\n",
       "      <td>171.0</td>\n",
       "      <td>0.028302</td>\n",
       "      <td>35.0</td>\n",
       "    </tr>\n",
       "    <tr>\n",
       "      <th>2</th>\n",
       "      <td>6705.38</td>\n",
       "      <td>2.0</td>\n",
       "      <td>232.0</td>\n",
       "      <td>0.040323</td>\n",
       "      <td>50.0</td>\n",
       "    </tr>\n",
       "    <tr>\n",
       "      <th>3</th>\n",
       "      <td>948.25</td>\n",
       "      <td>95.0</td>\n",
       "      <td>28.0</td>\n",
       "      <td>0.017921</td>\n",
       "      <td>0.0</td>\n",
       "    </tr>\n",
       "    <tr>\n",
       "      <th>4</th>\n",
       "      <td>876.00</td>\n",
       "      <td>333.0</td>\n",
       "      <td>3.0</td>\n",
       "      <td>0.073171</td>\n",
       "      <td>22.0</td>\n",
       "    </tr>\n",
       "  </tbody>\n",
       "</table>\n",
       "</div>"
      ],
      "text/plain": [
       "   gross_revenue  recency_days  qtde_produtcs  frequency  qtde_returns\n",
       "0        5391.21         372.0          297.0  17.000000          40.0\n",
       "1        3232.59          56.0          171.0   0.028302          35.0\n",
       "2        6705.38           2.0          232.0   0.040323          50.0\n",
       "3         948.25          95.0           28.0   0.017921           0.0\n",
       "4         876.00         333.0            3.0   0.073171          22.0"
      ]
     },
     "execution_count": 38,
     "metadata": {},
     "output_type": "execute_result"
    }
   ],
   "source": [
    "df43.head()"
   ]
  },
  {
   "cell_type": "code",
   "execution_count": 39,
   "id": "e73c16e1-a6bd-456e-b971-bbd4d5ab8bff",
   "metadata": {
    "execution": {
     "iopub.execute_input": "2025-05-01T13:38:56.796934Z",
     "iopub.status.busy": "2025-05-01T13:38:56.796280Z",
     "iopub.status.idle": "2025-05-01T13:38:56.838381Z",
     "shell.execute_reply": "2025-05-01T13:38:56.835933Z"
    },
    "papermill": {
     "duration": 0.078374,
     "end_time": "2025-05-01T13:38:56.840736",
     "exception": false,
     "start_time": "2025-05-01T13:38:56.762362",
     "status": "completed"
    },
    "tags": []
   },
   "outputs": [],
   "source": [
    "mm = pp.MinMaxScaler()\n",
    "\n",
    "#\n",
    "df43['gross_revenue'] = mm.fit_transform( df43[['gross_revenue']] )\n",
    "df43['recency_days'] = mm.fit_transform( df43[['recency_days']] )\n",
    "df43['qtde_produtcs'] = mm.fit_transform( df43[['qtde_produtcs']] )\n",
    "df43['frequency'] = mm.fit_transform( df43[['frequency']] )\n",
    "df43['qtde_returns'] = mm.fit_transform( df43[['qtde_returns']] )\n",
    "\n",
    "X = df43.copy()"
   ]
  },
  {
   "cell_type": "markdown",
   "id": "d7818b44-1ac6-42f1-801e-16c3d5b5b979",
   "metadata": {
    "papermill": {
     "duration": 0.03199,
     "end_time": "2025-05-01T13:38:56.904591",
     "exception": false,
     "start_time": "2025-05-01T13:38:56.872601",
     "status": "completed"
    },
    "tags": []
   },
   "source": [
    "### 4.3.1. PCA"
   ]
  },
  {
   "cell_type": "code",
   "execution_count": 40,
   "id": "a0a5ef25-e312-405d-b6ad-31fd29669494",
   "metadata": {
    "execution": {
     "iopub.execute_input": "2025-05-01T13:38:56.970098Z",
     "iopub.status.busy": "2025-05-01T13:38:56.969731Z",
     "iopub.status.idle": "2025-05-01T13:38:57.194790Z",
     "shell.execute_reply": "2025-05-01T13:38:57.193702Z"
    },
    "papermill": {
     "duration": 0.26123,
     "end_time": "2025-05-01T13:38:57.196440",
     "exception": false,
     "start_time": "2025-05-01T13:38:56.935210",
     "status": "completed"
    },
    "tags": []
   },
   "outputs": [
    {
     "data": {
      "image/png": "[encoded data removed]",
      "text/plain": [
       "<Figure size 640x480 with 1 Axes>"
      ]
     },
     "metadata": {},
     "output_type": "display_data"
    }
   ],
   "source": [
    "pca = dd.PCA ( n_components= X.shape[1] )\n",
    "\n",
    "principal_components = pca.fit_transform ( X )\n",
    "\n",
    "#plot Explained variable\n",
    "features = range( pca.n_components_ )\n",
    "\n",
    "plt.bar( features, pca.explained_variance_ratio_, color='black')\n",
    "\n",
    "# pca component\n",
    "df_pca = pd.DataFrame( principal_components )"
   ]
  },
  {
   "cell_type": "code",
   "execution_count": 41,
   "id": "4b69380c-d867-4c93-8dd0-751b58e1900c",
   "metadata": {
    "execution": {
     "iopub.execute_input": "2025-05-01T13:38:57.267684Z",
     "iopub.status.busy": "2025-05-01T13:38:57.267157Z",
     "iopub.status.idle": "2025-05-01T13:38:57.540492Z",
     "shell.execute_reply": "2025-05-01T13:38:57.538523Z"
    },
    "papermill": {
     "duration": 0.315455,
     "end_time": "2025-05-01T13:38:57.543626",
     "exception": false,
     "start_time": "2025-05-01T13:38:57.228171",
     "status": "completed"
    },
    "tags": []
   },
   "outputs": [
    {
     "data": {
      "text/plain": [
       "<Axes: xlabel='0', ylabel='1'>"
      ]
     },
     "execution_count": 41,
     "metadata": {},
     "output_type": "execute_result"
    },
    {
     "data": {
      "image/png": "[encoded data removed]",
      "text/plain": [
       "<Figure size 640x480 with 1 Axes>"
      ]
     },
     "metadata": {},
     "output_type": "display_data"
    }
   ],
   "source": [
    "sns.scatterplot ( x=0, y=1, data=df_pca)"
   ]
  },
  {
   "cell_type": "markdown",
   "id": "5757f353-84c7-406e-8392-a89cfa5ffbd4",
   "metadata": {
    "papermill": {
     "duration": 0.032822,
     "end_time": "2025-05-01T13:38:57.614918",
     "exception": false,
     "start_time": "2025-05-01T13:38:57.582096",
     "status": "completed"
    },
    "tags": []
   },
   "source": [
    "### 4.3.2. UMAP"
   ]
  },
  {
   "cell_type": "code",
   "execution_count": 42,
   "id": "17ea51f5-bd10-4dc9-97dc-8b0fcacc0b17",
   "metadata": {
    "execution": {
     "iopub.execute_input": "2025-05-01T13:38:57.684209Z",
     "iopub.status.busy": "2025-05-01T13:38:57.683652Z",
     "iopub.status.idle": "2025-05-01T13:39:30.437328Z",
     "shell.execute_reply": "2025-05-01T13:39:30.436173Z"
    },
    "papermill": {
     "duration": 32.853316,
     "end_time": "2025-05-01T13:39:30.502428",
     "exception": false,
     "start_time": "2025-05-01T13:38:57.649112",
     "status": "completed"
    },
    "tags": []
   },
   "outputs": [
    {
     "name": "stderr",
     "output_type": "stream",
     "text": [
      "/home/tiago/.pyenv/versions/3.8.0/envs/insiders/lib/python3.8/site-packages/umap/umap_.py:1952: UserWarning: n_jobs value 1 overridden to 1 by setting random_state. Use no seed for parallelism.\n",
      "  warn(\n"
     ]
    },
    {
     "data": {
      "image/png": "[encoded data removed]",
      "text/plain": [
       "<Figure size 640x480 with 1 Axes>"
      ]
     },
     "metadata": {},
     "output_type": "display_data"
    }
   ],
   "source": [
    "reducer = umap.UMAP( random_state=42 )\n",
    "embedding = reducer.fit_transform( X )\n",
    "\n",
    "# embedding\n",
    "df_umap = pd.DataFrame()\n",
    "df_umap['embedding_x'] = embedding[:, 0]\n",
    "df_umap['embedding_y'] = embedding[:, 1]\n",
    "\n",
    "#plot\n",
    "sns.scatterplot( x='embedding_x', y='embedding_y',\n",
    "                data=df_umap);"
   ]
  },
  {
   "cell_type": "markdown",
   "id": "4851f6d2-6a25-4f98-8e3d-94f95391b9d4",
   "metadata": {
    "papermill": {
     "duration": 0.032652,
     "end_time": "2025-05-01T13:39:30.568841",
     "exception": false,
     "start_time": "2025-05-01T13:39:30.536189",
     "status": "completed"
    },
    "tags": []
   },
   "source": [
    "### 4.3.3. t-SNE"
   ]
  },
  {
   "cell_type": "code",
   "execution_count": 43,
   "id": "60850976-c2cb-4ef4-a3e3-7a4a627479bf",
   "metadata": {
    "execution": {
     "iopub.execute_input": "2025-05-01T13:39:30.636508Z",
     "iopub.status.busy": "2025-05-01T13:39:30.635967Z",
     "iopub.status.idle": "2025-05-01T13:39:51.366248Z",
     "shell.execute_reply": "2025-05-01T13:39:51.365125Z"
    },
    "papermill": {
     "duration": 20.768314,
     "end_time": "2025-05-01T13:39:51.369683",
     "exception": false,
     "start_time": "2025-05-01T13:39:30.601369",
     "status": "completed"
    },
    "tags": []
   },
   "outputs": [
    {
     "data": {
      "text/plain": [
       "<Axes: xlabel='embedding_x', ylabel='embedding_y'>"
      ]
     },
     "execution_count": 43,
     "metadata": {},
     "output_type": "execute_result"
    },
    {
     "data": {
      "image/png": "[encoded data removed]",
      "text/plain": [
       "<Figure size 640x480 with 1 Axes>"
      ]
     },
     "metadata": {},
     "output_type": "display_data"
    }
   ],
   "source": [
    "reducer = TSNE( n_components=2, n_jobs=-1,random_state=42 )\n",
    "embedding = reducer.fit_transform( X )\n",
    "\n",
    "# embedding\n",
    "df_tsne = pd.DataFrame()\n",
    "df_tsne['embedding_x'] = embedding[:, 0]\n",
    "df_tsne['embedding_y'] = embedding[:, 1]\n",
    "\n",
    "#plot\n",
    "sns.scatterplot( x='embedding_x', y='embedding_y',\n",
    "                data=df_tsne)"
   ]
  },
  {
   "cell_type": "markdown",
   "id": "121610d4-f00f-401d-bbb7-fccdde386ec9",
   "metadata": {
    "papermill": {
     "duration": 0.034115,
     "end_time": "2025-05-01T13:39:51.463203",
     "exception": false,
     "start_time": "2025-05-01T13:39:51.429088",
     "status": "completed"
    },
    "tags": []
   },
   "source": [
    "### 4.3.4. Tree-Based Embedding"
   ]
  },
  {
   "cell_type": "code",
   "execution_count": 44,
   "id": "70ebf70e-8ff0-4c34-9ca7-0456c4ea8e87",
   "metadata": {
    "execution": {
     "iopub.execute_input": "2025-05-01T13:39:51.535087Z",
     "iopub.status.busy": "2025-05-01T13:39:51.534503Z",
     "iopub.status.idle": "2025-05-01T13:39:54.250193Z",
     "shell.execute_reply": "2025-05-01T13:39:54.248162Z"
    },
    "papermill": {
     "duration": 2.755858,
     "end_time": "2025-05-01T13:39:54.252919",
     "exception": false,
     "start_time": "2025-05-01T13:39:51.497061",
     "status": "completed"
    },
    "tags": []
   },
   "outputs": [],
   "source": [
    "# training dataset\n",
    "X = df4.drop( columns=['gross_revenue'], axis=1)\n",
    "y = df4['gross_revenue']\n",
    "\n",
    "# model definition\n",
    "rf_model = en.RandomForestRegressor(n_estimators=100, random_state=42)\n",
    "\n",
    "# model training\n",
    "rf_model.fit( X, y )\n",
    "\n",
    "# Leaf\n",
    "\n",
    "# dataframe Leaf\n",
    "df_leaf = pd.DataFrame( rf_model.apply( X ) )"
   ]
  },
  {
   "cell_type": "code",
   "execution_count": 45,
   "id": "f8755fff-a97a-4b2e-be70-36b17568a4aa",
   "metadata": {
    "execution": {
     "iopub.execute_input": "2025-05-01T13:39:54.329545Z",
     "iopub.status.busy": "2025-05-01T13:39:54.328794Z",
     "iopub.status.idle": "2025-05-01T13:40:01.998497Z",
     "shell.execute_reply": "2025-05-01T13:40:01.996992Z"
    },
    "papermill": {
     "duration": 7.710315,
     "end_time": "2025-05-01T13:40:02.000616",
     "exception": false,
     "start_time": "2025-05-01T13:39:54.290301",
     "status": "completed"
    },
    "tags": []
   },
   "outputs": [
    {
     "name": "stderr",
     "output_type": "stream",
     "text": [
      "/home/tiago/.pyenv/versions/3.8.0/envs/insiders/lib/python3.8/site-packages/umap/umap_.py:1952: UserWarning: n_jobs value 1 overridden to 1 by setting random_state. Use no seed for parallelism.\n",
      "  warn(\n"
     ]
    },
    {
     "name": "stderr",
     "output_type": "stream",
     "text": [
      "/home/tiago/.pyenv/versions/3.8.0/envs/insiders/lib/python3.8/site-packages/sklearn/manifold/_spectral_embedding.py:273: UserWarning: Graph is not fully connected, spectral embedding may not work as expected.\n",
      "  warnings.warn(\n"
     ]
    },
    {
     "data": {
      "text/plain": [
       "<Axes: xlabel='embedding_x', ylabel='embedding_y'>"
      ]
     },
     "execution_count": 45,
     "metadata": {},
     "output_type": "execute_result"
    },
    {
     "data": {
      "image/png": "[encoded data removed]",
      "text/plain": [
       "<Figure size 640x480 with 1 Axes>"
      ]
     },
     "metadata": {},
     "output_type": "display_data"
    }
   ],
   "source": [
    "# reduzindo a dimensionalidade\n",
    "reducer = umap.UMAP( random_state=42 )\n",
    "embedding = reducer.fit_transform( df_leaf )\n",
    "\n",
    "# embedding\n",
    "df_tree = pd.DataFrame()\n",
    "df_tree['embedding_x'] = embedding[:, 0]\n",
    "df_tree['embedding_y'] = embedding[:, 1]\n",
    "\n",
    "#plot\n",
    "sns.scatterplot( x='embedding_x', y='embedding_y',\n",
    "                data=df_tree)"
   ]
  },
  {
   "cell_type": "markdown",
   "id": "1cff104d-36ad-40f2-98d6-c9bd6b59cd86",
   "metadata": {
    "papermill": {
     "duration": 0.037088,
     "end_time": "2025-05-01T13:40:02.078223",
     "exception": false,
     "start_time": "2025-05-01T13:40:02.041135",
     "status": "completed"
    },
    "tags": []
   },
   "source": [
    "# <font color='red'>5.0. Data Preparation</font>"
   ]
  },
  {
   "cell_type": "markdown",
   "id": "b977845c",
   "metadata": {
    "tags": [
     "papermill-error-cell-tag"
    ]
   },
   "source": [
    "<span id=\"papermill-error-cell\" style=\"color:red; font-family:Helvetica Neue, Helvetica, Arial, sans-serif; font-size:2em;\">Execution using papermill encountered an exception here and stopped:</span>"
   ]
  },
  {
   "cell_type": "code",
   "execution_count": 46,
   "id": "450a8cdb-6e3c-43f4-a867-40b754c29e0c",
   "metadata": {
    "execution": {
     "iopub.execute_input": "2025-05-01T13:40:02.151372Z",
     "iopub.status.busy": "2025-05-01T13:40:02.151002Z",
     "iopub.status.idle": "2025-05-01T13:40:04.043180Z",
     "shell.execute_reply": "2025-05-01T13:40:04.039969Z"
    },
    "papermill": {
     "duration": 1.932316,
     "end_time": "2025-05-01T13:40:04.045731",
     "exception": true,
     "start_time": "2025-05-01T13:40:02.113415",
     "status": "failed"
    },
    "tags": []
   },
   "outputs": [
    {
     "ename": "OSError",
     "evalue": "Cannot save file into a non-existent directory: '../src/data'",
     "output_type": "error",
     "traceback": [
      "\u001b[0;31m---------------------------------------------------------------------------\u001b[0m",
      "\u001b[0;31mOSError\u001b[0m                                   Traceback (most recent call last)",
      "Cell \u001b[0;32mIn[46], line 3\u001b[0m\n\u001b[1;32m      1\u001b[0m \u001b[38;5;66;03m# Tree-Based Embedding\u001b[39;00m\n\u001b[1;32m      2\u001b[0m df5 \u001b[38;5;241m=\u001b[39m df_tree\u001b[38;5;241m.\u001b[39mcopy()\n\u001b[0;32m----> 3\u001b[0m \u001b[43mdf5\u001b[49m\u001b[38;5;241;43m.\u001b[39;49m\u001b[43mto_csv\u001b[49m\u001b[43m(\u001b[49m\u001b[43m \u001b[49m\u001b[38;5;124;43m'\u001b[39;49m\u001b[38;5;124;43m../src/data/tree_based_embedding.csv\u001b[39;49m\u001b[38;5;124;43m'\u001b[39;49m\u001b[43m)\u001b[49m\n\u001b[1;32m      5\u001b[0m \u001b[38;5;66;03m# UMAP Embedding\u001b[39;00m\n\u001b[1;32m      6\u001b[0m \u001b[38;5;66;03m#df5 = df_umap.copy()\u001b[39;00m\n\u001b[1;32m      7\u001b[0m \n\u001b[1;32m      8\u001b[0m \u001b[38;5;66;03m# TSNE Embedding\u001b[39;00m\n\u001b[1;32m      9\u001b[0m \u001b[38;5;66;03m#df5 = df_tsne.copy()\u001b[39;00m\n",
      "File \u001b[0;32m~/.pyenv/versions/3.8.0/envs/insiders/lib/python3.8/site-packages/pandas/core/generic.py:3772\u001b[0m, in \u001b[0;36mNDFrame.to_csv\u001b[0;34m(self, path_or_buf, sep, na_rep, float_format, columns, header, index, index_label, mode, encoding, compression, quoting, quotechar, lineterminator, chunksize, date_format, doublequote, escapechar, decimal, errors, storage_options)\u001b[0m\n\u001b[1;32m   3761\u001b[0m df \u001b[38;5;241m=\u001b[39m \u001b[38;5;28mself\u001b[39m \u001b[38;5;28;01mif\u001b[39;00m \u001b[38;5;28misinstance\u001b[39m(\u001b[38;5;28mself\u001b[39m, ABCDataFrame) \u001b[38;5;28;01melse\u001b[39;00m \u001b[38;5;28mself\u001b[39m\u001b[38;5;241m.\u001b[39mto_frame()\n\u001b[1;32m   3763\u001b[0m formatter \u001b[38;5;241m=\u001b[39m DataFrameFormatter(\n\u001b[1;32m   3764\u001b[0m     frame\u001b[38;5;241m=\u001b[39mdf,\n\u001b[1;32m   3765\u001b[0m     header\u001b[38;5;241m=\u001b[39mheader,\n\u001b[0;32m   (...)\u001b[0m\n\u001b[1;32m   3769\u001b[0m     decimal\u001b[38;5;241m=\u001b[39mdecimal,\n\u001b[1;32m   3770\u001b[0m )\n\u001b[0;32m-> 3772\u001b[0m \u001b[38;5;28;01mreturn\u001b[39;00m \u001b[43mDataFrameRenderer\u001b[49m\u001b[43m(\u001b[49m\u001b[43mformatter\u001b[49m\u001b[43m)\u001b[49m\u001b[38;5;241;43m.\u001b[39;49m\u001b[43mto_csv\u001b[49m\u001b[43m(\u001b[49m\n\u001b[1;32m   3773\u001b[0m \u001b[43m    \u001b[49m\u001b[43mpath_or_buf\u001b[49m\u001b[43m,\u001b[49m\n\u001b[1;32m   3774\u001b[0m \u001b[43m    \u001b[49m\u001b[43mlineterminator\u001b[49m\u001b[38;5;241;43m=\u001b[39;49m\u001b[43mlineterminator\u001b[49m\u001b[43m,\u001b[49m\n\u001b[1;32m   3775\u001b[0m \u001b[43m    \u001b[49m\u001b[43msep\u001b[49m\u001b[38;5;241;43m=\u001b[39;49m\u001b[43msep\u001b[49m\u001b[43m,\u001b[49m\n\u001b[1;32m   3776\u001b[0m \u001b[43m    \u001b[49m\u001b[43mencoding\u001b[49m\u001b[38;5;241;43m=\u001b[39;49m\u001b[43mencoding\u001b[49m\u001b[43m,\u001b[49m\n\u001b[1;32m   3777\u001b[0m \u001b[43m    \u001b[49m\u001b[43merrors\u001b[49m\u001b[38;5;241;43m=\u001b[39;49m\u001b[43merrors\u001b[49m\u001b[43m,\u001b[49m\n\u001b[1;32m   3778\u001b[0m \u001b[43m    \u001b[49m\u001b[43mcompression\u001b[49m\u001b[38;5;241;43m=\u001b[39;49m\u001b[43mcompression\u001b[49m\u001b[43m,\u001b[49m\n\u001b[1;32m   3779\u001b[0m \u001b[43m    \u001b[49m\u001b[43mquoting\u001b[49m\u001b[38;5;241;43m=\u001b[39;49m\u001b[43mquoting\u001b[49m\u001b[43m,\u001b[49m\n\u001b[1;32m   3780\u001b[0m \u001b[43m    \u001b[49m\u001b[43mcolumns\u001b[49m\u001b[38;5;241;43m=\u001b[39;49m\u001b[43mcolumns\u001b[49m\u001b[43m,\u001b[49m\n\u001b[1;32m   3781\u001b[0m \u001b[43m    \u001b[49m\u001b[43mindex_label\u001b[49m\u001b[38;5;241;43m=\u001b[39;49m\u001b[43mindex_label\u001b[49m\u001b[43m,\u001b[49m\n\u001b[1;32m   3782\u001b[0m \u001b[43m    \u001b[49m\u001b[43mmode\u001b[49m\u001b[38;5;241;43m=\u001b[39;49m\u001b[43mmode\u001b[49m\u001b[43m,\u001b[49m\n\u001b[1;32m   3783\u001b[0m \u001b[43m    \u001b[49m\u001b[43mchunksize\u001b[49m\u001b[38;5;241;43m=\u001b[39;49m\u001b[43mchunksize\u001b[49m\u001b[43m,\u001b[49m\n\u001b[1;32m   3784\u001b[0m \u001b[43m    \u001b[49m\u001b[43mquotechar\u001b[49m\u001b[38;5;241;43m=\u001b[39;49m\u001b[43mquotechar\u001b[49m\u001b[43m,\u001b[49m\n\u001b[1;32m   3785\u001b[0m \u001b[43m    \u001b[49m\u001b[43mdate_format\u001b[49m\u001b[38;5;241;43m=\u001b[39;49m\u001b[43mdate_format\u001b[49m\u001b[43m,\u001b[49m\n\u001b[1;32m   3786\u001b[0m \u001b[43m    \u001b[49m\u001b[43mdoublequote\u001b[49m\u001b[38;5;241;43m=\u001b[39;49m\u001b[43mdoublequote\u001b[49m\u001b[43m,\u001b[49m\n\u001b[1;32m   3787\u001b[0m \u001b[43m    \u001b[49m\u001b[43mescapechar\u001b[49m\u001b[38;5;241;43m=\u001b[39;49m\u001b[43mescapechar\u001b[49m\u001b[43m,\u001b[49m\n\u001b[1;32m   3788\u001b[0m \u001b[43m    \u001b[49m\u001b[43mstorage_options\u001b[49m\u001b[38;5;241;43m=\u001b[39;49m\u001b[43mstorage_options\u001b[49m\u001b[43m,\u001b[49m\n\u001b[1;32m   3789\u001b[0m \u001b[43m\u001b[49m\u001b[43m)\u001b[49m\n",
      "File \u001b[0;32m~/.pyenv/versions/3.8.0/envs/insiders/lib/python3.8/site-packages/pandas/io/formats/format.py:1186\u001b[0m, in \u001b[0;36mDataFrameRenderer.to_csv\u001b[0;34m(self, path_or_buf, encoding, sep, columns, index_label, mode, compression, quoting, quotechar, lineterminator, chunksize, date_format, doublequote, escapechar, errors, storage_options)\u001b[0m\n\u001b[1;32m   1165\u001b[0m     created_buffer \u001b[38;5;241m=\u001b[39m \u001b[38;5;28;01mFalse\u001b[39;00m\n\u001b[1;32m   1167\u001b[0m csv_formatter \u001b[38;5;241m=\u001b[39m CSVFormatter(\n\u001b[1;32m   1168\u001b[0m     path_or_buf\u001b[38;5;241m=\u001b[39mpath_or_buf,\n\u001b[1;32m   1169\u001b[0m     lineterminator\u001b[38;5;241m=\u001b[39mlineterminator,\n\u001b[0;32m   (...)\u001b[0m\n\u001b[1;32m   1184\u001b[0m     formatter\u001b[38;5;241m=\u001b[39m\u001b[38;5;28mself\u001b[39m\u001b[38;5;241m.\u001b[39mfmt,\n\u001b[1;32m   1185\u001b[0m )\n\u001b[0;32m-> 1186\u001b[0m \u001b[43mcsv_formatter\u001b[49m\u001b[38;5;241;43m.\u001b[39;49m\u001b[43msave\u001b[49m\u001b[43m(\u001b[49m\u001b[43m)\u001b[49m\n\u001b[1;32m   1188\u001b[0m \u001b[38;5;28;01mif\u001b[39;00m created_buffer:\n\u001b[1;32m   1189\u001b[0m     \u001b[38;5;28;01massert\u001b[39;00m \u001b[38;5;28misinstance\u001b[39m(path_or_buf, StringIO)\n",
      "File \u001b[0;32m~/.pyenv/versions/3.8.0/envs/insiders/lib/python3.8/site-packages/pandas/io/formats/csvs.py:240\u001b[0m, in \u001b[0;36mCSVFormatter.save\u001b[0;34m(self)\u001b[0m\n\u001b[1;32m    236\u001b[0m \u001b[38;5;250m\u001b[39m\u001b[38;5;124;03m\"\"\"\u001b[39;00m\n\u001b[1;32m    237\u001b[0m \u001b[38;5;124;03mCreate the writer & save.\u001b[39;00m\n\u001b[1;32m    238\u001b[0m \u001b[38;5;124;03m\"\"\"\u001b[39;00m\n\u001b[1;32m    239\u001b[0m \u001b[38;5;66;03m# apply compression and byte/text conversion\u001b[39;00m\n\u001b[0;32m--> 240\u001b[0m \u001b[38;5;28;01mwith\u001b[39;00m \u001b[43mget_handle\u001b[49m\u001b[43m(\u001b[49m\n\u001b[1;32m    241\u001b[0m \u001b[43m    \u001b[49m\u001b[38;5;28;43mself\u001b[39;49m\u001b[38;5;241;43m.\u001b[39;49m\u001b[43mfilepath_or_buffer\u001b[49m\u001b[43m,\u001b[49m\n\u001b[1;32m    242\u001b[0m \u001b[43m    \u001b[49m\u001b[38;5;28;43mself\u001b[39;49m\u001b[38;5;241;43m.\u001b[39;49m\u001b[43mmode\u001b[49m\u001b[43m,\u001b[49m\n\u001b[1;32m    243\u001b[0m \u001b[43m    \u001b[49m\u001b[43mencoding\u001b[49m\u001b[38;5;241;43m=\u001b[39;49m\u001b[38;5;28;43mself\u001b[39;49m\u001b[38;5;241;43m.\u001b[39;49m\u001b[43mencoding\u001b[49m\u001b[43m,\u001b[49m\n\u001b[1;32m    244\u001b[0m \u001b[43m    \u001b[49m\u001b[43merrors\u001b[49m\u001b[38;5;241;43m=\u001b[39;49m\u001b[38;5;28;43mself\u001b[39;49m\u001b[38;5;241;43m.\u001b[39;49m\u001b[43merrors\u001b[49m\u001b[43m,\u001b[49m\n\u001b[1;32m    245\u001b[0m \u001b[43m    \u001b[49m\u001b[43mcompression\u001b[49m\u001b[38;5;241;43m=\u001b[39;49m\u001b[38;5;28;43mself\u001b[39;49m\u001b[38;5;241;43m.\u001b[39;49m\u001b[43mcompression\u001b[49m\u001b[43m,\u001b[49m\n\u001b[1;32m    246\u001b[0m \u001b[43m    \u001b[49m\u001b[43mstorage_options\u001b[49m\u001b[38;5;241;43m=\u001b[39;49m\u001b[38;5;28;43mself\u001b[39;49m\u001b[38;5;241;43m.\u001b[39;49m\u001b[43mstorage_options\u001b[49m\u001b[43m,\u001b[49m\n\u001b[1;32m    247\u001b[0m \u001b[43m\u001b[49m\u001b[43m)\u001b[49m \u001b[38;5;28;01mas\u001b[39;00m handles:\n\u001b[1;32m    248\u001b[0m     \u001b[38;5;66;03m# Note: self.encoding is irrelevant here\u001b[39;00m\n\u001b[1;32m    249\u001b[0m     \u001b[38;5;28mself\u001b[39m\u001b[38;5;241m.\u001b[39mwriter \u001b[38;5;241m=\u001b[39m csvlib\u001b[38;5;241m.\u001b[39mwriter(\n\u001b[1;32m    250\u001b[0m         handles\u001b[38;5;241m.\u001b[39mhandle,\n\u001b[1;32m    251\u001b[0m         lineterminator\u001b[38;5;241m=\u001b[39m\u001b[38;5;28mself\u001b[39m\u001b[38;5;241m.\u001b[39mlineterminator,\n\u001b[0;32m   (...)\u001b[0m\n\u001b[1;32m    256\u001b[0m         quotechar\u001b[38;5;241m=\u001b[39m\u001b[38;5;28mself\u001b[39m\u001b[38;5;241m.\u001b[39mquotechar,\n\u001b[1;32m    257\u001b[0m     )\n\u001b[1;32m    259\u001b[0m     \u001b[38;5;28mself\u001b[39m\u001b[38;5;241m.\u001b[39m_save()\n",
      "File \u001b[0;32m~/.pyenv/versions/3.8.0/envs/insiders/lib/python3.8/site-packages/pandas/io/common.py:737\u001b[0m, in \u001b[0;36mget_handle\u001b[0;34m(path_or_buf, mode, encoding, compression, memory_map, is_text, errors, storage_options)\u001b[0m\n\u001b[1;32m    735\u001b[0m \u001b[38;5;66;03m# Only for write methods\u001b[39;00m\n\u001b[1;32m    736\u001b[0m \u001b[38;5;28;01mif\u001b[39;00m \u001b[38;5;124m\"\u001b[39m\u001b[38;5;124mr\u001b[39m\u001b[38;5;124m\"\u001b[39m \u001b[38;5;129;01mnot\u001b[39;00m \u001b[38;5;129;01min\u001b[39;00m mode \u001b[38;5;129;01mand\u001b[39;00m is_path:\n\u001b[0;32m--> 737\u001b[0m     \u001b[43mcheck_parent_directory\u001b[49m\u001b[43m(\u001b[49m\u001b[38;5;28;43mstr\u001b[39;49m\u001b[43m(\u001b[49m\u001b[43mhandle\u001b[49m\u001b[43m)\u001b[49m\u001b[43m)\u001b[49m\n\u001b[1;32m    739\u001b[0m \u001b[38;5;28;01mif\u001b[39;00m compression:\n\u001b[1;32m    740\u001b[0m     \u001b[38;5;28;01mif\u001b[39;00m compression \u001b[38;5;241m!=\u001b[39m \u001b[38;5;124m\"\u001b[39m\u001b[38;5;124mzstd\u001b[39m\u001b[38;5;124m\"\u001b[39m:\n\u001b[1;32m    741\u001b[0m         \u001b[38;5;66;03m# compression libraries do not like an explicit text-mode\u001b[39;00m\n",
      "File \u001b[0;32m~/.pyenv/versions/3.8.0/envs/insiders/lib/python3.8/site-packages/pandas/io/common.py:600\u001b[0m, in \u001b[0;36mcheck_parent_directory\u001b[0;34m(path)\u001b[0m\n\u001b[1;32m    598\u001b[0m parent \u001b[38;5;241m=\u001b[39m Path(path)\u001b[38;5;241m.\u001b[39mparent\n\u001b[1;32m    599\u001b[0m \u001b[38;5;28;01mif\u001b[39;00m \u001b[38;5;129;01mnot\u001b[39;00m parent\u001b[38;5;241m.\u001b[39mis_dir():\n\u001b[0;32m--> 600\u001b[0m     \u001b[38;5;28;01mraise\u001b[39;00m \u001b[38;5;167;01mOSError\u001b[39;00m(\u001b[38;5;124mrf\u001b[39m\u001b[38;5;124m\"\u001b[39m\u001b[38;5;124mCannot save file into a non-existent directory: \u001b[39m\u001b[38;5;124m'\u001b[39m\u001b[38;5;132;01m{\u001b[39;00mparent\u001b[38;5;132;01m}\u001b[39;00m\u001b[38;5;124m'\u001b[39m\u001b[38;5;124m\"\u001b[39m)\n",
      "\u001b[0;31mOSError\u001b[0m: Cannot save file into a non-existent directory: '../src/data'"
     ]
    }
   ],
   "source": [
    "# Tree-Based Embedding\n",
    "df5 = df_tree.copy()\n",
    "df5.to_csv( '../src/data/tree_based_embedding.csv')\n",
    "\n",
    "# UMAP Embedding\n",
    "#df5 = df_umap.copy()\n",
    "\n",
    "# TSNE Embedding\n",
    "#df5 = df_tsne.copy()"
   ]
  },
  {
   "cell_type": "markdown",
   "id": "711471e6-d307-4ec2-a602-b9397fa75f04",
   "metadata": {
    "papermill": {
     "duration": null,
     "end_time": null,
     "exception": null,
     "start_time": null,
     "status": "pending"
    },
    "tags": []
   },
   "source": [
    "# <font color='red'>7.0. Hyperparameter Fine-Tunning</font>"
   ]
  },
  {
   "cell_type": "code",
   "execution_count": null,
   "id": "9e331d6b-a251-448c-9651-94238df08c86",
   "metadata": {
    "execution": {
     "iopub.execute_input": "2025-05-01T12:05:33.212986Z",
     "iopub.status.busy": "2025-05-01T12:05:33.212203Z",
     "iopub.status.idle": "2025-05-01T12:05:33.465240Z",
     "shell.execute_reply": "2025-05-01T12:05:33.462843Z",
     "shell.execute_reply.started": "2025-05-01T12:05:33.212889Z"
    },
    "papermill": {
     "duration": null,
     "end_time": null,
     "exception": null,
     "start_time": null,
     "status": "pending"
    },
    "tags": []
   },
   "outputs": [],
   "source": [
    "X = df5.copy()"
   ]
  },
  {
   "cell_type": "code",
   "execution_count": null,
   "id": "20a0a5fd-8332-40b1-8879-d6b475e1a85a",
   "metadata": {
    "execution": {
     "iopub.execute_input": "2025-05-01T12:05:33.469128Z",
     "iopub.status.busy": "2025-05-01T12:05:33.468013Z",
     "iopub.status.idle": "2025-05-01T12:05:34.048359Z",
     "shell.execute_reply": "2025-05-01T12:05:34.046412Z",
     "shell.execute_reply.started": "2025-05-01T12:05:33.469004Z"
    },
    "papermill": {
     "duration": null,
     "end_time": null,
     "exception": null,
     "start_time": null,
     "status": "pending"
    },
    "tags": []
   },
   "outputs": [],
   "source": [
    "#clusters = [2, 3, 4, 5, 6, 7, 8, 9]\n",
    "clusters = np.arange( 2, 25, 1)"
   ]
  },
  {
   "cell_type": "markdown",
   "id": "bea300da-cdce-49fa-bb47-501ca7fa8389",
   "metadata": {
    "papermill": {
     "duration": null,
     "end_time": null,
     "exception": null,
     "start_time": null,
     "status": "pending"
    },
    "tags": []
   },
   "source": [
    "## 7.1. K-Means"
   ]
  },
  {
   "cell_type": "code",
   "execution_count": null,
   "id": "552ea4c5-cf4c-4d3b-a98e-022a6e7c5d2d",
   "metadata": {
    "execution": {
     "iopub.execute_input": "2025-05-01T12:05:34.051293Z",
     "iopub.status.busy": "2025-05-01T12:05:34.050444Z",
     "iopub.status.idle": "2025-05-01T12:06:12.489078Z",
     "shell.execute_reply": "2025-05-01T12:06:12.486880Z",
     "shell.execute_reply.started": "2025-05-01T12:05:34.051205Z"
    },
    "papermill": {
     "duration": null,
     "end_time": null,
     "exception": null,
     "start_time": null,
     "status": "pending"
    },
    "tags": []
   },
   "outputs": [],
   "source": [
    "kmeans_list = []\n",
    "for k in clusters:\n",
    "    # model definition\n",
    "    kmeans_model = c.KMeans( n_clusters=k, n_init=100, random_state=42 )\n",
    "    \n",
    "    # model training\n",
    "    kmeans_model.fit( X )\n",
    "    \n",
    "    # model predict\n",
    "    labels = kmeans_model.predict( X )\n",
    "    \n",
    "    # model performance\n",
    "    sil = m.silhouette_score( X, labels, metric='euclidean')\n",
    "    kmeans_list.append( sil )"
   ]
  },
  {
   "cell_type": "code",
   "execution_count": null,
   "id": "2e36627b-6f99-4964-95c1-466bba748668",
   "metadata": {
    "execution": {
     "iopub.execute_input": "2025-05-01T12:06:12.491425Z",
     "iopub.status.busy": "2025-05-01T12:06:12.490924Z",
     "iopub.status.idle": "2025-05-01T12:06:12.786950Z",
     "shell.execute_reply": "2025-05-01T12:06:12.785473Z",
     "shell.execute_reply.started": "2025-05-01T12:06:12.491372Z"
    },
    "papermill": {
     "duration": null,
     "end_time": null,
     "exception": null,
     "start_time": null,
     "status": "pending"
    },
    "tags": []
   },
   "outputs": [],
   "source": [
    "plt.plot(clusters, kmeans_list, linestyle='--', marker='o', color='b')\n",
    "plt.xlabel( 'K' );\n",
    "plt.ylabel( 'Silhouette Score');\n",
    "plt.title( 'Silhouette Score x K' )"
   ]
  },
  {
   "cell_type": "markdown",
   "id": "7976cc9d-f7ce-4e07-aad7-1bfda6a2c7d5",
   "metadata": {
    "papermill": {
     "duration": null,
     "end_time": null,
     "exception": null,
     "start_time": null,
     "status": "pending"
    },
    "tags": []
   },
   "source": [
    "## 7.2. GMM"
   ]
  },
  {
   "cell_type": "code",
   "execution_count": null,
   "id": "a8f71874-7d2d-4595-a8df-254b80cbe49a",
   "metadata": {
    "execution": {
     "iopub.execute_input": "2025-05-01T12:06:12.790646Z",
     "iopub.status.busy": "2025-05-01T12:06:12.790303Z",
     "iopub.status.idle": "2025-05-01T12:06:51.501963Z",
     "shell.execute_reply": "2025-05-01T12:06:51.500471Z",
     "shell.execute_reply.started": "2025-05-01T12:06:12.790612Z"
    },
    "papermill": {
     "duration": null,
     "end_time": null,
     "exception": null,
     "start_time": null,
     "status": "pending"
    },
    "tags": []
   },
   "outputs": [],
   "source": [
    "gmm_list = []\n",
    "for k in clusters:\n",
    "    # model definition\n",
    "    gmm_model = mx.GaussianMixture( n_components=k, n_init=10, random_state=42 )\n",
    "    \n",
    "    # model training\n",
    "    gmm_model.fit( X )\n",
    "    \n",
    "    # model predict\n",
    "    labels = gmm_model.predict( X )\n",
    "    \n",
    "    # model performance\n",
    "    sil = m.silhouette_score( X, labels, metric='euclidean')\n",
    "    gmm_list.append( sil )"
   ]
  },
  {
   "cell_type": "code",
   "execution_count": null,
   "id": "8af1a314-d305-485c-8b2f-e99f49fe094c",
   "metadata": {
    "execution": {
     "iopub.execute_input": "2025-05-01T12:06:51.504672Z",
     "iopub.status.busy": "2025-05-01T12:06:51.503372Z",
     "iopub.status.idle": "2025-05-01T12:06:51.773656Z",
     "shell.execute_reply": "2025-05-01T12:06:51.772041Z",
     "shell.execute_reply.started": "2025-05-01T12:06:51.504591Z"
    },
    "papermill": {
     "duration": null,
     "end_time": null,
     "exception": null,
     "start_time": null,
     "status": "pending"
    },
    "tags": []
   },
   "outputs": [],
   "source": [
    "plt.plot(clusters, gmm_list, linestyle='--', marker='o', color='b')\n",
    "plt.xlabel( 'K' );\n",
    "plt.ylabel( 'Silhouette Score');\n",
    "plt.title( 'Silhouette Score x K' )"
   ]
  },
  {
   "cell_type": "markdown",
   "id": "4baed97f-cd69-45ea-9a83-5cfb9ff670b6",
   "metadata": {
    "papermill": {
     "duration": null,
     "end_time": null,
     "exception": null,
     "start_time": null,
     "status": "pending"
    },
    "tags": []
   },
   "source": [
    "## 7.3. Hierarchical Clustering"
   ]
  },
  {
   "cell_type": "code",
   "execution_count": null,
   "id": "ee84e4cb-10a4-4e1e-8623-cc953a4fc405",
   "metadata": {
    "execution": {
     "iopub.execute_input": "2025-05-01T12:06:51.775503Z",
     "iopub.status.busy": "2025-05-01T12:06:51.774976Z",
     "iopub.status.idle": "2025-05-01T12:06:52.586243Z",
     "shell.execute_reply": "2025-05-01T12:06:52.584434Z",
     "shell.execute_reply.started": "2025-05-01T12:06:51.775448Z"
    },
    "papermill": {
     "duration": null,
     "end_time": null,
     "exception": null,
     "start_time": null,
     "status": "pending"
    },
    "tags": []
   },
   "outputs": [],
   "source": [
    "# model definition and training\n",
    "hc_model = hc.linkage(X, 'ward' )"
   ]
  },
  {
   "cell_type": "markdown",
   "id": "52d14b59-b672-488b-88b3-48c87460232c",
   "metadata": {
    "papermill": {
     "duration": null,
     "end_time": null,
     "exception": null,
     "start_time": null,
     "status": "pending"
    },
    "tags": []
   },
   "source": [
    "### 7.3.1. HClustering Silhouette Score"
   ]
  },
  {
   "cell_type": "code",
   "execution_count": null,
   "id": "7ac49e0d-b146-4409-89c6-fe0e3c38fca9",
   "metadata": {
    "execution": {
     "iopub.execute_input": "2025-05-01T12:06:52.588253Z",
     "iopub.status.busy": "2025-05-01T12:06:52.587746Z",
     "iopub.status.idle": "2025-05-01T12:07:23.125337Z",
     "shell.execute_reply": "2025-05-01T12:07:23.124006Z",
     "shell.execute_reply.started": "2025-05-01T12:06:52.588205Z"
    },
    "papermill": {
     "duration": null,
     "end_time": null,
     "exception": null,
     "start_time": null,
     "status": "pending"
    },
    "tags": []
   },
   "outputs": [],
   "source": [
    "hc_list = []\n",
    "for k in clusters:\n",
    "    # model definition & training\n",
    "    hc_model = hc.linkage( X, 'ward' )\n",
    "    \n",
    "    # model predict\n",
    "    labels = hc.fcluster( hc_model, k, criterion='maxclust' )\n",
    "    \n",
    "    # model performance\n",
    "    sil = m.silhouette_score( X, labels, metric='euclidean')\n",
    "    hc_list.append( sil )"
   ]
  },
  {
   "cell_type": "code",
   "execution_count": null,
   "id": "870c62b4-1b39-419e-b1ce-81a61f7a93ba",
   "metadata": {
    "execution": {
     "iopub.execute_input": "2025-05-01T12:07:23.126724Z",
     "iopub.status.busy": "2025-05-01T12:07:23.126417Z",
     "iopub.status.idle": "2025-05-01T12:07:23.381866Z",
     "shell.execute_reply": "2025-05-01T12:07:23.380311Z",
     "shell.execute_reply.started": "2025-05-01T12:07:23.126694Z"
    },
    "papermill": {
     "duration": null,
     "end_time": null,
     "exception": null,
     "start_time": null,
     "status": "pending"
    },
    "tags": []
   },
   "outputs": [],
   "source": [
    "plt.plot(clusters, hc_list, linestyle='--', marker='o', color='b')\n",
    "plt.xlabel( 'K' );\n",
    "plt.ylabel( 'Silhouette Score');\n",
    "plt.title( 'Silhouette Score x K' )"
   ]
  },
  {
   "cell_type": "code",
   "execution_count": null,
   "id": "f50ca6fa-d21b-4a00-854b-6ca33db9bfdc",
   "metadata": {
    "execution": {
     "iopub.execute_input": "2025-04-30T13:16:43.452390Z",
     "iopub.status.busy": "2025-04-30T13:16:43.451851Z",
     "iopub.status.idle": "2025-04-30T13:16:43.986000Z",
     "shell.execute_reply": "2025-04-30T13:16:43.984535Z",
     "shell.execute_reply.started": "2025-04-30T13:16:43.452346Z"
    },
    "papermill": {
     "duration": null,
     "end_time": null,
     "exception": null,
     "start_time": null,
     "status": "pending"
    },
    "tags": []
   },
   "outputs": [],
   "source": [
    "## 7.5. Results - Tree Based Embedding\n",
    "df_results = pd.DataFrame(\n",
    "    {'Kmeans': kmeans_list,\n",
    "     'GMM': gmm_list,\n",
    "     'HC': hc_list}\n",
    ").T\n",
    "\n",
    "df_results.columns = clusters\n",
    "df_results.style.highlight_max( color='lightgreen', axis=1)"
   ]
  },
  {
   "cell_type": "code",
   "execution_count": null,
   "id": "6973be8a-a215-4a6d-b5c1-dbb06da462b1",
   "metadata": {
    "execution": {
     "iopub.execute_input": "2025-04-30T13:32:46.250016Z",
     "iopub.status.busy": "2025-04-30T13:32:46.249689Z",
     "iopub.status.idle": "2025-04-30T13:32:46.350760Z",
     "shell.execute_reply": "2025-04-30T13:32:46.348231Z",
     "shell.execute_reply.started": "2025-04-30T13:32:46.249984Z"
    },
    "papermill": {
     "duration": null,
     "end_time": null,
     "exception": null,
     "start_time": null,
     "status": "pending"
    },
    "tags": []
   },
   "outputs": [],
   "source": [
    "## 7.6. Results - UMAP Embedding\n",
    "df_results = pd.DataFrame(\n",
    "    {'Kmeans': kmeans_list,\n",
    "     'GMM': gmm_list,\n",
    "     'HC': hc_list}\n",
    ").T\n",
    "\n",
    "df_results.columns = clusters\n",
    "df_results.style.highlight_max( color='lightgreen', axis=1)"
   ]
  },
  {
   "cell_type": "code",
   "execution_count": null,
   "id": "b43eae97-a8a6-46f3-b7f2-4d8291dc91aa",
   "metadata": {
    "execution": {
     "iopub.execute_input": "2025-04-30T13:56:06.010191Z",
     "iopub.status.busy": "2025-04-30T13:56:06.009752Z",
     "iopub.status.idle": "2025-04-30T13:56:06.176987Z",
     "shell.execute_reply": "2025-04-30T13:56:06.173679Z",
     "shell.execute_reply.started": "2025-04-30T13:56:06.010151Z"
    },
    "papermill": {
     "duration": null,
     "end_time": null,
     "exception": null,
     "start_time": null,
     "status": "pending"
    },
    "tags": []
   },
   "outputs": [],
   "source": [
    "## 7.7. Results - TSNE Embedding\n",
    "df_results = pd.DataFrame(\n",
    "    {'Kmeans': kmeans_list,\n",
    "     'GMM': gmm_list,\n",
    "     'HC': hc_list}\n",
    ").T\n",
    "\n",
    "df_results.columns = clusters\n",
    "df_results.style.highlight_max( color='lightgreen', axis=1)"
   ]
  },
  {
   "cell_type": "markdown",
   "id": "0b2eb22c-ce13-46d1-aba2-05c70f6ea7ea",
   "metadata": {
    "papermill": {
     "duration": null,
     "end_time": null,
     "exception": null,
     "start_time": null,
     "status": "pending"
    },
    "tags": []
   },
   "source": [
    "# <font color='red'>8.0. Model Training</font>"
   ]
  },
  {
   "cell_type": "markdown",
   "id": "f2a0daa4-6463-4f67-924d-576921044d64",
   "metadata": {
    "papermill": {
     "duration": null,
     "end_time": null,
     "exception": null,
     "start_time": null,
     "status": "pending"
    },
    "tags": []
   },
   "source": [
    "## 8.1. Final model"
   ]
  },
  {
   "cell_type": "code",
   "execution_count": null,
   "id": "eaf34422-2ca9-4119-8440-93afe152d028",
   "metadata": {
    "execution": {
     "iopub.execute_input": "2025-05-01T12:07:23.384045Z",
     "iopub.status.busy": "2025-05-01T12:07:23.383406Z",
     "iopub.status.idle": "2025-05-01T12:07:23.439962Z",
     "shell.execute_reply": "2025-05-01T12:07:23.438660Z",
     "shell.execute_reply.started": "2025-05-01T12:07:23.383984Z"
    },
    "papermill": {
     "duration": null,
     "end_time": null,
     "exception": null,
     "start_time": null,
     "status": "pending"
    },
    "tags": []
   },
   "outputs": [],
   "source": [
    "k = 8\n",
    "# model definition\n",
    "gmm_model = mx.GaussianMixture( n_components=k, random_state=42 )\n",
    "\n",
    "# model training\n",
    "gmm_model.fit( X )\n",
    "\n",
    "# model predict\n",
    "labels = gmm_model.predict( X )"
   ]
  },
  {
   "cell_type": "markdown",
   "id": "20881d9e-230d-4a25-aa59-73e9dc2e1bda",
   "metadata": {
    "papermill": {
     "duration": null,
     "end_time": null,
     "exception": null,
     "start_time": null,
     "status": "pending"
    },
    "tags": []
   },
   "source": [
    "### 8.1.0. Cluster Validation"
   ]
  },
  {
   "cell_type": "code",
   "execution_count": null,
   "id": "94692501-c1d7-4ec4-966b-0d61f4967174",
   "metadata": {
    "execution": {
     "iopub.execute_input": "2025-05-01T12:07:23.441508Z",
     "iopub.status.busy": "2025-05-01T12:07:23.441150Z",
     "iopub.status.idle": "2025-05-01T12:07:24.466222Z",
     "shell.execute_reply": "2025-05-01T12:07:24.464395Z",
     "shell.execute_reply.started": "2025-05-01T12:07:23.441468Z"
    },
    "papermill": {
     "duration": null,
     "end_time": null,
     "exception": null,
     "start_time": null,
     "status": "pending"
    },
    "tags": []
   },
   "outputs": [],
   "source": [
    "# WSS (Within-Cluster Sum of Square)\n",
    "#print( f'WSS value: {kmeans.inertia_}')\n",
    "\n",
    "# SS (Silhouette Score)\n",
    "print( f'SS value: {m.silhouette_score( X, labels, metric=\"euclidean\" )}' )"
   ]
  },
  {
   "cell_type": "markdown",
   "id": "edd39975-77df-4f14-8b8c-d7f05c3766fe",
   "metadata": {
    "papermill": {
     "duration": null,
     "end_time": null,
     "exception": null,
     "start_time": null,
     "status": "pending"
    },
    "tags": []
   },
   "source": [
    "# <font color='red'>9.0. Cluster Analysis</font>"
   ]
  },
  {
   "cell_type": "code",
   "execution_count": null,
   "id": "728cffa5-6ed2-466d-9800-148462b6c4d7",
   "metadata": {
    "execution": {
     "iopub.execute_input": "2025-05-01T12:07:24.467344Z",
     "iopub.status.busy": "2025-05-01T12:07:24.466914Z",
     "iopub.status.idle": "2025-05-01T12:07:24.475041Z",
     "shell.execute_reply": "2025-05-01T12:07:24.473552Z",
     "shell.execute_reply.started": "2025-05-01T12:07:24.467299Z"
    },
    "papermill": {
     "duration": null,
     "end_time": null,
     "exception": null,
     "start_time": null,
     "status": "pending"
    },
    "tags": []
   },
   "outputs": [],
   "source": [
    "df9 = X.copy()\n",
    "df9['cluster'] = labels"
   ]
  },
  {
   "cell_type": "markdown",
   "id": "8a0b9ffc-7d26-4cbb-9d6e-d63c9fb93035",
   "metadata": {
    "papermill": {
     "duration": null,
     "end_time": null,
     "exception": null,
     "start_time": null,
     "status": "pending"
    },
    "tags": []
   },
   "source": [
    "## 9.1. Visualization Inspection"
   ]
  },
  {
   "cell_type": "code",
   "execution_count": null,
   "id": "d4d844a7-804c-46c8-9ab9-91de03d2a85e",
   "metadata": {
    "execution": {
     "iopub.execute_input": "2025-05-01T12:07:24.477221Z",
     "iopub.status.busy": "2025-05-01T12:07:24.476640Z",
     "iopub.status.idle": "2025-05-01T12:07:25.400375Z",
     "shell.execute_reply": "2025-05-01T12:07:25.398844Z",
     "shell.execute_reply.started": "2025-05-01T12:07:24.477167Z"
    },
    "papermill": {
     "duration": null,
     "end_time": null,
     "exception": null,
     "start_time": null,
     "status": "pending"
    },
    "tags": []
   },
   "outputs": [],
   "source": [
    "sns.scatterplot(x='embedding_x', y='embedding_y', hue='cluster', data=df9, palette='deep')"
   ]
  },
  {
   "cell_type": "markdown",
   "id": "70cfb8a9-3335-4219-b55c-f95c5e5b1a1e",
   "metadata": {
    "papermill": {
     "duration": null,
     "end_time": null,
     "exception": null,
     "start_time": null,
     "status": "pending"
    },
    "tags": []
   },
   "source": [
    "## 9.2. Cluster Profile"
   ]
  },
  {
   "cell_type": "code",
   "execution_count": null,
   "id": "ac83d170-3c33-41c1-8d7a-c549fb0c0e0f",
   "metadata": {
    "execution": {
     "iopub.execute_input": "2025-05-01T12:07:25.407220Z",
     "iopub.status.busy": "2025-05-01T12:07:25.405334Z",
     "iopub.status.idle": "2025-05-01T12:07:25.428918Z",
     "shell.execute_reply": "2025-05-01T12:07:25.427009Z",
     "shell.execute_reply.started": "2025-05-01T12:07:25.407159Z"
    },
    "papermill": {
     "duration": null,
     "end_time": null,
     "exception": null,
     "start_time": null,
     "status": "pending"
    },
    "tags": []
   },
   "outputs": [],
   "source": [
    "df92 = df4.copy()\n",
    "df92['cluster'] = labels\n",
    "df92.head()"
   ]
  },
  {
   "cell_type": "code",
   "execution_count": null,
   "id": "9e378ffa-7ebf-4fc7-936d-fe56c0afb8c4",
   "metadata": {
    "execution": {
     "iopub.execute_input": "2025-05-01T12:07:25.430972Z",
     "iopub.status.busy": "2025-05-01T12:07:25.430490Z",
     "iopub.status.idle": "2025-05-01T12:07:25.884165Z",
     "shell.execute_reply": "2025-05-01T12:07:25.882472Z",
     "shell.execute_reply.started": "2025-05-01T12:07:25.430900Z"
    },
    "papermill": {
     "duration": null,
     "end_time": null,
     "exception": null,
     "start_time": null,
     "status": "pending"
    },
    "tags": []
   },
   "outputs": [],
   "source": [
    "# Number of customer\n",
    "df_cluster = df92[['customer_id', 'cluster']].groupby( 'cluster' ).count().reset_index()\n",
    "df_cluster['perc_customer'] = 100 * ( df_cluster['customer_id'] / df_cluster['customer_id'].sum() )\n",
    "\n",
    "# AVG gross_revenue\n",
    "df_avg_gross_revenue = df92[['gross_revenue', 'cluster']].groupby ('cluster').mean().reset_index()\n",
    "df_cluster = pd.merge( df_cluster, df_avg_gross_revenue, how='inner', on='cluster')\n",
    "\n",
    "# AVG recency_days\n",
    "df_avg_recency_days = df92[['recency_days', 'cluster']].groupby ('cluster').mean().reset_index()\n",
    "df_cluster = pd.merge( df_cluster, df_avg_recency_days, how='inner', on='cluster')\n",
    "\n",
    "# AVG qtde_produtcs\n",
    "df_qtde_produtcs = df92[['qtde_produtcs', 'cluster']].groupby ('cluster').mean().reset_index()\n",
    "df_cluster = pd.merge( df_cluster, df_qtde_produtcs, how='inner', on='cluster')\n",
    "\n",
    "# AVG frequency\n",
    "df_frequency = df92[['frequency', 'cluster']].groupby ('cluster').mean().reset_index()\n",
    "df_cluster = pd.merge( df_cluster, df_frequency, how='inner', on='cluster')\n",
    "\n",
    "# AVG qtde_returns\n",
    "df_qtde_returns = df92[['qtde_returns', 'cluster']].groupby ('cluster').mean().reset_index()\n",
    "df_cluster = pd.merge( df_cluster, df_qtde_returns, how='inner', on='cluster')\n",
    "\n",
    "df_cluster.sort_values(by='gross_revenue', ascending=False)\n"
   ]
  },
  {
   "cell_type": "code",
   "execution_count": null,
   "id": "539a3e34-a6c6-4513-b142-24cec4e36cf6",
   "metadata": {
    "execution": {
     "iopub.execute_input": "2025-04-30T21:23:21.751791Z",
     "iopub.status.busy": "2025-04-30T21:23:21.751006Z",
     "iopub.status.idle": "2025-04-30T21:23:21.761838Z",
     "shell.execute_reply": "2025-04-30T21:23:21.758976Z",
     "shell.execute_reply.started": "2025-04-30T21:23:21.751717Z"
    },
    "papermill": {
     "duration": null,
     "end_time": null,
     "exception": null,
     "start_time": null,
     "status": "pending"
    },
    "tags": []
   },
   "outputs": [],
   "source": [
    "# 4 Cluster Insiders\n",
    "# 1 Cluster More Products\n",
    "# 3 Cluster Spend Money\n",
    "# 6 Cluster Even More Products\n",
    "# 5 Cluster Less Days\n",
    "# 0 Cluster Less 1k\n",
    "# 7 Cluster Stop Returners\n",
    "# 2 Cluster More Buy"
   ]
  },
  {
   "cell_type": "markdown",
   "id": "3987291c-9226-4b21-bbd5-41c104357c70",
   "metadata": {
    "papermill": {
     "duration": null,
     "end_time": null,
     "exception": null,
     "start_time": null,
     "status": "pending"
    },
    "tags": []
   },
   "source": [
    "### Cluster 01:\n",
    "    - Número de customers: 464 (16% do custormers)\n",
    "    - Faturamento médio: $10.927,33\n",
    "    - Recência média: 23 dias\n",
    "    - Média de produtos comprados: 359 produtos\n",
    "    - Frequência de produtos comprados: 0.06 compras/dia\n",
    "    - Devoluções em média: 155 produtos\n",
    "\n",
    "### Cluster 02:\n",
    "    - Número de customers: xxx (xx% do custormers)\n",
    "    - Faturamento médio: $xxxxx\n",
    "    - Recência média: xx dias\n",
    "    - Frequência de produtos comprados: x.xx compras/dia\n",
    "    - Devoluções em média: xxx produtos\n",
    "\n",
    "### Cluster 03:\n",
    "    - Número de customers: xxx (xx% do custormers)\n",
    "    - Faturamento médio: $xxxxx\n",
    "    - Recência média: xx dias\n",
    "    - Frequência de produtos comprados: x.xx compras/dia\n",
    "    - Devoluções em média: xxx produtos\n",
    "\n",
    "### Cluster 04:\n",
    "    - Número de customers: xxx (xx% do custormers)\n",
    "    - Faturamento médio: $xxxxx\n",
    "    - Recência média: xx dias\n",
    "    - Frequência de produtos comprados: x.xx compras/dia\n",
    "    - Devoluções em média: xxx produtos\n",
    "\n",
    "### Cluster 05:\n",
    "    - Número de customers: xxx (xx% do custormers)\n",
    "    - Faturamento médio: $xxxxx\n",
    "    - Recência média: xx dias\n",
    "    - Frequência de produtos comprados: x.xx compras/dia\n",
    "    - Devoluções em média: xxx produtos\n",
    "\n",
    "### Cluster 06:\n",
    "    - Número de customers: xxx (xx% do custormers)\n",
    "    - Faturamento médio: $xxxxx\n",
    "    - Recência média: xx dias\n",
    "    - Frequência de produtos comprados: x.xx compras/dia\n",
    "    - Devoluções em média: xxx produtos\n",
    "\n",
    "### Cluster 07:\n",
    "    - Número de customers: xxx (xx% do custormers)\n",
    "    - Faturamento médio: $xxxxx\n",
    "    - Recência média: xx dias\n",
    "    - Frequência de produtos comprados: x.xx compras/dia\n",
    "    - Devoluções em média: xxx produtos\n",
    "\n",
    "### Cluster 08:\n",
    "    - Número de customers: xxx (xx% do custormers)\n",
    "    - Faturamento médio: $xxxxx\n",
    "    - Recência média: xx dias\n",
    "    - Frequência de produtos comprados: x.xx compras/dia\n",
    "    - Devoluções em média: xxx produtos"
   ]
  },
  {
   "cell_type": "markdown",
   "id": "89b75b84-c351-4f06-9647-5f78a6b2ebcf",
   "metadata": {
    "papermill": {
     "duration": null,
     "end_time": null,
     "exception": null,
     "start_time": null,
     "status": "pending"
    },
    "tags": []
   },
   "source": [
    "# <font color='red'>10.0. Análise Exploratoria de Dados</font>"
   ]
  },
  {
   "cell_type": "code",
   "execution_count": null,
   "id": "88aa19fc-44b4-4ade-83a6-5a5b7a557cb7",
   "metadata": {
    "execution": {
     "iopub.execute_input": "2025-04-30T21:19:16.999289Z",
     "iopub.status.busy": "2025-04-30T21:19:16.998599Z",
     "iopub.status.idle": "2025-04-30T21:19:17.009757Z",
     "shell.execute_reply": "2025-04-30T21:19:17.007199Z",
     "shell.execute_reply.started": "2025-04-30T21:19:16.999226Z"
    },
    "papermill": {
     "duration": null,
     "end_time": null,
     "exception": null,
     "start_time": null,
     "status": "pending"
    },
    "tags": []
   },
   "outputs": [],
   "source": [
    "df10 = df92.copy()"
   ]
  },
  {
   "cell_type": "markdown",
   "id": "4c60a502-5778-4445-8a6f-c62fd0eab98c",
   "metadata": {
    "papermill": {
     "duration": null,
     "end_time": null,
     "exception": null,
     "start_time": null,
     "status": "pending"
    },
    "tags": []
   },
   "source": [
    "# <font color='red'>11.0. Deploy To Production</font>"
   ]
  },
  {
   "cell_type": "code",
   "execution_count": null,
   "id": "7118754a-1a30-4d66-be6b-a1f8b8dc291b",
   "metadata": {
    "execution": {
     "iopub.execute_input": "2025-04-30T21:19:30.003691Z",
     "iopub.status.busy": "2025-04-30T21:19:30.002674Z",
     "iopub.status.idle": "2025-04-30T21:19:30.025607Z",
     "shell.execute_reply": "2025-04-30T21:19:30.022837Z",
     "shell.execute_reply.started": "2025-04-30T21:19:30.003575Z"
    },
    "papermill": {
     "duration": null,
     "end_time": null,
     "exception": null,
     "start_time": null,
     "status": "pending"
    },
    "tags": []
   },
   "outputs": [],
   "source": [
    "df92.dtypes"
   ]
  },
  {
   "cell_type": "code",
   "execution_count": null,
   "id": "0622eeef-78a9-4a91-9360-a59474ed7efe",
   "metadata": {
    "execution": {
     "iopub.execute_input": "2025-04-30T21:19:38.399710Z",
     "iopub.status.busy": "2025-04-30T21:19:38.398057Z",
     "iopub.status.idle": "2025-04-30T21:19:38.415476Z",
     "shell.execute_reply": "2025-04-30T21:19:38.412743Z",
     "shell.execute_reply.started": "2025-04-30T21:19:38.399611Z"
    },
    "papermill": {
     "duration": null,
     "end_time": null,
     "exception": null,
     "start_time": null,
     "status": "pending"
    },
    "tags": []
   },
   "outputs": [],
   "source": [
    "df92['recency_days'] = df92['recency_days'].astype( int )\n",
    "df92['qtde_produtcs'] = df92['qtde_produtcs'].astype( int )\n",
    "df92['qtde_returns'] = df92['qtde_returns'].astype( int )"
   ]
  },
  {
   "cell_type": "code",
   "execution_count": null,
   "id": "df02c32f-f7ad-48df-95c6-02a989a8dd2e",
   "metadata": {
    "execution": {
     "iopub.execute_input": "2025-04-30T21:34:03.734380Z",
     "iopub.status.busy": "2025-04-30T21:34:03.733581Z",
     "iopub.status.idle": "2025-04-30T21:34:04.066452Z",
     "shell.execute_reply": "2025-04-30T21:34:04.063949Z",
     "shell.execute_reply.started": "2025-04-30T21:34:03.734300Z"
    },
    "papermill": {
     "duration": null,
     "end_time": null,
     "exception": null,
     "start_time": null,
     "status": "pending"
    },
    "tags": []
   },
   "outputs": [],
   "source": [
    "# database conection\n",
    "conn = create_engine( 'sqlite:///insiders_db.sqlite' )\n",
    "\n",
    "# drop table\n",
    "query_drop_insiders = '''\n",
    "    DROP TABLE insiders\n",
    "'''\n",
    "\n",
    "# create table\n",
    "query_create_insiders = '''\n",
    "    CREATE TABLE insiders(\n",
    "        customer_id      INTEGER,\n",
    "        gross_revenue    REAL,\n",
    "        recency_days     INTEGER,\n",
    "        qtde_produtcs    INTEGER,\n",
    "        frequency        REAL,\n",
    "        qtde_returns     INTEGER,\n",
    "        cluster          INTEGER        \n",
    "    )\n",
    "'''\n",
    "\n",
    "with conn.connect() as connection:\n",
    "    connection.execute( text(query_create_insiders) )"
   ]
  },
  {
   "cell_type": "code",
   "execution_count": null,
   "id": "0e4ffecb-5923-418a-b980-99a8581fd857",
   "metadata": {
    "execution": {
     "iopub.execute_input": "2025-04-30T21:34:24.600743Z",
     "iopub.status.busy": "2025-04-30T21:34:24.599914Z",
     "iopub.status.idle": "2025-04-30T21:34:25.070119Z",
     "shell.execute_reply": "2025-04-30T21:34:25.067970Z",
     "shell.execute_reply.started": "2025-04-30T21:34:24.600658Z"
    },
    "papermill": {
     "duration": null,
     "end_time": null,
     "exception": null,
     "start_time": null,
     "status": "pending"
    },
    "tags": []
   },
   "outputs": [],
   "source": [
    "#insert data\n",
    "df92.to_sql( 'insiders', con=conn, if_exists='append', index=False )"
   ]
  },
  {
   "cell_type": "code",
   "execution_count": null,
   "id": "c960beca-57a4-446b-bc7e-c9b0a9d3c8f9",
   "metadata": {
    "execution": {
     "iopub.execute_input": "2025-04-30T21:34:27.335718Z",
     "iopub.status.busy": "2025-04-30T21:34:27.334907Z",
     "iopub.status.idle": "2025-04-30T21:34:27.412411Z",
     "shell.execute_reply": "2025-04-30T21:34:27.410421Z",
     "shell.execute_reply.started": "2025-04-30T21:34:27.335637Z"
    },
    "papermill": {
     "duration": null,
     "end_time": null,
     "exception": null,
     "start_time": null,
     "status": "pending"
    },
    "tags": []
   },
   "outputs": [],
   "source": [
    "## get query\n",
    "#query_collect = '''\n",
    "#    SELECT * FROM insiders\n",
    "#'''\n",
    "#\n",
    "#df = pd.read_sql_query( query_collect, conn )\n",
    "#df.head()"
   ]
  },
  {
   "cell_type": "code",
   "execution_count": null,
   "id": "9d76e48f-17f9-411c-af19-14110546e13c",
   "metadata": {
    "papermill": {
     "duration": null,
     "end_time": null,
     "exception": null,
     "start_time": null,
     "status": "pending"
    },
    "tags": []
   },
   "outputs": [],
   "source": [
    "conn = sqlite3.connect( 'insiders_db.sqlite' )\n",
    "conn.execute( query_create_table_insiders )\n",
    "conn.commit()\n",
    "conn.close()"
   ]
  },
  {
   "cell_type": "code",
   "execution_count": null,
   "id": "40897467-1604-4736-90ea-37a6a7197705",
   "metadata": {
    "papermill": {
     "duration": null,
     "end_time": null,
     "exception": null,
     "start_time": null,
     "status": "pending"
    },
    "tags": []
   },
   "outputs": [],
   "source": []
  },
  {
   "cell_type": "code",
   "execution_count": null,
   "id": "842d3c11-f1f6-40d1-9cf9-76193d11cd6d",
   "metadata": {
    "papermill": {
     "duration": null,
     "end_time": null,
     "exception": null,
     "start_time": null,
     "status": "pending"
    },
    "tags": []
   },
   "outputs": [],
   "source": []
  },
  {
   "cell_type": "code",
   "execution_count": null,
   "id": "80c4c001-4710-413c-8ab7-67e404ca89e5",
   "metadata": {
    "papermill": {
     "duration": null,
     "end_time": null,
     "exception": null,
     "start_time": null,
     "status": "pending"
    },
    "tags": []
   },
   "outputs": [],
   "source": []
  },
  {
   "cell_type": "code",
   "execution_count": null,
   "id": "9dbc803c-e94f-4768-9a7b-5ff64cb81fc1",
   "metadata": {
    "papermill": {
     "duration": null,
     "end_time": null,
     "exception": null,
     "start_time": null,
     "status": "pending"
    },
    "tags": []
   },
   "outputs": [],
   "source": []
  },
  {
   "cell_type": "code",
   "execution_count": null,
   "id": "01c0ee49-d40b-464b-a6db-a25942a0eb5e",
   "metadata": {
    "papermill": {
     "duration": null,
     "end_time": null,
     "exception": null,
     "start_time": null,
     "status": "pending"
    },
    "tags": []
   },
   "outputs": [],
   "source": []
  },
  {
   "cell_type": "code",
   "execution_count": null,
   "id": "f8d5f0bf-c114-4a91-a786-95255d3ac6d0",
   "metadata": {
    "papermill": {
     "duration": null,
     "end_time": null,
     "exception": null,
     "start_time": null,
     "status": "pending"
    },
    "tags": []
   },
   "outputs": [],
   "source": []
  }
 ],
 "metadata": {
  "kernelspec": {
   "display_name": "Python 3 (ipykernel)",
   "language": "python",
   "name": "python3"
  },
  "language_info": {
   "codemirror_mode": {
    "name": "ipython",
    "version": 3
   },
   "file_extension": ".py",
   "mimetype": "text/x-python",
   "name": "python",
   "nbconvert_exporter": "python",
   "pygments_lexer": "ipython3",
   "version": "3.8.0"
  },
  "papermill": {
   "default_parameters": {},
   "duration": 88.775293,
   "end_time": "2025-05-01T13:40:05.635847",
   "environment_variables": {},
   "exception": true,
   "input_path": "/home/tiago/Documentos/repos/insiders_clustering/insiders_clustering/src/models/C10-deploy.ipynb",
   "output_path": "/home/tiago/Documentos/repos/insiders_clustering/insiders_clustering/reports/C10-deploy_2025-05-01T10:38:36.ipynb",
   "parameters": {},
   "start_time": "2025-05-01T13:38:36.860554",
   "version": "2.6.0"
  }
 },
 "nbformat": 4,
 "nbformat_minor": 5
}